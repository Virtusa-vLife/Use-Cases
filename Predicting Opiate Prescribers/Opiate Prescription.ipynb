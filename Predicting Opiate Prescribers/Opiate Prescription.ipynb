{
 "cells": [
  {
   "cell_type": "markdown",
   "metadata": {},
   "source": [
    "# Detecting Frequent Opiate Prescription"
   ]
  },
  {
   "cell_type": "raw",
   "metadata": {},
   "source": [
    "This classification model based upon to check whether the doctor Opiate prescriber or not"
   ]
  },
  {
   "cell_type": "markdown",
   "metadata": {},
   "source": [
    "# Importing all the packages"
   ]
  },
  {
   "cell_type": "code",
   "execution_count": 1,
   "metadata": {
    "collapsed": true
   },
   "outputs": [],
   "source": [
    "import pandas as pd\n",
    "import matplotlib.pyplot as plt\n",
    "import lightgbm as lgb\n",
    "import seaborn as sns\n",
    "import numpy as np\n",
    "from sklearn.preprocessing import LabelEncoder\n",
    "from sklearn import model_selection\n",
    "from sklearn.tree import DecisionTreeClassifier\n",
    "from sklearn.ensemble import RandomForestClassifier, AdaBoostClassifier,GradientBoostingClassifier\n",
    "from sklearn.metrics import roc_curve, auc, accuracy_score, log_loss, roc_auc_score,confusion_matrix\n",
    "from sklearn.linear_model import LogisticRegression"
   ]
  },
  {
   "cell_type": "markdown",
   "metadata": {},
   "source": [
    "# Data Preprocessing "
   ]
  },
  {
   "cell_type": "markdown",
   "metadata": {},
   "source": [
    "Upload the csv files and remove NaN values"
   ]
  },
  {
   "cell_type": "code",
   "execution_count": 2,
   "metadata": {
    "collapsed": true
   },
   "outputs": [],
   "source": [
    "pd.set_option('display.max_columns',None,'display.max_rows',None)"
   ]
  },
  {
   "cell_type": "code",
   "execution_count": 3,
   "metadata": {
    "collapsed": true
   },
   "outputs": [],
   "source": [
    "prescriber = pd.read_csv('prescriber-info.csv')"
   ]
  },
  {
   "cell_type": "code",
   "execution_count": 4,
   "metadata": {},
   "outputs": [
    {
     "data": {
      "text/plain": [
       "Index(['NPI', 'Gender', 'State', 'Credentials', 'Specialty', 'ABILIFY',\n",
       "       'ACETAMINOPHEN.CODEINE', 'ACYCLOVIR', 'ADVAIR.DISKUS', 'AGGRENOX',\n",
       "       ...\n",
       "       'VERAPAMIL.ER', 'VESICARE', 'VOLTAREN', 'VYTORIN', 'WARFARIN.SODIUM',\n",
       "       'XARELTO', 'ZETIA', 'ZIPRASIDONE.HCL', 'ZOLPIDEM.TARTRATE',\n",
       "       'Opioid.Prescriber'],\n",
       "      dtype='object', length=256)"
      ]
     },
     "execution_count": 4,
     "metadata": {},
     "output_type": "execute_result"
    }
   ],
   "source": [
    "prescriber.columns"
   ]
  },
  {
   "cell_type": "code",
   "execution_count": 5,
   "metadata": {
    "scrolled": true
   },
   "outputs": [
    {
     "data": {
      "text/plain": [
       "NPI                                 0\n",
       "Gender                              0\n",
       "State                               0\n",
       "Credentials                       763\n",
       "Specialty                           0\n",
       "ABILIFY                             0\n",
       "ACETAMINOPHEN.CODEINE               0\n",
       "ACYCLOVIR                           0\n",
       "ADVAIR.DISKUS                       0\n",
       "AGGRENOX                            0\n",
       "ALENDRONATE.SODIUM                  0\n",
       "ALLOPURINOL                         0\n",
       "ALPRAZOLAM                          0\n",
       "AMIODARONE.HCL                      0\n",
       "AMITRIPTYLINE.HCL                   0\n",
       "AMLODIPINE.BESYLATE                 0\n",
       "AMLODIPINE.BESYLATE.BENAZEPRIL      0\n",
       "AMOXICILLIN                         0\n",
       "AMOX.TR.POTASSIUM.CLAVULANATE       0\n",
       "AMPHETAMINE.SALT.COMBO              0\n",
       "ATENOLOL                            0\n",
       "ATORVASTATIN.CALCIUM                0\n",
       "AVODART                             0\n",
       "AZITHROMYCIN                        0\n",
       "BACLOFEN                            0\n",
       "BD.ULTRA.FINE.PEN.NEEDLE            0\n",
       "BENAZEPRIL.HCL                      0\n",
       "BENICAR                             0\n",
       "BENICAR.HCT                         0\n",
       "BENZTROPINE.MESYLATE                0\n",
       "BISOPROLOL.HYDROCHLOROTHIAZIDE      0\n",
       "BRIMONIDINE.TARTRATE                0\n",
       "BUMETANIDE                          0\n",
       "BUPROPION.HCL.SR                    0\n",
       "BUPROPION.XL                        0\n",
       "BUSPIRONE.HCL                       0\n",
       "BYSTOLIC                            0\n",
       "CARBAMAZEPINE                       0\n",
       "CARBIDOPA.LEVODOPA                  0\n",
       "CARISOPRODOL                        0\n",
       "CARTIA.XT                           0\n",
       "CARVEDILOL                          0\n",
       "CEFUROXIME                          0\n",
       "CELEBREX                            0\n",
       "CEPHALEXIN                          0\n",
       "CHLORHEXIDINE.GLUCONATE             0\n",
       "CHLORTHALIDONE                      0\n",
       "CILOSTAZOL                          0\n",
       "CIPROFLOXACIN.HCL                   0\n",
       "CITALOPRAM.HBR                      0\n",
       "CLINDAMYCIN.HCL                     0\n",
       "CLOBETASOL.PROPIONATE               0\n",
       "CLONAZEPAM                          0\n",
       "CLONIDINE.HCL                       0\n",
       "CLOPIDOGREL                         0\n",
       "CLOTRIMAZOLE.BETAMETHASONE          0\n",
       "COLCRYS                             0\n",
       "COMBIVENT.RESPIMAT                  0\n",
       "CRESTOR                             0\n",
       "CYCLOBENZAPRINE.HCL                 0\n",
       "DEXILANT                            0\n",
       "DIAZEPAM                            0\n",
       "DICLOFENAC.SODIUM                   0\n",
       "DICYCLOMINE.HCL                     0\n",
       "DIGOX                               0\n",
       "DIGOXIN                             0\n",
       "DILTIAZEM.24HR.CD                   0\n",
       "DILTIAZEM.24HR.ER                   0\n",
       "DILTIAZEM.ER                        0\n",
       "DILTIAZEM.HCL                       0\n",
       "DIOVAN                              0\n",
       "DIPHENOXYLATE.ATROPINE              0\n",
       "DIVALPROEX.SODIUM                   0\n",
       "DIVALPROEX.SODIUM.ER                0\n",
       "DONEPEZIL.HCL                       0\n",
       "DORZOLAMIDE.TIMOLOL                 0\n",
       "DOXAZOSIN.MESYLATE                  0\n",
       "DOXEPIN.HCL                         0\n",
       "DOXYCYCLINE.HYCLATE                 0\n",
       "DULOXETINE.HCL                      0\n",
       "ENALAPRIL.MALEATE                   0\n",
       "ESCITALOPRAM.OXALATE                0\n",
       "ESTRADIOL                           0\n",
       "EXELON                              0\n",
       "FAMOTIDINE                          0\n",
       "FELODIPINE.ER                       0\n",
       "FENOFIBRATE                         0\n",
       "FENTANYL                            0\n",
       "FINASTERIDE                         0\n",
       "FLOVENT.HFA                         0\n",
       "FLUCONAZOLE                         0\n",
       "FLUOXETINE.HCL                      0\n",
       "FLUTICASONE.PROPIONATE              0\n",
       "FUROSEMIDE                          0\n",
       "GABAPENTIN                          0\n",
       "GEMFIBROZIL                         0\n",
       "GLIMEPIRIDE                         0\n",
       "GLIPIZIDE                           0\n",
       "GLIPIZIDE.ER                        0\n",
       "GLIPIZIDE.XL                        0\n",
       "GLYBURIDE                           0\n",
       "HALOPERIDOL                         0\n",
       "HUMALOG                             0\n",
       "HYDRALAZINE.HCL                     0\n",
       "HYDROCHLOROTHIAZIDE                 0\n",
       "HYDROCODONE.ACETAMINOPHEN           0\n",
       "HYDROCORTISONE                      0\n",
       "HYDROMORPHONE.HCL                   0\n",
       "HYDROXYZINE.HCL                     0\n",
       "IBANDRONATE.SODIUM                  0\n",
       "IBUPROFEN                           0\n",
       "INSULIN.SYRINGE                     0\n",
       "IPRATROPIUM.BROMIDE                 0\n",
       "IRBESARTAN                          0\n",
       "ISOSORBIDE.MONONITRATE.ER           0\n",
       "JANTOVEN                            0\n",
       "JANUMET                             0\n",
       "JANUVIA                             0\n",
       "KETOCONAZOLE                        0\n",
       "KLOR.CON.10                         0\n",
       "KLOR.CON.M10                        0\n",
       "KLOR.CON.M20                        0\n",
       "LABETALOL.HCL                       0\n",
       "LACTULOSE                           0\n",
       "LAMOTRIGINE                         0\n",
       "LANSOPRAZOLE                        0\n",
       "LANTUS                              0\n",
       "LANTUS.SOLOSTAR                     0\n",
       "LATANOPROST                         0\n",
       "LEVEMIR                             0\n",
       "LEVEMIR.FLEXPEN                     0\n",
       "LEVETIRACETAM                       0\n",
       "LEVOFLOXACIN                        0\n",
       "LEVOTHYROXINE.SODIUM                0\n",
       "LIDOCAINE                           0\n",
       "LISINOPRIL                          0\n",
       "LISINOPRIL.HYDROCHLOROTHIAZIDE      0\n",
       "LITHIUM.CARBONATE                   0\n",
       "LORAZEPAM                           0\n",
       "LOSARTAN.HYDROCHLOROTHIAZIDE        0\n",
       "LOSARTAN.POTASSIUM                  0\n",
       "LOVASTATIN                          0\n",
       "LOVAZA                              0\n",
       "LUMIGAN                             0\n",
       "LYRICA                              0\n",
       "MECLIZINE.HCL                       0\n",
       "MELOXICAM                           0\n",
       "METFORMIN.HCL                       0\n",
       "METFORMIN.HCL.ER                    0\n",
       "METHADONE.HCL                       0\n",
       "METHOCARBAMOL                       0\n",
       "METHOTREXATE                        0\n",
       "METHYLPREDNISOLONE                  0\n",
       "METOCLOPRAMIDE.HCL                  0\n",
       "METOLAZONE                          0\n",
       "METOPROLOL.SUCCINATE                0\n",
       "METOPROLOL.TARTRATE                 0\n",
       "METRONIDAZOLE                       0\n",
       "MIRTAZAPINE                         0\n",
       "MONTELUKAST.SODIUM                  0\n",
       "MORPHINE.SULFATE                    0\n",
       "MORPHINE.SULFATE.ER                 0\n",
       "MUPIROCIN                           0\n",
       "NABUMETONE                          0\n",
       "NAMENDA                             0\n",
       "NAMENDA.XR                          0\n",
       "NAPROXEN                            0\n",
       "NASONEX                             0\n",
       "NEXIUM                              0\n",
       "NIACIN.ER                           0\n",
       "NIFEDICAL.XL                        0\n",
       "NIFEDIPINE.ER                       0\n",
       "NITROFURANTOIN.MONO.MACRO           0\n",
       "NITROSTAT                           0\n",
       "NORTRIPTYLINE.HCL                   0\n",
       "NOVOLOG                             0\n",
       "NOVOLOG.FLEXPEN                     0\n",
       "NYSTATIN                            0\n",
       "OLANZAPINE                          0\n",
       "OMEPRAZOLE                          0\n",
       "ONDANSETRON.HCL                     0\n",
       "ONDANSETRON.ODT                     0\n",
       "ONGLYZA                             0\n",
       "OXCARBAZEPINE                       0\n",
       "OXYBUTYNIN.CHLORIDE                 0\n",
       "OXYBUTYNIN.CHLORIDE.ER              0\n",
       "OXYCODONE.ACETAMINOPHEN             0\n",
       "OXYCODONE.HCL                       0\n",
       "OXYCONTIN                           0\n",
       "PANTOPRAZOLE.SODIUM                 0\n",
       "PAROXETINE.HCL                      0\n",
       "PHENOBARBITAL                       0\n",
       "PHENYTOIN.SODIUM.EXTENDED           0\n",
       "PIOGLITAZONE.HCL                    0\n",
       "POLYETHYLENE.GLYCOL.3350            0\n",
       "POTASSIUM.CHLORIDE                  0\n",
       "PRADAXA                             0\n",
       "PRAMIPEXOLE.DIHYDROCHLORIDE         0\n",
       "PRAVASTATIN.SODIUM                  0\n",
       "PREDNISONE                          0\n",
       "PREMARIN                            0\n",
       "PRIMIDONE                           0\n",
       "PROAIR.HFA                          0\n",
       "PROMETHAZINE.HCL                    0\n",
       "PROPRANOLOL.HCL                     0\n",
       "PROPRANOLOL.HCL.ER                  0\n",
       "QUETIAPINE.FUMARATE                 0\n",
       "QUINAPRIL.HCL                       0\n",
       "RALOXIFENE.HCL                      0\n",
       "RAMIPRIL                            0\n",
       "RANEXA                              0\n",
       "RANITIDINE.HCL                      0\n",
       "RESTASIS                            0\n",
       "RISPERIDONE                         0\n",
       "ROPINIROLE.HCL                      0\n",
       "SEROQUEL.XR                         0\n",
       "SERTRALINE.HCL                      0\n",
       "SIMVASTATIN                         0\n",
       "SOTALOL                             0\n",
       "SPIRIVA                             0\n",
       "SPIRONOLACTONE                      0\n",
       "SUCRALFATE                          0\n",
       "SULFAMETHOXAZOLE.TRIMETHOPRIM       0\n",
       "SUMATRIPTAN.SUCCINATE               0\n",
       "SYMBICORT                           0\n",
       "SYNTHROID                           0\n",
       "TAMSULOSIN.HCL                      0\n",
       "TEMAZEPAM                           0\n",
       "TERAZOSIN.HCL                       0\n",
       "TIMOLOL.MALEATE                     0\n",
       "TIZANIDINE.HCL                      0\n",
       "TOLTERODINE.TARTRATE.ER             0\n",
       "TOPIRAMATE                          0\n",
       "TOPROL.XL                           0\n",
       "TORSEMIDE                           0\n",
       "TRAMADOL.HCL                        0\n",
       "TRAVATAN.Z                          0\n",
       "TRAZODONE.HCL                       0\n",
       "TRIAMCINOLONE.ACETONIDE             0\n",
       "TRIAMTERENE.HYDROCHLOROTHIAZID      0\n",
       "VALACYCLOVIR                        0\n",
       "VALSARTAN                           0\n",
       "VALSARTAN.HYDROCHLOROTHIAZIDE       0\n",
       "VENLAFAXINE.HCL                     0\n",
       "VENLAFAXINE.HCL.ER                  0\n",
       "VENTOLIN.HFA                        0\n",
       "VERAPAMIL.ER                        0\n",
       "VESICARE                            0\n",
       "VOLTAREN                            0\n",
       "VYTORIN                             0\n",
       "WARFARIN.SODIUM                     0\n",
       "XARELTO                             0\n",
       "ZETIA                               0\n",
       "ZIPRASIDONE.HCL                     0\n",
       "ZOLPIDEM.TARTRATE                   0\n",
       "Opioid.Prescriber                   0\n",
       "dtype: int64"
      ]
     },
     "execution_count": 5,
     "metadata": {},
     "output_type": "execute_result"
    }
   ],
   "source": [
    "prescriber.isnull().sum()"
   ]
  },
  {
   "cell_type": "code",
   "execution_count": 6,
   "metadata": {
    "collapsed": true
   },
   "outputs": [],
   "source": [
    "prescriber.dropna(inplace=True)"
   ]
  },
  {
   "cell_type": "code",
   "execution_count": 7,
   "metadata": {
    "scrolled": true
   },
   "outputs": [
    {
     "data": {
      "text/plain": [
       "57"
      ]
     },
     "execution_count": 7,
     "metadata": {},
     "output_type": "execute_result"
    }
   ],
   "source": [
    "len(prescriber['State'].unique())"
   ]
  },
  {
   "cell_type": "code",
   "execution_count": 8,
   "metadata": {},
   "outputs": [
    {
     "data": {
      "text/plain": [
       "887"
      ]
     },
     "execution_count": 8,
     "metadata": {},
     "output_type": "execute_result"
    }
   ],
   "source": [
    "len(prescriber['Credentials'].unique())"
   ]
  },
  {
   "cell_type": "code",
   "execution_count": 9,
   "metadata": {},
   "outputs": [
    {
     "data": {
      "text/plain": [
       "108"
      ]
     },
     "execution_count": 9,
     "metadata": {},
     "output_type": "execute_result"
    }
   ],
   "source": [
    "len(prescriber['Specialty'].unique())"
   ]
  },
  {
   "cell_type": "code",
   "execution_count": 10,
   "metadata": {},
   "outputs": [
    {
     "data": {
      "text/plain": [
       "NPI                                int64\n",
       "Gender                            object\n",
       "State                             object\n",
       "Credentials                       object\n",
       "Specialty                         object\n",
       "ABILIFY                            int64\n",
       "ACETAMINOPHEN.CODEINE              int64\n",
       "ACYCLOVIR                          int64\n",
       "ADVAIR.DISKUS                      int64\n",
       "AGGRENOX                           int64\n",
       "ALENDRONATE.SODIUM                 int64\n",
       "ALLOPURINOL                        int64\n",
       "ALPRAZOLAM                         int64\n",
       "AMIODARONE.HCL                     int64\n",
       "AMITRIPTYLINE.HCL                  int64\n",
       "AMLODIPINE.BESYLATE                int64\n",
       "AMLODIPINE.BESYLATE.BENAZEPRIL     int64\n",
       "AMOXICILLIN                        int64\n",
       "AMOX.TR.POTASSIUM.CLAVULANATE      int64\n",
       "AMPHETAMINE.SALT.COMBO             int64\n",
       "ATENOLOL                           int64\n",
       "ATORVASTATIN.CALCIUM               int64\n",
       "AVODART                            int64\n",
       "AZITHROMYCIN                       int64\n",
       "BACLOFEN                           int64\n",
       "BD.ULTRA.FINE.PEN.NEEDLE           int64\n",
       "BENAZEPRIL.HCL                     int64\n",
       "BENICAR                            int64\n",
       "BENICAR.HCT                        int64\n",
       "BENZTROPINE.MESYLATE               int64\n",
       "BISOPROLOL.HYDROCHLOROTHIAZIDE     int64\n",
       "BRIMONIDINE.TARTRATE               int64\n",
       "BUMETANIDE                         int64\n",
       "BUPROPION.HCL.SR                   int64\n",
       "BUPROPION.XL                       int64\n",
       "BUSPIRONE.HCL                      int64\n",
       "BYSTOLIC                           int64\n",
       "CARBAMAZEPINE                      int64\n",
       "CARBIDOPA.LEVODOPA                 int64\n",
       "CARISOPRODOL                       int64\n",
       "CARTIA.XT                          int64\n",
       "CARVEDILOL                         int64\n",
       "CEFUROXIME                         int64\n",
       "CELEBREX                           int64\n",
       "CEPHALEXIN                         int64\n",
       "CHLORHEXIDINE.GLUCONATE            int64\n",
       "CHLORTHALIDONE                     int64\n",
       "CILOSTAZOL                         int64\n",
       "CIPROFLOXACIN.HCL                  int64\n",
       "CITALOPRAM.HBR                     int64\n",
       "CLINDAMYCIN.HCL                    int64\n",
       "CLOBETASOL.PROPIONATE              int64\n",
       "CLONAZEPAM                         int64\n",
       "CLONIDINE.HCL                      int64\n",
       "CLOPIDOGREL                        int64\n",
       "CLOTRIMAZOLE.BETAMETHASONE         int64\n",
       "COLCRYS                            int64\n",
       "COMBIVENT.RESPIMAT                 int64\n",
       "CRESTOR                            int64\n",
       "CYCLOBENZAPRINE.HCL                int64\n",
       "DEXILANT                           int64\n",
       "DIAZEPAM                           int64\n",
       "DICLOFENAC.SODIUM                  int64\n",
       "DICYCLOMINE.HCL                    int64\n",
       "DIGOX                              int64\n",
       "DIGOXIN                            int64\n",
       "DILTIAZEM.24HR.CD                  int64\n",
       "DILTIAZEM.24HR.ER                  int64\n",
       "DILTIAZEM.ER                       int64\n",
       "DILTIAZEM.HCL                      int64\n",
       "DIOVAN                             int64\n",
       "DIPHENOXYLATE.ATROPINE             int64\n",
       "DIVALPROEX.SODIUM                  int64\n",
       "DIVALPROEX.SODIUM.ER               int64\n",
       "DONEPEZIL.HCL                      int64\n",
       "DORZOLAMIDE.TIMOLOL                int64\n",
       "DOXAZOSIN.MESYLATE                 int64\n",
       "DOXEPIN.HCL                        int64\n",
       "DOXYCYCLINE.HYCLATE                int64\n",
       "DULOXETINE.HCL                     int64\n",
       "ENALAPRIL.MALEATE                  int64\n",
       "ESCITALOPRAM.OXALATE               int64\n",
       "ESTRADIOL                          int64\n",
       "EXELON                             int64\n",
       "FAMOTIDINE                         int64\n",
       "FELODIPINE.ER                      int64\n",
       "FENOFIBRATE                        int64\n",
       "FENTANYL                           int64\n",
       "FINASTERIDE                        int64\n",
       "FLOVENT.HFA                        int64\n",
       "FLUCONAZOLE                        int64\n",
       "FLUOXETINE.HCL                     int64\n",
       "FLUTICASONE.PROPIONATE             int64\n",
       "FUROSEMIDE                         int64\n",
       "GABAPENTIN                         int64\n",
       "GEMFIBROZIL                        int64\n",
       "GLIMEPIRIDE                        int64\n",
       "GLIPIZIDE                          int64\n",
       "GLIPIZIDE.ER                       int64\n",
       "GLIPIZIDE.XL                       int64\n",
       "GLYBURIDE                          int64\n",
       "HALOPERIDOL                        int64\n",
       "HUMALOG                            int64\n",
       "HYDRALAZINE.HCL                    int64\n",
       "HYDROCHLOROTHIAZIDE                int64\n",
       "HYDROCODONE.ACETAMINOPHEN          int64\n",
       "HYDROCORTISONE                     int64\n",
       "HYDROMORPHONE.HCL                  int64\n",
       "HYDROXYZINE.HCL                    int64\n",
       "IBANDRONATE.SODIUM                 int64\n",
       "IBUPROFEN                          int64\n",
       "INSULIN.SYRINGE                    int64\n",
       "IPRATROPIUM.BROMIDE                int64\n",
       "IRBESARTAN                         int64\n",
       "ISOSORBIDE.MONONITRATE.ER          int64\n",
       "JANTOVEN                           int64\n",
       "JANUMET                            int64\n",
       "JANUVIA                            int64\n",
       "KETOCONAZOLE                       int64\n",
       "KLOR.CON.10                        int64\n",
       "KLOR.CON.M10                       int64\n",
       "KLOR.CON.M20                       int64\n",
       "LABETALOL.HCL                      int64\n",
       "LACTULOSE                          int64\n",
       "LAMOTRIGINE                        int64\n",
       "LANSOPRAZOLE                       int64\n",
       "LANTUS                             int64\n",
       "LANTUS.SOLOSTAR                    int64\n",
       "LATANOPROST                        int64\n",
       "LEVEMIR                            int64\n",
       "LEVEMIR.FLEXPEN                    int64\n",
       "LEVETIRACETAM                      int64\n",
       "LEVOFLOXACIN                       int64\n",
       "LEVOTHYROXINE.SODIUM               int64\n",
       "LIDOCAINE                          int64\n",
       "LISINOPRIL                         int64\n",
       "LISINOPRIL.HYDROCHLOROTHIAZIDE     int64\n",
       "LITHIUM.CARBONATE                  int64\n",
       "LORAZEPAM                          int64\n",
       "LOSARTAN.HYDROCHLOROTHIAZIDE       int64\n",
       "LOSARTAN.POTASSIUM                 int64\n",
       "LOVASTATIN                         int64\n",
       "LOVAZA                             int64\n",
       "LUMIGAN                            int64\n",
       "LYRICA                             int64\n",
       "MECLIZINE.HCL                      int64\n",
       "MELOXICAM                          int64\n",
       "METFORMIN.HCL                      int64\n",
       "METFORMIN.HCL.ER                   int64\n",
       "METHADONE.HCL                      int64\n",
       "METHOCARBAMOL                      int64\n",
       "METHOTREXATE                       int64\n",
       "METHYLPREDNISOLONE                 int64\n",
       "METOCLOPRAMIDE.HCL                 int64\n",
       "METOLAZONE                         int64\n",
       "METOPROLOL.SUCCINATE               int64\n",
       "METOPROLOL.TARTRATE                int64\n",
       "METRONIDAZOLE                      int64\n",
       "MIRTAZAPINE                        int64\n",
       "MONTELUKAST.SODIUM                 int64\n",
       "MORPHINE.SULFATE                   int64\n",
       "MORPHINE.SULFATE.ER                int64\n",
       "MUPIROCIN                          int64\n",
       "NABUMETONE                         int64\n",
       "NAMENDA                            int64\n",
       "NAMENDA.XR                         int64\n",
       "NAPROXEN                           int64\n",
       "NASONEX                            int64\n",
       "NEXIUM                             int64\n",
       "NIACIN.ER                          int64\n",
       "NIFEDICAL.XL                       int64\n",
       "NIFEDIPINE.ER                      int64\n",
       "NITROFURANTOIN.MONO.MACRO          int64\n",
       "NITROSTAT                          int64\n",
       "NORTRIPTYLINE.HCL                  int64\n",
       "NOVOLOG                            int64\n",
       "NOVOLOG.FLEXPEN                    int64\n",
       "NYSTATIN                           int64\n",
       "OLANZAPINE                         int64\n",
       "OMEPRAZOLE                         int64\n",
       "ONDANSETRON.HCL                    int64\n",
       "ONDANSETRON.ODT                    int64\n",
       "ONGLYZA                            int64\n",
       "OXCARBAZEPINE                      int64\n",
       "OXYBUTYNIN.CHLORIDE                int64\n",
       "OXYBUTYNIN.CHLORIDE.ER             int64\n",
       "OXYCODONE.ACETAMINOPHEN            int64\n",
       "OXYCODONE.HCL                      int64\n",
       "OXYCONTIN                          int64\n",
       "PANTOPRAZOLE.SODIUM                int64\n",
       "PAROXETINE.HCL                     int64\n",
       "PHENOBARBITAL                      int64\n",
       "PHENYTOIN.SODIUM.EXTENDED          int64\n",
       "PIOGLITAZONE.HCL                   int64\n",
       "POLYETHYLENE.GLYCOL.3350           int64\n",
       "POTASSIUM.CHLORIDE                 int64\n",
       "PRADAXA                            int64\n",
       "PRAMIPEXOLE.DIHYDROCHLORIDE        int64\n",
       "PRAVASTATIN.SODIUM                 int64\n",
       "PREDNISONE                         int64\n",
       "PREMARIN                           int64\n",
       "PRIMIDONE                          int64\n",
       "PROAIR.HFA                         int64\n",
       "PROMETHAZINE.HCL                   int64\n",
       "PROPRANOLOL.HCL                    int64\n",
       "PROPRANOLOL.HCL.ER                 int64\n",
       "QUETIAPINE.FUMARATE                int64\n",
       "QUINAPRIL.HCL                      int64\n",
       "RALOXIFENE.HCL                     int64\n",
       "RAMIPRIL                           int64\n",
       "RANEXA                             int64\n",
       "RANITIDINE.HCL                     int64\n",
       "RESTASIS                           int64\n",
       "RISPERIDONE                        int64\n",
       "ROPINIROLE.HCL                     int64\n",
       "SEROQUEL.XR                        int64\n",
       "SERTRALINE.HCL                     int64\n",
       "SIMVASTATIN                        int64\n",
       "SOTALOL                            int64\n",
       "SPIRIVA                            int64\n",
       "SPIRONOLACTONE                     int64\n",
       "SUCRALFATE                         int64\n",
       "SULFAMETHOXAZOLE.TRIMETHOPRIM      int64\n",
       "SUMATRIPTAN.SUCCINATE              int64\n",
       "SYMBICORT                          int64\n",
       "SYNTHROID                          int64\n",
       "TAMSULOSIN.HCL                     int64\n",
       "TEMAZEPAM                          int64\n",
       "TERAZOSIN.HCL                      int64\n",
       "TIMOLOL.MALEATE                    int64\n",
       "TIZANIDINE.HCL                     int64\n",
       "TOLTERODINE.TARTRATE.ER            int64\n",
       "TOPIRAMATE                         int64\n",
       "TOPROL.XL                          int64\n",
       "TORSEMIDE                          int64\n",
       "TRAMADOL.HCL                       int64\n",
       "TRAVATAN.Z                         int64\n",
       "TRAZODONE.HCL                      int64\n",
       "TRIAMCINOLONE.ACETONIDE            int64\n",
       "TRIAMTERENE.HYDROCHLOROTHIAZID     int64\n",
       "VALACYCLOVIR                       int64\n",
       "VALSARTAN                          int64\n",
       "VALSARTAN.HYDROCHLOROTHIAZIDE      int64\n",
       "VENLAFAXINE.HCL                    int64\n",
       "VENLAFAXINE.HCL.ER                 int64\n",
       "VENTOLIN.HFA                       int64\n",
       "VERAPAMIL.ER                       int64\n",
       "VESICARE                           int64\n",
       "VOLTAREN                           int64\n",
       "VYTORIN                            int64\n",
       "WARFARIN.SODIUM                    int64\n",
       "XARELTO                            int64\n",
       "ZETIA                              int64\n",
       "ZIPRASIDONE.HCL                    int64\n",
       "ZOLPIDEM.TARTRATE                  int64\n",
       "Opioid.Prescriber                  int64\n",
       "dtype: object"
      ]
     },
     "execution_count": 10,
     "metadata": {},
     "output_type": "execute_result"
    }
   ],
   "source": [
    "prescriber.dtypes"
   ]
  },
  {
   "cell_type": "code",
   "execution_count": 11,
   "metadata": {
    "collapsed": true
   },
   "outputs": [],
   "source": [
    "opioid = pd.read_csv('opioids.csv')"
   ]
  },
  {
   "cell_type": "code",
   "execution_count": 12,
   "metadata": {},
   "outputs": [
    {
     "data": {
      "text/html": [
       "<div>\n",
       "<style scoped>\n",
       "    .dataframe tbody tr th:only-of-type {\n",
       "        vertical-align: middle;\n",
       "    }\n",
       "\n",
       "    .dataframe tbody tr th {\n",
       "        vertical-align: top;\n",
       "    }\n",
       "\n",
       "    .dataframe thead th {\n",
       "        text-align: right;\n",
       "    }\n",
       "</style>\n",
       "<table border=\"1\" class=\"dataframe\">\n",
       "  <thead>\n",
       "    <tr style=\"text-align: right;\">\n",
       "      <th></th>\n",
       "      <th>Drug Name</th>\n",
       "      <th>Generic Name</th>\n",
       "    </tr>\n",
       "  </thead>\n",
       "  <tbody>\n",
       "    <tr>\n",
       "      <th>0</th>\n",
       "      <td>ABSTRAL</td>\n",
       "      <td>FENTANYL CITRATE</td>\n",
       "    </tr>\n",
       "    <tr>\n",
       "      <th>1</th>\n",
       "      <td>ACETAMINOPHEN-CODEINE</td>\n",
       "      <td>ACETAMINOPHEN WITH CODEINE</td>\n",
       "    </tr>\n",
       "    <tr>\n",
       "      <th>2</th>\n",
       "      <td>ACTIQ</td>\n",
       "      <td>FENTANYL CITRATE</td>\n",
       "    </tr>\n",
       "    <tr>\n",
       "      <th>3</th>\n",
       "      <td>ASCOMP WITH CODEINE</td>\n",
       "      <td>CODEINE/BUTALBITAL/ASA/CAFFEIN</td>\n",
       "    </tr>\n",
       "    <tr>\n",
       "      <th>4</th>\n",
       "      <td>ASPIRIN-CAFFEINE-DIHYDROCODEIN</td>\n",
       "      <td>DIHYDROCODEINE/ASPIRIN/CAFFEIN</td>\n",
       "    </tr>\n",
       "    <tr>\n",
       "      <th>5</th>\n",
       "      <td>AVINZA</td>\n",
       "      <td>MORPHINE SULFATE</td>\n",
       "    </tr>\n",
       "    <tr>\n",
       "      <th>6</th>\n",
       "      <td>BELLADONNA-OPIUM</td>\n",
       "      <td>OPIUM/BELLADONNA ALKALOIDS</td>\n",
       "    </tr>\n",
       "    <tr>\n",
       "      <th>7</th>\n",
       "      <td>BUPRENORPHINE HCL</td>\n",
       "      <td>BUPRENORPHINE HCL</td>\n",
       "    </tr>\n",
       "    <tr>\n",
       "      <th>8</th>\n",
       "      <td>BUTALB-ACETAMINOPH-CAFF-CODEIN</td>\n",
       "      <td>BUTALBIT/ACETAMIN/CAFF/CODEINE</td>\n",
       "    </tr>\n",
       "    <tr>\n",
       "      <th>9</th>\n",
       "      <td>BUTALB-CAFF-ACETAMINOPH-CODEIN</td>\n",
       "      <td>BUTALBIT/ACETAMIN/CAFF/CODEINE</td>\n",
       "    </tr>\n",
       "    <tr>\n",
       "      <th>10</th>\n",
       "      <td>BUTALBITAL COMPOUND-CODEINE</td>\n",
       "      <td>CODEINE/BUTALBITAL/ASA/CAFFEIN</td>\n",
       "    </tr>\n",
       "    <tr>\n",
       "      <th>11</th>\n",
       "      <td>BUTORPHANOL TARTRATE</td>\n",
       "      <td>BUTORPHANOL TARTRATE</td>\n",
       "    </tr>\n",
       "    <tr>\n",
       "      <th>12</th>\n",
       "      <td>BUTRANS</td>\n",
       "      <td>BUPRENORPHINE</td>\n",
       "    </tr>\n",
       "    <tr>\n",
       "      <th>13</th>\n",
       "      <td>CAPITAL W-CODEINE</td>\n",
       "      <td>ACETAMINOPHEN WITH CODEINE</td>\n",
       "    </tr>\n",
       "    <tr>\n",
       "      <th>14</th>\n",
       "      <td>CARISOPRODOL COMPOUND-CODEINE</td>\n",
       "      <td>CODEINE/CARISOPRODOL/ASPIRIN</td>\n",
       "    </tr>\n",
       "    <tr>\n",
       "      <th>15</th>\n",
       "      <td>CARISOPRODOL-ASPIRIN-CODEINE</td>\n",
       "      <td>CODEINE/CARISOPRODOL/ASPIRIN</td>\n",
       "    </tr>\n",
       "    <tr>\n",
       "      <th>16</th>\n",
       "      <td>CODEINE SULFATE</td>\n",
       "      <td>CODEINE SULFATE</td>\n",
       "    </tr>\n",
       "    <tr>\n",
       "      <th>17</th>\n",
       "      <td>CO-GESIC</td>\n",
       "      <td>HYDROCODONE/ACETAMINOPHEN</td>\n",
       "    </tr>\n",
       "    <tr>\n",
       "      <th>18</th>\n",
       "      <td>CONZIP</td>\n",
       "      <td>TRAMADOL HCL</td>\n",
       "    </tr>\n",
       "    <tr>\n",
       "      <th>19</th>\n",
       "      <td>DEMEROL</td>\n",
       "      <td>MEPERIDINE HCL</td>\n",
       "    </tr>\n",
       "    <tr>\n",
       "      <th>20</th>\n",
       "      <td>DEMEROL</td>\n",
       "      <td>MEPERIDINE HCL/PF</td>\n",
       "    </tr>\n",
       "    <tr>\n",
       "      <th>21</th>\n",
       "      <td>DILAUDID</td>\n",
       "      <td>HYDROMORPHONE HCL</td>\n",
       "    </tr>\n",
       "    <tr>\n",
       "      <th>22</th>\n",
       "      <td>DILAUDID</td>\n",
       "      <td>HYDROMORPHONE HCL/PF</td>\n",
       "    </tr>\n",
       "    <tr>\n",
       "      <th>23</th>\n",
       "      <td>DILAUDID-HP</td>\n",
       "      <td>HYDROMORPHONE HCL/PF</td>\n",
       "    </tr>\n",
       "    <tr>\n",
       "      <th>24</th>\n",
       "      <td>DISKETS</td>\n",
       "      <td>METHADONE HCL</td>\n",
       "    </tr>\n",
       "    <tr>\n",
       "      <th>25</th>\n",
       "      <td>DOLOPHINE HCL</td>\n",
       "      <td>METHADONE HCL</td>\n",
       "    </tr>\n",
       "    <tr>\n",
       "      <th>26</th>\n",
       "      <td>DURAGESIC</td>\n",
       "      <td>FENTANYL</td>\n",
       "    </tr>\n",
       "    <tr>\n",
       "      <th>27</th>\n",
       "      <td>DURAMORPH</td>\n",
       "      <td>MORPHINE SULFATE/PF</td>\n",
       "    </tr>\n",
       "    <tr>\n",
       "      <th>28</th>\n",
       "      <td>ENDOCET</td>\n",
       "      <td>OXYCODONE HCL/ACETAMINOPHEN</td>\n",
       "    </tr>\n",
       "    <tr>\n",
       "      <th>29</th>\n",
       "      <td>ENDODAN</td>\n",
       "      <td>OXYCODONE HCL/ASPIRIN</td>\n",
       "    </tr>\n",
       "    <tr>\n",
       "      <th>30</th>\n",
       "      <td>EXALGO</td>\n",
       "      <td>HYDROMORPHONE HCL</td>\n",
       "    </tr>\n",
       "    <tr>\n",
       "      <th>31</th>\n",
       "      <td>FENTANYL</td>\n",
       "      <td>FENTANYL</td>\n",
       "    </tr>\n",
       "    <tr>\n",
       "      <th>32</th>\n",
       "      <td>FENTANYL CITRATE</td>\n",
       "      <td>FENTANYL CITRATE</td>\n",
       "    </tr>\n",
       "    <tr>\n",
       "      <th>33</th>\n",
       "      <td>FENTORA</td>\n",
       "      <td>FENTANYL CITRATE</td>\n",
       "    </tr>\n",
       "    <tr>\n",
       "      <th>34</th>\n",
       "      <td>FIORICET WITH CODEINE</td>\n",
       "      <td>BUTALBIT/ACETAMIN/CAFF/CODEINE</td>\n",
       "    </tr>\n",
       "    <tr>\n",
       "      <th>35</th>\n",
       "      <td>FIORINAL WITH CODEINE #3</td>\n",
       "      <td>CODEINE/BUTALBITAL/ASA/CAFFEIN</td>\n",
       "    </tr>\n",
       "    <tr>\n",
       "      <th>36</th>\n",
       "      <td>HYCET</td>\n",
       "      <td>HYDROCODONE/ACETAMINOPHEN</td>\n",
       "    </tr>\n",
       "    <tr>\n",
       "      <th>37</th>\n",
       "      <td>HYDROCODONE-ACETAMINOPHEN</td>\n",
       "      <td>HYDROCODONE/ACETAMINOPHEN</td>\n",
       "    </tr>\n",
       "    <tr>\n",
       "      <th>38</th>\n",
       "      <td>HYDROCODONE-IBUPROFEN</td>\n",
       "      <td>HYDROCODONE/IBUPROFEN</td>\n",
       "    </tr>\n",
       "    <tr>\n",
       "      <th>39</th>\n",
       "      <td>HYDROMORPHONE ER</td>\n",
       "      <td>HYDROMORPHONE HCL</td>\n",
       "    </tr>\n",
       "    <tr>\n",
       "      <th>40</th>\n",
       "      <td>HYDROMORPHONE HCL</td>\n",
       "      <td>HYDROMORPHONE HCL</td>\n",
       "    </tr>\n",
       "    <tr>\n",
       "      <th>41</th>\n",
       "      <td>HYDROMORPHONE HCL</td>\n",
       "      <td>HYDROMORPHONE HCL/PF</td>\n",
       "    </tr>\n",
       "    <tr>\n",
       "      <th>42</th>\n",
       "      <td>IBUDONE</td>\n",
       "      <td>HYDROCODONE/IBUPROFEN</td>\n",
       "    </tr>\n",
       "    <tr>\n",
       "      <th>43</th>\n",
       "      <td>INFUMORPH</td>\n",
       "      <td>MORPHINE SULFATE/PF</td>\n",
       "    </tr>\n",
       "    <tr>\n",
       "      <th>44</th>\n",
       "      <td>KADIAN</td>\n",
       "      <td>MORPHINE SULFATE</td>\n",
       "    </tr>\n",
       "    <tr>\n",
       "      <th>45</th>\n",
       "      <td>LAZANDA</td>\n",
       "      <td>FENTANYL CITRATE</td>\n",
       "    </tr>\n",
       "    <tr>\n",
       "      <th>46</th>\n",
       "      <td>LEVORPHANOL TARTRATE</td>\n",
       "      <td>LEVORPHANOL TARTRATE</td>\n",
       "    </tr>\n",
       "    <tr>\n",
       "      <th>47</th>\n",
       "      <td>LORCET</td>\n",
       "      <td>HYDROCODONE/ACETAMINOPHEN</td>\n",
       "    </tr>\n",
       "    <tr>\n",
       "      <th>48</th>\n",
       "      <td>LORCET 10-650</td>\n",
       "      <td>HYDROCODONE/ACETAMINOPHEN</td>\n",
       "    </tr>\n",
       "    <tr>\n",
       "      <th>49</th>\n",
       "      <td>LORCET HD</td>\n",
       "      <td>HYDROCODONE/ACETAMINOPHEN</td>\n",
       "    </tr>\n",
       "    <tr>\n",
       "      <th>50</th>\n",
       "      <td>LORCET PLUS</td>\n",
       "      <td>HYDROCODONE/ACETAMINOPHEN</td>\n",
       "    </tr>\n",
       "    <tr>\n",
       "      <th>51</th>\n",
       "      <td>LORTAB</td>\n",
       "      <td>HYDROCODONE/ACETAMINOPHEN</td>\n",
       "    </tr>\n",
       "    <tr>\n",
       "      <th>52</th>\n",
       "      <td>MAGNACET</td>\n",
       "      <td>OXYCODONE HCL/ACETAMINOPHEN</td>\n",
       "    </tr>\n",
       "    <tr>\n",
       "      <th>53</th>\n",
       "      <td>MEPERIDINE HCL</td>\n",
       "      <td>MEPERIDINE HCL</td>\n",
       "    </tr>\n",
       "    <tr>\n",
       "      <th>54</th>\n",
       "      <td>MEPERIDINE HCL</td>\n",
       "      <td>MEPERIDINE HCL/PF</td>\n",
       "    </tr>\n",
       "    <tr>\n",
       "      <th>55</th>\n",
       "      <td>MEPERITAB</td>\n",
       "      <td>MEPERIDINE HCL</td>\n",
       "    </tr>\n",
       "    <tr>\n",
       "      <th>56</th>\n",
       "      <td>METHADONE HCL</td>\n",
       "      <td>METHADONE HCL</td>\n",
       "    </tr>\n",
       "    <tr>\n",
       "      <th>57</th>\n",
       "      <td>METHADONE INTENSOL</td>\n",
       "      <td>METHADONE HCL</td>\n",
       "    </tr>\n",
       "    <tr>\n",
       "      <th>58</th>\n",
       "      <td>METHADOSE</td>\n",
       "      <td>METHADONE HCL</td>\n",
       "    </tr>\n",
       "    <tr>\n",
       "      <th>59</th>\n",
       "      <td>MORPHINE SULFATE</td>\n",
       "      <td>MORPHINE SULFATE</td>\n",
       "    </tr>\n",
       "    <tr>\n",
       "      <th>60</th>\n",
       "      <td>MORPHINE SULFATE</td>\n",
       "      <td>MORPHINE SULFATE/PF</td>\n",
       "    </tr>\n",
       "    <tr>\n",
       "      <th>61</th>\n",
       "      <td>MORPHINE SULFATE ER</td>\n",
       "      <td>MORPHINE SULFATE</td>\n",
       "    </tr>\n",
       "    <tr>\n",
       "      <th>62</th>\n",
       "      <td>MS CONTIN</td>\n",
       "      <td>MORPHINE SULFATE</td>\n",
       "    </tr>\n",
       "    <tr>\n",
       "      <th>63</th>\n",
       "      <td>NALBUPHINE HCL</td>\n",
       "      <td>NALBUPHINE HCL</td>\n",
       "    </tr>\n",
       "    <tr>\n",
       "      <th>64</th>\n",
       "      <td>NORCO</td>\n",
       "      <td>HYDROCODONE/ACETAMINOPHEN</td>\n",
       "    </tr>\n",
       "    <tr>\n",
       "      <th>65</th>\n",
       "      <td>NUCYNTA</td>\n",
       "      <td>TAPENTADOL HCL</td>\n",
       "    </tr>\n",
       "    <tr>\n",
       "      <th>66</th>\n",
       "      <td>NUCYNTA ER</td>\n",
       "      <td>TAPENTADOL HCL</td>\n",
       "    </tr>\n",
       "    <tr>\n",
       "      <th>67</th>\n",
       "      <td>OPANA</td>\n",
       "      <td>OXYMORPHONE HCL</td>\n",
       "    </tr>\n",
       "    <tr>\n",
       "      <th>68</th>\n",
       "      <td>OPANA ER</td>\n",
       "      <td>OXYMORPHONE HCL</td>\n",
       "    </tr>\n",
       "    <tr>\n",
       "      <th>69</th>\n",
       "      <td>OPIUM TINCTURE</td>\n",
       "      <td>OPIUM TINCTURE</td>\n",
       "    </tr>\n",
       "    <tr>\n",
       "      <th>70</th>\n",
       "      <td>OXECTA</td>\n",
       "      <td>OXYCODONE HCL</td>\n",
       "    </tr>\n",
       "    <tr>\n",
       "      <th>71</th>\n",
       "      <td>OXYCODONE HCL</td>\n",
       "      <td>OXYCODONE HCL</td>\n",
       "    </tr>\n",
       "    <tr>\n",
       "      <th>72</th>\n",
       "      <td>OXYCODONE HCL ER</td>\n",
       "      <td>OXYCODONE HCL</td>\n",
       "    </tr>\n",
       "    <tr>\n",
       "      <th>73</th>\n",
       "      <td>OXYCODONE HCL-ASPIRIN</td>\n",
       "      <td>OXYCODONE HCL/ASPIRIN</td>\n",
       "    </tr>\n",
       "    <tr>\n",
       "      <th>74</th>\n",
       "      <td>OXYCODONE HCL-IBUPROFEN</td>\n",
       "      <td>IBUPROFEN/OXYCODONE HCL</td>\n",
       "    </tr>\n",
       "    <tr>\n",
       "      <th>75</th>\n",
       "      <td>OXYCODONE-ACETAMINOPHEN</td>\n",
       "      <td>OXYCODONE HCL/ACETAMINOPHEN</td>\n",
       "    </tr>\n",
       "    <tr>\n",
       "      <th>76</th>\n",
       "      <td>OXYCONTIN</td>\n",
       "      <td>OXYCODONE HCL</td>\n",
       "    </tr>\n",
       "    <tr>\n",
       "      <th>77</th>\n",
       "      <td>OXYMORPHONE HCL</td>\n",
       "      <td>OXYMORPHONE HCL</td>\n",
       "    </tr>\n",
       "    <tr>\n",
       "      <th>78</th>\n",
       "      <td>OXYMORPHONE HCL ER</td>\n",
       "      <td>OXYMORPHONE HCL</td>\n",
       "    </tr>\n",
       "    <tr>\n",
       "      <th>79</th>\n",
       "      <td>PENTAZOCINE-ACETAMINOPHEN</td>\n",
       "      <td>PENTAZOCINE HCL/ACETAMINOPHEN</td>\n",
       "    </tr>\n",
       "    <tr>\n",
       "      <th>80</th>\n",
       "      <td>PENTAZOCINE-NALOXONE HCL</td>\n",
       "      <td>PENTAZOCINE HCL/NALOXONE HCL</td>\n",
       "    </tr>\n",
       "    <tr>\n",
       "      <th>81</th>\n",
       "      <td>PERCOCET</td>\n",
       "      <td>OXYCODONE HCL/ACETAMINOPHEN</td>\n",
       "    </tr>\n",
       "    <tr>\n",
       "      <th>82</th>\n",
       "      <td>PERCODAN</td>\n",
       "      <td>OXYCODONE HCL/ASPIRIN</td>\n",
       "    </tr>\n",
       "    <tr>\n",
       "      <th>83</th>\n",
       "      <td>PRIMLEV</td>\n",
       "      <td>OXYCODONE HCL/ACETAMINOPHEN</td>\n",
       "    </tr>\n",
       "    <tr>\n",
       "      <th>84</th>\n",
       "      <td>REPREXAIN</td>\n",
       "      <td>HYDROCODONE/IBUPROFEN</td>\n",
       "    </tr>\n",
       "    <tr>\n",
       "      <th>85</th>\n",
       "      <td>ROXICET</td>\n",
       "      <td>OXYCODONE HCL/ACETAMINOPHEN</td>\n",
       "    </tr>\n",
       "    <tr>\n",
       "      <th>86</th>\n",
       "      <td>ROXICODONE</td>\n",
       "      <td>OXYCODONE HCL</td>\n",
       "    </tr>\n",
       "    <tr>\n",
       "      <th>87</th>\n",
       "      <td>RYBIX ODT</td>\n",
       "      <td>TRAMADOL HCL</td>\n",
       "    </tr>\n",
       "    <tr>\n",
       "      <th>88</th>\n",
       "      <td>STAGESIC</td>\n",
       "      <td>HYDROCODONE/ACETAMINOPHEN</td>\n",
       "    </tr>\n",
       "    <tr>\n",
       "      <th>89</th>\n",
       "      <td>SUBSYS</td>\n",
       "      <td>FENTANYL</td>\n",
       "    </tr>\n",
       "    <tr>\n",
       "      <th>90</th>\n",
       "      <td>SYNALGOS-DC</td>\n",
       "      <td>DIHYDROCODEINE/ASPIRIN/CAFFEIN</td>\n",
       "    </tr>\n",
       "    <tr>\n",
       "      <th>91</th>\n",
       "      <td>TALWIN</td>\n",
       "      <td>PENTAZOCINE LACTATE</td>\n",
       "    </tr>\n",
       "    <tr>\n",
       "      <th>92</th>\n",
       "      <td>TRAMADOL HCL</td>\n",
       "      <td>TRAMADOL HCL</td>\n",
       "    </tr>\n",
       "    <tr>\n",
       "      <th>93</th>\n",
       "      <td>TRAMADOL HCL ER</td>\n",
       "      <td>TRAMADOL HCL</td>\n",
       "    </tr>\n",
       "    <tr>\n",
       "      <th>94</th>\n",
       "      <td>TRAMADOL HCL-ACETAMINOPHEN</td>\n",
       "      <td>TRAMADOL HCL/ACETAMINOPHEN</td>\n",
       "    </tr>\n",
       "    <tr>\n",
       "      <th>95</th>\n",
       "      <td>TREZIX</td>\n",
       "      <td>DHCODEINE BT/ACETAMINOPHN/CAFF</td>\n",
       "    </tr>\n",
       "    <tr>\n",
       "      <th>96</th>\n",
       "      <td>TYLENOL-CODEINE NO.3</td>\n",
       "      <td>ACETAMINOPHEN WITH CODEINE</td>\n",
       "    </tr>\n",
       "    <tr>\n",
       "      <th>97</th>\n",
       "      <td>TYLENOL-CODEINE NO.4</td>\n",
       "      <td>ACETAMINOPHEN WITH CODEINE</td>\n",
       "    </tr>\n",
       "    <tr>\n",
       "      <th>98</th>\n",
       "      <td>ULTRACET</td>\n",
       "      <td>TRAMADOL HCL/ACETAMINOPHEN</td>\n",
       "    </tr>\n",
       "    <tr>\n",
       "      <th>99</th>\n",
       "      <td>ULTRAM</td>\n",
       "      <td>TRAMADOL HCL</td>\n",
       "    </tr>\n",
       "    <tr>\n",
       "      <th>100</th>\n",
       "      <td>ULTRAM ER</td>\n",
       "      <td>TRAMADOL HCL</td>\n",
       "    </tr>\n",
       "    <tr>\n",
       "      <th>101</th>\n",
       "      <td>VICODIN</td>\n",
       "      <td>HYDROCODONE/ACETAMINOPHEN</td>\n",
       "    </tr>\n",
       "    <tr>\n",
       "      <th>102</th>\n",
       "      <td>VICODIN ES</td>\n",
       "      <td>HYDROCODONE/ACETAMINOPHEN</td>\n",
       "    </tr>\n",
       "    <tr>\n",
       "      <th>103</th>\n",
       "      <td>VICODIN HP</td>\n",
       "      <td>HYDROCODONE/ACETAMINOPHEN</td>\n",
       "    </tr>\n",
       "    <tr>\n",
       "      <th>104</th>\n",
       "      <td>VICOPROFEN</td>\n",
       "      <td>HYDROCODONE/IBUPROFEN</td>\n",
       "    </tr>\n",
       "    <tr>\n",
       "      <th>105</th>\n",
       "      <td>XARTEMIS XR</td>\n",
       "      <td>OXYCODONE HCL/ACETAMINOPHEN</td>\n",
       "    </tr>\n",
       "    <tr>\n",
       "      <th>106</th>\n",
       "      <td>XODOL 10-300</td>\n",
       "      <td>HYDROCODONE/ACETAMINOPHEN</td>\n",
       "    </tr>\n",
       "    <tr>\n",
       "      <th>107</th>\n",
       "      <td>XODOL 5-300</td>\n",
       "      <td>HYDROCODONE/ACETAMINOPHEN</td>\n",
       "    </tr>\n",
       "    <tr>\n",
       "      <th>108</th>\n",
       "      <td>XODOL 7.5-300</td>\n",
       "      <td>HYDROCODONE/ACETAMINOPHEN</td>\n",
       "    </tr>\n",
       "    <tr>\n",
       "      <th>109</th>\n",
       "      <td>XYLON 10</td>\n",
       "      <td>HYDROCODONE/IBUPROFEN</td>\n",
       "    </tr>\n",
       "    <tr>\n",
       "      <th>110</th>\n",
       "      <td>ZAMICET</td>\n",
       "      <td>HYDROCODONE/ACETAMINOPHEN</td>\n",
       "    </tr>\n",
       "    <tr>\n",
       "      <th>111</th>\n",
       "      <td>ZOHYDRO ER</td>\n",
       "      <td>HYDROCODONE BITARTRATE</td>\n",
       "    </tr>\n",
       "    <tr>\n",
       "      <th>112</th>\n",
       "      <td>ZOLVIT</td>\n",
       "      <td>HYDROCODONE/ACETAMINOPHEN</td>\n",
       "    </tr>\n",
       "  </tbody>\n",
       "</table>\n",
       "</div>"
      ],
      "text/plain": [
       "                          Drug Name                    Generic Name\n",
       "0                           ABSTRAL                FENTANYL CITRATE\n",
       "1             ACETAMINOPHEN-CODEINE      ACETAMINOPHEN WITH CODEINE\n",
       "2                             ACTIQ                FENTANYL CITRATE\n",
       "3               ASCOMP WITH CODEINE  CODEINE/BUTALBITAL/ASA/CAFFEIN\n",
       "4    ASPIRIN-CAFFEINE-DIHYDROCODEIN  DIHYDROCODEINE/ASPIRIN/CAFFEIN\n",
       "5                            AVINZA                MORPHINE SULFATE\n",
       "6                  BELLADONNA-OPIUM      OPIUM/BELLADONNA ALKALOIDS\n",
       "7                 BUPRENORPHINE HCL               BUPRENORPHINE HCL\n",
       "8    BUTALB-ACETAMINOPH-CAFF-CODEIN  BUTALBIT/ACETAMIN/CAFF/CODEINE\n",
       "9    BUTALB-CAFF-ACETAMINOPH-CODEIN  BUTALBIT/ACETAMIN/CAFF/CODEINE\n",
       "10      BUTALBITAL COMPOUND-CODEINE  CODEINE/BUTALBITAL/ASA/CAFFEIN\n",
       "11             BUTORPHANOL TARTRATE            BUTORPHANOL TARTRATE\n",
       "12                          BUTRANS                   BUPRENORPHINE\n",
       "13                CAPITAL W-CODEINE      ACETAMINOPHEN WITH CODEINE\n",
       "14    CARISOPRODOL COMPOUND-CODEINE    CODEINE/CARISOPRODOL/ASPIRIN\n",
       "15     CARISOPRODOL-ASPIRIN-CODEINE    CODEINE/CARISOPRODOL/ASPIRIN\n",
       "16                  CODEINE SULFATE                 CODEINE SULFATE\n",
       "17                         CO-GESIC       HYDROCODONE/ACETAMINOPHEN\n",
       "18                           CONZIP                    TRAMADOL HCL\n",
       "19                          DEMEROL                  MEPERIDINE HCL\n",
       "20                          DEMEROL               MEPERIDINE HCL/PF\n",
       "21                         DILAUDID               HYDROMORPHONE HCL\n",
       "22                         DILAUDID            HYDROMORPHONE HCL/PF\n",
       "23                      DILAUDID-HP            HYDROMORPHONE HCL/PF\n",
       "24                          DISKETS                   METHADONE HCL\n",
       "25                    DOLOPHINE HCL                   METHADONE HCL\n",
       "26                        DURAGESIC                        FENTANYL\n",
       "27                        DURAMORPH             MORPHINE SULFATE/PF\n",
       "28                          ENDOCET     OXYCODONE HCL/ACETAMINOPHEN\n",
       "29                          ENDODAN           OXYCODONE HCL/ASPIRIN\n",
       "30                           EXALGO               HYDROMORPHONE HCL\n",
       "31                         FENTANYL                        FENTANYL\n",
       "32                 FENTANYL CITRATE                FENTANYL CITRATE\n",
       "33                          FENTORA                FENTANYL CITRATE\n",
       "34            FIORICET WITH CODEINE  BUTALBIT/ACETAMIN/CAFF/CODEINE\n",
       "35         FIORINAL WITH CODEINE #3  CODEINE/BUTALBITAL/ASA/CAFFEIN\n",
       "36                            HYCET       HYDROCODONE/ACETAMINOPHEN\n",
       "37        HYDROCODONE-ACETAMINOPHEN       HYDROCODONE/ACETAMINOPHEN\n",
       "38            HYDROCODONE-IBUPROFEN           HYDROCODONE/IBUPROFEN\n",
       "39                 HYDROMORPHONE ER               HYDROMORPHONE HCL\n",
       "40                HYDROMORPHONE HCL               HYDROMORPHONE HCL\n",
       "41                HYDROMORPHONE HCL            HYDROMORPHONE HCL/PF\n",
       "42                          IBUDONE           HYDROCODONE/IBUPROFEN\n",
       "43                        INFUMORPH             MORPHINE SULFATE/PF\n",
       "44                           KADIAN                MORPHINE SULFATE\n",
       "45                          LAZANDA                FENTANYL CITRATE\n",
       "46             LEVORPHANOL TARTRATE            LEVORPHANOL TARTRATE\n",
       "47                           LORCET       HYDROCODONE/ACETAMINOPHEN\n",
       "48                    LORCET 10-650       HYDROCODONE/ACETAMINOPHEN\n",
       "49                        LORCET HD       HYDROCODONE/ACETAMINOPHEN\n",
       "50                      LORCET PLUS       HYDROCODONE/ACETAMINOPHEN\n",
       "51                           LORTAB       HYDROCODONE/ACETAMINOPHEN\n",
       "52                         MAGNACET     OXYCODONE HCL/ACETAMINOPHEN\n",
       "53                   MEPERIDINE HCL                  MEPERIDINE HCL\n",
       "54                   MEPERIDINE HCL               MEPERIDINE HCL/PF\n",
       "55                        MEPERITAB                  MEPERIDINE HCL\n",
       "56                    METHADONE HCL                   METHADONE HCL\n",
       "57               METHADONE INTENSOL                   METHADONE HCL\n",
       "58                        METHADOSE                   METHADONE HCL\n",
       "59                 MORPHINE SULFATE                MORPHINE SULFATE\n",
       "60                 MORPHINE SULFATE             MORPHINE SULFATE/PF\n",
       "61              MORPHINE SULFATE ER                MORPHINE SULFATE\n",
       "62                        MS CONTIN                MORPHINE SULFATE\n",
       "63                   NALBUPHINE HCL                  NALBUPHINE HCL\n",
       "64                            NORCO       HYDROCODONE/ACETAMINOPHEN\n",
       "65                          NUCYNTA                  TAPENTADOL HCL\n",
       "66                       NUCYNTA ER                  TAPENTADOL HCL\n",
       "67                            OPANA                 OXYMORPHONE HCL\n",
       "68                         OPANA ER                 OXYMORPHONE HCL\n",
       "69                   OPIUM TINCTURE                  OPIUM TINCTURE\n",
       "70                           OXECTA                   OXYCODONE HCL\n",
       "71                    OXYCODONE HCL                   OXYCODONE HCL\n",
       "72                 OXYCODONE HCL ER                   OXYCODONE HCL\n",
       "73            OXYCODONE HCL-ASPIRIN           OXYCODONE HCL/ASPIRIN\n",
       "74          OXYCODONE HCL-IBUPROFEN         IBUPROFEN/OXYCODONE HCL\n",
       "75          OXYCODONE-ACETAMINOPHEN     OXYCODONE HCL/ACETAMINOPHEN\n",
       "76                        OXYCONTIN                   OXYCODONE HCL\n",
       "77                  OXYMORPHONE HCL                 OXYMORPHONE HCL\n",
       "78               OXYMORPHONE HCL ER                 OXYMORPHONE HCL\n",
       "79        PENTAZOCINE-ACETAMINOPHEN   PENTAZOCINE HCL/ACETAMINOPHEN\n",
       "80         PENTAZOCINE-NALOXONE HCL    PENTAZOCINE HCL/NALOXONE HCL\n",
       "81                         PERCOCET     OXYCODONE HCL/ACETAMINOPHEN\n",
       "82                         PERCODAN           OXYCODONE HCL/ASPIRIN\n",
       "83                          PRIMLEV     OXYCODONE HCL/ACETAMINOPHEN\n",
       "84                        REPREXAIN           HYDROCODONE/IBUPROFEN\n",
       "85                          ROXICET     OXYCODONE HCL/ACETAMINOPHEN\n",
       "86                       ROXICODONE                   OXYCODONE HCL\n",
       "87                        RYBIX ODT                    TRAMADOL HCL\n",
       "88                         STAGESIC       HYDROCODONE/ACETAMINOPHEN\n",
       "89                           SUBSYS                        FENTANYL\n",
       "90                      SYNALGOS-DC  DIHYDROCODEINE/ASPIRIN/CAFFEIN\n",
       "91                           TALWIN             PENTAZOCINE LACTATE\n",
       "92                     TRAMADOL HCL                    TRAMADOL HCL\n",
       "93                  TRAMADOL HCL ER                    TRAMADOL HCL\n",
       "94       TRAMADOL HCL-ACETAMINOPHEN      TRAMADOL HCL/ACETAMINOPHEN\n",
       "95                           TREZIX  DHCODEINE BT/ACETAMINOPHN/CAFF\n",
       "96             TYLENOL-CODEINE NO.3      ACETAMINOPHEN WITH CODEINE\n",
       "97             TYLENOL-CODEINE NO.4      ACETAMINOPHEN WITH CODEINE\n",
       "98                         ULTRACET      TRAMADOL HCL/ACETAMINOPHEN\n",
       "99                           ULTRAM                    TRAMADOL HCL\n",
       "100                       ULTRAM ER                    TRAMADOL HCL\n",
       "101                         VICODIN       HYDROCODONE/ACETAMINOPHEN\n",
       "102                      VICODIN ES       HYDROCODONE/ACETAMINOPHEN\n",
       "103                      VICODIN HP       HYDROCODONE/ACETAMINOPHEN\n",
       "104                      VICOPROFEN           HYDROCODONE/IBUPROFEN\n",
       "105                     XARTEMIS XR     OXYCODONE HCL/ACETAMINOPHEN\n",
       "106                    XODOL 10-300       HYDROCODONE/ACETAMINOPHEN\n",
       "107                     XODOL 5-300       HYDROCODONE/ACETAMINOPHEN\n",
       "108                   XODOL 7.5-300       HYDROCODONE/ACETAMINOPHEN\n",
       "109                        XYLON 10           HYDROCODONE/IBUPROFEN\n",
       "110                         ZAMICET       HYDROCODONE/ACETAMINOPHEN\n",
       "111                      ZOHYDRO ER          HYDROCODONE BITARTRATE\n",
       "112                          ZOLVIT       HYDROCODONE/ACETAMINOPHEN"
      ]
     },
     "execution_count": 12,
     "metadata": {},
     "output_type": "execute_result"
    }
   ],
   "source": [
    "opioid"
   ]
  },
  {
   "cell_type": "code",
   "execution_count": 13,
   "metadata": {
    "scrolled": true
   },
   "outputs": [
    {
     "data": {
      "text/html": [
       "<div>\n",
       "<style scoped>\n",
       "    .dataframe tbody tr th:only-of-type {\n",
       "        vertical-align: middle;\n",
       "    }\n",
       "\n",
       "    .dataframe tbody tr th {\n",
       "        vertical-align: top;\n",
       "    }\n",
       "\n",
       "    .dataframe thead th {\n",
       "        text-align: right;\n",
       "    }\n",
       "</style>\n",
       "<table border=\"1\" class=\"dataframe\">\n",
       "  <thead>\n",
       "    <tr style=\"text-align: right;\">\n",
       "      <th></th>\n",
       "      <th>Drug Name</th>\n",
       "      <th>Generic Name</th>\n",
       "    </tr>\n",
       "  </thead>\n",
       "  <tbody>\n",
       "    <tr>\n",
       "      <th>1</th>\n",
       "      <td>ACETAMINOPHEN-CODEINE</td>\n",
       "      <td>ACETAMINOPHEN WITH CODEINE</td>\n",
       "    </tr>\n",
       "    <tr>\n",
       "      <th>13</th>\n",
       "      <td>CAPITAL W-CODEINE</td>\n",
       "      <td>ACETAMINOPHEN WITH CODEINE</td>\n",
       "    </tr>\n",
       "    <tr>\n",
       "      <th>17</th>\n",
       "      <td>CO-GESIC</td>\n",
       "      <td>HYDROCODONE/ACETAMINOPHEN</td>\n",
       "    </tr>\n",
       "    <tr>\n",
       "      <th>28</th>\n",
       "      <td>ENDOCET</td>\n",
       "      <td>OXYCODONE HCL/ACETAMINOPHEN</td>\n",
       "    </tr>\n",
       "    <tr>\n",
       "      <th>36</th>\n",
       "      <td>HYCET</td>\n",
       "      <td>HYDROCODONE/ACETAMINOPHEN</td>\n",
       "    </tr>\n",
       "    <tr>\n",
       "      <th>37</th>\n",
       "      <td>HYDROCODONE-ACETAMINOPHEN</td>\n",
       "      <td>HYDROCODONE/ACETAMINOPHEN</td>\n",
       "    </tr>\n",
       "    <tr>\n",
       "      <th>47</th>\n",
       "      <td>LORCET</td>\n",
       "      <td>HYDROCODONE/ACETAMINOPHEN</td>\n",
       "    </tr>\n",
       "    <tr>\n",
       "      <th>48</th>\n",
       "      <td>LORCET 10-650</td>\n",
       "      <td>HYDROCODONE/ACETAMINOPHEN</td>\n",
       "    </tr>\n",
       "    <tr>\n",
       "      <th>49</th>\n",
       "      <td>LORCET HD</td>\n",
       "      <td>HYDROCODONE/ACETAMINOPHEN</td>\n",
       "    </tr>\n",
       "    <tr>\n",
       "      <th>50</th>\n",
       "      <td>LORCET PLUS</td>\n",
       "      <td>HYDROCODONE/ACETAMINOPHEN</td>\n",
       "    </tr>\n",
       "    <tr>\n",
       "      <th>51</th>\n",
       "      <td>LORTAB</td>\n",
       "      <td>HYDROCODONE/ACETAMINOPHEN</td>\n",
       "    </tr>\n",
       "    <tr>\n",
       "      <th>52</th>\n",
       "      <td>MAGNACET</td>\n",
       "      <td>OXYCODONE HCL/ACETAMINOPHEN</td>\n",
       "    </tr>\n",
       "    <tr>\n",
       "      <th>64</th>\n",
       "      <td>NORCO</td>\n",
       "      <td>HYDROCODONE/ACETAMINOPHEN</td>\n",
       "    </tr>\n",
       "    <tr>\n",
       "      <th>75</th>\n",
       "      <td>OXYCODONE-ACETAMINOPHEN</td>\n",
       "      <td>OXYCODONE HCL/ACETAMINOPHEN</td>\n",
       "    </tr>\n",
       "    <tr>\n",
       "      <th>79</th>\n",
       "      <td>PENTAZOCINE-ACETAMINOPHEN</td>\n",
       "      <td>PENTAZOCINE HCL/ACETAMINOPHEN</td>\n",
       "    </tr>\n",
       "    <tr>\n",
       "      <th>81</th>\n",
       "      <td>PERCOCET</td>\n",
       "      <td>OXYCODONE HCL/ACETAMINOPHEN</td>\n",
       "    </tr>\n",
       "    <tr>\n",
       "      <th>83</th>\n",
       "      <td>PRIMLEV</td>\n",
       "      <td>OXYCODONE HCL/ACETAMINOPHEN</td>\n",
       "    </tr>\n",
       "    <tr>\n",
       "      <th>85</th>\n",
       "      <td>ROXICET</td>\n",
       "      <td>OXYCODONE HCL/ACETAMINOPHEN</td>\n",
       "    </tr>\n",
       "    <tr>\n",
       "      <th>88</th>\n",
       "      <td>STAGESIC</td>\n",
       "      <td>HYDROCODONE/ACETAMINOPHEN</td>\n",
       "    </tr>\n",
       "    <tr>\n",
       "      <th>94</th>\n",
       "      <td>TRAMADOL HCL-ACETAMINOPHEN</td>\n",
       "      <td>TRAMADOL HCL/ACETAMINOPHEN</td>\n",
       "    </tr>\n",
       "    <tr>\n",
       "      <th>96</th>\n",
       "      <td>TYLENOL-CODEINE NO.3</td>\n",
       "      <td>ACETAMINOPHEN WITH CODEINE</td>\n",
       "    </tr>\n",
       "    <tr>\n",
       "      <th>97</th>\n",
       "      <td>TYLENOL-CODEINE NO.4</td>\n",
       "      <td>ACETAMINOPHEN WITH CODEINE</td>\n",
       "    </tr>\n",
       "    <tr>\n",
       "      <th>98</th>\n",
       "      <td>ULTRACET</td>\n",
       "      <td>TRAMADOL HCL/ACETAMINOPHEN</td>\n",
       "    </tr>\n",
       "    <tr>\n",
       "      <th>101</th>\n",
       "      <td>VICODIN</td>\n",
       "      <td>HYDROCODONE/ACETAMINOPHEN</td>\n",
       "    </tr>\n",
       "    <tr>\n",
       "      <th>102</th>\n",
       "      <td>VICODIN ES</td>\n",
       "      <td>HYDROCODONE/ACETAMINOPHEN</td>\n",
       "    </tr>\n",
       "    <tr>\n",
       "      <th>103</th>\n",
       "      <td>VICODIN HP</td>\n",
       "      <td>HYDROCODONE/ACETAMINOPHEN</td>\n",
       "    </tr>\n",
       "    <tr>\n",
       "      <th>105</th>\n",
       "      <td>XARTEMIS XR</td>\n",
       "      <td>OXYCODONE HCL/ACETAMINOPHEN</td>\n",
       "    </tr>\n",
       "    <tr>\n",
       "      <th>106</th>\n",
       "      <td>XODOL 10-300</td>\n",
       "      <td>HYDROCODONE/ACETAMINOPHEN</td>\n",
       "    </tr>\n",
       "    <tr>\n",
       "      <th>107</th>\n",
       "      <td>XODOL 5-300</td>\n",
       "      <td>HYDROCODONE/ACETAMINOPHEN</td>\n",
       "    </tr>\n",
       "    <tr>\n",
       "      <th>108</th>\n",
       "      <td>XODOL 7.5-300</td>\n",
       "      <td>HYDROCODONE/ACETAMINOPHEN</td>\n",
       "    </tr>\n",
       "    <tr>\n",
       "      <th>110</th>\n",
       "      <td>ZAMICET</td>\n",
       "      <td>HYDROCODONE/ACETAMINOPHEN</td>\n",
       "    </tr>\n",
       "    <tr>\n",
       "      <th>112</th>\n",
       "      <td>ZOLVIT</td>\n",
       "      <td>HYDROCODONE/ACETAMINOPHEN</td>\n",
       "    </tr>\n",
       "  </tbody>\n",
       "</table>\n",
       "</div>"
      ],
      "text/plain": [
       "                      Drug Name                   Generic Name\n",
       "1         ACETAMINOPHEN-CODEINE     ACETAMINOPHEN WITH CODEINE\n",
       "13            CAPITAL W-CODEINE     ACETAMINOPHEN WITH CODEINE\n",
       "17                     CO-GESIC      HYDROCODONE/ACETAMINOPHEN\n",
       "28                      ENDOCET    OXYCODONE HCL/ACETAMINOPHEN\n",
       "36                        HYCET      HYDROCODONE/ACETAMINOPHEN\n",
       "37    HYDROCODONE-ACETAMINOPHEN      HYDROCODONE/ACETAMINOPHEN\n",
       "47                       LORCET      HYDROCODONE/ACETAMINOPHEN\n",
       "48                LORCET 10-650      HYDROCODONE/ACETAMINOPHEN\n",
       "49                    LORCET HD      HYDROCODONE/ACETAMINOPHEN\n",
       "50                  LORCET PLUS      HYDROCODONE/ACETAMINOPHEN\n",
       "51                       LORTAB      HYDROCODONE/ACETAMINOPHEN\n",
       "52                     MAGNACET    OXYCODONE HCL/ACETAMINOPHEN\n",
       "64                        NORCO      HYDROCODONE/ACETAMINOPHEN\n",
       "75      OXYCODONE-ACETAMINOPHEN    OXYCODONE HCL/ACETAMINOPHEN\n",
       "79    PENTAZOCINE-ACETAMINOPHEN  PENTAZOCINE HCL/ACETAMINOPHEN\n",
       "81                     PERCOCET    OXYCODONE HCL/ACETAMINOPHEN\n",
       "83                      PRIMLEV    OXYCODONE HCL/ACETAMINOPHEN\n",
       "85                      ROXICET    OXYCODONE HCL/ACETAMINOPHEN\n",
       "88                     STAGESIC      HYDROCODONE/ACETAMINOPHEN\n",
       "94   TRAMADOL HCL-ACETAMINOPHEN     TRAMADOL HCL/ACETAMINOPHEN\n",
       "96         TYLENOL-CODEINE NO.3     ACETAMINOPHEN WITH CODEINE\n",
       "97         TYLENOL-CODEINE NO.4     ACETAMINOPHEN WITH CODEINE\n",
       "98                     ULTRACET     TRAMADOL HCL/ACETAMINOPHEN\n",
       "101                     VICODIN      HYDROCODONE/ACETAMINOPHEN\n",
       "102                  VICODIN ES      HYDROCODONE/ACETAMINOPHEN\n",
       "103                  VICODIN HP      HYDROCODONE/ACETAMINOPHEN\n",
       "105                 XARTEMIS XR    OXYCODONE HCL/ACETAMINOPHEN\n",
       "106                XODOL 10-300      HYDROCODONE/ACETAMINOPHEN\n",
       "107                 XODOL 5-300      HYDROCODONE/ACETAMINOPHEN\n",
       "108               XODOL 7.5-300      HYDROCODONE/ACETAMINOPHEN\n",
       "110                     ZAMICET      HYDROCODONE/ACETAMINOPHEN\n",
       "112                      ZOLVIT      HYDROCODONE/ACETAMINOPHEN"
      ]
     },
     "execution_count": 13,
     "metadata": {},
     "output_type": "execute_result"
    }
   ],
   "source": [
    "opioid[opioid['Generic Name'].str.contains('NOPHEN',case=False)]"
   ]
  },
  {
   "cell_type": "code",
   "execution_count": 14,
   "metadata": {
    "scrolled": true
   },
   "outputs": [
    {
     "data": {
      "text/plain": [
       "1    14281\n",
       "0     9956\n",
       "Name: Opioid.Prescriber, dtype: int64"
      ]
     },
     "execution_count": 14,
     "metadata": {},
     "output_type": "execute_result"
    }
   ],
   "source": [
    "prescriber['Opioid.Prescriber'].value_counts()"
   ]
  },
  {
   "cell_type": "code",
   "execution_count": 15,
   "metadata": {
    "scrolled": false
   },
   "outputs": [
    {
     "data": {
      "text/plain": [
       "Index(['NPI', 'Gender', 'State', 'Credentials', 'Specialty', 'ABILIFY',\n",
       "       'ACETAMINOPHEN.CODEINE', 'ACYCLOVIR', 'ADVAIR.DISKUS', 'AGGRENOX',\n",
       "       ...\n",
       "       'VERAPAMIL.ER', 'VESICARE', 'VOLTAREN', 'VYTORIN', 'WARFARIN.SODIUM',\n",
       "       'XARELTO', 'ZETIA', 'ZIPRASIDONE.HCL', 'ZOLPIDEM.TARTRATE',\n",
       "       'Opioid.Prescriber'],\n",
       "      dtype='object', length=256)"
      ]
     },
     "execution_count": 15,
     "metadata": {},
     "output_type": "execute_result"
    }
   ],
   "source": [
    "prescriber.columns"
   ]
  },
  {
   "cell_type": "code",
   "execution_count": 16,
   "metadata": {},
   "outputs": [
    {
     "data": {
      "text/plain": [
       "NPI                                int64\n",
       "Gender                            object\n",
       "State                             object\n",
       "Credentials                       object\n",
       "Specialty                         object\n",
       "ABILIFY                            int64\n",
       "ACETAMINOPHEN.CODEINE              int64\n",
       "ACYCLOVIR                          int64\n",
       "ADVAIR.DISKUS                      int64\n",
       "AGGRENOX                           int64\n",
       "ALENDRONATE.SODIUM                 int64\n",
       "ALLOPURINOL                        int64\n",
       "ALPRAZOLAM                         int64\n",
       "AMIODARONE.HCL                     int64\n",
       "AMITRIPTYLINE.HCL                  int64\n",
       "AMLODIPINE.BESYLATE                int64\n",
       "AMLODIPINE.BESYLATE.BENAZEPRIL     int64\n",
       "AMOXICILLIN                        int64\n",
       "AMOX.TR.POTASSIUM.CLAVULANATE      int64\n",
       "AMPHETAMINE.SALT.COMBO             int64\n",
       "ATENOLOL                           int64\n",
       "ATORVASTATIN.CALCIUM               int64\n",
       "AVODART                            int64\n",
       "AZITHROMYCIN                       int64\n",
       "BACLOFEN                           int64\n",
       "BD.ULTRA.FINE.PEN.NEEDLE           int64\n",
       "BENAZEPRIL.HCL                     int64\n",
       "BENICAR                            int64\n",
       "BENICAR.HCT                        int64\n",
       "BENZTROPINE.MESYLATE               int64\n",
       "BISOPROLOL.HYDROCHLOROTHIAZIDE     int64\n",
       "BRIMONIDINE.TARTRATE               int64\n",
       "BUMETANIDE                         int64\n",
       "BUPROPION.HCL.SR                   int64\n",
       "BUPROPION.XL                       int64\n",
       "BUSPIRONE.HCL                      int64\n",
       "BYSTOLIC                           int64\n",
       "CARBAMAZEPINE                      int64\n",
       "CARBIDOPA.LEVODOPA                 int64\n",
       "CARISOPRODOL                       int64\n",
       "CARTIA.XT                          int64\n",
       "CARVEDILOL                         int64\n",
       "CEFUROXIME                         int64\n",
       "CELEBREX                           int64\n",
       "CEPHALEXIN                         int64\n",
       "CHLORHEXIDINE.GLUCONATE            int64\n",
       "CHLORTHALIDONE                     int64\n",
       "CILOSTAZOL                         int64\n",
       "CIPROFLOXACIN.HCL                  int64\n",
       "CITALOPRAM.HBR                     int64\n",
       "CLINDAMYCIN.HCL                    int64\n",
       "CLOBETASOL.PROPIONATE              int64\n",
       "CLONAZEPAM                         int64\n",
       "CLONIDINE.HCL                      int64\n",
       "CLOPIDOGREL                        int64\n",
       "CLOTRIMAZOLE.BETAMETHASONE         int64\n",
       "COLCRYS                            int64\n",
       "COMBIVENT.RESPIMAT                 int64\n",
       "CRESTOR                            int64\n",
       "CYCLOBENZAPRINE.HCL                int64\n",
       "DEXILANT                           int64\n",
       "DIAZEPAM                           int64\n",
       "DICLOFENAC.SODIUM                  int64\n",
       "DICYCLOMINE.HCL                    int64\n",
       "DIGOX                              int64\n",
       "DIGOXIN                            int64\n",
       "DILTIAZEM.24HR.CD                  int64\n",
       "DILTIAZEM.24HR.ER                  int64\n",
       "DILTIAZEM.ER                       int64\n",
       "DILTIAZEM.HCL                      int64\n",
       "DIOVAN                             int64\n",
       "DIPHENOXYLATE.ATROPINE             int64\n",
       "DIVALPROEX.SODIUM                  int64\n",
       "DIVALPROEX.SODIUM.ER               int64\n",
       "DONEPEZIL.HCL                      int64\n",
       "DORZOLAMIDE.TIMOLOL                int64\n",
       "DOXAZOSIN.MESYLATE                 int64\n",
       "DOXEPIN.HCL                        int64\n",
       "DOXYCYCLINE.HYCLATE                int64\n",
       "DULOXETINE.HCL                     int64\n",
       "ENALAPRIL.MALEATE                  int64\n",
       "ESCITALOPRAM.OXALATE               int64\n",
       "ESTRADIOL                          int64\n",
       "EXELON                             int64\n",
       "FAMOTIDINE                         int64\n",
       "FELODIPINE.ER                      int64\n",
       "FENOFIBRATE                        int64\n",
       "FENTANYL                           int64\n",
       "FINASTERIDE                        int64\n",
       "FLOVENT.HFA                        int64\n",
       "FLUCONAZOLE                        int64\n",
       "FLUOXETINE.HCL                     int64\n",
       "FLUTICASONE.PROPIONATE             int64\n",
       "FUROSEMIDE                         int64\n",
       "GABAPENTIN                         int64\n",
       "GEMFIBROZIL                        int64\n",
       "GLIMEPIRIDE                        int64\n",
       "GLIPIZIDE                          int64\n",
       "GLIPIZIDE.ER                       int64\n",
       "GLIPIZIDE.XL                       int64\n",
       "GLYBURIDE                          int64\n",
       "HALOPERIDOL                        int64\n",
       "HUMALOG                            int64\n",
       "HYDRALAZINE.HCL                    int64\n",
       "HYDROCHLOROTHIAZIDE                int64\n",
       "HYDROCODONE.ACETAMINOPHEN          int64\n",
       "HYDROCORTISONE                     int64\n",
       "HYDROMORPHONE.HCL                  int64\n",
       "HYDROXYZINE.HCL                    int64\n",
       "IBANDRONATE.SODIUM                 int64\n",
       "IBUPROFEN                          int64\n",
       "INSULIN.SYRINGE                    int64\n",
       "IPRATROPIUM.BROMIDE                int64\n",
       "IRBESARTAN                         int64\n",
       "ISOSORBIDE.MONONITRATE.ER          int64\n",
       "JANTOVEN                           int64\n",
       "JANUMET                            int64\n",
       "JANUVIA                            int64\n",
       "KETOCONAZOLE                       int64\n",
       "KLOR.CON.10                        int64\n",
       "KLOR.CON.M10                       int64\n",
       "KLOR.CON.M20                       int64\n",
       "LABETALOL.HCL                      int64\n",
       "LACTULOSE                          int64\n",
       "LAMOTRIGINE                        int64\n",
       "LANSOPRAZOLE                       int64\n",
       "LANTUS                             int64\n",
       "LANTUS.SOLOSTAR                    int64\n",
       "LATANOPROST                        int64\n",
       "LEVEMIR                            int64\n",
       "LEVEMIR.FLEXPEN                    int64\n",
       "LEVETIRACETAM                      int64\n",
       "LEVOFLOXACIN                       int64\n",
       "LEVOTHYROXINE.SODIUM               int64\n",
       "LIDOCAINE                          int64\n",
       "LISINOPRIL                         int64\n",
       "LISINOPRIL.HYDROCHLOROTHIAZIDE     int64\n",
       "LITHIUM.CARBONATE                  int64\n",
       "LORAZEPAM                          int64\n",
       "LOSARTAN.HYDROCHLOROTHIAZIDE       int64\n",
       "LOSARTAN.POTASSIUM                 int64\n",
       "LOVASTATIN                         int64\n",
       "LOVAZA                             int64\n",
       "LUMIGAN                            int64\n",
       "LYRICA                             int64\n",
       "MECLIZINE.HCL                      int64\n",
       "MELOXICAM                          int64\n",
       "METFORMIN.HCL                      int64\n",
       "METFORMIN.HCL.ER                   int64\n",
       "METHADONE.HCL                      int64\n",
       "METHOCARBAMOL                      int64\n",
       "METHOTREXATE                       int64\n",
       "METHYLPREDNISOLONE                 int64\n",
       "METOCLOPRAMIDE.HCL                 int64\n",
       "METOLAZONE                         int64\n",
       "METOPROLOL.SUCCINATE               int64\n",
       "METOPROLOL.TARTRATE                int64\n",
       "METRONIDAZOLE                      int64\n",
       "MIRTAZAPINE                        int64\n",
       "MONTELUKAST.SODIUM                 int64\n",
       "MORPHINE.SULFATE                   int64\n",
       "MORPHINE.SULFATE.ER                int64\n",
       "MUPIROCIN                          int64\n",
       "NABUMETONE                         int64\n",
       "NAMENDA                            int64\n",
       "NAMENDA.XR                         int64\n",
       "NAPROXEN                           int64\n",
       "NASONEX                            int64\n",
       "NEXIUM                             int64\n",
       "NIACIN.ER                          int64\n",
       "NIFEDICAL.XL                       int64\n",
       "NIFEDIPINE.ER                      int64\n",
       "NITROFURANTOIN.MONO.MACRO          int64\n",
       "NITROSTAT                          int64\n",
       "NORTRIPTYLINE.HCL                  int64\n",
       "NOVOLOG                            int64\n",
       "NOVOLOG.FLEXPEN                    int64\n",
       "NYSTATIN                           int64\n",
       "OLANZAPINE                         int64\n",
       "OMEPRAZOLE                         int64\n",
       "ONDANSETRON.HCL                    int64\n",
       "ONDANSETRON.ODT                    int64\n",
       "ONGLYZA                            int64\n",
       "OXCARBAZEPINE                      int64\n",
       "OXYBUTYNIN.CHLORIDE                int64\n",
       "OXYBUTYNIN.CHLORIDE.ER             int64\n",
       "OXYCODONE.ACETAMINOPHEN            int64\n",
       "OXYCODONE.HCL                      int64\n",
       "OXYCONTIN                          int64\n",
       "PANTOPRAZOLE.SODIUM                int64\n",
       "PAROXETINE.HCL                     int64\n",
       "PHENOBARBITAL                      int64\n",
       "PHENYTOIN.SODIUM.EXTENDED          int64\n",
       "PIOGLITAZONE.HCL                   int64\n",
       "POLYETHYLENE.GLYCOL.3350           int64\n",
       "POTASSIUM.CHLORIDE                 int64\n",
       "PRADAXA                            int64\n",
       "PRAMIPEXOLE.DIHYDROCHLORIDE        int64\n",
       "PRAVASTATIN.SODIUM                 int64\n",
       "PREDNISONE                         int64\n",
       "PREMARIN                           int64\n",
       "PRIMIDONE                          int64\n",
       "PROAIR.HFA                         int64\n",
       "PROMETHAZINE.HCL                   int64\n",
       "PROPRANOLOL.HCL                    int64\n",
       "PROPRANOLOL.HCL.ER                 int64\n",
       "QUETIAPINE.FUMARATE                int64\n",
       "QUINAPRIL.HCL                      int64\n",
       "RALOXIFENE.HCL                     int64\n",
       "RAMIPRIL                           int64\n",
       "RANEXA                             int64\n",
       "RANITIDINE.HCL                     int64\n",
       "RESTASIS                           int64\n",
       "RISPERIDONE                        int64\n",
       "ROPINIROLE.HCL                     int64\n",
       "SEROQUEL.XR                        int64\n",
       "SERTRALINE.HCL                     int64\n",
       "SIMVASTATIN                        int64\n",
       "SOTALOL                            int64\n",
       "SPIRIVA                            int64\n",
       "SPIRONOLACTONE                     int64\n",
       "SUCRALFATE                         int64\n",
       "SULFAMETHOXAZOLE.TRIMETHOPRIM      int64\n",
       "SUMATRIPTAN.SUCCINATE              int64\n",
       "SYMBICORT                          int64\n",
       "SYNTHROID                          int64\n",
       "TAMSULOSIN.HCL                     int64\n",
       "TEMAZEPAM                          int64\n",
       "TERAZOSIN.HCL                      int64\n",
       "TIMOLOL.MALEATE                    int64\n",
       "TIZANIDINE.HCL                     int64\n",
       "TOLTERODINE.TARTRATE.ER            int64\n",
       "TOPIRAMATE                         int64\n",
       "TOPROL.XL                          int64\n",
       "TORSEMIDE                          int64\n",
       "TRAMADOL.HCL                       int64\n",
       "TRAVATAN.Z                         int64\n",
       "TRAZODONE.HCL                      int64\n",
       "TRIAMCINOLONE.ACETONIDE            int64\n",
       "TRIAMTERENE.HYDROCHLOROTHIAZID     int64\n",
       "VALACYCLOVIR                       int64\n",
       "VALSARTAN                          int64\n",
       "VALSARTAN.HYDROCHLOROTHIAZIDE      int64\n",
       "VENLAFAXINE.HCL                    int64\n",
       "VENLAFAXINE.HCL.ER                 int64\n",
       "VENTOLIN.HFA                       int64\n",
       "VERAPAMIL.ER                       int64\n",
       "VESICARE                           int64\n",
       "VOLTAREN                           int64\n",
       "VYTORIN                            int64\n",
       "WARFARIN.SODIUM                    int64\n",
       "XARELTO                            int64\n",
       "ZETIA                              int64\n",
       "ZIPRASIDONE.HCL                    int64\n",
       "ZOLPIDEM.TARTRATE                  int64\n",
       "Opioid.Prescriber                  int64\n",
       "dtype: object"
      ]
     },
     "execution_count": 16,
     "metadata": {},
     "output_type": "execute_result"
    }
   ],
   "source": [
    "prescriber.dtypes"
   ]
  },
  {
   "cell_type": "markdown",
   "metadata": {
    "scrolled": true
   },
   "source": [
    "# Feature Selection "
   ]
  },
  {
   "cell_type": "markdown",
   "metadata": {},
   "source": [
    "Feature Selection Using Light GBM"
   ]
  },
  {
   "cell_type": "code",
   "execution_count": 17,
   "metadata": {
    "collapsed": true,
    "scrolled": true
   },
   "outputs": [],
   "source": [
    "dfcopy=prescriber.copy()\n"
   ]
  },
  {
   "cell_type": "code",
   "execution_count": 18,
   "metadata": {},
   "outputs": [
    {
     "data": {
      "text/plain": [
       "NPI                                int64\n",
       "Gender                            object\n",
       "State                             object\n",
       "Credentials                       object\n",
       "Specialty                         object\n",
       "ABILIFY                            int64\n",
       "ACETAMINOPHEN.CODEINE              int64\n",
       "ACYCLOVIR                          int64\n",
       "ADVAIR.DISKUS                      int64\n",
       "AGGRENOX                           int64\n",
       "ALENDRONATE.SODIUM                 int64\n",
       "ALLOPURINOL                        int64\n",
       "ALPRAZOLAM                         int64\n",
       "AMIODARONE.HCL                     int64\n",
       "AMITRIPTYLINE.HCL                  int64\n",
       "AMLODIPINE.BESYLATE                int64\n",
       "AMLODIPINE.BESYLATE.BENAZEPRIL     int64\n",
       "AMOXICILLIN                        int64\n",
       "AMOX.TR.POTASSIUM.CLAVULANATE      int64\n",
       "AMPHETAMINE.SALT.COMBO             int64\n",
       "ATENOLOL                           int64\n",
       "ATORVASTATIN.CALCIUM               int64\n",
       "AVODART                            int64\n",
       "AZITHROMYCIN                       int64\n",
       "BACLOFEN                           int64\n",
       "BD.ULTRA.FINE.PEN.NEEDLE           int64\n",
       "BENAZEPRIL.HCL                     int64\n",
       "BENICAR                            int64\n",
       "BENICAR.HCT                        int64\n",
       "BENZTROPINE.MESYLATE               int64\n",
       "BISOPROLOL.HYDROCHLOROTHIAZIDE     int64\n",
       "BRIMONIDINE.TARTRATE               int64\n",
       "BUMETANIDE                         int64\n",
       "BUPROPION.HCL.SR                   int64\n",
       "BUPROPION.XL                       int64\n",
       "BUSPIRONE.HCL                      int64\n",
       "BYSTOLIC                           int64\n",
       "CARBAMAZEPINE                      int64\n",
       "CARBIDOPA.LEVODOPA                 int64\n",
       "CARISOPRODOL                       int64\n",
       "CARTIA.XT                          int64\n",
       "CARVEDILOL                         int64\n",
       "CEFUROXIME                         int64\n",
       "CELEBREX                           int64\n",
       "CEPHALEXIN                         int64\n",
       "CHLORHEXIDINE.GLUCONATE            int64\n",
       "CHLORTHALIDONE                     int64\n",
       "CILOSTAZOL                         int64\n",
       "CIPROFLOXACIN.HCL                  int64\n",
       "CITALOPRAM.HBR                     int64\n",
       "CLINDAMYCIN.HCL                    int64\n",
       "CLOBETASOL.PROPIONATE              int64\n",
       "CLONAZEPAM                         int64\n",
       "CLONIDINE.HCL                      int64\n",
       "CLOPIDOGREL                        int64\n",
       "CLOTRIMAZOLE.BETAMETHASONE         int64\n",
       "COLCRYS                            int64\n",
       "COMBIVENT.RESPIMAT                 int64\n",
       "CRESTOR                            int64\n",
       "CYCLOBENZAPRINE.HCL                int64\n",
       "DEXILANT                           int64\n",
       "DIAZEPAM                           int64\n",
       "DICLOFENAC.SODIUM                  int64\n",
       "DICYCLOMINE.HCL                    int64\n",
       "DIGOX                              int64\n",
       "DIGOXIN                            int64\n",
       "DILTIAZEM.24HR.CD                  int64\n",
       "DILTIAZEM.24HR.ER                  int64\n",
       "DILTIAZEM.ER                       int64\n",
       "DILTIAZEM.HCL                      int64\n",
       "DIOVAN                             int64\n",
       "DIPHENOXYLATE.ATROPINE             int64\n",
       "DIVALPROEX.SODIUM                  int64\n",
       "DIVALPROEX.SODIUM.ER               int64\n",
       "DONEPEZIL.HCL                      int64\n",
       "DORZOLAMIDE.TIMOLOL                int64\n",
       "DOXAZOSIN.MESYLATE                 int64\n",
       "DOXEPIN.HCL                        int64\n",
       "DOXYCYCLINE.HYCLATE                int64\n",
       "DULOXETINE.HCL                     int64\n",
       "ENALAPRIL.MALEATE                  int64\n",
       "ESCITALOPRAM.OXALATE               int64\n",
       "ESTRADIOL                          int64\n",
       "EXELON                             int64\n",
       "FAMOTIDINE                         int64\n",
       "FELODIPINE.ER                      int64\n",
       "FENOFIBRATE                        int64\n",
       "FENTANYL                           int64\n",
       "FINASTERIDE                        int64\n",
       "FLOVENT.HFA                        int64\n",
       "FLUCONAZOLE                        int64\n",
       "FLUOXETINE.HCL                     int64\n",
       "FLUTICASONE.PROPIONATE             int64\n",
       "FUROSEMIDE                         int64\n",
       "GABAPENTIN                         int64\n",
       "GEMFIBROZIL                        int64\n",
       "GLIMEPIRIDE                        int64\n",
       "GLIPIZIDE                          int64\n",
       "GLIPIZIDE.ER                       int64\n",
       "GLIPIZIDE.XL                       int64\n",
       "GLYBURIDE                          int64\n",
       "HALOPERIDOL                        int64\n",
       "HUMALOG                            int64\n",
       "HYDRALAZINE.HCL                    int64\n",
       "HYDROCHLOROTHIAZIDE                int64\n",
       "HYDROCODONE.ACETAMINOPHEN          int64\n",
       "HYDROCORTISONE                     int64\n",
       "HYDROMORPHONE.HCL                  int64\n",
       "HYDROXYZINE.HCL                    int64\n",
       "IBANDRONATE.SODIUM                 int64\n",
       "IBUPROFEN                          int64\n",
       "INSULIN.SYRINGE                    int64\n",
       "IPRATROPIUM.BROMIDE                int64\n",
       "IRBESARTAN                         int64\n",
       "ISOSORBIDE.MONONITRATE.ER          int64\n",
       "JANTOVEN                           int64\n",
       "JANUMET                            int64\n",
       "JANUVIA                            int64\n",
       "KETOCONAZOLE                       int64\n",
       "KLOR.CON.10                        int64\n",
       "KLOR.CON.M10                       int64\n",
       "KLOR.CON.M20                       int64\n",
       "LABETALOL.HCL                      int64\n",
       "LACTULOSE                          int64\n",
       "LAMOTRIGINE                        int64\n",
       "LANSOPRAZOLE                       int64\n",
       "LANTUS                             int64\n",
       "LANTUS.SOLOSTAR                    int64\n",
       "LATANOPROST                        int64\n",
       "LEVEMIR                            int64\n",
       "LEVEMIR.FLEXPEN                    int64\n",
       "LEVETIRACETAM                      int64\n",
       "LEVOFLOXACIN                       int64\n",
       "LEVOTHYROXINE.SODIUM               int64\n",
       "LIDOCAINE                          int64\n",
       "LISINOPRIL                         int64\n",
       "LISINOPRIL.HYDROCHLOROTHIAZIDE     int64\n",
       "LITHIUM.CARBONATE                  int64\n",
       "LORAZEPAM                          int64\n",
       "LOSARTAN.HYDROCHLOROTHIAZIDE       int64\n",
       "LOSARTAN.POTASSIUM                 int64\n",
       "LOVASTATIN                         int64\n",
       "LOVAZA                             int64\n",
       "LUMIGAN                            int64\n",
       "LYRICA                             int64\n",
       "MECLIZINE.HCL                      int64\n",
       "MELOXICAM                          int64\n",
       "METFORMIN.HCL                      int64\n",
       "METFORMIN.HCL.ER                   int64\n",
       "METHADONE.HCL                      int64\n",
       "METHOCARBAMOL                      int64\n",
       "METHOTREXATE                       int64\n",
       "METHYLPREDNISOLONE                 int64\n",
       "METOCLOPRAMIDE.HCL                 int64\n",
       "METOLAZONE                         int64\n",
       "METOPROLOL.SUCCINATE               int64\n",
       "METOPROLOL.TARTRATE                int64\n",
       "METRONIDAZOLE                      int64\n",
       "MIRTAZAPINE                        int64\n",
       "MONTELUKAST.SODIUM                 int64\n",
       "MORPHINE.SULFATE                   int64\n",
       "MORPHINE.SULFATE.ER                int64\n",
       "MUPIROCIN                          int64\n",
       "NABUMETONE                         int64\n",
       "NAMENDA                            int64\n",
       "NAMENDA.XR                         int64\n",
       "NAPROXEN                           int64\n",
       "NASONEX                            int64\n",
       "NEXIUM                             int64\n",
       "NIACIN.ER                          int64\n",
       "NIFEDICAL.XL                       int64\n",
       "NIFEDIPINE.ER                      int64\n",
       "NITROFURANTOIN.MONO.MACRO          int64\n",
       "NITROSTAT                          int64\n",
       "NORTRIPTYLINE.HCL                  int64\n",
       "NOVOLOG                            int64\n",
       "NOVOLOG.FLEXPEN                    int64\n",
       "NYSTATIN                           int64\n",
       "OLANZAPINE                         int64\n",
       "OMEPRAZOLE                         int64\n",
       "ONDANSETRON.HCL                    int64\n",
       "ONDANSETRON.ODT                    int64\n",
       "ONGLYZA                            int64\n",
       "OXCARBAZEPINE                      int64\n",
       "OXYBUTYNIN.CHLORIDE                int64\n",
       "OXYBUTYNIN.CHLORIDE.ER             int64\n",
       "OXYCODONE.ACETAMINOPHEN            int64\n",
       "OXYCODONE.HCL                      int64\n",
       "OXYCONTIN                          int64\n",
       "PANTOPRAZOLE.SODIUM                int64\n",
       "PAROXETINE.HCL                     int64\n",
       "PHENOBARBITAL                      int64\n",
       "PHENYTOIN.SODIUM.EXTENDED          int64\n",
       "PIOGLITAZONE.HCL                   int64\n",
       "POLYETHYLENE.GLYCOL.3350           int64\n",
       "POTASSIUM.CHLORIDE                 int64\n",
       "PRADAXA                            int64\n",
       "PRAMIPEXOLE.DIHYDROCHLORIDE        int64\n",
       "PRAVASTATIN.SODIUM                 int64\n",
       "PREDNISONE                         int64\n",
       "PREMARIN                           int64\n",
       "PRIMIDONE                          int64\n",
       "PROAIR.HFA                         int64\n",
       "PROMETHAZINE.HCL                   int64\n",
       "PROPRANOLOL.HCL                    int64\n",
       "PROPRANOLOL.HCL.ER                 int64\n",
       "QUETIAPINE.FUMARATE                int64\n",
       "QUINAPRIL.HCL                      int64\n",
       "RALOXIFENE.HCL                     int64\n",
       "RAMIPRIL                           int64\n",
       "RANEXA                             int64\n",
       "RANITIDINE.HCL                     int64\n",
       "RESTASIS                           int64\n",
       "RISPERIDONE                        int64\n",
       "ROPINIROLE.HCL                     int64\n",
       "SEROQUEL.XR                        int64\n",
       "SERTRALINE.HCL                     int64\n",
       "SIMVASTATIN                        int64\n",
       "SOTALOL                            int64\n",
       "SPIRIVA                            int64\n",
       "SPIRONOLACTONE                     int64\n",
       "SUCRALFATE                         int64\n",
       "SULFAMETHOXAZOLE.TRIMETHOPRIM      int64\n",
       "SUMATRIPTAN.SUCCINATE              int64\n",
       "SYMBICORT                          int64\n",
       "SYNTHROID                          int64\n",
       "TAMSULOSIN.HCL                     int64\n",
       "TEMAZEPAM                          int64\n",
       "TERAZOSIN.HCL                      int64\n",
       "TIMOLOL.MALEATE                    int64\n",
       "TIZANIDINE.HCL                     int64\n",
       "TOLTERODINE.TARTRATE.ER            int64\n",
       "TOPIRAMATE                         int64\n",
       "TOPROL.XL                          int64\n",
       "TORSEMIDE                          int64\n",
       "TRAMADOL.HCL                       int64\n",
       "TRAVATAN.Z                         int64\n",
       "TRAZODONE.HCL                      int64\n",
       "TRIAMCINOLONE.ACETONIDE            int64\n",
       "TRIAMTERENE.HYDROCHLOROTHIAZID     int64\n",
       "VALACYCLOVIR                       int64\n",
       "VALSARTAN                          int64\n",
       "VALSARTAN.HYDROCHLOROTHIAZIDE      int64\n",
       "VENLAFAXINE.HCL                    int64\n",
       "VENLAFAXINE.HCL.ER                 int64\n",
       "VENTOLIN.HFA                       int64\n",
       "VERAPAMIL.ER                       int64\n",
       "VESICARE                           int64\n",
       "VOLTAREN                           int64\n",
       "VYTORIN                            int64\n",
       "WARFARIN.SODIUM                    int64\n",
       "XARELTO                            int64\n",
       "ZETIA                              int64\n",
       "ZIPRASIDONE.HCL                    int64\n",
       "ZOLPIDEM.TARTRATE                  int64\n",
       "Opioid.Prescriber                  int64\n",
       "dtype: object"
      ]
     },
     "execution_count": 18,
     "metadata": {},
     "output_type": "execute_result"
    }
   ],
   "source": [
    "dfcopy.dtypes"
   ]
  },
  {
   "cell_type": "code",
   "execution_count": 19,
   "metadata": {
    "scrolled": false
   },
   "outputs": [
    {
     "data": {
      "text/plain": [
       "(24237, 256)"
      ]
     },
     "execution_count": 19,
     "metadata": {},
     "output_type": "execute_result"
    }
   ],
   "source": [
    "dfcopy.shape"
   ]
  },
  {
   "cell_type": "code",
   "execution_count": 20,
   "metadata": {
    "collapsed": true
   },
   "outputs": [],
   "source": [
    "dfcopy.drop(['Opioid.Prescriber'],axis=1,inplace=True)"
   ]
  },
  {
   "cell_type": "code",
   "execution_count": 21,
   "metadata": {
    "collapsed": true
   },
   "outputs": [],
   "source": [
    "catList= ['Gender', 'State', 'Credentials', 'Specialty']\n",
    "for i in catList:\n",
    "    dfcopy[i]=dfcopy[i].astype('category')"
   ]
  },
  {
   "cell_type": "code",
   "execution_count": 22,
   "metadata": {
    "scrolled": true
   },
   "outputs": [
    {
     "name": "stderr",
     "output_type": "stream",
     "text": [
      "C:\\Users\\brindhay\\AppData\\Local\\Continuum\\anaconda3\\lib\\site-packages\\lightgbm\\engine.py:113: UserWarning: Found `n_estimators` in params. Will use it instead of argument\n",
      "  warnings.warn(\"Found `{}` in params. Will use it instead of argument\".format(alias))\n",
      "C:\\Users\\brindhay\\AppData\\Local\\Continuum\\anaconda3\\lib\\site-packages\\lightgbm\\basic.py:1188: UserWarning: categorical_feature in Dataset is overridden.\n",
      "New categorical_feature is ['Credentials', 'Gender', 'Specialty', 'State']\n",
      "  'New categorical_feature is {}'.format(sorted(list(categorical_feature))))\n"
     ]
    },
    {
     "data": {
      "image/png": "[encoded data removed]",
      "text/plain": [
       "<matplotlib.figure.Figure at 0x12c7f3ca6a0>"
      ]
     },
     "metadata": {},
     "output_type": "display_data"
    }
   ],
   "source": [
    "\n",
    "d_train = lgb.Dataset(dfcopy, label = prescriber['Opioid.Prescriber'])\n",
    "params = {\"max_depth\":5, \"learning_rate\":0.1,\"num_leaves\":900,\"n_estimators\":100}\n",
    "model2 = lgb.train(params = params,train_set = d_train,categorical_feature = catList)\n",
    "ax = lgb.plot_importance(model2,max_num_features=256,figsize=(100,60))\n",
    "plt.show()\n"
   ]
  },
  {
   "cell_type": "code",
   "execution_count": 23,
   "metadata": {},
   "outputs": [
    {
     "data": {
      "text/plain": [
       "NPI                               0\n",
       "Gender                            0\n",
       "State                             0\n",
       "Credentials                       0\n",
       "Specialty                         0\n",
       "ABILIFY                           0\n",
       "ACETAMINOPHEN.CODEINE             0\n",
       "ACYCLOVIR                         0\n",
       "ADVAIR.DISKUS                     0\n",
       "AGGRENOX                          0\n",
       "ALENDRONATE.SODIUM                0\n",
       "ALLOPURINOL                       0\n",
       "ALPRAZOLAM                        0\n",
       "AMIODARONE.HCL                    0\n",
       "AMITRIPTYLINE.HCL                 0\n",
       "AMLODIPINE.BESYLATE               0\n",
       "AMLODIPINE.BESYLATE.BENAZEPRIL    0\n",
       "AMOXICILLIN                       0\n",
       "AMOX.TR.POTASSIUM.CLAVULANATE     0\n",
       "AMPHETAMINE.SALT.COMBO            0\n",
       "ATENOLOL                          0\n",
       "ATORVASTATIN.CALCIUM              0\n",
       "AVODART                           0\n",
       "AZITHROMYCIN                      0\n",
       "BACLOFEN                          0\n",
       "BD.ULTRA.FINE.PEN.NEEDLE          0\n",
       "BENAZEPRIL.HCL                    0\n",
       "BENICAR                           0\n",
       "BENICAR.HCT                       0\n",
       "BENZTROPINE.MESYLATE              0\n",
       "BISOPROLOL.HYDROCHLOROTHIAZIDE    0\n",
       "BRIMONIDINE.TARTRATE              0\n",
       "BUMETANIDE                        0\n",
       "BUPROPION.HCL.SR                  0\n",
       "BUPROPION.XL                      0\n",
       "BUSPIRONE.HCL                     0\n",
       "BYSTOLIC                          0\n",
       "CARBAMAZEPINE                     0\n",
       "CARBIDOPA.LEVODOPA                0\n",
       "CARISOPRODOL                      0\n",
       "CARTIA.XT                         0\n",
       "CARVEDILOL                        0\n",
       "CEFUROXIME                        0\n",
       "CELEBREX                          0\n",
       "CEPHALEXIN                        0\n",
       "CHLORHEXIDINE.GLUCONATE           0\n",
       "CHLORTHALIDONE                    0\n",
       "CILOSTAZOL                        0\n",
       "CIPROFLOXACIN.HCL                 0\n",
       "CITALOPRAM.HBR                    0\n",
       "CLINDAMYCIN.HCL                   0\n",
       "CLOBETASOL.PROPIONATE             0\n",
       "CLONAZEPAM                        0\n",
       "CLONIDINE.HCL                     0\n",
       "CLOPIDOGREL                       0\n",
       "CLOTRIMAZOLE.BETAMETHASONE        0\n",
       "COLCRYS                           0\n",
       "COMBIVENT.RESPIMAT                0\n",
       "CRESTOR                           0\n",
       "CYCLOBENZAPRINE.HCL               0\n",
       "DEXILANT                          0\n",
       "DIAZEPAM                          0\n",
       "DICLOFENAC.SODIUM                 0\n",
       "DICYCLOMINE.HCL                   0\n",
       "DIGOX                             0\n",
       "DIGOXIN                           0\n",
       "DILTIAZEM.24HR.CD                 0\n",
       "DILTIAZEM.24HR.ER                 0\n",
       "DILTIAZEM.ER                      0\n",
       "DILTIAZEM.HCL                     0\n",
       "DIOVAN                            0\n",
       "DIPHENOXYLATE.ATROPINE            0\n",
       "DIVALPROEX.SODIUM                 0\n",
       "DIVALPROEX.SODIUM.ER              0\n",
       "DONEPEZIL.HCL                     0\n",
       "DORZOLAMIDE.TIMOLOL               0\n",
       "DOXAZOSIN.MESYLATE                0\n",
       "DOXEPIN.HCL                       0\n",
       "DOXYCYCLINE.HYCLATE               0\n",
       "DULOXETINE.HCL                    0\n",
       "ENALAPRIL.MALEATE                 0\n",
       "ESCITALOPRAM.OXALATE              0\n",
       "ESTRADIOL                         0\n",
       "EXELON                            0\n",
       "FAMOTIDINE                        0\n",
       "FELODIPINE.ER                     0\n",
       "FENOFIBRATE                       0\n",
       "FENTANYL                          0\n",
       "FINASTERIDE                       0\n",
       "FLOVENT.HFA                       0\n",
       "FLUCONAZOLE                       0\n",
       "FLUOXETINE.HCL                    0\n",
       "FLUTICASONE.PROPIONATE            0\n",
       "FUROSEMIDE                        0\n",
       "GABAPENTIN                        0\n",
       "GEMFIBROZIL                       0\n",
       "GLIMEPIRIDE                       0\n",
       "GLIPIZIDE                         0\n",
       "GLIPIZIDE.ER                      0\n",
       "GLIPIZIDE.XL                      0\n",
       "GLYBURIDE                         0\n",
       "HALOPERIDOL                       0\n",
       "HUMALOG                           0\n",
       "HYDRALAZINE.HCL                   0\n",
       "HYDROCHLOROTHIAZIDE               0\n",
       "HYDROCODONE.ACETAMINOPHEN         0\n",
       "HYDROCORTISONE                    0\n",
       "HYDROMORPHONE.HCL                 0\n",
       "HYDROXYZINE.HCL                   0\n",
       "IBANDRONATE.SODIUM                0\n",
       "IBUPROFEN                         0\n",
       "INSULIN.SYRINGE                   0\n",
       "IPRATROPIUM.BROMIDE               0\n",
       "IRBESARTAN                        0\n",
       "ISOSORBIDE.MONONITRATE.ER         0\n",
       "JANTOVEN                          0\n",
       "JANUMET                           0\n",
       "JANUVIA                           0\n",
       "KETOCONAZOLE                      0\n",
       "KLOR.CON.10                       0\n",
       "KLOR.CON.M10                      0\n",
       "KLOR.CON.M20                      0\n",
       "LABETALOL.HCL                     0\n",
       "LACTULOSE                         0\n",
       "LAMOTRIGINE                       0\n",
       "LANSOPRAZOLE                      0\n",
       "LANTUS                            0\n",
       "LANTUS.SOLOSTAR                   0\n",
       "LATANOPROST                       0\n",
       "LEVEMIR                           0\n",
       "LEVEMIR.FLEXPEN                   0\n",
       "LEVETIRACETAM                     0\n",
       "LEVOFLOXACIN                      0\n",
       "LEVOTHYROXINE.SODIUM              0\n",
       "LIDOCAINE                         0\n",
       "LISINOPRIL                        0\n",
       "LISINOPRIL.HYDROCHLOROTHIAZIDE    0\n",
       "LITHIUM.CARBONATE                 0\n",
       "LORAZEPAM                         0\n",
       "LOSARTAN.HYDROCHLOROTHIAZIDE      0\n",
       "LOSARTAN.POTASSIUM                0\n",
       "LOVASTATIN                        0\n",
       "LOVAZA                            0\n",
       "LUMIGAN                           0\n",
       "LYRICA                            0\n",
       "MECLIZINE.HCL                     0\n",
       "MELOXICAM                         0\n",
       "METFORMIN.HCL                     0\n",
       "METFORMIN.HCL.ER                  0\n",
       "METHADONE.HCL                     0\n",
       "METHOCARBAMOL                     0\n",
       "METHOTREXATE                      0\n",
       "METHYLPREDNISOLONE                0\n",
       "METOCLOPRAMIDE.HCL                0\n",
       "METOLAZONE                        0\n",
       "METOPROLOL.SUCCINATE              0\n",
       "METOPROLOL.TARTRATE               0\n",
       "METRONIDAZOLE                     0\n",
       "MIRTAZAPINE                       0\n",
       "MONTELUKAST.SODIUM                0\n",
       "MORPHINE.SULFATE                  0\n",
       "MORPHINE.SULFATE.ER               0\n",
       "MUPIROCIN                         0\n",
       "NABUMETONE                        0\n",
       "NAMENDA                           0\n",
       "NAMENDA.XR                        0\n",
       "NAPROXEN                          0\n",
       "NASONEX                           0\n",
       "NEXIUM                            0\n",
       "NIACIN.ER                         0\n",
       "NIFEDICAL.XL                      0\n",
       "NIFEDIPINE.ER                     0\n",
       "NITROFURANTOIN.MONO.MACRO         0\n",
       "NITROSTAT                         0\n",
       "NORTRIPTYLINE.HCL                 0\n",
       "NOVOLOG                           0\n",
       "NOVOLOG.FLEXPEN                   0\n",
       "NYSTATIN                          0\n",
       "OLANZAPINE                        0\n",
       "OMEPRAZOLE                        0\n",
       "ONDANSETRON.HCL                   0\n",
       "ONDANSETRON.ODT                   0\n",
       "ONGLYZA                           0\n",
       "OXCARBAZEPINE                     0\n",
       "OXYBUTYNIN.CHLORIDE               0\n",
       "OXYBUTYNIN.CHLORIDE.ER            0\n",
       "OXYCODONE.ACETAMINOPHEN           0\n",
       "OXYCODONE.HCL                     0\n",
       "OXYCONTIN                         0\n",
       "PANTOPRAZOLE.SODIUM               0\n",
       "PAROXETINE.HCL                    0\n",
       "PHENOBARBITAL                     0\n",
       "PHENYTOIN.SODIUM.EXTENDED         0\n",
       "PIOGLITAZONE.HCL                  0\n",
       "POLYETHYLENE.GLYCOL.3350          0\n",
       "POTASSIUM.CHLORIDE                0\n",
       "PRADAXA                           0\n",
       "PRAMIPEXOLE.DIHYDROCHLORIDE       0\n",
       "PRAVASTATIN.SODIUM                0\n",
       "PREDNISONE                        0\n",
       "PREMARIN                          0\n",
       "PRIMIDONE                         0\n",
       "PROAIR.HFA                        0\n",
       "PROMETHAZINE.HCL                  0\n",
       "PROPRANOLOL.HCL                   0\n",
       "PROPRANOLOL.HCL.ER                0\n",
       "QUETIAPINE.FUMARATE               0\n",
       "QUINAPRIL.HCL                     0\n",
       "RALOXIFENE.HCL                    0\n",
       "RAMIPRIL                          0\n",
       "RANEXA                            0\n",
       "RANITIDINE.HCL                    0\n",
       "RESTASIS                          0\n",
       "RISPERIDONE                       0\n",
       "ROPINIROLE.HCL                    0\n",
       "SEROQUEL.XR                       0\n",
       "SERTRALINE.HCL                    0\n",
       "SIMVASTATIN                       0\n",
       "SOTALOL                           0\n",
       "SPIRIVA                           0\n",
       "SPIRONOLACTONE                    0\n",
       "SUCRALFATE                        0\n",
       "SULFAMETHOXAZOLE.TRIMETHOPRIM     0\n",
       "SUMATRIPTAN.SUCCINATE             0\n",
       "SYMBICORT                         0\n",
       "SYNTHROID                         0\n",
       "TAMSULOSIN.HCL                    0\n",
       "TEMAZEPAM                         0\n",
       "TERAZOSIN.HCL                     0\n",
       "TIMOLOL.MALEATE                   0\n",
       "TIZANIDINE.HCL                    0\n",
       "TOLTERODINE.TARTRATE.ER           0\n",
       "TOPIRAMATE                        0\n",
       "TOPROL.XL                         0\n",
       "TORSEMIDE                         0\n",
       "TRAMADOL.HCL                      0\n",
       "TRAVATAN.Z                        0\n",
       "TRAZODONE.HCL                     0\n",
       "TRIAMCINOLONE.ACETONIDE           0\n",
       "TRIAMTERENE.HYDROCHLOROTHIAZID    0\n",
       "VALACYCLOVIR                      0\n",
       "VALSARTAN                         0\n",
       "VALSARTAN.HYDROCHLOROTHIAZIDE     0\n",
       "VENLAFAXINE.HCL                   0\n",
       "VENLAFAXINE.HCL.ER                0\n",
       "VENTOLIN.HFA                      0\n",
       "VERAPAMIL.ER                      0\n",
       "VESICARE                          0\n",
       "VOLTAREN                          0\n",
       "VYTORIN                           0\n",
       "WARFARIN.SODIUM                   0\n",
       "XARELTO                           0\n",
       "ZETIA                             0\n",
       "ZIPRASIDONE.HCL                   0\n",
       "ZOLPIDEM.TARTRATE                 0\n",
       "Opioid.Prescriber                 0\n",
       "dtype: int64"
      ]
     },
     "execution_count": 23,
     "metadata": {},
     "output_type": "execute_result"
    }
   ],
   "source": [
    "prescriber.isnull().sum()"
   ]
  },
  {
   "cell_type": "code",
   "execution_count": 24,
   "metadata": {},
   "outputs": [
    {
     "data": {
      "text/plain": [
       "array([108,  14, 194,  62, 167,   1,  28,   1,   7,   0,   2,   4,  11,\n",
       "         2,   1,  12,   1,  39,   9,   2,   3,  10,   0,  12,   1,   4,\n",
       "         1,   0,   0,   8,   0,   0,   0,   0,   3,   0,   2,   3,   1,\n",
       "         0,   0,   9,   3,   1,  17,  26,   0,   0,  16,   3,  27,  20,\n",
       "         7,   2,   3,   0,   0,   2,   0,   0,   1,   8,   0,   0,   4,\n",
       "         2,   1,   0,   1,   3,   0,   0,   1,   0,   4,   0,   0,   1,\n",
       "         2,   2,   1,   0,   1,   1,   0,   0,   1,   0,   1,   0,   7,\n",
       "         7,  17,  40,  48,   1,   0,   0,   0,   0,   0,   1,   2,   1,\n",
       "        12, 204,   0,   0,   0,   0,  10,   3,   0,   0,   1,   0,   1,\n",
       "         1,   6,   0,   0,   0,   5,   0,  13,   4,   0,   0,   4,   2,\n",
       "         0,   2,  19,  30,   0,  17,   5,   8,   6,   2,   6,   0,   0,\n",
       "         0,   4,   0,   1,  12,   0,   5,   2,   1,   0,   0,   1,   6,\n",
       "        15,  17,   3,   3,   0,   2,   4,   0,   2,   0,   1,   0,   3,\n",
       "         0,   0,   2,   0,   2,   1,   0,   8,   0,   1,  34,   2,   0,\n",
       "         0,   3,   0,   0,  63,  26,   0,   9,   0,   5,   0,   2,   0,\n",
       "         0,   3,   2,   6,  28,   9,   4,   3,   1,   1,   0,   1,   0,\n",
       "         0,   2,   1,   6,   0,   3,   1,   1,   4,  15,   5,   6,   2,\n",
       "         0,   8,   5,   6,   2,   6,   1,   1,   0,   0,   0,   2,   5,\n",
       "         0,  96,   2,   5,   9,   2,  11,   0,   0,   0,   1,   2,   0,\n",
       "         4,   0,   0,   3,   1,   0,   3,  10])"
      ]
     },
     "execution_count": 24,
     "metadata": {},
     "output_type": "execute_result"
    }
   ],
   "source": [
    "model2.feature_importance()"
   ]
  },
  {
   "cell_type": "markdown",
   "metadata": {},
   "source": [
    "The features ranked above 28 are considered for the model"
   ]
  },
  {
   "cell_type": "code",
   "execution_count": 25,
   "metadata": {
    "scrolled": true
   },
   "outputs": [
    {
     "data": {
      "text/html": [
       "<div>\n",
       "<style scoped>\n",
       "    .dataframe tbody tr th:only-of-type {\n",
       "        vertical-align: middle;\n",
       "    }\n",
       "\n",
       "    .dataframe tbody tr th {\n",
       "        vertical-align: top;\n",
       "    }\n",
       "\n",
       "    .dataframe thead th {\n",
       "        text-align: right;\n",
       "    }\n",
       "</style>\n",
       "<table border=\"1\" class=\"dataframe\">\n",
       "  <thead>\n",
       "    <tr style=\"text-align: right;\">\n",
       "      <th></th>\n",
       "      <th>NPI</th>\n",
       "      <th>State</th>\n",
       "      <th>Credentials</th>\n",
       "      <th>Specialty</th>\n",
       "      <th>ACETAMINOPHEN.CODEINE</th>\n",
       "      <th>AMOXICILLIN</th>\n",
       "      <th>FUROSEMIDE</th>\n",
       "      <th>GABAPENTIN</th>\n",
       "      <th>HYDROCODONE.ACETAMINOPHEN</th>\n",
       "      <th>LEVOTHYROXINE.SODIUM</th>\n",
       "      <th>OMEPRAZOLE</th>\n",
       "      <th>OXYCODONE.ACETAMINOPHEN</th>\n",
       "      <th>PREDNISONE</th>\n",
       "      <th>TRAMADOL.HCL</th>\n",
       "    </tr>\n",
       "  </thead>\n",
       "  <tbody>\n",
       "    <tr>\n",
       "      <th>0</th>\n",
       "      <td>1710982582</td>\n",
       "      <td>TX</td>\n",
       "      <td>DDS</td>\n",
       "      <td>Dentist</td>\n",
       "      <td>0</td>\n",
       "      <td>0</td>\n",
       "      <td>0</td>\n",
       "      <td>0</td>\n",
       "      <td>17</td>\n",
       "      <td>0</td>\n",
       "      <td>0</td>\n",
       "      <td>0</td>\n",
       "      <td>0</td>\n",
       "      <td>0</td>\n",
       "    </tr>\n",
       "    <tr>\n",
       "      <th>1</th>\n",
       "      <td>1245278100</td>\n",
       "      <td>AL</td>\n",
       "      <td>MD</td>\n",
       "      <td>General Surgery</td>\n",
       "      <td>0</td>\n",
       "      <td>0</td>\n",
       "      <td>0</td>\n",
       "      <td>63</td>\n",
       "      <td>182</td>\n",
       "      <td>31</td>\n",
       "      <td>85</td>\n",
       "      <td>33</td>\n",
       "      <td>0</td>\n",
       "      <td>36</td>\n",
       "    </tr>\n",
       "    <tr>\n",
       "      <th>2</th>\n",
       "      <td>1427182161</td>\n",
       "      <td>NY</td>\n",
       "      <td>M.D.</td>\n",
       "      <td>General Practice</td>\n",
       "      <td>0</td>\n",
       "      <td>0</td>\n",
       "      <td>0</td>\n",
       "      <td>0</td>\n",
       "      <td>0</td>\n",
       "      <td>0</td>\n",
       "      <td>0</td>\n",
       "      <td>0</td>\n",
       "      <td>0</td>\n",
       "      <td>0</td>\n",
       "    </tr>\n",
       "    <tr>\n",
       "      <th>3</th>\n",
       "      <td>1669567541</td>\n",
       "      <td>AZ</td>\n",
       "      <td>MD</td>\n",
       "      <td>Internal Medicine</td>\n",
       "      <td>43</td>\n",
       "      <td>0</td>\n",
       "      <td>48</td>\n",
       "      <td>81</td>\n",
       "      <td>0</td>\n",
       "      <td>0</td>\n",
       "      <td>52</td>\n",
       "      <td>229</td>\n",
       "      <td>13</td>\n",
       "      <td>90</td>\n",
       "    </tr>\n",
       "    <tr>\n",
       "      <th>4</th>\n",
       "      <td>1679650949</td>\n",
       "      <td>NV</td>\n",
       "      <td>M.D.</td>\n",
       "      <td>Hematology/Oncology</td>\n",
       "      <td>0</td>\n",
       "      <td>0</td>\n",
       "      <td>0</td>\n",
       "      <td>0</td>\n",
       "      <td>22</td>\n",
       "      <td>0</td>\n",
       "      <td>0</td>\n",
       "      <td>0</td>\n",
       "      <td>0</td>\n",
       "      <td>0</td>\n",
       "    </tr>\n",
       "  </tbody>\n",
       "</table>\n",
       "</div>"
      ],
      "text/plain": [
       "          NPI State Credentials            Specialty  ACETAMINOPHEN.CODEINE  \\\n",
       "0  1710982582    TX         DDS              Dentist                      0   \n",
       "1  1245278100    AL          MD      General Surgery                      0   \n",
       "2  1427182161    NY        M.D.     General Practice                      0   \n",
       "3  1669567541    AZ          MD    Internal Medicine                     43   \n",
       "4  1679650949    NV        M.D.  Hematology/Oncology                      0   \n",
       "\n",
       "   AMOXICILLIN  FUROSEMIDE  GABAPENTIN  HYDROCODONE.ACETAMINOPHEN  \\\n",
       "0            0           0           0                         17   \n",
       "1            0           0          63                        182   \n",
       "2            0           0           0                          0   \n",
       "3            0          48          81                          0   \n",
       "4            0           0           0                         22   \n",
       "\n",
       "   LEVOTHYROXINE.SODIUM  OMEPRAZOLE  OXYCODONE.ACETAMINOPHEN  PREDNISONE  \\\n",
       "0                     0           0                        0           0   \n",
       "1                    31          85                       33           0   \n",
       "2                     0           0                        0           0   \n",
       "3                     0          52                      229          13   \n",
       "4                     0           0                        0           0   \n",
       "\n",
       "   TRAMADOL.HCL  \n",
       "0             0  \n",
       "1            36  \n",
       "2             0  \n",
       "3            90  \n",
       "4             0  "
      ]
     },
     "execution_count": 25,
     "metadata": {},
     "output_type": "execute_result"
    }
   ],
   "source": [
    "feature = list(model2.feature_importance())\n",
    "effe_cols = []\n",
    "for i in feature:\n",
    "    if i >= 28:\n",
    "        effe_cols.append(model2.feature_name()[feature.index(i)])\n",
    "        feature[feature.index(i)]=0\n",
    "prescrib = prescriber[effe_cols]\n",
    "prescrib.head()"
   ]
  },
  {
   "cell_type": "code",
   "execution_count": 26,
   "metadata": {},
   "outputs": [
    {
     "data": {
      "text/plain": [
       "array(['TX', 'AL', 'NY', 'AZ', 'NV', 'PA', 'NH', 'WI', 'PR', 'CO', 'OH',\n",
       "       'MA', 'FL', 'MN', 'UT', 'IA', 'IL', 'CT', 'MT', 'IN', 'VA', 'CA',\n",
       "       'OR', 'NE', 'MI', 'NM', 'TN', 'KS', 'LA', 'MD', 'MO', 'AR', 'NC',\n",
       "       'NJ', 'SC', 'WY', 'ME', 'OK', 'ND', 'KY', 'GA', 'DE', 'WA', 'RI',\n",
       "       'WV', 'AK', 'ID', 'VT', 'HI', 'MS', 'DC', 'SD', 'AE', 'ZZ', 'GU',\n",
       "       'AA', 'VI'], dtype=object)"
      ]
     },
     "execution_count": 26,
     "metadata": {},
     "output_type": "execute_result"
    }
   ],
   "source": [
    "prescrib['State'].unique()"
   ]
  },
  {
   "cell_type": "code",
   "execution_count": 27,
   "metadata": {},
   "outputs": [
    {
     "data": {
      "text/plain": [
       "887"
      ]
     },
     "execution_count": 27,
     "metadata": {},
     "output_type": "execute_result"
    }
   ],
   "source": [
    "len(prescrib['Credentials'].unique())"
   ]
  },
  {
   "cell_type": "code",
   "execution_count": 28,
   "metadata": {},
   "outputs": [
    {
     "data": {
      "text/plain": [
       "108"
      ]
     },
     "execution_count": 28,
     "metadata": {},
     "output_type": "execute_result"
    }
   ],
   "source": [
    "len(prescrib['Specialty'].unique())"
   ]
  },
  {
   "cell_type": "code",
   "execution_count": 29,
   "metadata": {
    "collapsed": true,
    "scrolled": false
   },
   "outputs": [],
   "source": [
    "del prescrib['NPI']\n"
   ]
  },
  {
   "cell_type": "code",
   "execution_count": 30,
   "metadata": {
    "scrolled": true
   },
   "outputs": [
    {
     "data": {
      "text/plain": [
       "Index(['State', 'Credentials', 'Specialty', 'ACETAMINOPHEN.CODEINE',\n",
       "       'AMOXICILLIN', 'FUROSEMIDE', 'GABAPENTIN', 'HYDROCODONE.ACETAMINOPHEN',\n",
       "       'LEVOTHYROXINE.SODIUM', 'OMEPRAZOLE', 'OXYCODONE.ACETAMINOPHEN',\n",
       "       'PREDNISONE', 'TRAMADOL.HCL'],\n",
       "      dtype='object')"
      ]
     },
     "execution_count": 30,
     "metadata": {},
     "output_type": "execute_result"
    }
   ],
   "source": [
    "prescrib.columns"
   ]
  },
  {
   "cell_type": "code",
   "execution_count": 31,
   "metadata": {
    "collapsed": true
   },
   "outputs": [],
   "source": [
    "categorical=pd.read_csv('categorical.csv')"
   ]
  },
  {
   "cell_type": "code",
   "execution_count": 32,
   "metadata": {},
   "outputs": [
    {
     "data": {
      "text/html": [
       "<div>\n",
       "<style scoped>\n",
       "    .dataframe tbody tr th:only-of-type {\n",
       "        vertical-align: middle;\n",
       "    }\n",
       "\n",
       "    .dataframe tbody tr th {\n",
       "        vertical-align: top;\n",
       "    }\n",
       "\n",
       "    .dataframe thead th {\n",
       "        text-align: right;\n",
       "    }\n",
       "</style>\n",
       "<table border=\"1\" class=\"dataframe\">\n",
       "  <thead>\n",
       "    <tr style=\"text-align: right;\">\n",
       "      <th></th>\n",
       "      <th>State</th>\n",
       "      <th>Credentials</th>\n",
       "      <th>Specialty</th>\n",
       "      <th>state1</th>\n",
       "      <th>Credentials1</th>\n",
       "      <th>Specialty1</th>\n",
       "    </tr>\n",
       "  </thead>\n",
       "  <tbody>\n",
       "    <tr>\n",
       "      <th>0</th>\n",
       "      <td>TX</td>\n",
       "      <td>DDS</td>\n",
       "      <td>Dentist</td>\n",
       "      <td>47</td>\n",
       "      <td>242</td>\n",
       "      <td>18</td>\n",
       "    </tr>\n",
       "    <tr>\n",
       "      <th>1</th>\n",
       "      <td>AL</td>\n",
       "      <td>MD</td>\n",
       "      <td>General Surgery</td>\n",
       "      <td>3</td>\n",
       "      <td>505</td>\n",
       "      <td>28</td>\n",
       "    </tr>\n",
       "    <tr>\n",
       "      <th>2</th>\n",
       "      <td>NY</td>\n",
       "      <td>M.D.</td>\n",
       "      <td>General Practice</td>\n",
       "      <td>37</td>\n",
       "      <td>401</td>\n",
       "      <td>27</td>\n",
       "    </tr>\n",
       "    <tr>\n",
       "      <th>3</th>\n",
       "      <td>AZ</td>\n",
       "      <td>MD</td>\n",
       "      <td>Internal Medicine</td>\n",
       "      <td>5</td>\n",
       "      <td>505</td>\n",
       "      <td>41</td>\n",
       "    </tr>\n",
       "    <tr>\n",
       "      <th>4</th>\n",
       "      <td>NV</td>\n",
       "      <td>M.D.</td>\n",
       "      <td>Hematology/Oncology</td>\n",
       "      <td>36</td>\n",
       "      <td>401</td>\n",
       "      <td>35</td>\n",
       "    </tr>\n",
       "  </tbody>\n",
       "</table>\n",
       "</div>"
      ],
      "text/plain": [
       "  State Credentials            Specialty  state1  Credentials1  Specialty1\n",
       "0    TX         DDS              Dentist      47           242          18\n",
       "1    AL          MD      General Surgery       3           505          28\n",
       "2    NY        M.D.     General Practice      37           401          27\n",
       "3    AZ          MD    Internal Medicine       5           505          41\n",
       "4    NV        M.D.  Hematology/Oncology      36           401          35"
      ]
     },
     "execution_count": 32,
     "metadata": {},
     "output_type": "execute_result"
    }
   ],
   "source": [
    "categorical.head()"
   ]
  },
  {
   "cell_type": "markdown",
   "metadata": {},
   "source": [
    "# Label Encoding"
   ]
  },
  {
   "cell_type": "code",
   "execution_count": 33,
   "metadata": {
    "collapsed": true
   },
   "outputs": [],
   "source": [
    "lb = LabelEncoder()"
   ]
  },
  {
   "cell_type": "code",
   "execution_count": 34,
   "metadata": {
    "collapsed": true
   },
   "outputs": [],
   "source": [
    "pres_copy = prescrib.copy()"
   ]
  },
  {
   "cell_type": "code",
   "execution_count": 35,
   "metadata": {},
   "outputs": [
    {
     "data": {
      "text/html": [
       "<div>\n",
       "<style scoped>\n",
       "    .dataframe tbody tr th:only-of-type {\n",
       "        vertical-align: middle;\n",
       "    }\n",
       "\n",
       "    .dataframe tbody tr th {\n",
       "        vertical-align: top;\n",
       "    }\n",
       "\n",
       "    .dataframe thead th {\n",
       "        text-align: right;\n",
       "    }\n",
       "</style>\n",
       "<table border=\"1\" class=\"dataframe\">\n",
       "  <thead>\n",
       "    <tr style=\"text-align: right;\">\n",
       "      <th></th>\n",
       "      <th>State</th>\n",
       "      <th>Credentials</th>\n",
       "      <th>Specialty</th>\n",
       "      <th>ACETAMINOPHEN.CODEINE</th>\n",
       "      <th>AMOXICILLIN</th>\n",
       "      <th>FUROSEMIDE</th>\n",
       "      <th>GABAPENTIN</th>\n",
       "      <th>HYDROCODONE.ACETAMINOPHEN</th>\n",
       "      <th>LEVOTHYROXINE.SODIUM</th>\n",
       "      <th>OMEPRAZOLE</th>\n",
       "      <th>OXYCODONE.ACETAMINOPHEN</th>\n",
       "      <th>PREDNISONE</th>\n",
       "      <th>TRAMADOL.HCL</th>\n",
       "    </tr>\n",
       "  </thead>\n",
       "  <tbody>\n",
       "    <tr>\n",
       "      <th>0</th>\n",
       "      <td>TX</td>\n",
       "      <td>DDS</td>\n",
       "      <td>Dentist</td>\n",
       "      <td>0</td>\n",
       "      <td>0</td>\n",
       "      <td>0</td>\n",
       "      <td>0</td>\n",
       "      <td>17</td>\n",
       "      <td>0</td>\n",
       "      <td>0</td>\n",
       "      <td>0</td>\n",
       "      <td>0</td>\n",
       "      <td>0</td>\n",
       "    </tr>\n",
       "    <tr>\n",
       "      <th>1</th>\n",
       "      <td>AL</td>\n",
       "      <td>MD</td>\n",
       "      <td>General Surgery</td>\n",
       "      <td>0</td>\n",
       "      <td>0</td>\n",
       "      <td>0</td>\n",
       "      <td>63</td>\n",
       "      <td>182</td>\n",
       "      <td>31</td>\n",
       "      <td>85</td>\n",
       "      <td>33</td>\n",
       "      <td>0</td>\n",
       "      <td>36</td>\n",
       "    </tr>\n",
       "    <tr>\n",
       "      <th>2</th>\n",
       "      <td>NY</td>\n",
       "      <td>M.D.</td>\n",
       "      <td>General Practice</td>\n",
       "      <td>0</td>\n",
       "      <td>0</td>\n",
       "      <td>0</td>\n",
       "      <td>0</td>\n",
       "      <td>0</td>\n",
       "      <td>0</td>\n",
       "      <td>0</td>\n",
       "      <td>0</td>\n",
       "      <td>0</td>\n",
       "      <td>0</td>\n",
       "    </tr>\n",
       "    <tr>\n",
       "      <th>3</th>\n",
       "      <td>AZ</td>\n",
       "      <td>MD</td>\n",
       "      <td>Internal Medicine</td>\n",
       "      <td>43</td>\n",
       "      <td>0</td>\n",
       "      <td>48</td>\n",
       "      <td>81</td>\n",
       "      <td>0</td>\n",
       "      <td>0</td>\n",
       "      <td>52</td>\n",
       "      <td>229</td>\n",
       "      <td>13</td>\n",
       "      <td>90</td>\n",
       "    </tr>\n",
       "    <tr>\n",
       "      <th>4</th>\n",
       "      <td>NV</td>\n",
       "      <td>M.D.</td>\n",
       "      <td>Hematology/Oncology</td>\n",
       "      <td>0</td>\n",
       "      <td>0</td>\n",
       "      <td>0</td>\n",
       "      <td>0</td>\n",
       "      <td>22</td>\n",
       "      <td>0</td>\n",
       "      <td>0</td>\n",
       "      <td>0</td>\n",
       "      <td>0</td>\n",
       "      <td>0</td>\n",
       "    </tr>\n",
       "  </tbody>\n",
       "</table>\n",
       "</div>"
      ],
      "text/plain": [
       "  State Credentials            Specialty  ACETAMINOPHEN.CODEINE  AMOXICILLIN  \\\n",
       "0    TX         DDS              Dentist                      0            0   \n",
       "1    AL          MD      General Surgery                      0            0   \n",
       "2    NY        M.D.     General Practice                      0            0   \n",
       "3    AZ          MD    Internal Medicine                     43            0   \n",
       "4    NV        M.D.  Hematology/Oncology                      0            0   \n",
       "\n",
       "   FUROSEMIDE  GABAPENTIN  HYDROCODONE.ACETAMINOPHEN  LEVOTHYROXINE.SODIUM  \\\n",
       "0           0           0                         17                     0   \n",
       "1           0          63                        182                    31   \n",
       "2           0           0                          0                     0   \n",
       "3          48          81                          0                     0   \n",
       "4           0           0                         22                     0   \n",
       "\n",
       "   OMEPRAZOLE  OXYCODONE.ACETAMINOPHEN  PREDNISONE  TRAMADOL.HCL  \n",
       "0           0                        0           0             0  \n",
       "1          85                       33           0            36  \n",
       "2           0                        0           0             0  \n",
       "3          52                      229          13            90  \n",
       "4           0                        0           0             0  "
      ]
     },
     "execution_count": 35,
     "metadata": {},
     "output_type": "execute_result"
    }
   ],
   "source": [
    "pres_copy.head()"
   ]
  },
  {
   "cell_type": "code",
   "execution_count": 36,
   "metadata": {
    "collapsed": true
   },
   "outputs": [],
   "source": [
    "pres_copy.iloc[:,0]=lb.fit_transform(pres_copy.iloc[:,1])"
   ]
  },
  {
   "cell_type": "code",
   "execution_count": 37,
   "metadata": {
    "collapsed": true
   },
   "outputs": [],
   "source": [
    "pres_copy.iloc[:,1]=lb.fit_transform(pres_copy.iloc[:,2].astype(str))"
   ]
  },
  {
   "cell_type": "code",
   "execution_count": 38,
   "metadata": {
    "collapsed": true
   },
   "outputs": [],
   "source": [
    "pres_copy.iloc[:,2]=lb.fit_transform(pres_copy.iloc[:,3])"
   ]
  },
  {
   "cell_type": "code",
   "execution_count": 39,
   "metadata": {
    "scrolled": true
   },
   "outputs": [
    {
     "data": {
      "text/html": [
       "<div>\n",
       "<style scoped>\n",
       "    .dataframe tbody tr th:only-of-type {\n",
       "        vertical-align: middle;\n",
       "    }\n",
       "\n",
       "    .dataframe tbody tr th {\n",
       "        vertical-align: top;\n",
       "    }\n",
       "\n",
       "    .dataframe thead th {\n",
       "        text-align: right;\n",
       "    }\n",
       "</style>\n",
       "<table border=\"1\" class=\"dataframe\">\n",
       "  <thead>\n",
       "    <tr style=\"text-align: right;\">\n",
       "      <th></th>\n",
       "      <th>State</th>\n",
       "      <th>Credentials</th>\n",
       "      <th>Specialty</th>\n",
       "      <th>ACETAMINOPHEN.CODEINE</th>\n",
       "      <th>AMOXICILLIN</th>\n",
       "      <th>FUROSEMIDE</th>\n",
       "      <th>GABAPENTIN</th>\n",
       "      <th>HYDROCODONE.ACETAMINOPHEN</th>\n",
       "      <th>LEVOTHYROXINE.SODIUM</th>\n",
       "      <th>OMEPRAZOLE</th>\n",
       "      <th>OXYCODONE.ACETAMINOPHEN</th>\n",
       "      <th>PREDNISONE</th>\n",
       "      <th>TRAMADOL.HCL</th>\n",
       "    </tr>\n",
       "  </thead>\n",
       "  <tbody>\n",
       "    <tr>\n",
       "      <th>0</th>\n",
       "      <td>242</td>\n",
       "      <td>18</td>\n",
       "      <td>0</td>\n",
       "      <td>0</td>\n",
       "      <td>0</td>\n",
       "      <td>0</td>\n",
       "      <td>0</td>\n",
       "      <td>17</td>\n",
       "      <td>0</td>\n",
       "      <td>0</td>\n",
       "      <td>0</td>\n",
       "      <td>0</td>\n",
       "      <td>0</td>\n",
       "    </tr>\n",
       "    <tr>\n",
       "      <th>1</th>\n",
       "      <td>505</td>\n",
       "      <td>28</td>\n",
       "      <td>0</td>\n",
       "      <td>0</td>\n",
       "      <td>0</td>\n",
       "      <td>0</td>\n",
       "      <td>63</td>\n",
       "      <td>182</td>\n",
       "      <td>31</td>\n",
       "      <td>85</td>\n",
       "      <td>33</td>\n",
       "      <td>0</td>\n",
       "      <td>36</td>\n",
       "    </tr>\n",
       "    <tr>\n",
       "      <th>2</th>\n",
       "      <td>401</td>\n",
       "      <td>27</td>\n",
       "      <td>0</td>\n",
       "      <td>0</td>\n",
       "      <td>0</td>\n",
       "      <td>0</td>\n",
       "      <td>0</td>\n",
       "      <td>0</td>\n",
       "      <td>0</td>\n",
       "      <td>0</td>\n",
       "      <td>0</td>\n",
       "      <td>0</td>\n",
       "      <td>0</td>\n",
       "    </tr>\n",
       "    <tr>\n",
       "      <th>3</th>\n",
       "      <td>505</td>\n",
       "      <td>41</td>\n",
       "      <td>33</td>\n",
       "      <td>43</td>\n",
       "      <td>0</td>\n",
       "      <td>48</td>\n",
       "      <td>81</td>\n",
       "      <td>0</td>\n",
       "      <td>0</td>\n",
       "      <td>52</td>\n",
       "      <td>229</td>\n",
       "      <td>13</td>\n",
       "      <td>90</td>\n",
       "    </tr>\n",
       "    <tr>\n",
       "      <th>4</th>\n",
       "      <td>401</td>\n",
       "      <td>35</td>\n",
       "      <td>0</td>\n",
       "      <td>0</td>\n",
       "      <td>0</td>\n",
       "      <td>0</td>\n",
       "      <td>0</td>\n",
       "      <td>22</td>\n",
       "      <td>0</td>\n",
       "      <td>0</td>\n",
       "      <td>0</td>\n",
       "      <td>0</td>\n",
       "      <td>0</td>\n",
       "    </tr>\n",
       "    <tr>\n",
       "      <th>5</th>\n",
       "      <td>312</td>\n",
       "      <td>28</td>\n",
       "      <td>0</td>\n",
       "      <td>0</td>\n",
       "      <td>0</td>\n",
       "      <td>0</td>\n",
       "      <td>0</td>\n",
       "      <td>0</td>\n",
       "      <td>0</td>\n",
       "      <td>0</td>\n",
       "      <td>25</td>\n",
       "      <td>0</td>\n",
       "      <td>0</td>\n",
       "    </tr>\n",
       "    <tr>\n",
       "      <th>6</th>\n",
       "      <td>505</td>\n",
       "      <td>24</td>\n",
       "      <td>0</td>\n",
       "      <td>0</td>\n",
       "      <td>0</td>\n",
       "      <td>27</td>\n",
       "      <td>15</td>\n",
       "      <td>24</td>\n",
       "      <td>122</td>\n",
       "      <td>106</td>\n",
       "      <td>30</td>\n",
       "      <td>37</td>\n",
       "      <td>15</td>\n",
       "    </tr>\n",
       "    <tr>\n",
       "      <th>7</th>\n",
       "      <td>835</td>\n",
       "      <td>62</td>\n",
       "      <td>0</td>\n",
       "      <td>0</td>\n",
       "      <td>0</td>\n",
       "      <td>0</td>\n",
       "      <td>0</td>\n",
       "      <td>0</td>\n",
       "      <td>0</td>\n",
       "      <td>14</td>\n",
       "      <td>0</td>\n",
       "      <td>0</td>\n",
       "      <td>0</td>\n",
       "    </tr>\n",
       "    <tr>\n",
       "      <th>8</th>\n",
       "      <td>695</td>\n",
       "      <td>65</td>\n",
       "      <td>0</td>\n",
       "      <td>0</td>\n",
       "      <td>0</td>\n",
       "      <td>0</td>\n",
       "      <td>0</td>\n",
       "      <td>0</td>\n",
       "      <td>0</td>\n",
       "      <td>0</td>\n",
       "      <td>0</td>\n",
       "      <td>0</td>\n",
       "      <td>0</td>\n",
       "    </tr>\n",
       "    <tr>\n",
       "      <th>9</th>\n",
       "      <td>505</td>\n",
       "      <td>41</td>\n",
       "      <td>0</td>\n",
       "      <td>0</td>\n",
       "      <td>0</td>\n",
       "      <td>72</td>\n",
       "      <td>47</td>\n",
       "      <td>0</td>\n",
       "      <td>153</td>\n",
       "      <td>185</td>\n",
       "      <td>0</td>\n",
       "      <td>19</td>\n",
       "      <td>28</td>\n",
       "    </tr>\n",
       "  </tbody>\n",
       "</table>\n",
       "</div>"
      ],
      "text/plain": [
       "   State  Credentials  Specialty  ACETAMINOPHEN.CODEINE  AMOXICILLIN  \\\n",
       "0    242           18          0                      0            0   \n",
       "1    505           28          0                      0            0   \n",
       "2    401           27          0                      0            0   \n",
       "3    505           41         33                     43            0   \n",
       "4    401           35          0                      0            0   \n",
       "5    312           28          0                      0            0   \n",
       "6    505           24          0                      0            0   \n",
       "7    835           62          0                      0            0   \n",
       "8    695           65          0                      0            0   \n",
       "9    505           41          0                      0            0   \n",
       "\n",
       "   FUROSEMIDE  GABAPENTIN  HYDROCODONE.ACETAMINOPHEN  LEVOTHYROXINE.SODIUM  \\\n",
       "0           0           0                         17                     0   \n",
       "1           0          63                        182                    31   \n",
       "2           0           0                          0                     0   \n",
       "3          48          81                          0                     0   \n",
       "4           0           0                         22                     0   \n",
       "5           0           0                          0                     0   \n",
       "6          27          15                         24                   122   \n",
       "7           0           0                          0                     0   \n",
       "8           0           0                          0                     0   \n",
       "9          72          47                          0                   153   \n",
       "\n",
       "   OMEPRAZOLE  OXYCODONE.ACETAMINOPHEN  PREDNISONE  TRAMADOL.HCL  \n",
       "0           0                        0           0             0  \n",
       "1          85                       33           0            36  \n",
       "2           0                        0           0             0  \n",
       "3          52                      229          13            90  \n",
       "4           0                        0           0             0  \n",
       "5           0                       25           0             0  \n",
       "6         106                       30          37            15  \n",
       "7          14                        0           0             0  \n",
       "8           0                        0           0             0  \n",
       "9         185                        0          19            28  "
      ]
     },
     "execution_count": 39,
     "metadata": {},
     "output_type": "execute_result"
    }
   ],
   "source": [
    "pres_copy.head(10)"
   ]
  },
  {
   "cell_type": "code",
   "execution_count": 40,
   "metadata": {
    "collapsed": true
   },
   "outputs": [],
   "source": [
    "pres_copy['Opioid.Prescriber']=prescriber['Opioid.Prescriber']"
   ]
  },
  {
   "cell_type": "code",
   "execution_count": 41,
   "metadata": {},
   "outputs": [
    {
     "data": {
      "text/plain": [
       "State                        0\n",
       "Credentials                  0\n",
       "Specialty                    0\n",
       "ACETAMINOPHEN.CODEINE        0\n",
       "AMOXICILLIN                  0\n",
       "FUROSEMIDE                   0\n",
       "GABAPENTIN                   0\n",
       "HYDROCODONE.ACETAMINOPHEN    0\n",
       "LEVOTHYROXINE.SODIUM         0\n",
       "OMEPRAZOLE                   0\n",
       "OXYCODONE.ACETAMINOPHEN      0\n",
       "PREDNISONE                   0\n",
       "TRAMADOL.HCL                 0\n",
       "Opioid.Prescriber            0\n",
       "dtype: int64"
      ]
     },
     "execution_count": 41,
     "metadata": {},
     "output_type": "execute_result"
    }
   ],
   "source": [
    "pres_copy.isnull().sum()"
   ]
  },
  {
   "cell_type": "code",
   "execution_count": 42,
   "metadata": {
    "collapsed": true
   },
   "outputs": [],
   "source": [
    "del pres_copy['Opioid.Prescriber']"
   ]
  },
  {
   "cell_type": "code",
   "execution_count": 43,
   "metadata": {},
   "outputs": [
    {
     "data": {
      "text/plain": [
       "State                        int64\n",
       "Credentials                  int64\n",
       "Specialty                    int64\n",
       "ACETAMINOPHEN.CODEINE        int64\n",
       "AMOXICILLIN                  int64\n",
       "FUROSEMIDE                   int64\n",
       "GABAPENTIN                   int64\n",
       "HYDROCODONE.ACETAMINOPHEN    int64\n",
       "LEVOTHYROXINE.SODIUM         int64\n",
       "OMEPRAZOLE                   int64\n",
       "OXYCODONE.ACETAMINOPHEN      int64\n",
       "PREDNISONE                   int64\n",
       "TRAMADOL.HCL                 int64\n",
       "dtype: object"
      ]
     },
     "execution_count": 43,
     "metadata": {},
     "output_type": "execute_result"
    }
   ],
   "source": [
    "pres_copy.dtypes"
   ]
  },
  {
   "cell_type": "code",
   "execution_count": 44,
   "metadata": {},
   "outputs": [
    {
     "data": {
      "text/html": [
       "<div>\n",
       "<style scoped>\n",
       "    .dataframe tbody tr th:only-of-type {\n",
       "        vertical-align: middle;\n",
       "    }\n",
       "\n",
       "    .dataframe tbody tr th {\n",
       "        vertical-align: top;\n",
       "    }\n",
       "\n",
       "    .dataframe thead th {\n",
       "        text-align: right;\n",
       "    }\n",
       "</style>\n",
       "<table border=\"1\" class=\"dataframe\">\n",
       "  <thead>\n",
       "    <tr style=\"text-align: right;\">\n",
       "      <th></th>\n",
       "      <th>State</th>\n",
       "      <th>Credentials</th>\n",
       "      <th>Specialty</th>\n",
       "      <th>ACETAMINOPHEN.CODEINE</th>\n",
       "      <th>AMOXICILLIN</th>\n",
       "      <th>FUROSEMIDE</th>\n",
       "      <th>GABAPENTIN</th>\n",
       "      <th>HYDROCODONE.ACETAMINOPHEN</th>\n",
       "      <th>LEVOTHYROXINE.SODIUM</th>\n",
       "      <th>OMEPRAZOLE</th>\n",
       "      <th>OXYCODONE.ACETAMINOPHEN</th>\n",
       "      <th>PREDNISONE</th>\n",
       "      <th>TRAMADOL.HCL</th>\n",
       "    </tr>\n",
       "  </thead>\n",
       "  <tbody>\n",
       "    <tr>\n",
       "      <th>0</th>\n",
       "      <td>242</td>\n",
       "      <td>18</td>\n",
       "      <td>0</td>\n",
       "      <td>0</td>\n",
       "      <td>0</td>\n",
       "      <td>0</td>\n",
       "      <td>0</td>\n",
       "      <td>17</td>\n",
       "      <td>0</td>\n",
       "      <td>0</td>\n",
       "      <td>0</td>\n",
       "      <td>0</td>\n",
       "      <td>0</td>\n",
       "    </tr>\n",
       "    <tr>\n",
       "      <th>1</th>\n",
       "      <td>505</td>\n",
       "      <td>28</td>\n",
       "      <td>0</td>\n",
       "      <td>0</td>\n",
       "      <td>0</td>\n",
       "      <td>0</td>\n",
       "      <td>63</td>\n",
       "      <td>182</td>\n",
       "      <td>31</td>\n",
       "      <td>85</td>\n",
       "      <td>33</td>\n",
       "      <td>0</td>\n",
       "      <td>36</td>\n",
       "    </tr>\n",
       "    <tr>\n",
       "      <th>2</th>\n",
       "      <td>401</td>\n",
       "      <td>27</td>\n",
       "      <td>0</td>\n",
       "      <td>0</td>\n",
       "      <td>0</td>\n",
       "      <td>0</td>\n",
       "      <td>0</td>\n",
       "      <td>0</td>\n",
       "      <td>0</td>\n",
       "      <td>0</td>\n",
       "      <td>0</td>\n",
       "      <td>0</td>\n",
       "      <td>0</td>\n",
       "    </tr>\n",
       "    <tr>\n",
       "      <th>3</th>\n",
       "      <td>505</td>\n",
       "      <td>41</td>\n",
       "      <td>33</td>\n",
       "      <td>43</td>\n",
       "      <td>0</td>\n",
       "      <td>48</td>\n",
       "      <td>81</td>\n",
       "      <td>0</td>\n",
       "      <td>0</td>\n",
       "      <td>52</td>\n",
       "      <td>229</td>\n",
       "      <td>13</td>\n",
       "      <td>90</td>\n",
       "    </tr>\n",
       "    <tr>\n",
       "      <th>4</th>\n",
       "      <td>401</td>\n",
       "      <td>35</td>\n",
       "      <td>0</td>\n",
       "      <td>0</td>\n",
       "      <td>0</td>\n",
       "      <td>0</td>\n",
       "      <td>0</td>\n",
       "      <td>22</td>\n",
       "      <td>0</td>\n",
       "      <td>0</td>\n",
       "      <td>0</td>\n",
       "      <td>0</td>\n",
       "      <td>0</td>\n",
       "    </tr>\n",
       "  </tbody>\n",
       "</table>\n",
       "</div>"
      ],
      "text/plain": [
       "   State  Credentials  Specialty  ACETAMINOPHEN.CODEINE  AMOXICILLIN  \\\n",
       "0    242           18          0                      0            0   \n",
       "1    505           28          0                      0            0   \n",
       "2    401           27          0                      0            0   \n",
       "3    505           41         33                     43            0   \n",
       "4    401           35          0                      0            0   \n",
       "\n",
       "   FUROSEMIDE  GABAPENTIN  HYDROCODONE.ACETAMINOPHEN  LEVOTHYROXINE.SODIUM  \\\n",
       "0           0           0                         17                     0   \n",
       "1           0          63                        182                    31   \n",
       "2           0           0                          0                     0   \n",
       "3          48          81                          0                     0   \n",
       "4           0           0                         22                     0   \n",
       "\n",
       "   OMEPRAZOLE  OXYCODONE.ACETAMINOPHEN  PREDNISONE  TRAMADOL.HCL  \n",
       "0           0                        0           0             0  \n",
       "1          85                       33           0            36  \n",
       "2           0                        0           0             0  \n",
       "3          52                      229          13            90  \n",
       "4           0                        0           0             0  "
      ]
     },
     "execution_count": 44,
     "metadata": {},
     "output_type": "execute_result"
    }
   ],
   "source": [
    "pres_copy.head()"
   ]
  },
  {
   "cell_type": "code",
   "execution_count": 45,
   "metadata": {},
   "outputs": [
    {
     "data": {
      "text/plain": [
       "(24237, 13)"
      ]
     },
     "execution_count": 45,
     "metadata": {},
     "output_type": "execute_result"
    }
   ],
   "source": [
    "x = pres_copy.values\n",
    "x.shape"
   ]
  },
  {
   "cell_type": "code",
   "execution_count": 46,
   "metadata": {},
   "outputs": [
    {
     "data": {
      "text/plain": [
       "(24237,)"
      ]
     },
     "execution_count": 46,
     "metadata": {},
     "output_type": "execute_result"
    }
   ],
   "source": [
    "y = prescriber.iloc[:,-1].values\n",
    "y.shape"
   ]
  },
  {
   "cell_type": "code",
   "execution_count": 47,
   "metadata": {
    "collapsed": true
   },
   "outputs": [],
   "source": [
    "x_train,x_test,y_train,y_test = model_selection.train_test_split(x,y,test_size=0.2,random_state=42)"
   ]
  },
  {
   "cell_type": "code",
   "execution_count": 48,
   "metadata": {},
   "outputs": [
    {
     "data": {
      "text/plain": [
       "array([[505,  41,   0, ...,   0,   0,   0],\n",
       "       [396,  99,   0, ...,   0,   0,   0],\n",
       "       [401,  85,   0, ...,   0,   0,   0],\n",
       "       ...,\n",
       "       [ 83,  62,   0, ...,   0,  24,   0],\n",
       "       [505,  25,   0, ...,   0,   0,   0],\n",
       "       [401,  57,   0, ...,   0,   0,  12]], dtype=int64)"
      ]
     },
     "execution_count": 48,
     "metadata": {},
     "output_type": "execute_result"
    }
   ],
   "source": [
    "x_train"
   ]
  },
  {
   "cell_type": "code",
   "execution_count": 49,
   "metadata": {},
   "outputs": [
    {
     "data": {
      "text/plain": [
       "13"
      ]
     },
     "execution_count": 49,
     "metadata": {},
     "output_type": "execute_result"
    }
   ],
   "source": [
    "len(prescrib.columns)"
   ]
  },
  {
   "cell_type": "code",
   "execution_count": 50,
   "metadata": {
    "scrolled": true
   },
   "outputs": [
    {
     "data": {
      "text/plain": [
       "Index(['State', 'Credentials', 'Specialty', 'ACETAMINOPHEN.CODEINE',\n",
       "       'AMOXICILLIN', 'FUROSEMIDE', 'GABAPENTIN', 'HYDROCODONE.ACETAMINOPHEN',\n",
       "       'LEVOTHYROXINE.SODIUM', 'OMEPRAZOLE', 'OXYCODONE.ACETAMINOPHEN',\n",
       "       'PREDNISONE', 'TRAMADOL.HCL'],\n",
       "      dtype='object')"
      ]
     },
     "execution_count": 50,
     "metadata": {},
     "output_type": "execute_result"
    }
   ],
   "source": [
    "pres_copy.columns"
   ]
  },
  {
   "cell_type": "markdown",
   "metadata": {},
   "source": [
    "# Model Evaluation"
   ]
  },
  {
   "cell_type": "code",
   "execution_count": 51,
   "metadata": {
    "scrolled": false
   },
   "outputs": [
    {
     "name": "stdout",
     "output_type": "stream",
     "text": [
      "Decision Tree: 0.895714 (std: 0.004668)\n",
      "Random Forest: 0.902626 (std: 0.005758)\n",
      "AdaBoost: 0.911136 (std: 0.006546)\n",
      "Gradient Boosting: 0.911858 (std: 0.006973)\n"
     ]
    }
   ],
   "source": [
    "models = []\n",
    "name = []\n",
    "results = []\n",
    "models.append(('Decision Tree',DecisionTreeClassifier()))\n",
    "models.append(('Random Forest',RandomForestClassifier()))\n",
    "models.append(('AdaBoost', AdaBoostClassifier()))\n",
    "models.append(('Gradient Boosting',GradientBoostingClassifier()))\n",
    "for name, model in models:\n",
    "    kfold = model_selection.KFold(n_splits = 10, random_state = 42)\n",
    "    cv_results = model_selection.cross_val_score(model,x_train,y_train,cv = kfold, scoring = 'accuracy')\n",
    "    results.append(cv_results)\n",
    "    msg = \"%s: %f (std: %f)\" % (name,cv_results.mean(),cv_results.std())\n",
    "    print(msg)"
   ]
  },
  {
   "cell_type": "markdown",
   "metadata": {},
   "source": [
    "Graph showing comparison among different algorithms"
   ]
  },
  {
   "cell_type": "code",
   "execution_count": 52,
   "metadata": {
    "scrolled": true
   },
   "outputs": [
    {
     "data": {
      "text/plain": [
       "<matplotlib.axes._subplots.AxesSubplot at 0x12c7b7602e8>"
      ]
     },
     "execution_count": 52,
     "metadata": {},
     "output_type": "execute_result"
    },
    {
     "data": {
      "image/png": "[encoded data removed]",
      "text/plain": [
       "<matplotlib.figure.Figure at 0x12c00878a58>"
      ]
     },
     "metadata": {},
     "output_type": "display_data"
    }
   ],
   "source": [
    "sns.boxplot( x = ['Decsion\\nTree','Random\\nForest','AdaBoost','Gradient\\nBoosting'] , y= results, palette=\"rainbow\")"
   ]
  },
  {
   "cell_type": "markdown",
   "metadata": {},
   "source": [
    "Comparison of different algorithms for roc_auc scores"
   ]
  },
  {
   "cell_type": "code",
   "execution_count": 53,
   "metadata": {
    "scrolled": true
   },
   "outputs": [
    {
     "name": "stdout",
     "output_type": "stream",
     "text": [
      "Decision Tree: 0.903933 (std: 0.006277)\n",
      "Random Forest: 0.953106 (std: 0.004635)\n",
      "AdaBoost: 0.959091 (std: 0.003970)\n",
      "Gradient Boosting: 0.962753 (std: 0.003526)\n"
     ]
    }
   ],
   "source": [
    "models = []\n",
    "name = []\n",
    "models.append(('Decision Tree',DecisionTreeClassifier()))\n",
    "models.append(('Random Forest',RandomForestClassifier()))\n",
    "models.append(('AdaBoost', AdaBoostClassifier()))\n",
    "models.append(('Gradient Boosting',GradientBoostingClassifier()))\n",
    "for name, model in models:\n",
    "    kfold = model_selection.KFold(n_splits = 10, random_state = 42)\n",
    "    cv_results = model_selection.cross_val_score(model,x_train,y_train,cv = kfold, scoring = 'roc_auc')\n",
    "    msg = \"%s: %f (std: %f)\" % (name,cv_results.mean(),cv_results.std())\n",
    "    print(msg)"
   ]
  },
  {
   "cell_type": "markdown",
   "metadata": {},
   "source": [
    "As ROC score for Gradient Boosting classifier looks better, this classifier is chosen for model building.\n",
    "Hyper Parameter tuning could be done to improve accuracy further."
   ]
  },
  {
   "cell_type": "markdown",
   "metadata": {},
   "source": [
    "# Model Building"
   ]
  },
  {
   "cell_type": "code",
   "execution_count": 54,
   "metadata": {},
   "outputs": [
    {
     "name": "stdout",
     "output_type": "stream",
     "text": [
      "Accuracy:  0.9216171617161716\n",
      "Log Loss:  0.1971618137506898\n",
      "ROC-AUC:  0.9667560765993081\n",
      "Confusion Matrix:\n",
      " [[1955   18]\n",
      " [ 362 2513]]\n"
     ]
    },
    {
     "data": {
      "text/html": [
       "<div>\n",
       "<style scoped>\n",
       "    .dataframe tbody tr th:only-of-type {\n",
       "        vertical-align: middle;\n",
       "    }\n",
       "\n",
       "    .dataframe tbody tr th {\n",
       "        vertical-align: top;\n",
       "    }\n",
       "\n",
       "    .dataframe thead th {\n",
       "        text-align: right;\n",
       "    }\n",
       "</style>\n",
       "<table border=\"1\" class=\"dataframe\">\n",
       "  <thead>\n",
       "    <tr style=\"text-align: right;\">\n",
       "      <th>False</th>\n",
       "      <th>0</th>\n",
       "      <th>1</th>\n",
       "      <th>All</th>\n",
       "    </tr>\n",
       "    <tr>\n",
       "      <th>True</th>\n",
       "      <th></th>\n",
       "      <th></th>\n",
       "      <th></th>\n",
       "    </tr>\n",
       "  </thead>\n",
       "  <tbody>\n",
       "    <tr>\n",
       "      <th>0</th>\n",
       "      <td>1955</td>\n",
       "      <td>18</td>\n",
       "      <td>1973</td>\n",
       "    </tr>\n",
       "    <tr>\n",
       "      <th>1</th>\n",
       "      <td>362</td>\n",
       "      <td>2513</td>\n",
       "      <td>2875</td>\n",
       "    </tr>\n",
       "    <tr>\n",
       "      <th>All</th>\n",
       "      <td>2317</td>\n",
       "      <td>2531</td>\n",
       "      <td>4848</td>\n",
       "    </tr>\n",
       "  </tbody>\n",
       "</table>\n",
       "</div>"
      ],
      "text/plain": [
       "False     0     1   All\n",
       "True                   \n",
       "0      1955    18  1973\n",
       "1       362  2513  2875\n",
       "All    2317  2531  4848"
      ]
     },
     "execution_count": 54,
     "metadata": {},
     "output_type": "execute_result"
    }
   ],
   "source": [
    "gb = GradientBoostingClassifier()\n",
    "gb.fit(x_train, y_train)\n",
    "predictions = gb.predict(x_test)\n",
    "print('Accuracy: ',accuracy_score(y_test, predictions))\n",
    "print('Log Loss: ',log_loss(y_test, gb.predict_proba(x_test)[:,1]))\n",
    "print('ROC-AUC: ',roc_auc_score(y_test, gb.predict_proba(x_test)[:,1]))\n",
    "print(\"Confusion Matrix:\\n\",confusion_matrix(y_test, predictions))\n",
    "pd.crosstab(y_test,predictions,rownames=[\"True\"],colnames=[\"False\"],margins= True)"
   ]
  },
  {
   "cell_type": "code",
   "execution_count": 55,
   "metadata": {
    "collapsed": true
   },
   "outputs": [],
   "source": [
    "false_positive_rate, true_positive_rate, thresholds = roc_curve(y_test, gb.predict_proba(x_test)[:,1])\n",
    "roc_auc = auc(false_positive_rate, true_positive_rate)"
   ]
  },
  {
   "cell_type": "code",
   "execution_count": 56,
   "metadata": {},
   "outputs": [
    {
     "data": {
      "image/png": "[encoded data removed]",
      "text/plain": [
       "<matplotlib.figure.Figure at 0x12c00ea9160>"
      ]
     },
     "metadata": {},
     "output_type": "display_data"
    }
   ],
   "source": [
    "plt.plot(false_positive_rate,true_positive_rate, color='fuchsia', label='ROC curve (area = %0.2f)' % roc_auc)\n",
    "plt.plot([0, 1], [0, 1], color='navy', linestyle='--')\n",
    "plt.xlim([-0.01, 1.0])\n",
    "plt.ylim([0.0, 1.03])\n",
    "plt.xlabel('False Positive Rate')\n",
    "plt.ylabel('True Positive Rate')\n",
    "plt.title('Receiver operating characteristic applied for Gradient Boosting\\n')\n",
    "plt.legend(loc=\"lower right\")\n",
    "plt.show()"
   ]
  },
  {
   "cell_type": "code",
   "execution_count": 57,
   "metadata": {
    "scrolled": true
   },
   "outputs": [
    {
     "data": {
      "image/png": "[encoded data removed]",
      "text/plain": [
       "<matplotlib.figure.Figure at 0x12c00ea5da0>"
      ]
     },
     "metadata": {},
     "output_type": "display_data"
    }
   ],
   "source": [
    "import matplotlib.pyplot as plt\n",
    "prescrib.plot(kind='density', subplots=True, layout=(6,6), sharex=False,figsize=(30,10))\n",
    "plt.show()"
   ]
  },
  {
   "cell_type": "code",
   "execution_count": 58,
   "metadata": {
    "scrolled": true
   },
   "outputs": [
    {
     "data": {
      "text/plain": [
       "Text(0.5,1,'Correlation among features')"
      ]
     },
     "execution_count": 58,
     "metadata": {},
     "output_type": "execute_result"
    },
    {
     "data": {
      "image/png": "[encoded data removed]",
      "text/plain": [
       "<matplotlib.figure.Figure at 0x12c04e59be0>"
      ]
     },
     "metadata": {},
     "output_type": "display_data"
    }
   ],
   "source": [
    "corr = pres_copy.corr()\n",
    "f, ax = plt.subplots(figsize=(11, 9))\n",
    "plot = sns.heatmap(corr, cmap='Paired', vmax=.3, center=0, square=True, linewidths=.5, cbar_kws={\"shrink\": .5})\n",
    "ax.set_title(\"Correlation among features\")"
   ]
  },
  {
   "cell_type": "code",
   "execution_count": 59,
   "metadata": {
    "collapsed": true
   },
   "outputs": [],
   "source": [
    "import pickle\n",
    "import os\n",
    "# create the file paths\n",
    "model_file_path = os.path.join(os.path.pardir,'final_data','Opiate','gb.pkl')\n",
    "# open the files to write \n",
    "model_file_pickle = open(model_file_path, 'wb')\n",
    "np.isnan(x_test)\n",
    "pickle.dump(gb, model_file_pickle)\n",
    "model_file_pickle.close()"
   ]
  },
  {
   "cell_type": "code",
   "execution_count": 60,
   "metadata": {
    "collapsed": true
   },
   "outputs": [],
   "source": [
    "categorical.to_csv('categorical_columns.csv',index=False)"
   ]
  },
  {
   "cell_type": "code",
   "execution_count": 61,
   "metadata": {},
   "outputs": [
    {
     "name": "stdout",
     "output_type": "stream",
     "text": [
      "<class 'pandas.core.frame.DataFrame'>\n",
      "Int64Index: 24237 entries, 0 to 24999\n",
      "Data columns (total 13 columns):\n",
      "State                        24237 non-null object\n",
      "Credentials                  24237 non-null object\n",
      "Specialty                    24237 non-null object\n",
      "ACETAMINOPHEN.CODEINE        24237 non-null int64\n",
      "AMOXICILLIN                  24237 non-null int64\n",
      "FUROSEMIDE                   24237 non-null int64\n",
      "GABAPENTIN                   24237 non-null int64\n",
      "HYDROCODONE.ACETAMINOPHEN    24237 non-null int64\n",
      "LEVOTHYROXINE.SODIUM         24237 non-null int64\n",
      "OMEPRAZOLE                   24237 non-null int64\n",
      "OXYCODONE.ACETAMINOPHEN      24237 non-null int64\n",
      "PREDNISONE                   24237 non-null int64\n",
      "TRAMADOL.HCL                 24237 non-null int64\n",
      "dtypes: int64(10), object(3)\n",
      "memory usage: 2.6+ MB\n"
     ]
    }
   ],
   "source": [
    "prescrib.info()"
   ]
  },
  {
   "cell_type": "code",
   "execution_count": 62,
   "metadata": {},
   "outputs": [
    {
     "name": "stdout",
     "output_type": "stream",
     "text": [
      "Accuracy:  0.9168729372937293\n",
      "Log Loss:  0.22112683188848056\n",
      "ROC-AUC:  0.9451837193415457\n",
      "Confusion Matrix:\n",
      " [[1968    5]\n",
      " [ 398 2477]]\n"
     ]
    },
    {
     "data": {
      "text/plain": [
       "array([[2.28836557e-05, 2.47780984e-04, 1.45782909e-01, 5.20697222e-01,\n",
       "        1.17401210e-04, 7.17890569e-04, 4.94871758e-03, 7.50920935e-01,\n",
       "        1.26175274e-03, 2.10931296e-03, 6.57220780e-01, 6.53007141e-03,\n",
       "        6.64420287e-01]])"
      ]
     },
     "execution_count": 62,
     "metadata": {},
     "output_type": "execute_result"
    }
   ],
   "source": [
    "model = LogisticRegression()\n",
    "ac =model.fit(x_train, y_train)\n",
    "predictions = ac.predict(x_test)\n",
    "print('Accuracy: ',accuracy_score(y_test, predictions))\n",
    "print('Log Loss: ',log_loss(y_test, model.predict_proba(x_test)[:,1]))\n",
    "print('ROC-AUC: ',roc_auc_score(y_test, model.predict_proba(x_test)[:,1]))\n",
    "print(\"Confusion Matrix:\\n\",confusion_matrix(y_test, predictions))\n",
    "pd.crosstab(y_test,predictions,rownames=[\"True\"],colnames=[\"False\"],margins= True)\n",
    "model.coef_"
   ]
  },
  {
   "cell_type": "code",
   "execution_count": 63,
   "metadata": {},
   "outputs": [
    {
     "data": {
      "text/plain": [
       "array([[2.28836557e-05, 2.47780984e-04, 1.45782909e-01, 5.20697222e-01,\n",
       "        1.17401210e-04, 7.17890569e-04, 4.94871758e-03, 7.50920935e-01,\n",
       "        1.26175274e-03, 2.10931296e-03, 6.57220780e-01, 6.53007141e-03,\n",
       "        6.64420287e-01]])"
      ]
     },
     "execution_count": 63,
     "metadata": {},
     "output_type": "execute_result"
    }
   ],
   "source": [
    "import pickle\n",
    "import os\n",
    "# create the file paths\n",
    "model_file_path = os.path.join(os.path.pardir,'final_data','Opiate','Logistic.pkl')\n",
    "# open the files to write \n",
    "model_file_pickle = open(model_file_path, 'wb')\n",
    "np.isnan(x_test)\n",
    "pickle.dump(model, model_file_pickle)\n",
    "model_file_pickle.close()\n",
    "model.coef_"
   ]
  },
  {
   "cell_type": "code",
   "execution_count": 64,
   "metadata": {
    "collapsed": true
   },
   "outputs": [],
   "source": [
    "load_model_logreg = pickle.load(open('Logistic.pkl', 'rb'))"
   ]
  },
  {
   "cell_type": "code",
   "execution_count": 65,
   "metadata": {},
   "outputs": [
    {
     "data": {
      "text/plain": [
       "array([[2.28836557e-05, 2.47780984e-04, 1.45782909e-01, 5.20697222e-01,\n",
       "        1.17401210e-04, 7.17890569e-04, 4.94871758e-03, 7.50920935e-01,\n",
       "        1.26175274e-03, 2.10931296e-03, 6.57220780e-01, 6.53007141e-03,\n",
       "        6.64420287e-01]])"
      ]
     },
     "execution_count": 65,
     "metadata": {},
     "output_type": "execute_result"
    }
   ],
   "source": [
    "load_model_logreg.coef_"
   ]
  },
  {
   "cell_type": "code",
   "execution_count": 66,
   "metadata": {
    "scrolled": true
   },
   "outputs": [
    {
     "data": {
      "text/plain": [
       "[[2.2883655691750608e-05,\n",
       "  0.0002477809842635781,\n",
       "  0.1457829092261183,\n",
       "  0.5206972219044494,\n",
       "  0.00011740121010178975,\n",
       "  0.0007178905685082252,\n",
       "  0.00494871758157464,\n",
       "  0.7509209352715612,\n",
       "  0.0012617527413809693,\n",
       "  0.0021093129578282368,\n",
       "  0.6572207801924893,\n",
       "  0.006530071411860267,\n",
       "  0.6644202865592531]]"
      ]
     },
     "execution_count": 66,
     "metadata": {},
     "output_type": "execute_result"
    }
   ],
   "source": [
    "load_model_logreg.coef_.tolist()\n"
   ]
  },
  {
   "cell_type": "code",
   "execution_count": 67,
   "metadata": {},
   "outputs": [
    {
     "data": {
      "text/plain": [
       "Index(['State', 'Credentials', 'Specialty', 'ACETAMINOPHEN.CODEINE',\n",
       "       'AMOXICILLIN', 'FUROSEMIDE', 'GABAPENTIN', 'HYDROCODONE.ACETAMINOPHEN',\n",
       "       'LEVOTHYROXINE.SODIUM', 'OMEPRAZOLE', 'OXYCODONE.ACETAMINOPHEN',\n",
       "       'PREDNISONE', 'TRAMADOL.HCL'],\n",
       "      dtype='object')"
      ]
     },
     "execution_count": 67,
     "metadata": {},
     "output_type": "execute_result"
    }
   ],
   "source": [
    "prescrib.columns"
   ]
  },
  {
   "cell_type": "markdown",
   "metadata": {},
   "source": [
    "# User Inputs"
   ]
  },
  {
   "cell_type": "code",
   "execution_count": 68,
   "metadata": {
    "collapsed": true
   },
   "outputs": [],
   "source": [
    "def load_model():\n",
    "    \"\"\"This function load the pickled model as API for flask\n",
    "         :returns: loaded_model\n",
    "         :rtype: float64\n",
    "         method's invoked:  None\"\"\"\n",
    "    loaded_model = pickle.load(open('Gradient.pkl', 'rb'))\n",
    "    return loaded_model\n",
    "def load_model_lr():\n",
    "    \"\"\"This function load the pickled model as API for flask\n",
    "         :returns: loaded_model\n",
    "         :rtype: float64\n",
    "         method's invoked:  None\"\"\"\n",
    "    load_model_logreg = pickle.load(open('Logistic.pkl', 'rb'))\n",
    "    return load_model_logreg\n",
    "\n",
    "\n",
    "def total_weight_find(col_values, col_intercept):\n",
    "    total_weight = 0\n",
    "    for i in range(len(col_values)):\n",
    "        total_weight = total_weight + (col_values[i] * col_intercept[0][i])\n",
    "    return total_weight"
   ]
  },
  {
   "cell_type": "code",
   "execution_count": 69,
   "metadata": {
    "collapsed": true
   },
   "outputs": [],
   "source": [
    "Opiate=pd.DataFrame()"
   ]
  },
  {
   "cell_type": "code",
   "execution_count": 70,
   "metadata": {
    "scrolled": false
   },
   "outputs": [
    {
     "data": {
      "text/html": [
       "<div>\n",
       "<style scoped>\n",
       "    .dataframe tbody tr th:only-of-type {\n",
       "        vertical-align: middle;\n",
       "    }\n",
       "\n",
       "    .dataframe tbody tr th {\n",
       "        vertical-align: top;\n",
       "    }\n",
       "\n",
       "    .dataframe thead th {\n",
       "        text-align: right;\n",
       "    }\n",
       "</style>\n",
       "<table border=\"1\" class=\"dataframe\">\n",
       "  <thead>\n",
       "    <tr style=\"text-align: right;\">\n",
       "      <th></th>\n",
       "    </tr>\n",
       "  </thead>\n",
       "  <tbody>\n",
       "  </tbody>\n",
       "</table>\n",
       "</div>"
      ],
      "text/plain": [
       "Empty DataFrame\n",
       "Columns: []\n",
       "Index: []"
      ]
     },
     "execution_count": 70,
     "metadata": {},
     "output_type": "execute_result"
    }
   ],
   "source": [
    "Opiate"
   ]
  },
  {
   "cell_type": "code",
   "execution_count": 73,
   "metadata": {},
   "outputs": [
    {
     "name": "stdout",
     "output_type": "stream",
     "text": [
      "Enter state\n",
      "TX\n"
     ]
    }
   ],
   "source": [
    "print(\"Enter state\")\n",
    "Opiate.loc[0,'state'] = (input())"
   ]
  },
  {
   "cell_type": "code",
   "execution_count": 72,
   "metadata": {},
   "outputs": [
    {
     "name": "stdout",
     "output_type": "stream",
     "text": [
      "Enter Credentials\n",
      "MD\n"
     ]
    }
   ],
   "source": [
    "print(\"Enter Credentials\")\n",
    "Opiate.loc[0,'Credentials'] = (input())"
   ]
  },
  {
   "cell_type": "code",
   "execution_count": 74,
   "metadata": {},
   "outputs": [
    {
     "name": "stdout",
     "output_type": "stream",
     "text": [
      "Enter Specialty\n",
      "Dentist\n"
     ]
    }
   ],
   "source": [
    "print(\"Enter Specialty\")\n",
    "Opiate.loc[0,'Specialty'] = (input())"
   ]
  },
  {
   "cell_type": "code",
   "execution_count": 75,
   "metadata": {},
   "outputs": [
    {
     "name": "stdout",
     "output_type": "stream",
     "text": [
      "Enter ACETAMINOPHEN.CODEINE\n",
      "0\n"
     ]
    }
   ],
   "source": [
    "print(\"Enter ACETAMINOPHEN.CODEINE\")\n",
    "Opiate.loc[0,'ACETAMINOPHEN.CODEINE'] = (input())"
   ]
  },
  {
   "cell_type": "code",
   "execution_count": 76,
   "metadata": {},
   "outputs": [
    {
     "name": "stdout",
     "output_type": "stream",
     "text": [
      "Enter AMOXICILLIN\n",
      "1\n"
     ]
    }
   ],
   "source": [
    "print(\"Enter AMOXICILLIN\")\n",
    "Opiate.loc[0,'AMOXICILLIN'] = (input())"
   ]
  },
  {
   "cell_type": "code",
   "execution_count": 77,
   "metadata": {},
   "outputs": [
    {
     "name": "stdout",
     "output_type": "stream",
     "text": [
      "Enter FUROSEMIDE\n",
      "3\n"
     ]
    }
   ],
   "source": [
    "print(\"Enter FUROSEMIDE\")\n",
    "Opiate.loc[0,'FUROSEMIDE'] = (input())"
   ]
  },
  {
   "cell_type": "code",
   "execution_count": 78,
   "metadata": {},
   "outputs": [
    {
     "name": "stdout",
     "output_type": "stream",
     "text": [
      "Enter GABAPENTIN\n",
      "5\n"
     ]
    }
   ],
   "source": [
    "print(\"Enter GABAPENTIN\")\n",
    "Opiate.loc[0,'GABAPENTIN'] = (input())"
   ]
  },
  {
   "cell_type": "code",
   "execution_count": 79,
   "metadata": {},
   "outputs": [
    {
     "name": "stdout",
     "output_type": "stream",
     "text": [
      "Enter HYDROCODONE.ACETAMINOPHEN\n",
      "2\n"
     ]
    }
   ],
   "source": [
    "print(\"Enter HYDROCODONE.ACETAMINOPHEN\")\n",
    "Opiate.loc[0,'HYDROCODONE.ACETAMINOPHEN'] = (input())"
   ]
  },
  {
   "cell_type": "code",
   "execution_count": 80,
   "metadata": {},
   "outputs": [
    {
     "name": "stdout",
     "output_type": "stream",
     "text": [
      "Enter LEVOTHYROXINE.SODIUM\n",
      "2\n"
     ]
    }
   ],
   "source": [
    "print(\"Enter LEVOTHYROXINE.SODIUM\")\n",
    "Opiate.loc[0,'LEVOTHYROXINE.SODIUM'] = (input())"
   ]
  },
  {
   "cell_type": "code",
   "execution_count": 81,
   "metadata": {},
   "outputs": [
    {
     "name": "stdout",
     "output_type": "stream",
     "text": [
      "Enter OMEPRAZOLE\n",
      "5\n"
     ]
    }
   ],
   "source": [
    "print(\"Enter OMEPRAZOLE\")\n",
    "Opiate.loc[0,'OMEPRAZOLE'] = (input())"
   ]
  },
  {
   "cell_type": "code",
   "execution_count": 82,
   "metadata": {},
   "outputs": [
    {
     "name": "stdout",
     "output_type": "stream",
     "text": [
      "Enter OXYCODONE.ACETAMINOPHEN\n",
      "1\n"
     ]
    }
   ],
   "source": [
    "print(\"Enter OXYCODONE.ACETAMINOPHEN\")\n",
    "Opiate.loc[0,'OXYCODONE.ACETAMINOPHEN'] = (input())"
   ]
  },
  {
   "cell_type": "code",
   "execution_count": 83,
   "metadata": {},
   "outputs": [
    {
     "name": "stdout",
     "output_type": "stream",
     "text": [
      "Enter PREDNISONE\n",
      "7\n"
     ]
    }
   ],
   "source": [
    "print(\"Enter PREDNISONE\")\n",
    "Opiate.loc[0,'PREDNISONE'] = (input())"
   ]
  },
  {
   "cell_type": "code",
   "execution_count": 84,
   "metadata": {},
   "outputs": [
    {
     "name": "stdout",
     "output_type": "stream",
     "text": [
      "Enter TRAMADOL.HCL\n",
      "9\n"
     ]
    }
   ],
   "source": [
    "print(\"Enter TRAMADOL.HCL\")\n",
    "Opiate.loc[0,'TRAMADOL.HCL'] = (input())"
   ]
  },
  {
   "cell_type": "code",
   "execution_count": 85,
   "metadata": {
    "collapsed": true
   },
   "outputs": [],
   "source": [
    "state = Opiate.iat[0,0]\n",
    "Credentials = Opiate.iat[0,1]\n",
    "Specialty = Opiate.iat[0,2]\n",
    "Ac = int(Opiate.iat[0,3])\n",
    "AMOXICILLIN = int(Opiate.iat[0,4])\n",
    "FUROSEMIDE = int(Opiate.iat[0,5])\n",
    "GABAPENTIN = int(Opiate.iat[0,6])\n",
    "Ha = int(Opiate.iat[0,7])\n",
    "Ls = int(Opiate.iat[0,8])\n",
    "OMEPRAZOLE = int(Opiate.iat[0,9])\n",
    "Oa = int(Opiate.iat[0,10])\n",
    "PREDNISONE = int(Opiate.iat[0,11])\n",
    "Th = int(Opiate.iat[0,12])"
   ]
  },
  {
   "cell_type": "code",
   "execution_count": 88,
   "metadata": {
    "collapsed": true
   },
   "outputs": [],
   "source": [
    "categorical = pd.read_csv('categorical.csv')\n",
    "state1 = int(categorical[categorical['State'] == state].iloc[0][3])\n",
    "Credentials1 = int(categorical[categorical['Credentials'] == Credentials].iloc[1][4])\n",
    "Specialty1 = int(categorical[categorical['Specialty'] == Specialty].iloc[2][5])\n",
    "dataframe = ([[state1, Credentials1, Ac, AMOXICILLIN, FUROSEMIDE, GABAPENTIN,\n",
    "          Ha, Ls, OMEPRAZOLE, Oa, PREDNISONE, Th, Specialty1]])\n",
    "pdf = pd.DataFrame(dataframe)"
   ]
  },
  {
   "cell_type": "code",
   "execution_count": 89,
   "metadata": {
    "collapsed": true
   },
   "outputs": [],
   "source": [
    "pdf = pdf.rename(columns={0:'State', 1:'Credentials', 2:'Specialty', 3:'ACETAMINOPHEN.CODEINE',\n",
    "       4:'AMOXICILLIN', 5:'FUROSEMIDE', 6:'GABAPENTIN', 7:'HYDROCODONE.ACETAMINOPHEN',\n",
    "       8:'LEVOTHYROXINE.SODIUM', 9:'OMEPRAZOLE', 10:'OXYCODONE.ACETAMINOPHEN',\n",
    "       11:'PREDNISONE', 12:'TRAMADOL.HCL'})"
   ]
  },
  {
   "cell_type": "code",
   "execution_count": 90,
   "metadata": {},
   "outputs": [
    {
     "data": {
      "text/plain": [
       "array([[ 47, 505,   0,   1,   3,   5,   2,   2,   5,   1,   7,   9,  18]])"
      ]
     },
     "execution_count": 90,
     "metadata": {},
     "output_type": "execute_result"
    }
   ],
   "source": [
    "data = np.array(dataframe)\n",
    "data"
   ]
  },
  {
   "cell_type": "code",
   "execution_count": 91,
   "metadata": {
    "collapsed": true
   },
   "outputs": [],
   "source": [
    "model = load_model()\n",
    "data = model.predict(data)"
   ]
  },
  {
   "cell_type": "code",
   "execution_count": 92,
   "metadata": {
    "collapsed": true
   },
   "outputs": [],
   "source": [
    "model_lr = load_model_lr()\n",
    "col_list = [state1, Credentials1,Specialty1,Ac, AMOXICILLIN, FUROSEMIDE, GABAPENTIN,\n",
    "            Ha, Ls, OMEPRAZOLE, Oa, PREDNISONE, Th]\n",
    "intercept_values = model_lr.coef_.tolist()\n",
    "total_weigh_data = total_weight_find(col_list, intercept_values)"
   ]
  },
  {
   "cell_type": "code",
   "execution_count": 93,
   "metadata": {
    "collapsed": true
   },
   "outputs": [],
   "source": [
    "w_state = ((state1 * intercept_values[0][0]) / total_weigh_data)\n",
    "w_cred = ((Credentials1 * intercept_values[0][1]) / total_weigh_data)\n",
    "w_spe = ((Specialty1 * intercept_values[0][2]) / total_weigh_data)\n",
    "w_Ac = ((Ac * intercept_values[0][3]) / total_weigh_data)\n",
    "w_am = ((AMOXICILLIN * intercept_values[0][4]) / total_weigh_data)\n",
    "w_fu = ((FUROSEMIDE * intercept_values[0][5]) / total_weigh_data)\n",
    "w_ga = ((GABAPENTIN * intercept_values[0][6]) / total_weigh_data)\n",
    "w_ha = ((Ha * intercept_values[0][7]) / total_weigh_data)\n",
    "w_ls = ((Ls * intercept_values[0][8]) / total_weigh_data)\n",
    "w_om = ((OMEPRAZOLE * intercept_values[0][9]) / total_weigh_data)\n",
    "w_oa = ((Oa * intercept_values[0][10]) / total_weigh_data)\n",
    "w_pr = ((PREDNISONE * intercept_values[0][11]) / total_weigh_data)\n",
    "w_th = ((Th * intercept_values[0][12]) / total_weigh_data)"
   ]
  },
  {
   "cell_type": "code",
   "execution_count": 94,
   "metadata": {
    "collapsed": true
   },
   "outputs": [],
   "source": [
    "total_pv = abs(w_state) + abs(w_cred) + abs(w_Ac) + abs(w_spe) + abs(w_am) + abs(w_fu) + abs(w_ga) + abs(\n",
    "    w_ha) + abs(w_ls) + abs(w_om) + abs(w_oa) + abs(w_pr) + abs(w_th)\n",
    "p_state = (w_state / total_pv) * 100\n",
    "p_cred = (w_cred / total_pv) * 100\n",
    "p_spe = (w_spe / total_pv) * 100\n",
    "p_Ac = (w_Ac / total_pv) * 100\n",
    "p_am = (w_am / total_pv) * 100\n",
    "p_fu = (w_fu / total_pv) * 100\n",
    "p_ga = (w_ga / total_pv) * 100\n",
    "p_ha = (w_ha / total_pv) * 100\n",
    "p_ls = (w_ls / total_pv) * 100\n",
    "p_om = (w_om / total_pv) * 100\n",
    "p_oa = (w_oa / total_pv) * 100\n",
    "p_pr = (w_pr / total_pv) * 100\n",
    "p_th = (w_th / total_pv) * 100"
   ]
  },
  {
   "cell_type": "code",
   "execution_count": 95,
   "metadata": {
    "collapsed": true
   },
   "outputs": [],
   "source": [
    "vb = [abs(round(p_state, 2)), abs(round(p_cred, 2)), abs(round(p_spe, 2)), abs(round(p_Ac, 2)),\n",
    "      abs(round(p_am, 2)), abs(round(p_fu, 2)),abs(round(p_ga, 2)), abs(round(p_ha, 2)),\n",
    "      abs(round(p_ls, 2)), abs(round(p_om, 2)), abs(round(p_oa, 2)),abs(round(p_pr, 2)), abs(round(p_th, 2))]\n",
    "pro_col = [{\"State\": abs(round(p_state, 2)), \"Credentials\": abs(round(p_cred, 2)),\n",
    "             \"Specialty\": abs(round(p_spe, 2)), \"ACETAMINOPHEN.CODEINE\": abs(round(p_Ac, 2)),\n",
    "             \"AMOXICILLIN\": abs(round(p_am, 2)), \"FUROSEMIDE\": abs(round(p_fu, 2)),\n",
    "             \"GABAPENTIN\": abs(round(p_ga, 2)), \"HYDROCODONE.ACETAMINOPHEN\": abs(round(p_ha, 2)),\n",
    "              \"LEVOTHYROXINE.SODIUM\": abs(round(p_ls, 2)), \"OMEPRAZOLE\": abs(round(p_om, 2)),\n",
    "              \"OXYCODONE.ACETAMINOPHEN\": abs(round(p_oa, 2)),\n",
    "               \"PREDNISONE\": abs(round(p_pr, 2)), \"TRAMADOL.HCL\": abs(round(p_th, 2))}]"
   ]
  },
  {
   "cell_type": "code",
   "execution_count": 99,
   "metadata": {},
   "outputs": [
    {
     "data": {
      "text/plain": [
       "[{'ACETAMINOPHEN.CODEINE': 0.0,\n",
       "  'AMOXICILLIN': 0.0,\n",
       "  'Credentials': 1.14,\n",
       "  'FUROSEMIDE': 0.02,\n",
       "  'GABAPENTIN': 0.23,\n",
       "  'HYDROCODONE.ACETAMINOPHEN': 13.68,\n",
       "  'LEVOTHYROXINE.SODIUM': 0.02,\n",
       "  'OMEPRAZOLE': 0.1,\n",
       "  'OXYCODONE.ACETAMINOPHEN': 5.99,\n",
       "  'PREDNISONE': 0.42,\n",
       "  'Specialty': 23.91,\n",
       "  'State': 0.01,\n",
       "  'TRAMADOL.HCL': 54.49}]"
      ]
     },
     "execution_count": 99,
     "metadata": {},
     "output_type": "execute_result"
    }
   ],
   "source": [
    "pro_col"
   ]
  },
  {
   "cell_type": "code",
   "execution_count": 96,
   "metadata": {
    "collapsed": true
   },
   "outputs": [],
   "source": [
    "predicted_data = model.predict(pdf.values.astype('float'))\n",
    "if data == 1:\n",
    "    result = \"Yes\"\n",
    "else:\n",
    "    result = \"No\""
   ]
  },
  {
   "cell_type": "markdown",
   "metadata": {},
   "source": [
    "Based Upon the user inputs the graph will be generated"
   ]
  },
  {
   "cell_type": "code",
   "execution_count": 102,
   "metadata": {},
   "outputs": [
    {
     "data": {
      "image/png": "[encoded data removed]",
      "text/plain": [
       "<matplotlib.figure.Figure at 0x12c055ba710>"
      ]
     },
     "metadata": {},
     "output_type": "display_data"
    }
   ],
   "source": [
    "se=sns.barplot(y=vb,x=pdf.columns)\n",
    "sns.set(rc={'figure.figsize':(40,8.27)})\n",
    "k = 0\n",
    "for p in se.patches:\n",
    "    se.text(p.get_x()+p.get_width()/2.,\n",
    "    p.get_height()+0.02,\n",
    "    '{:1.1f}%'.format(vb[k]),\n",
    "    ha=\"center\",color='black',fontsize=30)\n",
    "    k = k+1\n",
    "\n"
   ]
  },
  {
   "cell_type": "code",
   "execution_count": 100,
   "metadata": {
    "collapsed": true
   },
   "outputs": [],
   "source": [
    "\n"
   ]
  },
  {
   "cell_type": "code",
   "execution_count": null,
   "metadata": {
    "collapsed": true
   },
   "outputs": [],
   "source": []
  }
 ],
 "metadata": {
  "kernelspec": {
   "display_name": "Python 3",
   "language": "python",
   "name": "python3"
  },
  "language_info": {
   "codemirror_mode": {
    "name": "ipython",
    "version": 3
   },
   "file_extension": ".py",
   "mimetype": "text/x-python",
   "name": "python",
   "nbconvert_exporter": "python",
   "pygments_lexer": "ipython3",
   "version": "3.6.1"
  }
 },
 "nbformat": 4,
 "nbformat_minor": 2
}
