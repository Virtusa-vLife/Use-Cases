{
 "cells": [
  {
   "cell_type": "markdown",
   "metadata": {},
   "source": [
    "# vLife Virtusa\n",
    "## Medication Recommendation Using Patient Reviews\n",
    "### Usecase Description\n",
    "<p> Light GBM classifier is used along with keras to calculate the sentiment scores of medicines and then recommend it to the patients based upon certain input components like the review submitted by the patient, the current medication he/she is taking, his/her rating against the medication and the condition.</p>\n",
    "\n",
    "### Dataset Source\n",
    "Data for this usecase can be found [here](https://archive.ics.uci.edu/ml/datasets/Drug+Review+Dataset+%28Drugs.com%29).\n",
    "\n",
    "### Dataset Description\n",
    "<p> The dataset provides patient reviews on specific drugs along with related conditions and a 10 star patient rating reflecting overall patient satisfaction. The data was obtained by crawling online pharmaceutical review sites. The intention was to study</p>.\n",
    "\n",
    "1. sentiment analysis of drug experience over multiple facets, i.e. sentiments learned on specific aspects such as effectiveness and side effects,\n",
    "2. the transferability of models among domains, i.e. conditions, and\n",
    "3. the transferability of models among different data sources (see 'Drug Review Dataset (Druglib.com)').\n",
    "\n",
    "The data is split into a train (75%) a test (25%) partition (see publication) and stored in two .tsv (tab-separated-values) files, respectively."
   ]
  },
  {
   "cell_type": "markdown",
   "metadata": {},
   "source": [
    "> **Necessary Imports**"
   ]
  },
  {
   "cell_type": "code",
   "execution_count": 7,
   "metadata": {
    "_cell_guid": "b1076dfc-b9ad-4769-8c92-a6c4dae69d19",
    "_kg_hide-input": true,
    "_uuid": "8f2839f25d086af736a60e9eeb907d3b93b6e0e5"
   },
   "outputs": [
    {
     "data": {
      "text/html": [
       "        <script type=\"text/javascript\">\n",
       "        window.PlotlyConfig = {MathJaxConfig: 'local'};\n",
       "        if (window.MathJax) {MathJax.Hub.Config({SVG: {font: \"STIX-Web\"}});}\n",
       "        if (typeof require !== 'undefined') {\n",
       "        require.undef(\"plotly\");\n",
       "        requirejs.config({\n",
       "            paths: {\n",
       "                'plotly': ['https://cdn.plot.ly/plotly-latest.min']\n",
       "            }\n",
       "        });\n",
       "        require(['plotly'], function(Plotly) {\n",
       "            window._Plotly = Plotly;\n",
       "        });\n",
       "        }\n",
       "        </script>\n",
       "        "
      ]
     },
     "metadata": {},
     "output_type": "display_data"
    }
   ],
   "source": [
    "import re\n",
    "import gc\n",
    "import os\n",
    "import string\n",
    "import nltk\n",
    "color = sns.color_palette()\n",
    "import pandas as pd #Analysis \n",
    "import matplotlib.pyplot as plt #Visulization\n",
    "import seaborn as sns #Visulization\n",
    "import numpy as np #Analysis \n",
    "from scipy.stats import norm #Analysis \n",
    "from sklearn.preprocessing import StandardScaler #Analysis \n",
    "from scipy import stats #Analysis \n",
    "import warnings \n",
    "import keras\n",
    "from keras.models import Sequential\n",
    "from keras.layers import Dense\n",
    "import random\n",
    "warnings.filterwarnings('ignore')\n",
    "%matplotlib inline\n",
    "\n",
    "from plotly import tools\n",
    "import plotly.offline as py\n",
    "py.init_notebook_mode(connected=True)\n",
    "import plotly.graph_objs as go\n",
    "\n",
    "from sklearn import model_selection, preprocessing, metrics, ensemble, naive_bayes, linear_model\n",
    "from sklearn.feature_extraction.text import TfidfVectorizer, CountVectorizer\n",
    "from sklearn.decomposition import TruncatedSVD\n",
    "import lightgbm as lgb\n",
    "\n",
    "from bs4 import BeautifulSoup\n",
    "from nltk.corpus import stopwords\n",
    "from nltk.stem.snowball import SnowballStemmer\n",
    "\n",
    "from sklearn import model_selection, preprocessing, metrics, ensemble, naive_bayes, linear_model\n",
    "from sklearn.feature_extraction.text import TfidfVectorizer, CountVectorizer\n",
    "from sklearn.decomposition import TruncatedSVD\n",
    "import lightgbm as lgb\n",
    "\n",
    "from bs4 import BeautifulSoup\n",
    "from sklearn.feature_extraction.text import CountVectorizer\n",
    "from sklearn.pipeline import Pipeline\n",
    "\n",
    "from sklearn.model_selection import train_test_split\n",
    "from sklearn import metrics\n",
    "from sklearn.feature_extraction.text import CountVectorizer\n",
    "from sklearn.pipeline import Pipeline\n",
    "\n",
    "from keras.preprocessing.text import Tokenizer\n",
    "from keras.preprocessing.sequence import pad_sequences\n",
    "from keras.layers import Dense, Input, LSTM, Embedding, Dropout, Activation, CuDNNGRU, Conv1D\n",
    "from keras.layers import Bidirectional, GlobalMaxPool1D\n",
    "from keras.models import Model\n",
    "from keras import initializers, regularizers, constraints, optimizers, layers\n",
    "\n",
    "from tensorflow.python.keras.models import Sequential\n",
    "from tensorflow.python.keras.layers import Dense, Bidirectional, LSTM, BatchNormalization, Dropout\n",
    "from tensorflow.python.keras.preprocessing.sequence import pad_sequences\n",
    "\n",
    "pd.options.mode.chained_assignment = None\n",
    "pd.options.display.max_columns = 999"
   ]
  },
  {
   "cell_type": "markdown",
   "metadata": {
    "_uuid": "6ba47a95deb9764565521d373d3de8bbd24c6bd7"
   },
   "source": [
    "## 1. Exploration Data Analysis\n",
    "\n",
    "### 1.1. Data understanding\n",
    "First we will import Train data and Test data. The sizes of the two data are as follows:"
   ]
  },
  {
   "cell_type": "code",
   "execution_count": 9,
   "metadata": {
    "_cell_guid": "79c7e3d0-c299-4dcb-8224-4455121ee9b0",
    "_uuid": "d629ff2d2480ee46fbb7e2d37f6b5fab8052498a"
   },
   "outputs": [],
   "source": [
    "df_train = pd.read_csv(\"drugsComTrain_raw.csv\", parse_dates=[\"date\"])\n",
    "df_test = pd.read_csv(\"drugsComTest_raw.csv\", parse_dates=[\"date\"])"
   ]
  },
  {
   "cell_type": "code",
   "execution_count": 11,
   "metadata": {
    "_uuid": "3ab95e3f3ad6f51426d9732fabb29398c50223b8"
   },
   "outputs": [
    {
     "name": "stdout",
     "output_type": "stream",
     "text": [
      "Train shape : (161297, 7)\n",
      "Test shape : (53766, 7)\n"
     ]
    }
   ],
   "source": [
    "print(\"Train shape :\" ,df_train.shape)\n",
    "print(\"Test shape :\", df_test.shape)"
   ]
  },
  {
   "cell_type": "markdown",
   "metadata": {
    "_uuid": "99dad5eb1affeacf030fae4f4a15661c9848979e"
   },
   "source": [
    "This is the result of looking at the data through the head () command. There are six variables except for the unique ID that identifies the individual, and review is the key variable."
   ]
  },
  {
   "cell_type": "code",
   "execution_count": 12,
   "metadata": {
    "_uuid": "7fd9b5423836819b3841d444b91492854ab8865a"
   },
   "outputs": [
    {
     "data": {
      "text/html": [
       "<div>\n",
       "<style scoped>\n",
       "    .dataframe tbody tr th:only-of-type {\n",
       "        vertical-align: middle;\n",
       "    }\n",
       "\n",
       "    .dataframe tbody tr th {\n",
       "        vertical-align: top;\n",
       "    }\n",
       "\n",
       "    .dataframe thead th {\n",
       "        text-align: right;\n",
       "    }\n",
       "</style>\n",
       "<table border=\"1\" class=\"dataframe\">\n",
       "  <thead>\n",
       "    <tr style=\"text-align: right;\">\n",
       "      <th></th>\n",
       "      <th>uniqueID</th>\n",
       "      <th>drugName</th>\n",
       "      <th>condition</th>\n",
       "      <th>review</th>\n",
       "      <th>rating</th>\n",
       "      <th>date</th>\n",
       "      <th>usefulCount</th>\n",
       "    </tr>\n",
       "  </thead>\n",
       "  <tbody>\n",
       "    <tr>\n",
       "      <th>0</th>\n",
       "      <td>206461</td>\n",
       "      <td>Valsartan</td>\n",
       "      <td>Left Ventricular Dysfunction</td>\n",
       "      <td>\"It has no side effect, I take it in combinati...</td>\n",
       "      <td>9</td>\n",
       "      <td>2012-05-20</td>\n",
       "      <td>27</td>\n",
       "    </tr>\n",
       "    <tr>\n",
       "      <th>1</th>\n",
       "      <td>95260</td>\n",
       "      <td>Guanfacine</td>\n",
       "      <td>ADHD</td>\n",
       "      <td>\"My son is halfway through his fourth week of ...</td>\n",
       "      <td>8</td>\n",
       "      <td>2010-04-27</td>\n",
       "      <td>192</td>\n",
       "    </tr>\n",
       "    <tr>\n",
       "      <th>2</th>\n",
       "      <td>92703</td>\n",
       "      <td>Lybrel</td>\n",
       "      <td>Birth Control</td>\n",
       "      <td>\"I used to take another oral contraceptive, wh...</td>\n",
       "      <td>5</td>\n",
       "      <td>2009-12-14</td>\n",
       "      <td>17</td>\n",
       "    </tr>\n",
       "    <tr>\n",
       "      <th>3</th>\n",
       "      <td>138000</td>\n",
       "      <td>Ortho Evra</td>\n",
       "      <td>Birth Control</td>\n",
       "      <td>\"This is my first time using any form of birth...</td>\n",
       "      <td>8</td>\n",
       "      <td>2015-11-03</td>\n",
       "      <td>10</td>\n",
       "    </tr>\n",
       "    <tr>\n",
       "      <th>4</th>\n",
       "      <td>35696</td>\n",
       "      <td>Buprenorphine / naloxone</td>\n",
       "      <td>Opiate Dependence</td>\n",
       "      <td>\"Suboxone has completely turned my life around...</td>\n",
       "      <td>9</td>\n",
       "      <td>2016-11-27</td>\n",
       "      <td>37</td>\n",
       "    </tr>\n",
       "  </tbody>\n",
       "</table>\n",
       "</div>"
      ],
      "text/plain": [
       "   uniqueID                  drugName                     condition  \\\n",
       "0    206461                 Valsartan  Left Ventricular Dysfunction   \n",
       "1     95260                Guanfacine                          ADHD   \n",
       "2     92703                    Lybrel                 Birth Control   \n",
       "3    138000                Ortho Evra                 Birth Control   \n",
       "4     35696  Buprenorphine / naloxone             Opiate Dependence   \n",
       "\n",
       "                                              review  rating       date  \\\n",
       "0  \"It has no side effect, I take it in combinati...       9 2012-05-20   \n",
       "1  \"My son is halfway through his fourth week of ...       8 2010-04-27   \n",
       "2  \"I used to take another oral contraceptive, wh...       5 2009-12-14   \n",
       "3  \"This is my first time using any form of birth...       8 2015-11-03   \n",
       "4  \"Suboxone has completely turned my life around...       9 2016-11-27   \n",
       "\n",
       "   usefulCount  \n",
       "0           27  \n",
       "1          192  \n",
       "2           17  \n",
       "3           10  \n",
       "4           37  "
      ]
     },
     "execution_count": 12,
     "metadata": {},
     "output_type": "execute_result"
    }
   ],
   "source": [
    "df_train.head()"
   ]
  },
  {
   "cell_type": "markdown",
   "metadata": {
    "_uuid": "5531c6797f0f890bd3b8c7d4328d25c11d375386"
   },
   "source": [
    "These are additional explanations for variables.\n",
    "\n",
    "- drugName (categorical): name of drug \n",
    "- condition (categorical): name of condition\n",
    "- review (text): patient review \n",
    "- rating (numerical): 10 star patient rating \n",
    "- date (date): date of review entry \n",
    "- usefulCount (numerical): number of users who found review useful\n",
    "\n",
    "The structure of the data is that a patient with a unique ID purchases a drug that meets his condition and writes a review and rating for the drug he/she purchased on the date. Afterwards, if the others read that review and find it helpful, they will click usefulCount, which will add 1 for the variable."
   ]
  },
  {
   "cell_type": "markdown",
   "metadata": {
    "_uuid": "1180500f856ae3f1b772e3b8e2faa393809fdf23"
   },
   "source": [
    "### 1.2. Data understanding\n",
    "\n",
    "First, we will start exploring variables, starting from uniqueID. We compared the unique number of unique IDs and the length of the train data to see if the same customer has written multiple reviews, and there weren't more than one reviews for one customer."
   ]
  },
  {
   "cell_type": "code",
   "execution_count": 13,
   "metadata": {
    "_uuid": "8bf7685ab8278b0709c391aed2560386536552a4"
   },
   "outputs": [
    {
     "name": "stdout",
     "output_type": "stream",
     "text": [
      "unique values count of train :  161297\n",
      "length of train :  161297\n"
     ]
    }
   ],
   "source": [
    "print(\"unique values count of train : \" ,len(set(df_train['uniqueID'].values)))\n",
    "print(\"length of train : \" ,df_train.shape[0])"
   ]
  },
  {
   "cell_type": "markdown",
   "metadata": {
    "_uuid": "5f5f13d517dd6de104f3303ce7ab9c7da5eacd11"
   },
   "source": [
    "DrugName is closely related to condition, so we have analyzed them together. The unique values of the two variables are 3671 and 917, respectively, and there are about 4 drugs for each condition. Let's go ahead and visualize this in more detail."
   ]
  },
  {
   "cell_type": "code",
   "execution_count": 14,
   "metadata": {
    "_kg_hide-input": true,
    "_uuid": "1ce8f6dad73bddd2bf2c2a3a9cab10f2595679c2"
   },
   "outputs": [
    {
     "data": {
      "text/html": [
       "<div>\n",
       "<style scoped>\n",
       "    .dataframe tbody tr th:only-of-type {\n",
       "        vertical-align: middle;\n",
       "    }\n",
       "\n",
       "    .dataframe tbody tr th {\n",
       "        vertical-align: top;\n",
       "    }\n",
       "\n",
       "    .dataframe thead th {\n",
       "        text-align: right;\n",
       "    }\n",
       "</style>\n",
       "<table border=\"1\" class=\"dataframe\">\n",
       "  <thead>\n",
       "    <tr style=\"text-align: right;\">\n",
       "      <th></th>\n",
       "      <th>uniqueID</th>\n",
       "      <th>drugName</th>\n",
       "      <th>condition</th>\n",
       "      <th>review</th>\n",
       "      <th>rating</th>\n",
       "      <th>date</th>\n",
       "      <th>usefulCount</th>\n",
       "    </tr>\n",
       "  </thead>\n",
       "  <tbody>\n",
       "    <tr>\n",
       "      <th>0</th>\n",
       "      <td>206461</td>\n",
       "      <td>Valsartan</td>\n",
       "      <td>Left Ventricular Dysfunction</td>\n",
       "      <td>\"It has no side effect, I take it in combinati...</td>\n",
       "      <td>9</td>\n",
       "      <td>2012-05-20</td>\n",
       "      <td>27</td>\n",
       "    </tr>\n",
       "    <tr>\n",
       "      <th>1</th>\n",
       "      <td>95260</td>\n",
       "      <td>Guanfacine</td>\n",
       "      <td>ADHD</td>\n",
       "      <td>\"My son is halfway through his fourth week of ...</td>\n",
       "      <td>8</td>\n",
       "      <td>2010-04-27</td>\n",
       "      <td>192</td>\n",
       "    </tr>\n",
       "    <tr>\n",
       "      <th>2</th>\n",
       "      <td>92703</td>\n",
       "      <td>Lybrel</td>\n",
       "      <td>Birth Control</td>\n",
       "      <td>\"I used to take another oral contraceptive, wh...</td>\n",
       "      <td>5</td>\n",
       "      <td>2009-12-14</td>\n",
       "      <td>17</td>\n",
       "    </tr>\n",
       "    <tr>\n",
       "      <th>3</th>\n",
       "      <td>138000</td>\n",
       "      <td>Ortho Evra</td>\n",
       "      <td>Birth Control</td>\n",
       "      <td>\"This is my first time using any form of birth...</td>\n",
       "      <td>8</td>\n",
       "      <td>2015-11-03</td>\n",
       "      <td>10</td>\n",
       "    </tr>\n",
       "    <tr>\n",
       "      <th>4</th>\n",
       "      <td>35696</td>\n",
       "      <td>Buprenorphine / naloxone</td>\n",
       "      <td>Opiate Dependence</td>\n",
       "      <td>\"Suboxone has completely turned my life around...</td>\n",
       "      <td>9</td>\n",
       "      <td>2016-11-27</td>\n",
       "      <td>37</td>\n",
       "    </tr>\n",
       "  </tbody>\n",
       "</table>\n",
       "</div>"
      ],
      "text/plain": [
       "   uniqueID                  drugName                     condition  \\\n",
       "0    206461                 Valsartan  Left Ventricular Dysfunction   \n",
       "1     95260                Guanfacine                          ADHD   \n",
       "2     92703                    Lybrel                 Birth Control   \n",
       "3    138000                Ortho Evra                 Birth Control   \n",
       "4     35696  Buprenorphine / naloxone             Opiate Dependence   \n",
       "\n",
       "                                              review  rating       date  \\\n",
       "0  \"It has no side effect, I take it in combinati...       9 2012-05-20   \n",
       "1  \"My son is halfway through his fourth week of ...       8 2010-04-27   \n",
       "2  \"I used to take another oral contraceptive, wh...       5 2009-12-14   \n",
       "3  \"This is my first time using any form of birth...       8 2015-11-03   \n",
       "4  \"Suboxone has completely turned my life around...       9 2016-11-27   \n",
       "\n",
       "   usefulCount  \n",
       "0           27  \n",
       "1          192  \n",
       "2           17  \n",
       "3           10  \n",
       "4           37  "
      ]
     },
     "execution_count": 14,
     "metadata": {},
     "output_type": "execute_result"
    }
   ],
   "source": [
    "df_all = pd.concat([df_train,df_test])\n",
    "df_all.head()"
   ]
  },
  {
   "cell_type": "code",
   "execution_count": 15,
   "metadata": {
    "_uuid": "bb2b7aac9798cb96aa4cd032aee6fca2ddb74b4a"
   },
   "outputs": [
    {
     "data": {
      "text/plain": [
       "Text(0.5, 1.0, 'Top20 : The number of drugs per condition.')"
      ]
     },
     "execution_count": 15,
     "metadata": {},
     "output_type": "execute_result"
    },
    {
     "data": {
      "image/png": "[encoded data removed]",
      "text/plain": [
       "<Figure size 1008x432 with 1 Axes>"
      ]
     },
     "metadata": {},
     "output_type": "display_data"
    }
   ],
   "source": [
    "condition_dn = df_all.groupby(['condition'])['drugName'].nunique().sort_values(ascending=False)\n",
    "condition_dn[0:20].plot(kind=\"bar\", figsize = (14,6), fontsize = 10,color=\"green\")\n",
    "plt.xlabel(\"\", fontsize = 20)\n",
    "plt.ylabel(\"\", fontsize = 20)\n",
    "plt.title(\"Top20 : The number of drugs per condition.\", fontsize = 20)"
   ]
  },
  {
   "cell_type": "markdown",
   "metadata": {
    "_uuid": "b1b2d517b68e747298b5a17fdb3e6e60aaa1cdaf"
   },
   "source": [
    "As you can see from the picture above, the number of drugs for top eight conditions is about 100 for each condition. On the other hand, it should be noted that the phrase \"3</span> users found this comment helpful\" appears in the condition, which seems like an error in the crawling process. I have looked into it to see in more details."
   ]
  },
  {
   "cell_type": "code",
   "execution_count": 16,
   "metadata": {
    "_uuid": "d0a89c7ebae84c817b3f2e6aab294088c18b261f"
   },
   "outputs": [
    {
     "data": {
      "text/html": [
       "<div>\n",
       "<style scoped>\n",
       "    .dataframe tbody tr th:only-of-type {\n",
       "        vertical-align: middle;\n",
       "    }\n",
       "\n",
       "    .dataframe tbody tr th {\n",
       "        vertical-align: top;\n",
       "    }\n",
       "\n",
       "    .dataframe thead th {\n",
       "        text-align: right;\n",
       "    }\n",
       "</style>\n",
       "<table border=\"1\" class=\"dataframe\">\n",
       "  <thead>\n",
       "    <tr style=\"text-align: right;\">\n",
       "      <th></th>\n",
       "      <th>uniqueID</th>\n",
       "      <th>drugName</th>\n",
       "      <th>condition</th>\n",
       "      <th>review</th>\n",
       "      <th>rating</th>\n",
       "      <th>date</th>\n",
       "      <th>usefulCount</th>\n",
       "    </tr>\n",
       "  </thead>\n",
       "  <tbody>\n",
       "    <tr>\n",
       "      <th>243</th>\n",
       "      <td>81588</td>\n",
       "      <td>Yaz</td>\n",
       "      <td>3&lt;/span&gt; users found this comment helpful.</td>\n",
       "      <td>\"I took Yaz for a little over 2 years.  From a...</td>\n",
       "      <td>3</td>\n",
       "      <td>2010-06-01</td>\n",
       "      <td>3</td>\n",
       "    </tr>\n",
       "    <tr>\n",
       "      <th>1864</th>\n",
       "      <td>124318</td>\n",
       "      <td>Skyla</td>\n",
       "      <td>3&lt;/span&gt; users found this comment helpful.</td>\n",
       "      <td>\"Never pregnant,28,retroverted small (6cm) ute...</td>\n",
       "      <td>1</td>\n",
       "      <td>2015-12-16</td>\n",
       "      <td>3</td>\n",
       "    </tr>\n",
       "    <tr>\n",
       "      <th>3322</th>\n",
       "      <td>202848</td>\n",
       "      <td>ProAir HFA</td>\n",
       "      <td>3&lt;/span&gt; users found this comment helpful.</td>\n",
       "      <td>\"I get chest colds and asthmatic symptoms in t...</td>\n",
       "      <td>9</td>\n",
       "      <td>2015-12-12</td>\n",
       "      <td>3</td>\n",
       "    </tr>\n",
       "  </tbody>\n",
       "</table>\n",
       "</div>"
      ],
      "text/plain": [
       "      uniqueID    drugName                                   condition  \\\n",
       "243      81588         Yaz  3</span> users found this comment helpful.   \n",
       "1864    124318       Skyla  3</span> users found this comment helpful.   \n",
       "3322    202848  ProAir HFA  3</span> users found this comment helpful.   \n",
       "\n",
       "                                                 review  rating       date  \\\n",
       "243   \"I took Yaz for a little over 2 years.  From a...       3 2010-06-01   \n",
       "1864  \"Never pregnant,28,retroverted small (6cm) ute...       1 2015-12-16   \n",
       "3322  \"I get chest colds and asthmatic symptoms in t...       9 2015-12-12   \n",
       "\n",
       "      usefulCount  \n",
       "243             3  \n",
       "1864            3  \n",
       "3322            3  "
      ]
     },
     "execution_count": 16,
     "metadata": {},
     "output_type": "execute_result"
    }
   ],
   "source": [
    "df_all[df_all['condition']=='3</span> users found this comment helpful.'].head(3)"
   ]
  },
  {
   "cell_type": "markdown",
   "metadata": {
    "_uuid": "5585d77c9e6c06707fae1e82aea83abc49d75acb"
   },
   "source": [
    "It is expected that for structure of '</ span> users found this comment helpful.' phrase, there will be not only 3, but also 4 as shown above, and other numbers as well. We will remove these data in the future preprocessing.\n",
    "\n",
    "The following are the low 20 conditions of 'drugs per condition'. As you can see, the number is all 1. Considering the recommendation system, it is not feasible to recommend with that when there is only one product. Therefore, we will analyze only the conditions that have at least 2 drugs per condition."
   ]
  },
  {
   "cell_type": "code",
   "execution_count": 17,
   "metadata": {
    "_uuid": "f46bf457b8c4b0a7b4ac2d476f42e38323ca483a"
   },
   "outputs": [
    {
     "data": {
      "text/plain": [
       "Text(0.5, 1.0, 'Bottom20 : The number of drugs per condition.')"
      ]
     },
     "execution_count": 17,
     "metadata": {},
     "output_type": "execute_result"
    },
    {
     "data": {
      "image/png": "[encoded data removed]",
      "text/plain": [
       "<Figure size 1008x432 with 1 Axes>"
      ]
     },
     "metadata": {},
     "output_type": "display_data"
    }
   ],
   "source": [
    "condition_dn = df_all.groupby(['condition'])['drugName'].nunique().sort_values(ascending=False)\n",
    "\n",
    "condition_dn[condition_dn.shape[0]-20:condition_dn.shape[0]].plot(kind=\"bar\", figsize = (14,6), fontsize = 10,color=\"green\")\n",
    "plt.xlabel(\"\", fontsize = 20)\n",
    "plt.ylabel(\"\", fontsize = 20)\n",
    "plt.title(\"Bottom20 : The number of drugs per condition.\", fontsize = 20)"
   ]
  },
  {
   "cell_type": "markdown",
   "metadata": {
    "_uuid": "fd9d70cb99c89d6def5496da845533aa682e68be"
   },
   "source": [
    "Next, let's have a look at the review. First, noticeable parts are the html strings like \\ r \\ n, and the parts that express emotions in parentheses such as (very unusual for him) and (a good thing) and words in capital letters like MUCH."
   ]
  },
  {
   "cell_type": "code",
   "execution_count": 18,
   "metadata": {
    "_uuid": "1c283d11b69ada1b9defd9f5c9fab9d69022b631"
   },
   "outputs": [
    {
     "data": {
      "text/plain": [
       "'\"My son is halfway through his fourth week of Intuniv. We became concerned when he began this last week, when he started taking the highest dose he will be on. For two days, he could hardly get out of bed, was very cranky, and slept for nearly 8 hours on a drive home from school vacation (very unusual for him.) I called his doctor on Monday morning and she said to stick it out a few days. See how he did at school, and with getting up in the morning. The last two days have been problem free. He is MUCH more agreeable than ever. He is less emotional (a good thing), less cranky. He is remembering all the things he should. Overall his behavior is better. \\r\\nWe have tried many different medications and so far this is the most effective.\"'"
      ]
     },
     "execution_count": 18,
     "metadata": {},
     "output_type": "execute_result"
    }
   ],
   "source": [
    "df_train['review'][1]"
   ]
  },
  {
   "cell_type": "markdown",
   "metadata": {
    "_uuid": "89a40ddaee7f0c89ca9d0ad8d14c9e56c0f47b0b"
   },
   "source": [
    "In addition, there were some words with errors like didn&# 039;t for didn't, and also characters like ..."
   ]
  },
  {
   "cell_type": "code",
   "execution_count": 19,
   "metadata": {
    "_uuid": "c7d59b1d8ab8cd481ef1d99b91862fbcd34032d4"
   },
   "outputs": [
    {
     "data": {
      "text/plain": [
       "'\"I used to take another oral contraceptive, which had 21 pill cycle, and was very happy- very light periods, max 5 days, no other side effects. But it contained hormone gestodene, which is not available in US, so I switched to Lybrel, because the ingredients are similar. When my other pills ended, I started Lybrel immediately, on my first day of period, as the instructions said. And the period lasted for two weeks. When taking the second pack- same two weeks. And now, with third pack things got even worse- my third period lasted for two weeks and now it&#039;s the end of the third week- I still have daily brown discharge.\\r\\nThe positive side is that I didn&#039;t have any other side effects. The idea of being period free was so tempting... Alas.\"'"
      ]
     },
     "execution_count": 19,
     "metadata": {},
     "output_type": "execute_result"
    }
   ],
   "source": [
    "df_train['review'][2]"
   ]
  },
  {
   "cell_type": "markdown",
   "metadata": {
    "_uuid": "253b7284fb0685ddff06c1328d2e52a54c1ee884"
   },
   "source": [
    "We will delete these parts in preprocessing as well."
   ]
  },
  {
   "cell_type": "markdown",
   "metadata": {
    "_uuid": "ab15f4931cc199933f76bb659d4825287827fe3d"
   },
   "source": [
    "Next, we will classify 1 ~ 5 as negative, and 6 ~ 10 as positive, and we will check through 1 ~ 4 grams which corpus best classifies emotions."
   ]
  },
  {
   "cell_type": "code",
   "execution_count": 20,
   "metadata": {
    "_kg_hide-input": true,
    "_uuid": "72569a2d173760ec20f1893ee67c74e42773f186"
   },
   "outputs": [],
   "source": [
    "from collections import defaultdict\n",
    "df_all_6_10 = df_all[df_all[\"rating\"]>5]\n",
    "df_all_1_5 = df_all[df_all[\"rating\"]<6]"
   ]
  },
  {
   "cell_type": "code",
   "execution_count": 21,
   "metadata": {},
   "outputs": [
    {
     "name": "stdout",
     "output_type": "stream",
     "text": [
      "[nltk_data] Downloading package stopwords to\n",
      "[nltk_data]     /home/ec2-user/nltk_data...\n",
      "[nltk_data]   Package stopwords is already up-to-date!\n"
     ]
    }
   ],
   "source": [
    "import re\n",
    "import nltk\n",
    "from nltk.corpus import stopwords\n",
    "nltk.download('stopwords')\n",
    "stops = set(stopwords.words('english'))\n"
   ]
  },
  {
   "cell_type": "code",
   "execution_count": 22,
   "metadata": {
    "_uuid": "0b8c382bf6e31efc48656e098dfefc76cf88deff"
   },
   "outputs": [
    {
     "data": {
      "text/plain": [
       "count    215063.000000\n",
       "mean         28.001004\n",
       "std          36.346069\n",
       "min           0.000000\n",
       "25%           6.000000\n",
       "50%          16.000000\n",
       "75%          36.000000\n",
       "max        1291.000000\n",
       "Name: usefulCount, dtype: float64"
      ]
     },
     "execution_count": 22,
     "metadata": {},
     "output_type": "execute_result"
    }
   ],
   "source": [
    "df_all[\"usefulCount\"].describe()"
   ]
  },
  {
   "cell_type": "markdown",
   "metadata": {
    "_uuid": "4bb7102e270fcfa98d9659a577de26ef9611e016"
   },
   "source": [
    "If you look at the distribution of usefulCount, you can see that the difference between minimum and maximum is 1291, which is high. In addition, the deviation is huge, which is 36. The reason for this is that the more drugs people look for, the more people read the review no matter their contents are good or bad, which makes the usefulcount very high. So when we create the model, we will normalize it by conditions, considering people's accessibility."
   ]
  },
  {
   "cell_type": "markdown",
   "metadata": {
    "_uuid": "541ea018457f9107abf3f2c11051b39b2b17198d"
   },
   "source": [
    "### 1.3 Missing value"
   ]
  },
  {
   "cell_type": "code",
   "execution_count": 23,
   "metadata": {
    "_uuid": "fe78d3aec92fbac8f64723535bb47c09a40231c3"
   },
   "outputs": [
    {
     "data": {
      "text/plain": [
       "Text(0.5, 1.0, 'Total Missing Value ')"
      ]
     },
     "execution_count": 23,
     "metadata": {},
     "output_type": "execute_result"
    },
    {
     "data": {
      "image/png": "[encoded data removed]",
      "text/plain": [
       "<Figure size 1008x432 with 1 Axes>"
      ]
     },
     "metadata": {},
     "output_type": "display_data"
    }
   ],
   "source": [
    "percent = (df_all.isnull().sum()).sort_values(ascending=False)\n",
    "percent.plot(kind=\"bar\", figsize = (14,6), fontsize = 10, color='green')\n",
    "plt.xlabel(\"Columns\", fontsize = 20)\n",
    "plt.ylabel(\"\", fontsize = 20)\n",
    "plt.title(\"Total Missing Value \", fontsize = 20)"
   ]
  },
  {
   "cell_type": "code",
   "execution_count": 24,
   "metadata": {
    "_uuid": "bcbd81bf2a4013c6ce9cb81067ab15684171203c"
   },
   "outputs": [
    {
     "name": "stdout",
     "output_type": "stream",
     "text": [
      "Missing value (%): 0.5579760349292998\n"
     ]
    }
   ],
   "source": [
    "print(\"Missing value (%):\", 1200/df_all.shape[0] *100)"
   ]
  },
  {
   "cell_type": "markdown",
   "metadata": {
    "_uuid": "97c340b894003a1ad2fc0b6e589ae351cbd3e253"
   },
   "source": [
    "We will delete because the percentage is lower than 1%."
   ]
  },
  {
   "cell_type": "markdown",
   "metadata": {
    "_uuid": "0c9a363d9fc7b266ee9c8a390d3c841b71126037"
   },
   "source": [
    "## 2. Date Preprocessing"
   ]
  },
  {
   "cell_type": "markdown",
   "metadata": {
    "_uuid": "32e167512298155137e85532b01158049819c100"
   },
   "source": [
    "### 2.1. Missing Values Removal"
   ]
  },
  {
   "cell_type": "code",
   "execution_count": 25,
   "metadata": {
    "_uuid": "af5d3f3c7fccd92a93413514030b6a33b0a89052"
   },
   "outputs": [],
   "source": [
    "df_train = df_train.dropna(axis=0)\n",
    "df_test = df_test.dropna(axis=0)"
   ]
  },
  {
   "cell_type": "code",
   "execution_count": 26,
   "metadata": {
    "_uuid": "1012e7c255ad73cf21048fd6534cb20bbcf6f1ce"
   },
   "outputs": [
    {
     "data": {
      "text/plain": [
       "Text(0.5, 1.0, 'Total Missing Value ')"
      ]
     },
     "execution_count": 26,
     "metadata": {},
     "output_type": "execute_result"
    },
    {
     "data": {
      "image/png": "[encoded data removed]",
      "text/plain": [
       "<Figure size 1008x432 with 1 Axes>"
      ]
     },
     "metadata": {},
     "output_type": "display_data"
    }
   ],
   "source": [
    "df_all = pd.concat([df_train,df_test]).reset_index()\n",
    "del df_all['index']\n",
    "percent = (df_all.isnull().sum()).sort_values(ascending=False)\n",
    "percent.plot(kind=\"bar\", figsize = (14,6), fontsize = 10, color='green')\n",
    "plt.xlabel(\"Columns\", fontsize = 20)\n",
    "plt.ylabel(\"\", fontsize = 20)\n",
    "plt.title(\"Total Missing Value \", fontsize = 20)"
   ]
  },
  {
   "cell_type": "markdown",
   "metadata": {
    "_uuid": "aaceaccc91bf0a846df8a6377558d89824a01c9c"
   },
   "source": [
    "### 2.2 Condition Preprocessing"
   ]
  },
  {
   "cell_type": "markdown",
   "metadata": {
    "_uuid": "127f1391018fc3049ea14df7e5ea43c96812a9c3"
   },
   "source": [
    "We will delete the sentences with the form above."
   ]
  },
  {
   "cell_type": "code",
   "execution_count": 27,
   "metadata": {
    "_uuid": "f4269e93fb9a64b79f9e74db338d4df28e2ba0f8"
   },
   "outputs": [],
   "source": [
    "all_list = set(df_all.index)\n",
    "span_list = []\n",
    "for i,j in enumerate(df_all['condition']):\n",
    "    if '</span>' in j:\n",
    "        span_list.append(i)"
   ]
  },
  {
   "cell_type": "code",
   "execution_count": 28,
   "metadata": {
    "_uuid": "8545b5cdc904897a886bfad95fadf0196515f420"
   },
   "outputs": [],
   "source": [
    "new_idx = all_list.difference(set(span_list))\n",
    "df_all = df_all.iloc[list(new_idx)].reset_index()\n",
    "del df_all['index']"
   ]
  },
  {
   "cell_type": "markdown",
   "metadata": {
    "_uuid": "b1a5f5508ba8367b0e1fe86bbd9356965d104a98"
   },
   "source": [
    "Next, we will delete conditions with only one drug."
   ]
  },
  {
   "cell_type": "code",
   "execution_count": 29,
   "metadata": {
    "_uuid": "13324f1aaed4de4d20c53cd52a6ee2dca301d42a"
   },
   "outputs": [
    {
     "data": {
      "text/html": [
       "<div>\n",
       "<style scoped>\n",
       "    .dataframe tbody tr th:only-of-type {\n",
       "        vertical-align: middle;\n",
       "    }\n",
       "\n",
       "    .dataframe tbody tr th {\n",
       "        vertical-align: top;\n",
       "    }\n",
       "\n",
       "    .dataframe thead th {\n",
       "        text-align: right;\n",
       "    }\n",
       "</style>\n",
       "<table border=\"1\" class=\"dataframe\">\n",
       "  <thead>\n",
       "    <tr style=\"text-align: right;\">\n",
       "      <th></th>\n",
       "      <th>condition</th>\n",
       "      <th>drugName</th>\n",
       "    </tr>\n",
       "  </thead>\n",
       "  <tbody>\n",
       "    <tr>\n",
       "      <th>816</th>\n",
       "      <td>Hemangioma</td>\n",
       "      <td>1</td>\n",
       "    </tr>\n",
       "    <tr>\n",
       "      <th>817</th>\n",
       "      <td>Q Feve</td>\n",
       "      <td>1</td>\n",
       "    </tr>\n",
       "    <tr>\n",
       "      <th>818</th>\n",
       "      <td>Urinary Retention</td>\n",
       "      <td>1</td>\n",
       "    </tr>\n",
       "    <tr>\n",
       "      <th>819</th>\n",
       "      <td>Diagnostic Bronchograms</td>\n",
       "      <td>1</td>\n",
       "    </tr>\n",
       "    <tr>\n",
       "      <th>820</th>\n",
       "      <td>Steroid Responsive Inflammatory Conditions</td>\n",
       "      <td>1</td>\n",
       "    </tr>\n",
       "    <tr>\n",
       "      <th>821</th>\n",
       "      <td>Cluster-Tic Syndrome</td>\n",
       "      <td>1</td>\n",
       "    </tr>\n",
       "    <tr>\n",
       "      <th>822</th>\n",
       "      <td>Nausea (phosphorated carbohydrate solution)</td>\n",
       "      <td>1</td>\n",
       "    </tr>\n",
       "    <tr>\n",
       "      <th>823</th>\n",
       "      <td>Ramsay Hunt Syndrome</td>\n",
       "      <td>1</td>\n",
       "    </tr>\n",
       "    <tr>\n",
       "      <th>824</th>\n",
       "      <td>Rat-bite Feve</td>\n",
       "      <td>1</td>\n",
       "    </tr>\n",
       "    <tr>\n",
       "      <th>825</th>\n",
       "      <td>Hemorrhoids (pramoxine / zinc oxide)</td>\n",
       "      <td>1</td>\n",
       "    </tr>\n",
       "    <tr>\n",
       "      <th>826</th>\n",
       "      <td>Myotonia Congenita</td>\n",
       "      <td>1</td>\n",
       "    </tr>\n",
       "    <tr>\n",
       "      <th>827</th>\n",
       "      <td>Sepsis</td>\n",
       "      <td>1</td>\n",
       "    </tr>\n",
       "    <tr>\n",
       "      <th>828</th>\n",
       "      <td>ailure to Thrive</td>\n",
       "      <td>1</td>\n",
       "    </tr>\n",
       "    <tr>\n",
       "      <th>829</th>\n",
       "      <td>Hepatitis B Prevention</td>\n",
       "      <td>1</td>\n",
       "    </tr>\n",
       "    <tr>\n",
       "      <th>830</th>\n",
       "      <td>Transverse Myelitis</td>\n",
       "      <td>1</td>\n",
       "    </tr>\n",
       "    <tr>\n",
       "      <th>831</th>\n",
       "      <td>Tympanostomy Tube Placement Surgery</td>\n",
       "      <td>1</td>\n",
       "    </tr>\n",
       "    <tr>\n",
       "      <th>832</th>\n",
       "      <td>Muscle Twitching</td>\n",
       "      <td>1</td>\n",
       "    </tr>\n",
       "    <tr>\n",
       "      <th>833</th>\n",
       "      <td>Somatoform Pain Disorde</td>\n",
       "      <td>1</td>\n",
       "    </tr>\n",
       "    <tr>\n",
       "      <th>834</th>\n",
       "      <td>acial Lipoatrophy</td>\n",
       "      <td>1</td>\n",
       "    </tr>\n",
       "    <tr>\n",
       "      <th>835</th>\n",
       "      <td>Rabies Prophylaxis</td>\n",
       "      <td>1</td>\n",
       "    </tr>\n",
       "  </tbody>\n",
       "</table>\n",
       "</div>"
      ],
      "text/plain": [
       "                                       condition  drugName\n",
       "816                                   Hemangioma         1\n",
       "817                                       Q Feve         1\n",
       "818                            Urinary Retention         1\n",
       "819                      Diagnostic Bronchograms         1\n",
       "820   Steroid Responsive Inflammatory Conditions         1\n",
       "821                         Cluster-Tic Syndrome         1\n",
       "822  Nausea (phosphorated carbohydrate solution)         1\n",
       "823                         Ramsay Hunt Syndrome         1\n",
       "824                                Rat-bite Feve         1\n",
       "825         Hemorrhoids (pramoxine / zinc oxide)         1\n",
       "826                           Myotonia Congenita         1\n",
       "827                                       Sepsis         1\n",
       "828                             ailure to Thrive         1\n",
       "829                       Hepatitis B Prevention         1\n",
       "830                          Transverse Myelitis         1\n",
       "831          Tympanostomy Tube Placement Surgery         1\n",
       "832                             Muscle Twitching         1\n",
       "833                      Somatoform Pain Disorde         1\n",
       "834                            acial Lipoatrophy         1\n",
       "835                           Rabies Prophylaxis         1"
      ]
     },
     "execution_count": 29,
     "metadata": {},
     "output_type": "execute_result"
    }
   ],
   "source": [
    "df_condition = df_all.groupby(['condition'])['drugName'].nunique().sort_values(ascending=False)\n",
    "df_condition = pd.DataFrame(df_condition).reset_index()\n",
    "df_condition.tail(20)"
   ]
  },
  {
   "cell_type": "code",
   "execution_count": 30,
   "metadata": {
    "_uuid": "3a1341f12498cbbd65e8e7cd1ab9789e94f5468e"
   },
   "outputs": [
    {
     "data": {
      "text/plain": [
       "0                           Uveitis, Posteri\n",
       "1                    Pseudogout, Prophylaxis\n",
       "2                        Infectious Diarrhea\n",
       "3                   Thyroid Suppression Test\n",
       "4                                 Angioedema\n",
       "5                                Scleroderma\n",
       "6                                        mis\n",
       "7            Anti NMDA Receptor Encephalitis\n",
       "8                                     mist (\n",
       "9    Pruritus of Partial Biliary Obstruction\n",
       "Name: condition, dtype: object"
      ]
     },
     "execution_count": 30,
     "metadata": {},
     "output_type": "execute_result"
    }
   ],
   "source": [
    "df_condition_1 = df_condition[df_condition['drugName']==1].reset_index()\n",
    "df_condition_1['condition'][0:10]"
   ]
  },
  {
   "cell_type": "code",
   "execution_count": 31,
   "metadata": {
    "_uuid": "edf19fcd7a99264a5436034d648b20d0bff2fa7b"
   },
   "outputs": [],
   "source": [
    "all_list = set(df_all.index)\n",
    "condition_list = []\n",
    "for i,j in enumerate(df_all['condition']):\n",
    "    for c in list(df_condition_1['condition']):\n",
    "        if j == c:\n",
    "            condition_list.append(i)\n",
    "            \n",
    "new_idx = all_list.difference(set(condition_list))\n",
    "df_all = df_all.iloc[list(new_idx)].reset_index()\n",
    "del df_all['index']"
   ]
  },
  {
   "cell_type": "markdown",
   "metadata": {
    "_uuid": "cb80a22040f4f9ca03311ce9e1ea782eb8ee89ad"
   },
   "source": [
    "### 2.3 Review Preprocessing"
   ]
  },
  {
   "cell_type": "markdown",
   "metadata": {
    "_uuid": "da532e45210e8a15eb1361aad88fc749eebea620"
   },
   "source": [
    "- \\r\\n : we need to convert html grammer\n",
    "- ... , &#039; : deal with not alphabet"
   ]
  },
  {
   "cell_type": "code",
   "execution_count": 33,
   "metadata": {
    "_kg_hide-output": true,
    "_uuid": "6f546ffb47ae31a30903d4075e8c514a45c7a951"
   },
   "outputs": [],
   "source": [
    "stops = set(stopwords.words('english'))"
   ]
  },
  {
   "cell_type": "code",
   "execution_count": 34,
   "metadata": {
    "_uuid": "275f9e83f9935d0891fa11a6440b6caf4604e5d3"
   },
   "outputs": [],
   "source": [
    "not_stop = [\"aren't\",\"couldn't\",\"didn't\",\"doesn't\",\"don't\",\"hadn't\",\"hasn't\",\"haven't\",\"isn't\",\"mightn't\",\"mustn't\",\"needn't\",\"no\",\"nor\",\"not\",\"shan't\",\"shouldn't\",\"wasn't\",\"weren't\",\"wouldn't\"]\n",
    "for i in not_stop:\n",
    "    stops.remove(i)"
   ]
  },
  {
   "cell_type": "code",
   "execution_count": 36,
   "metadata": {
    "_uuid": "8368a97c8e435adb9f07d144f494fc60a083a5a1"
   },
   "outputs": [],
   "source": [
    "stemmer = SnowballStemmer('english')\n",
    "\n",
    "def review_to_words(raw_review):\n",
    "    # 1. Delete HTML \n",
    "    review_text = BeautifulSoup(raw_review, 'html.parser').get_text()\n",
    "    # 2. Make a space\n",
    "    letters_only = re.sub('[^a-zA-Z]', ' ', review_text)\n",
    "    # 3. lower letters\n",
    "    words = letters_only.lower().split()\n",
    "    # 5. Stopwords \n",
    "    meaningful_words = [w for w in words if not w in stops]\n",
    "    # 6. Stemming\n",
    "    stemming_words = [stemmer.stem(w) for w in meaningful_words]\n",
    "    # 7. space join words\n",
    "    return( ' '.join(stemming_words))"
   ]
  },
  {
   "cell_type": "code",
   "execution_count": 37,
   "metadata": {
    "_uuid": "be46dc37dd26328efedf9ca166b5635e0f13fb53"
   },
   "outputs": [
    {
     "name": "stdout",
     "output_type": "stream",
     "text": [
      "CPU times: user 2min 41s, sys: 298 ms, total: 2min 42s\n",
      "Wall time: 2min 42s\n"
     ]
    }
   ],
   "source": [
    "%time df_all['review_clean'] = df_all['review'].apply(review_to_words)"
   ]
  },
  {
   "cell_type": "markdown",
   "metadata": {
    "_uuid": "1bdd3b519e1df8d4959c77274910f24fb0d35440"
   },
   "source": [
    "## 3. Predictive Model"
   ]
  },
  {
   "cell_type": "markdown",
   "metadata": {
    "_uuid": "6f6301c9d03a198e3ce7b22b172970152ee21b6a"
   },
   "source": [
    "### 3.1. Deep Learning Model Using N-gram"
   ]
  },
  {
   "cell_type": "code",
   "execution_count": null,
   "metadata": {
    "_uuid": "6adae84cb2d9d4e0588cb10033c17447bf976d58"
   },
   "outputs": [],
   "source": [
    "# Make a rating\n",
    "df_all['sentiment'] = df_all[\"rating\"].apply(lambda x: 1 if x > 5 else 0)"
   ]
  },
  {
   "cell_type": "code",
   "execution_count": null,
   "metadata": {
    "_uuid": "ba7f1a884407f9247915b3b6757219501cf13a15"
   },
   "outputs": [],
   "source": [
    "df_train, df_test = train_test_split(df_all, test_size=0.33, random_state=42) "
   ]
  },
  {
   "cell_type": "code",
   "execution_count": null,
   "metadata": {},
   "outputs": [],
   "source": [
    "df_train"
   ]
  },
  {
   "cell_type": "code",
   "execution_count": null,
   "metadata": {
    "_uuid": "d6a9555e8c90e09fab2edaf2107c6b6bfcb588fd"
   },
   "outputs": [],
   "source": [
    "vectorizer = CountVectorizer(analyzer = 'word', \n",
    "                             tokenizer = None,\n",
    "                             preprocessor = None, \n",
    "                             stop_words = None, \n",
    "                             min_df = 2, \n",
    "                             ngram_range=(4, 4),\n",
    "                             max_features = 20000\n",
    "                            )\n",
    "vectorizer"
   ]
  },
  {
   "cell_type": "code",
   "execution_count": null,
   "metadata": {
    "_uuid": "1b983fc4de6f9e7e3be07445c418ef1060d6f02f"
   },
   "outputs": [],
   "source": [
    "\n",
    "pipeline = Pipeline([\n",
    "    ('vect', vectorizer),\n",
    "])"
   ]
  },
  {
   "cell_type": "code",
   "execution_count": null,
   "metadata": {
    "_uuid": "3b1e9c628a7dec80e1e863f7acffdae64e3ae7ab"
   },
   "outputs": [],
   "source": [
    "%time train_data_features = pipeline.fit_transform(df_train['review_clean'])\n",
    "%time test_data_features = pipeline.fit_transform(df_test['review_clean'])\n"
   ]
  },
  {
   "cell_type": "code",
   "execution_count": null,
   "metadata": {},
   "outputs": [],
   "source": [
    "all_features=pipeline.fit_transform(df_all['review_clean'])"
   ]
  },
  {
   "cell_type": "code",
   "execution_count": null,
   "metadata": {
    "_uuid": "ce3dfe83a105f9628b61ee107c3fed27f252fb40"
   },
   "outputs": [],
   "source": [
    "# 1. Dataset\n",
    "y_train = df_train['sentiment']\n",
    "y_test = df_test['sentiment']\n",
    "solution = y_test.copy()\n",
    "\n",
    "# 2. Model Structure\n",
    "model = keras.models.Sequential()\n",
    "\n",
    "model.add(keras.layers.Dense(200, input_shape=(20000,)))\n",
    "model.add(keras.layers.BatchNormalization())\n",
    "model.add(keras.layers.Activation('relu'))\n",
    "model.add(keras.layers.Dropout(0.5))\n",
    "\n",
    "model.add(keras.layers.Dense(300))\n",
    "model.add(keras.layers.BatchNormalization())\n",
    "model.add(keras.layers.Activation('relu'))\n",
    "model.add(keras.layers.Dropout(0.5))\n",
    "\n",
    "model.add(keras.layers.Dense(100, activation='relu'))\n",
    "model.add(keras.layers.Dense(1, activation='sigmoid'))\n",
    "\n",
    "# 3. Model compile\n",
    "model.compile(optimizer='adam', loss='binary_crossentropy', metrics=['accuracy'])"
   ]
  },
  {
   "cell_type": "code",
   "execution_count": null,
   "metadata": {
    "_uuid": "ea8db26bcd3cba382ff381684b3f229d381bca5f"
   },
   "outputs": [],
   "source": [
    "model.summary()"
   ]
  },
  {
   "cell_type": "code",
   "execution_count": null,
   "metadata": {},
   "outputs": [],
   "source": [
    "train_data_features"
   ]
  },
  {
   "cell_type": "code",
   "execution_count": null,
   "metadata": {
    "scrolled": true
   },
   "outputs": [],
   "source": [
    "y_train"
   ]
  },
  {
   "cell_type": "code",
   "execution_count": null,
   "metadata": {
    "_uuid": "48b6724a5d7b994c15bd4505bccdb6b3e602ba21"
   },
   "outputs": [],
   "source": [
    "# 4. Train model\n",
    "hist = model.fit(train_data_features, y_train, epochs=10, batch_size=64)\n",
    "\n",
    "# 5. Traing process\n",
    "%matplotlib inline\n",
    "import matplotlib.pyplot as plt\n",
    "\n",
    "fig, loss_ax = plt.subplots()\n",
    "\n",
    "acc_ax = loss_ax.twinx()\n",
    "\n",
    "loss_ax.set_ylim([0.0, 1.0])\n",
    "acc_ax.set_ylim([0.0, 1.0])\n",
    "\n",
    "loss_ax.plot(hist.history['loss'], 'y', label='train loss')\n",
    "acc_ax.plot(hist.history['acc'], 'b', label='train acc')\n",
    "\n",
    "loss_ax.set_xlabel('epoch')\n",
    "loss_ax.set_ylabel('loss')\n",
    "acc_ax.set_ylabel('accuray')\n",
    "\n",
    "loss_ax.legend(loc='upper left')\n",
    "acc_ax.legend(loc='lower left')\n",
    "\n",
    "plt.show()"
   ]
  },
  {
   "cell_type": "code",
   "execution_count": null,
   "metadata": {},
   "outputs": [],
   "source": [
    "# 6. Evaluation\n",
    "loss_and_metrics = model.evaluate(test_data_features, y_test, batch_size=32)\n",
    "print('loss_and_metrics : ' + str(loss_and_metrics))"
   ]
  },
  {
   "cell_type": "code",
   "execution_count": null,
   "metadata": {
    "_uuid": "d678d5dd391fc455de2cad0b4b8f6fe76374583c"
   },
   "outputs": [],
   "source": [
    "sub_preds_deep = model.predict(all_features,batch_size=32)"
   ]
  },
  {
   "cell_type": "code",
   "execution_count": null,
   "metadata": {
    "_uuid": "ff0e4b2e3a4c9d6b82b2f32a9ac8601f2a18573d"
   },
   "outputs": [],
   "source": [
    "df_all['deep_pred'] = sub_preds_deep"
   ]
  },
  {
   "cell_type": "code",
   "execution_count": null,
   "metadata": {},
   "outputs": [],
   "source": [
    "df_all.to_csv('final.csv')"
   ]
  },
  {
   "cell_type": "code",
   "execution_count": null,
   "metadata": {
    "_uuid": "46e8ff4f7569243d85c489e5034e37850ce623f3",
    "scrolled": true
   },
   "outputs": [],
   "source": [
    "df_all = df_all.groupby(['condition','drugName']).agg({'deep_pred' : ['mean']})\n",
    "df_all"
   ]
  },
  {
   "cell_type": "code",
   "execution_count": null,
   "metadata": {},
   "outputs": [],
   "source": [
    "if df_test['condition'] == df['condition']:\n",
    "     "
   ]
  },
  {
   "cell_type": "code",
   "execution_count": null,
   "metadata": {},
   "outputs": [],
   "source": [
    "import pandas as pd\n",
    "df_all_r = pd.read_csv('final.csv')"
   ]
  },
  {
   "cell_type": "code",
   "execution_count": null,
   "metadata": {
    "scrolled": true
   },
   "outputs": [],
   "source": [
    "df_all_r"
   ]
  },
  {
   "cell_type": "code",
   "execution_count": null,
   "metadata": {},
   "outputs": [],
   "source": [
    "df_all_r = df_all_r.groupby(['Unnamed: 0','Unnamed: 1']).agg({'deep_pred' : ['mean']})"
   ]
  },
  {
   "cell_type": "markdown",
   "metadata": {
    "_uuid": "f03520f613d39b0721baae76ebca2be0f722cdb3"
   },
   "source": [
    "## 4. Result"
   ]
  },
  {
   "cell_type": "markdown",
   "metadata": {
    "_uuid": "1fac2f7625a0a7f7e8d349adcff64e0e50bf75e6"
   },
   "source": [
    "Our team set the topic as recommending the right medicine for the patient's condition with reviews and proceeded the project according to the topic with the data exploration, data preprocessing and modeling. In the data exploration section, we looked at the forms of data using visualization techniques and statistical techniques. The next step was to preprocess the data according to the topic we set, such as removing the condition that has only one drug for recommendation. In the process of modeling, we used deep learning model with n-gram.These steps allowed us to calculate the final predicted value and recommend the appropriate drug for each condition according to the order of the value."
   ]
  },
  {
   "cell_type": "code",
   "execution_count": 1,
   "metadata": {},
   "outputs": [],
   "source": [
    "df_all_r = pd.read_csv('final.csv')"
   ]
  },
  {
   "cell_type": "code",
   "execution_count": 2,
   "metadata": {
    "scrolled": true
   },
   "outputs": [
    {
     "data": {
      "text/html": [
       "<div>\n",
       "<style scoped>\n",
       "    .dataframe tbody tr th:only-of-type {\n",
       "        vertical-align: middle;\n",
       "    }\n",
       "\n",
       "    .dataframe tbody tr th {\n",
       "        vertical-align: top;\n",
       "    }\n",
       "\n",
       "    .dataframe thead th {\n",
       "        text-align: right;\n",
       "    }\n",
       "</style>\n",
       "<table border=\"1\" class=\"dataframe\">\n",
       "  <thead>\n",
       "    <tr style=\"text-align: right;\">\n",
       "      <th></th>\n",
       "      <th>Unnamed: 0</th>\n",
       "      <th>Unnamed: 1</th>\n",
       "      <th>deep_pred</th>\n",
       "    </tr>\n",
       "  </thead>\n",
       "  <tbody>\n",
       "    <tr>\n",
       "      <th>0</th>\n",
       "      <td>NaN</td>\n",
       "      <td>NaN</td>\n",
       "      <td>mean</td>\n",
       "    </tr>\n",
       "    <tr>\n",
       "      <th>1</th>\n",
       "      <td>condition</td>\n",
       "      <td>drugName</td>\n",
       "      <td>NaN</td>\n",
       "    </tr>\n",
       "    <tr>\n",
       "      <th>2</th>\n",
       "      <td>ADHD</td>\n",
       "      <td>Adderall</td>\n",
       "      <td>0.6800304</td>\n",
       "    </tr>\n",
       "    <tr>\n",
       "      <th>3</th>\n",
       "      <td>ADHD</td>\n",
       "      <td>Adderall XR</td>\n",
       "      <td>0.69680107</td>\n",
       "    </tr>\n",
       "    <tr>\n",
       "      <th>4</th>\n",
       "      <td>ADHD</td>\n",
       "      <td>Adzenys XR-ODT</td>\n",
       "      <td>0.591997</td>\n",
       "    </tr>\n",
       "    <tr>\n",
       "      <th>5</th>\n",
       "      <td>ADHD</td>\n",
       "      <td>Amantadine</td>\n",
       "      <td>0.78281283</td>\n",
       "    </tr>\n",
       "    <tr>\n",
       "      <th>6</th>\n",
       "      <td>ADHD</td>\n",
       "      <td>Amphetamine</td>\n",
       "      <td>0.6323861</td>\n",
       "    </tr>\n",
       "    <tr>\n",
       "      <th>7</th>\n",
       "      <td>ADHD</td>\n",
       "      <td>Amphetamine / dextroamphetamine</td>\n",
       "      <td>0.689662</td>\n",
       "    </tr>\n",
       "    <tr>\n",
       "      <th>8</th>\n",
       "      <td>ADHD</td>\n",
       "      <td>Aptensio XR</td>\n",
       "      <td>0.8589785</td>\n",
       "    </tr>\n",
       "    <tr>\n",
       "      <th>9</th>\n",
       "      <td>ADHD</td>\n",
       "      <td>Armodafinil</td>\n",
       "      <td>0.6475846</td>\n",
       "    </tr>\n",
       "    <tr>\n",
       "      <th>10</th>\n",
       "      <td>ADHD</td>\n",
       "      <td>Atomoxetine</td>\n",
       "      <td>0.6906622</td>\n",
       "    </tr>\n",
       "    <tr>\n",
       "      <th>11</th>\n",
       "      <td>ADHD</td>\n",
       "      <td>Budeprion XL</td>\n",
       "      <td>0.67624617</td>\n",
       "    </tr>\n",
       "    <tr>\n",
       "      <th>12</th>\n",
       "      <td>ADHD</td>\n",
       "      <td>Bupropion</td>\n",
       "      <td>0.69847214</td>\n",
       "    </tr>\n",
       "    <tr>\n",
       "      <th>13</th>\n",
       "      <td>ADHD</td>\n",
       "      <td>Catapres</td>\n",
       "      <td>0.84745115</td>\n",
       "    </tr>\n",
       "    <tr>\n",
       "      <th>14</th>\n",
       "      <td>ADHD</td>\n",
       "      <td>Clonidine</td>\n",
       "      <td>0.7787613</td>\n",
       "    </tr>\n",
       "    <tr>\n",
       "      <th>15</th>\n",
       "      <td>ADHD</td>\n",
       "      <td>Concerta</td>\n",
       "      <td>0.6858946</td>\n",
       "    </tr>\n",
       "    <tr>\n",
       "      <th>16</th>\n",
       "      <td>ADHD</td>\n",
       "      <td>Cylert</td>\n",
       "      <td>0.76087755</td>\n",
       "    </tr>\n",
       "    <tr>\n",
       "      <th>17</th>\n",
       "      <td>ADHD</td>\n",
       "      <td>Daytrana</td>\n",
       "      <td>0.6716822</td>\n",
       "    </tr>\n",
       "    <tr>\n",
       "      <th>18</th>\n",
       "      <td>ADHD</td>\n",
       "      <td>Desipramine</td>\n",
       "      <td>0.61036783</td>\n",
       "    </tr>\n",
       "    <tr>\n",
       "      <th>19</th>\n",
       "      <td>ADHD</td>\n",
       "      <td>Desoxyn</td>\n",
       "      <td>0.6798358</td>\n",
       "    </tr>\n",
       "    <tr>\n",
       "      <th>20</th>\n",
       "      <td>ADHD</td>\n",
       "      <td>Desvenlafaxine</td>\n",
       "      <td>0.954976</td>\n",
       "    </tr>\n",
       "    <tr>\n",
       "      <th>21</th>\n",
       "      <td>ADHD</td>\n",
       "      <td>Dexedrine</td>\n",
       "      <td>0.6771454</td>\n",
       "    </tr>\n",
       "    <tr>\n",
       "      <th>22</th>\n",
       "      <td>ADHD</td>\n",
       "      <td>Dexmethylphenidate</td>\n",
       "      <td>0.66786903</td>\n",
       "    </tr>\n",
       "    <tr>\n",
       "      <th>23</th>\n",
       "      <td>ADHD</td>\n",
       "      <td>Dextroamphetamine</td>\n",
       "      <td>0.668093</td>\n",
       "    </tr>\n",
       "    <tr>\n",
       "      <th>24</th>\n",
       "      <td>ADHD</td>\n",
       "      <td>Dextrostat</td>\n",
       "      <td>0.67624617</td>\n",
       "    </tr>\n",
       "    <tr>\n",
       "      <th>25</th>\n",
       "      <td>ADHD</td>\n",
       "      <td>Dyanavel XR</td>\n",
       "      <td>0.6436898</td>\n",
       "    </tr>\n",
       "    <tr>\n",
       "      <th>26</th>\n",
       "      <td>ADHD</td>\n",
       "      <td>Evekeo</td>\n",
       "      <td>0.6797665</td>\n",
       "    </tr>\n",
       "    <tr>\n",
       "      <th>27</th>\n",
       "      <td>ADHD</td>\n",
       "      <td>Focalin</td>\n",
       "      <td>0.67745584</td>\n",
       "    </tr>\n",
       "    <tr>\n",
       "      <th>28</th>\n",
       "      <td>ADHD</td>\n",
       "      <td>Focalin XR</td>\n",
       "      <td>0.6541314</td>\n",
       "    </tr>\n",
       "    <tr>\n",
       "      <th>29</th>\n",
       "      <td>ADHD</td>\n",
       "      <td>Guanfacine</td>\n",
       "      <td>0.7287347</td>\n",
       "    </tr>\n",
       "    <tr>\n",
       "      <th>...</th>\n",
       "      <td>...</td>\n",
       "      <td>...</td>\n",
       "      <td>...</td>\n",
       "    </tr>\n",
       "    <tr>\n",
       "      <th>8423</th>\n",
       "      <td>llicle Stimulation</td>\n",
       "      <td>Menotropins</td>\n",
       "      <td>0.67624617</td>\n",
       "    </tr>\n",
       "    <tr>\n",
       "      <th>8424</th>\n",
       "      <td>m Pain Disorde</td>\n",
       "      <td>Amitriptyline</td>\n",
       "      <td>0.9871491</td>\n",
       "    </tr>\n",
       "    <tr>\n",
       "      <th>8425</th>\n",
       "      <td>m Pain Disorde</td>\n",
       "      <td>Milnacipran</td>\n",
       "      <td>0.67624617</td>\n",
       "    </tr>\n",
       "    <tr>\n",
       "      <th>8426</th>\n",
       "      <td>m Pain Disorde</td>\n",
       "      <td>Venlafaxine</td>\n",
       "      <td>0.67624617</td>\n",
       "    </tr>\n",
       "    <tr>\n",
       "      <th>8427</th>\n",
       "      <td>me</td>\n",
       "      <td>Bevacizumab</td>\n",
       "      <td>0.67624617</td>\n",
       "    </tr>\n",
       "    <tr>\n",
       "      <th>8428</th>\n",
       "      <td>me</td>\n",
       "      <td>Temozolomide</td>\n",
       "      <td>0.67624617</td>\n",
       "    </tr>\n",
       "    <tr>\n",
       "      <th>8429</th>\n",
       "      <td>min)</td>\n",
       "      <td>Alogliptin / metformin</td>\n",
       "      <td>0.67624617</td>\n",
       "    </tr>\n",
       "    <tr>\n",
       "      <th>8430</th>\n",
       "      <td>min)</td>\n",
       "      <td>Dapagliflozin / metformin</td>\n",
       "      <td>0.82101697</td>\n",
       "    </tr>\n",
       "    <tr>\n",
       "      <th>8431</th>\n",
       "      <td>min)</td>\n",
       "      <td>Empagliflozin / metformin</td>\n",
       "      <td>0.8841609</td>\n",
       "    </tr>\n",
       "    <tr>\n",
       "      <th>8432</th>\n",
       "      <td>min)</td>\n",
       "      <td>Glyburide / metformin</td>\n",
       "      <td>0.67624617</td>\n",
       "    </tr>\n",
       "    <tr>\n",
       "      <th>8433</th>\n",
       "      <td>min)</td>\n",
       "      <td>Linagliptin / metformin</td>\n",
       "      <td>0.62471616</td>\n",
       "    </tr>\n",
       "    <tr>\n",
       "      <th>8434</th>\n",
       "      <td>min)</td>\n",
       "      <td>Metformin</td>\n",
       "      <td>0.7181926</td>\n",
       "    </tr>\n",
       "    <tr>\n",
       "      <th>8435</th>\n",
       "      <td>moterol)</td>\n",
       "      <td>Arformoterol</td>\n",
       "      <td>0.67624617</td>\n",
       "    </tr>\n",
       "    <tr>\n",
       "      <th>8436</th>\n",
       "      <td>moterol)</td>\n",
       "      <td>Budesonide / formoterol</td>\n",
       "      <td>0.65088123</td>\n",
       "    </tr>\n",
       "    <tr>\n",
       "      <th>8437</th>\n",
       "      <td>moterol)</td>\n",
       "      <td>Formoterol</td>\n",
       "      <td>0.6673601</td>\n",
       "    </tr>\n",
       "    <tr>\n",
       "      <th>8438</th>\n",
       "      <td>t Care</td>\n",
       "      <td>Salicylic acid / urea</td>\n",
       "      <td>0.67624617</td>\n",
       "    </tr>\n",
       "    <tr>\n",
       "      <th>8439</th>\n",
       "      <td>t Care</td>\n",
       "      <td>Salvax Duo</td>\n",
       "      <td>0.67624617</td>\n",
       "    </tr>\n",
       "    <tr>\n",
       "      <th>8440</th>\n",
       "      <td>von Willebrand's Disease</td>\n",
       "      <td>Antihemophilic factor / von willebrand factor</td>\n",
       "      <td>0.67624617</td>\n",
       "    </tr>\n",
       "    <tr>\n",
       "      <th>8441</th>\n",
       "      <td>von Willebrand's Disease</td>\n",
       "      <td>Desmopressin</td>\n",
       "      <td>0.5688089</td>\n",
       "    </tr>\n",
       "    <tr>\n",
       "      <th>8442</th>\n",
       "      <td>von Willebrand's Disease</td>\n",
       "      <td>Humate-P</td>\n",
       "      <td>0.67624617</td>\n",
       "    </tr>\n",
       "    <tr>\n",
       "      <th>8443</th>\n",
       "      <td>von Willebrand's Disease</td>\n",
       "      <td>Stimate</td>\n",
       "      <td>0.5688089</td>\n",
       "    </tr>\n",
       "    <tr>\n",
       "      <th>8444</th>\n",
       "      <td>zen Shoulde</td>\n",
       "      <td>Aleve</td>\n",
       "      <td>0.67624617</td>\n",
       "    </tr>\n",
       "    <tr>\n",
       "      <th>8445</th>\n",
       "      <td>zen Shoulde</td>\n",
       "      <td>Diclofenac</td>\n",
       "      <td>0.67624617</td>\n",
       "    </tr>\n",
       "    <tr>\n",
       "      <th>8446</th>\n",
       "      <td>zen Shoulde</td>\n",
       "      <td>Ibuprofen</td>\n",
       "      <td>0.67624617</td>\n",
       "    </tr>\n",
       "    <tr>\n",
       "      <th>8447</th>\n",
       "      <td>zen Shoulde</td>\n",
       "      <td>Indocin</td>\n",
       "      <td>0.67624617</td>\n",
       "    </tr>\n",
       "    <tr>\n",
       "      <th>8448</th>\n",
       "      <td>zen Shoulde</td>\n",
       "      <td>Indomethacin</td>\n",
       "      <td>0.67624617</td>\n",
       "    </tr>\n",
       "    <tr>\n",
       "      <th>8449</th>\n",
       "      <td>zen Shoulde</td>\n",
       "      <td>Nabumetone</td>\n",
       "      <td>0.61303514</td>\n",
       "    </tr>\n",
       "    <tr>\n",
       "      <th>8450</th>\n",
       "      <td>zen Shoulde</td>\n",
       "      <td>Naproxen</td>\n",
       "      <td>0.7044122</td>\n",
       "    </tr>\n",
       "    <tr>\n",
       "      <th>8451</th>\n",
       "      <td>zen Shoulde</td>\n",
       "      <td>Relafen</td>\n",
       "      <td>0.830437</td>\n",
       "    </tr>\n",
       "    <tr>\n",
       "      <th>8452</th>\n",
       "      <td>zen Shoulde</td>\n",
       "      <td>Voltaren</td>\n",
       "      <td>0.67624617</td>\n",
       "    </tr>\n",
       "  </tbody>\n",
       "</table>\n",
       "<p>8453 rows × 3 columns</p>\n",
       "</div>"
      ],
      "text/plain": [
       "                    Unnamed: 0                                     Unnamed: 1  \\\n",
       "0                          NaN                                            NaN   \n",
       "1                    condition                                       drugName   \n",
       "2                         ADHD                                       Adderall   \n",
       "3                         ADHD                                    Adderall XR   \n",
       "4                         ADHD                                 Adzenys XR-ODT   \n",
       "5                         ADHD                                     Amantadine   \n",
       "6                         ADHD                                    Amphetamine   \n",
       "7                         ADHD                Amphetamine / dextroamphetamine   \n",
       "8                         ADHD                                    Aptensio XR   \n",
       "9                         ADHD                                    Armodafinil   \n",
       "10                        ADHD                                    Atomoxetine   \n",
       "11                        ADHD                                   Budeprion XL   \n",
       "12                        ADHD                                      Bupropion   \n",
       "13                        ADHD                                       Catapres   \n",
       "14                        ADHD                                      Clonidine   \n",
       "15                        ADHD                                       Concerta   \n",
       "16                        ADHD                                         Cylert   \n",
       "17                        ADHD                                       Daytrana   \n",
       "18                        ADHD                                    Desipramine   \n",
       "19                        ADHD                                        Desoxyn   \n",
       "20                        ADHD                                 Desvenlafaxine   \n",
       "21                        ADHD                                      Dexedrine   \n",
       "22                        ADHD                             Dexmethylphenidate   \n",
       "23                        ADHD                              Dextroamphetamine   \n",
       "24                        ADHD                                     Dextrostat   \n",
       "25                        ADHD                                    Dyanavel XR   \n",
       "26                        ADHD                                         Evekeo   \n",
       "27                        ADHD                                        Focalin   \n",
       "28                        ADHD                                     Focalin XR   \n",
       "29                        ADHD                                     Guanfacine   \n",
       "...                        ...                                            ...   \n",
       "8423        llicle Stimulation                                    Menotropins   \n",
       "8424            m Pain Disorde                                  Amitriptyline   \n",
       "8425            m Pain Disorde                                    Milnacipran   \n",
       "8426            m Pain Disorde                                    Venlafaxine   \n",
       "8427                        me                                    Bevacizumab   \n",
       "8428                        me                                   Temozolomide   \n",
       "8429                      min)                         Alogliptin / metformin   \n",
       "8430                      min)                      Dapagliflozin / metformin   \n",
       "8431                      min)                      Empagliflozin / metformin   \n",
       "8432                      min)                          Glyburide / metformin   \n",
       "8433                      min)                        Linagliptin / metformin   \n",
       "8434                      min)                                      Metformin   \n",
       "8435                  moterol)                                   Arformoterol   \n",
       "8436                  moterol)                        Budesonide / formoterol   \n",
       "8437                  moterol)                                     Formoterol   \n",
       "8438                    t Care                          Salicylic acid / urea   \n",
       "8439                    t Care                                     Salvax Duo   \n",
       "8440  von Willebrand's Disease  Antihemophilic factor / von willebrand factor   \n",
       "8441  von Willebrand's Disease                                   Desmopressin   \n",
       "8442  von Willebrand's Disease                                       Humate-P   \n",
       "8443  von Willebrand's Disease                                        Stimate   \n",
       "8444               zen Shoulde                                          Aleve   \n",
       "8445               zen Shoulde                                     Diclofenac   \n",
       "8446               zen Shoulde                                      Ibuprofen   \n",
       "8447               zen Shoulde                                        Indocin   \n",
       "8448               zen Shoulde                                   Indomethacin   \n",
       "8449               zen Shoulde                                     Nabumetone   \n",
       "8450               zen Shoulde                                       Naproxen   \n",
       "8451               zen Shoulde                                        Relafen   \n",
       "8452               zen Shoulde                                       Voltaren   \n",
       "\n",
       "       deep_pred  \n",
       "0           mean  \n",
       "1            NaN  \n",
       "2      0.6800304  \n",
       "3     0.69680107  \n",
       "4       0.591997  \n",
       "5     0.78281283  \n",
       "6      0.6323861  \n",
       "7       0.689662  \n",
       "8      0.8589785  \n",
       "9      0.6475846  \n",
       "10     0.6906622  \n",
       "11    0.67624617  \n",
       "12    0.69847214  \n",
       "13    0.84745115  \n",
       "14     0.7787613  \n",
       "15     0.6858946  \n",
       "16    0.76087755  \n",
       "17     0.6716822  \n",
       "18    0.61036783  \n",
       "19     0.6798358  \n",
       "20      0.954976  \n",
       "21     0.6771454  \n",
       "22    0.66786903  \n",
       "23      0.668093  \n",
       "24    0.67624617  \n",
       "25     0.6436898  \n",
       "26     0.6797665  \n",
       "27    0.67745584  \n",
       "28     0.6541314  \n",
       "29     0.7287347  \n",
       "...          ...  \n",
       "8423  0.67624617  \n",
       "8424   0.9871491  \n",
       "8425  0.67624617  \n",
       "8426  0.67624617  \n",
       "8427  0.67624617  \n",
       "8428  0.67624617  \n",
       "8429  0.67624617  \n",
       "8430  0.82101697  \n",
       "8431   0.8841609  \n",
       "8432  0.67624617  \n",
       "8433  0.62471616  \n",
       "8434   0.7181926  \n",
       "8435  0.67624617  \n",
       "8436  0.65088123  \n",
       "8437   0.6673601  \n",
       "8438  0.67624617  \n",
       "8439  0.67624617  \n",
       "8440  0.67624617  \n",
       "8441   0.5688089  \n",
       "8442  0.67624617  \n",
       "8443   0.5688089  \n",
       "8444  0.67624617  \n",
       "8445  0.67624617  \n",
       "8446  0.67624617  \n",
       "8447  0.67624617  \n",
       "8448  0.67624617  \n",
       "8449  0.61303514  \n",
       "8450   0.7044122  \n",
       "8451    0.830437  \n",
       "8452  0.67624617  \n",
       "\n",
       "[8453 rows x 3 columns]"
      ]
     },
     "execution_count": 2,
     "metadata": {},
     "output_type": "execute_result"
    }
   ],
   "source": [
    "df_all_r"
   ]
  },
  {
   "cell_type": "code",
   "execution_count": 3,
   "metadata": {},
   "outputs": [],
   "source": [
    "df = df_all_r.iloc[2:]"
   ]
  },
  {
   "cell_type": "code",
   "execution_count": 4,
   "metadata": {
    "scrolled": false
   },
   "outputs": [
    {
     "data": {
      "text/html": [
       "<div>\n",
       "<style scoped>\n",
       "    .dataframe tbody tr th:only-of-type {\n",
       "        vertical-align: middle;\n",
       "    }\n",
       "\n",
       "    .dataframe tbody tr th {\n",
       "        vertical-align: top;\n",
       "    }\n",
       "\n",
       "    .dataframe thead th {\n",
       "        text-align: right;\n",
       "    }\n",
       "</style>\n",
       "<table border=\"1\" class=\"dataframe\">\n",
       "  <thead>\n",
       "    <tr style=\"text-align: right;\">\n",
       "      <th></th>\n",
       "      <th>Unnamed: 0</th>\n",
       "      <th>Unnamed: 1</th>\n",
       "      <th>deep_pred</th>\n",
       "    </tr>\n",
       "  </thead>\n",
       "  <tbody>\n",
       "    <tr>\n",
       "      <th>2</th>\n",
       "      <td>ADHD</td>\n",
       "      <td>Adderall</td>\n",
       "      <td>0.6800304</td>\n",
       "    </tr>\n",
       "    <tr>\n",
       "      <th>3</th>\n",
       "      <td>ADHD</td>\n",
       "      <td>Adderall XR</td>\n",
       "      <td>0.69680107</td>\n",
       "    </tr>\n",
       "    <tr>\n",
       "      <th>4</th>\n",
       "      <td>ADHD</td>\n",
       "      <td>Adzenys XR-ODT</td>\n",
       "      <td>0.591997</td>\n",
       "    </tr>\n",
       "    <tr>\n",
       "      <th>5</th>\n",
       "      <td>ADHD</td>\n",
       "      <td>Amantadine</td>\n",
       "      <td>0.78281283</td>\n",
       "    </tr>\n",
       "    <tr>\n",
       "      <th>6</th>\n",
       "      <td>ADHD</td>\n",
       "      <td>Amphetamine</td>\n",
       "      <td>0.6323861</td>\n",
       "    </tr>\n",
       "  </tbody>\n",
       "</table>\n",
       "</div>"
      ],
      "text/plain": [
       "  Unnamed: 0      Unnamed: 1   deep_pred\n",
       "2       ADHD        Adderall   0.6800304\n",
       "3       ADHD     Adderall XR  0.69680107\n",
       "4       ADHD  Adzenys XR-ODT    0.591997\n",
       "5       ADHD      Amantadine  0.78281283\n",
       "6       ADHD     Amphetamine   0.6323861"
      ]
     },
     "execution_count": 4,
     "metadata": {},
     "output_type": "execute_result"
    }
   ],
   "source": [
    "df.head()"
   ]
  },
  {
   "cell_type": "code",
   "execution_count": 5,
   "metadata": {},
   "outputs": [],
   "source": [
    "df.columns = ['condition','drugName','deep_pred']"
   ]
  },
  {
   "cell_type": "code",
   "execution_count": 6,
   "metadata": {},
   "outputs": [
    {
     "data": {
      "text/plain": [
       "Index(['condition', 'drugName', 'deep_pred'], dtype='object')"
      ]
     },
     "execution_count": 6,
     "metadata": {},
     "output_type": "execute_result"
    }
   ],
   "source": [
    "df.columns"
   ]
  },
  {
   "cell_type": "code",
   "execution_count": 7,
   "metadata": {
    "scrolled": true
   },
   "outputs": [
    {
     "data": {
      "text/plain": [
       "condition    object\n",
       "drugName     object\n",
       "deep_pred    object\n",
       "dtype: object"
      ]
     },
     "execution_count": 7,
     "metadata": {},
     "output_type": "execute_result"
    }
   ],
   "source": [
    "df.dtypes"
   ]
  },
  {
   "cell_type": "code",
   "execution_count": 8,
   "metadata": {},
   "outputs": [
    {
     "name": "stderr",
     "output_type": "stream",
     "text": [
      "/home/ec2-user/anaconda3/envs/tensorflow_p36/lib/python3.6/site-packages/ipykernel/__main__.py:1: SettingWithCopyWarning: \n",
      "A value is trying to be set on a copy of a slice from a DataFrame.\n",
      "Try using .loc[row_indexer,col_indexer] = value instead\n",
      "\n",
      "See the caveats in the documentation: http://pandas.pydata.org/pandas-docs/stable/indexing.html#indexing-view-versus-copy\n",
      "  if __name__ == '__main__':\n"
     ]
    }
   ],
   "source": [
    "df['deep_pred'] = df['deep_pred'].astype(str).astype(float)"
   ]
  },
  {
   "cell_type": "code",
   "execution_count": 9,
   "metadata": {},
   "outputs": [
    {
     "data": {
      "text/plain": [
       "condition     object\n",
       "drugName      object\n",
       "deep_pred    float64\n",
       "dtype: object"
      ]
     },
     "execution_count": 9,
     "metadata": {},
     "output_type": "execute_result"
    }
   ],
   "source": [
    "df.dtypes"
   ]
  },
  {
   "cell_type": "code",
   "execution_count": 10,
   "metadata": {
    "scrolled": true
   },
   "outputs": [
    {
     "data": {
      "text/html": [
       "<div>\n",
       "<style scoped>\n",
       "    .dataframe tbody tr th:only-of-type {\n",
       "        vertical-align: middle;\n",
       "    }\n",
       "\n",
       "    .dataframe tbody tr th {\n",
       "        vertical-align: top;\n",
       "    }\n",
       "\n",
       "    .dataframe thead th {\n",
       "        text-align: right;\n",
       "    }\n",
       "</style>\n",
       "<table border=\"1\" class=\"dataframe\">\n",
       "  <thead>\n",
       "    <tr style=\"text-align: right;\">\n",
       "      <th></th>\n",
       "      <th>condition</th>\n",
       "      <th>drugName</th>\n",
       "      <th>deep_pred</th>\n",
       "    </tr>\n",
       "  </thead>\n",
       "  <tbody>\n",
       "    <tr>\n",
       "      <th>2</th>\n",
       "      <td>ADHD</td>\n",
       "      <td>Adderall</td>\n",
       "      <td>0.680030</td>\n",
       "    </tr>\n",
       "    <tr>\n",
       "      <th>3</th>\n",
       "      <td>ADHD</td>\n",
       "      <td>Adderall XR</td>\n",
       "      <td>0.696801</td>\n",
       "    </tr>\n",
       "    <tr>\n",
       "      <th>4</th>\n",
       "      <td>ADHD</td>\n",
       "      <td>Adzenys XR-ODT</td>\n",
       "      <td>0.591997</td>\n",
       "    </tr>\n",
       "    <tr>\n",
       "      <th>5</th>\n",
       "      <td>ADHD</td>\n",
       "      <td>Amantadine</td>\n",
       "      <td>0.782813</td>\n",
       "    </tr>\n",
       "    <tr>\n",
       "      <th>6</th>\n",
       "      <td>ADHD</td>\n",
       "      <td>Amphetamine</td>\n",
       "      <td>0.632386</td>\n",
       "    </tr>\n",
       "    <tr>\n",
       "      <th>7</th>\n",
       "      <td>ADHD</td>\n",
       "      <td>Amphetamine / dextroamphetamine</td>\n",
       "      <td>0.689662</td>\n",
       "    </tr>\n",
       "    <tr>\n",
       "      <th>8</th>\n",
       "      <td>ADHD</td>\n",
       "      <td>Aptensio XR</td>\n",
       "      <td>0.858978</td>\n",
       "    </tr>\n",
       "    <tr>\n",
       "      <th>9</th>\n",
       "      <td>ADHD</td>\n",
       "      <td>Armodafinil</td>\n",
       "      <td>0.647585</td>\n",
       "    </tr>\n",
       "    <tr>\n",
       "      <th>10</th>\n",
       "      <td>ADHD</td>\n",
       "      <td>Atomoxetine</td>\n",
       "      <td>0.690662</td>\n",
       "    </tr>\n",
       "    <tr>\n",
       "      <th>11</th>\n",
       "      <td>ADHD</td>\n",
       "      <td>Budeprion XL</td>\n",
       "      <td>0.676246</td>\n",
       "    </tr>\n",
       "    <tr>\n",
       "      <th>12</th>\n",
       "      <td>ADHD</td>\n",
       "      <td>Bupropion</td>\n",
       "      <td>0.698472</td>\n",
       "    </tr>\n",
       "    <tr>\n",
       "      <th>13</th>\n",
       "      <td>ADHD</td>\n",
       "      <td>Catapres</td>\n",
       "      <td>0.847451</td>\n",
       "    </tr>\n",
       "    <tr>\n",
       "      <th>14</th>\n",
       "      <td>ADHD</td>\n",
       "      <td>Clonidine</td>\n",
       "      <td>0.778761</td>\n",
       "    </tr>\n",
       "    <tr>\n",
       "      <th>15</th>\n",
       "      <td>ADHD</td>\n",
       "      <td>Concerta</td>\n",
       "      <td>0.685895</td>\n",
       "    </tr>\n",
       "    <tr>\n",
       "      <th>16</th>\n",
       "      <td>ADHD</td>\n",
       "      <td>Cylert</td>\n",
       "      <td>0.760878</td>\n",
       "    </tr>\n",
       "    <tr>\n",
       "      <th>17</th>\n",
       "      <td>ADHD</td>\n",
       "      <td>Daytrana</td>\n",
       "      <td>0.671682</td>\n",
       "    </tr>\n",
       "    <tr>\n",
       "      <th>18</th>\n",
       "      <td>ADHD</td>\n",
       "      <td>Desipramine</td>\n",
       "      <td>0.610368</td>\n",
       "    </tr>\n",
       "    <tr>\n",
       "      <th>19</th>\n",
       "      <td>ADHD</td>\n",
       "      <td>Desoxyn</td>\n",
       "      <td>0.679836</td>\n",
       "    </tr>\n",
       "    <tr>\n",
       "      <th>20</th>\n",
       "      <td>ADHD</td>\n",
       "      <td>Desvenlafaxine</td>\n",
       "      <td>0.954976</td>\n",
       "    </tr>\n",
       "    <tr>\n",
       "      <th>21</th>\n",
       "      <td>ADHD</td>\n",
       "      <td>Dexedrine</td>\n",
       "      <td>0.677145</td>\n",
       "    </tr>\n",
       "    <tr>\n",
       "      <th>22</th>\n",
       "      <td>ADHD</td>\n",
       "      <td>Dexmethylphenidate</td>\n",
       "      <td>0.667869</td>\n",
       "    </tr>\n",
       "    <tr>\n",
       "      <th>23</th>\n",
       "      <td>ADHD</td>\n",
       "      <td>Dextroamphetamine</td>\n",
       "      <td>0.668093</td>\n",
       "    </tr>\n",
       "    <tr>\n",
       "      <th>24</th>\n",
       "      <td>ADHD</td>\n",
       "      <td>Dextrostat</td>\n",
       "      <td>0.676246</td>\n",
       "    </tr>\n",
       "    <tr>\n",
       "      <th>25</th>\n",
       "      <td>ADHD</td>\n",
       "      <td>Dyanavel XR</td>\n",
       "      <td>0.643690</td>\n",
       "    </tr>\n",
       "    <tr>\n",
       "      <th>26</th>\n",
       "      <td>ADHD</td>\n",
       "      <td>Evekeo</td>\n",
       "      <td>0.679767</td>\n",
       "    </tr>\n",
       "    <tr>\n",
       "      <th>27</th>\n",
       "      <td>ADHD</td>\n",
       "      <td>Focalin</td>\n",
       "      <td>0.677456</td>\n",
       "    </tr>\n",
       "    <tr>\n",
       "      <th>28</th>\n",
       "      <td>ADHD</td>\n",
       "      <td>Focalin XR</td>\n",
       "      <td>0.654131</td>\n",
       "    </tr>\n",
       "    <tr>\n",
       "      <th>29</th>\n",
       "      <td>ADHD</td>\n",
       "      <td>Guanfacine</td>\n",
       "      <td>0.728735</td>\n",
       "    </tr>\n",
       "    <tr>\n",
       "      <th>30</th>\n",
       "      <td>ADHD</td>\n",
       "      <td>Imipramine</td>\n",
       "      <td>0.345885</td>\n",
       "    </tr>\n",
       "    <tr>\n",
       "      <th>31</th>\n",
       "      <td>ADHD</td>\n",
       "      <td>Intuniv</td>\n",
       "      <td>0.724747</td>\n",
       "    </tr>\n",
       "    <tr>\n",
       "      <th>...</th>\n",
       "      <td>...</td>\n",
       "      <td>...</td>\n",
       "      <td>...</td>\n",
       "    </tr>\n",
       "    <tr>\n",
       "      <th>8423</th>\n",
       "      <td>llicle Stimulation</td>\n",
       "      <td>Menotropins</td>\n",
       "      <td>0.676246</td>\n",
       "    </tr>\n",
       "    <tr>\n",
       "      <th>8424</th>\n",
       "      <td>m Pain Disorde</td>\n",
       "      <td>Amitriptyline</td>\n",
       "      <td>0.987149</td>\n",
       "    </tr>\n",
       "    <tr>\n",
       "      <th>8425</th>\n",
       "      <td>m Pain Disorde</td>\n",
       "      <td>Milnacipran</td>\n",
       "      <td>0.676246</td>\n",
       "    </tr>\n",
       "    <tr>\n",
       "      <th>8426</th>\n",
       "      <td>m Pain Disorde</td>\n",
       "      <td>Venlafaxine</td>\n",
       "      <td>0.676246</td>\n",
       "    </tr>\n",
       "    <tr>\n",
       "      <th>8427</th>\n",
       "      <td>me</td>\n",
       "      <td>Bevacizumab</td>\n",
       "      <td>0.676246</td>\n",
       "    </tr>\n",
       "    <tr>\n",
       "      <th>8428</th>\n",
       "      <td>me</td>\n",
       "      <td>Temozolomide</td>\n",
       "      <td>0.676246</td>\n",
       "    </tr>\n",
       "    <tr>\n",
       "      <th>8429</th>\n",
       "      <td>min)</td>\n",
       "      <td>Alogliptin / metformin</td>\n",
       "      <td>0.676246</td>\n",
       "    </tr>\n",
       "    <tr>\n",
       "      <th>8430</th>\n",
       "      <td>min)</td>\n",
       "      <td>Dapagliflozin / metformin</td>\n",
       "      <td>0.821017</td>\n",
       "    </tr>\n",
       "    <tr>\n",
       "      <th>8431</th>\n",
       "      <td>min)</td>\n",
       "      <td>Empagliflozin / metformin</td>\n",
       "      <td>0.884161</td>\n",
       "    </tr>\n",
       "    <tr>\n",
       "      <th>8432</th>\n",
       "      <td>min)</td>\n",
       "      <td>Glyburide / metformin</td>\n",
       "      <td>0.676246</td>\n",
       "    </tr>\n",
       "    <tr>\n",
       "      <th>8433</th>\n",
       "      <td>min)</td>\n",
       "      <td>Linagliptin / metformin</td>\n",
       "      <td>0.624716</td>\n",
       "    </tr>\n",
       "    <tr>\n",
       "      <th>8434</th>\n",
       "      <td>min)</td>\n",
       "      <td>Metformin</td>\n",
       "      <td>0.718193</td>\n",
       "    </tr>\n",
       "    <tr>\n",
       "      <th>8435</th>\n",
       "      <td>moterol)</td>\n",
       "      <td>Arformoterol</td>\n",
       "      <td>0.676246</td>\n",
       "    </tr>\n",
       "    <tr>\n",
       "      <th>8436</th>\n",
       "      <td>moterol)</td>\n",
       "      <td>Budesonide / formoterol</td>\n",
       "      <td>0.650881</td>\n",
       "    </tr>\n",
       "    <tr>\n",
       "      <th>8437</th>\n",
       "      <td>moterol)</td>\n",
       "      <td>Formoterol</td>\n",
       "      <td>0.667360</td>\n",
       "    </tr>\n",
       "    <tr>\n",
       "      <th>8438</th>\n",
       "      <td>t Care</td>\n",
       "      <td>Salicylic acid / urea</td>\n",
       "      <td>0.676246</td>\n",
       "    </tr>\n",
       "    <tr>\n",
       "      <th>8439</th>\n",
       "      <td>t Care</td>\n",
       "      <td>Salvax Duo</td>\n",
       "      <td>0.676246</td>\n",
       "    </tr>\n",
       "    <tr>\n",
       "      <th>8440</th>\n",
       "      <td>von Willebrand's Disease</td>\n",
       "      <td>Antihemophilic factor / von willebrand factor</td>\n",
       "      <td>0.676246</td>\n",
       "    </tr>\n",
       "    <tr>\n",
       "      <th>8441</th>\n",
       "      <td>von Willebrand's Disease</td>\n",
       "      <td>Desmopressin</td>\n",
       "      <td>0.568809</td>\n",
       "    </tr>\n",
       "    <tr>\n",
       "      <th>8442</th>\n",
       "      <td>von Willebrand's Disease</td>\n",
       "      <td>Humate-P</td>\n",
       "      <td>0.676246</td>\n",
       "    </tr>\n",
       "    <tr>\n",
       "      <th>8443</th>\n",
       "      <td>von Willebrand's Disease</td>\n",
       "      <td>Stimate</td>\n",
       "      <td>0.568809</td>\n",
       "    </tr>\n",
       "    <tr>\n",
       "      <th>8444</th>\n",
       "      <td>zen Shoulde</td>\n",
       "      <td>Aleve</td>\n",
       "      <td>0.676246</td>\n",
       "    </tr>\n",
       "    <tr>\n",
       "      <th>8445</th>\n",
       "      <td>zen Shoulde</td>\n",
       "      <td>Diclofenac</td>\n",
       "      <td>0.676246</td>\n",
       "    </tr>\n",
       "    <tr>\n",
       "      <th>8446</th>\n",
       "      <td>zen Shoulde</td>\n",
       "      <td>Ibuprofen</td>\n",
       "      <td>0.676246</td>\n",
       "    </tr>\n",
       "    <tr>\n",
       "      <th>8447</th>\n",
       "      <td>zen Shoulde</td>\n",
       "      <td>Indocin</td>\n",
       "      <td>0.676246</td>\n",
       "    </tr>\n",
       "    <tr>\n",
       "      <th>8448</th>\n",
       "      <td>zen Shoulde</td>\n",
       "      <td>Indomethacin</td>\n",
       "      <td>0.676246</td>\n",
       "    </tr>\n",
       "    <tr>\n",
       "      <th>8449</th>\n",
       "      <td>zen Shoulde</td>\n",
       "      <td>Nabumetone</td>\n",
       "      <td>0.613035</td>\n",
       "    </tr>\n",
       "    <tr>\n",
       "      <th>8450</th>\n",
       "      <td>zen Shoulde</td>\n",
       "      <td>Naproxen</td>\n",
       "      <td>0.704412</td>\n",
       "    </tr>\n",
       "    <tr>\n",
       "      <th>8451</th>\n",
       "      <td>zen Shoulde</td>\n",
       "      <td>Relafen</td>\n",
       "      <td>0.830437</td>\n",
       "    </tr>\n",
       "    <tr>\n",
       "      <th>8452</th>\n",
       "      <td>zen Shoulde</td>\n",
       "      <td>Voltaren</td>\n",
       "      <td>0.676246</td>\n",
       "    </tr>\n",
       "  </tbody>\n",
       "</table>\n",
       "<p>8451 rows × 3 columns</p>\n",
       "</div>"
      ],
      "text/plain": [
       "                     condition                                       drugName  \\\n",
       "2                         ADHD                                       Adderall   \n",
       "3                         ADHD                                    Adderall XR   \n",
       "4                         ADHD                                 Adzenys XR-ODT   \n",
       "5                         ADHD                                     Amantadine   \n",
       "6                         ADHD                                    Amphetamine   \n",
       "7                         ADHD                Amphetamine / dextroamphetamine   \n",
       "8                         ADHD                                    Aptensio XR   \n",
       "9                         ADHD                                    Armodafinil   \n",
       "10                        ADHD                                    Atomoxetine   \n",
       "11                        ADHD                                   Budeprion XL   \n",
       "12                        ADHD                                      Bupropion   \n",
       "13                        ADHD                                       Catapres   \n",
       "14                        ADHD                                      Clonidine   \n",
       "15                        ADHD                                       Concerta   \n",
       "16                        ADHD                                         Cylert   \n",
       "17                        ADHD                                       Daytrana   \n",
       "18                        ADHD                                    Desipramine   \n",
       "19                        ADHD                                        Desoxyn   \n",
       "20                        ADHD                                 Desvenlafaxine   \n",
       "21                        ADHD                                      Dexedrine   \n",
       "22                        ADHD                             Dexmethylphenidate   \n",
       "23                        ADHD                              Dextroamphetamine   \n",
       "24                        ADHD                                     Dextrostat   \n",
       "25                        ADHD                                    Dyanavel XR   \n",
       "26                        ADHD                                         Evekeo   \n",
       "27                        ADHD                                        Focalin   \n",
       "28                        ADHD                                     Focalin XR   \n",
       "29                        ADHD                                     Guanfacine   \n",
       "30                        ADHD                                     Imipramine   \n",
       "31                        ADHD                                        Intuniv   \n",
       "...                        ...                                            ...   \n",
       "8423        llicle Stimulation                                    Menotropins   \n",
       "8424            m Pain Disorde                                  Amitriptyline   \n",
       "8425            m Pain Disorde                                    Milnacipran   \n",
       "8426            m Pain Disorde                                    Venlafaxine   \n",
       "8427                        me                                    Bevacizumab   \n",
       "8428                        me                                   Temozolomide   \n",
       "8429                      min)                         Alogliptin / metformin   \n",
       "8430                      min)                      Dapagliflozin / metformin   \n",
       "8431                      min)                      Empagliflozin / metformin   \n",
       "8432                      min)                          Glyburide / metformin   \n",
       "8433                      min)                        Linagliptin / metformin   \n",
       "8434                      min)                                      Metformin   \n",
       "8435                  moterol)                                   Arformoterol   \n",
       "8436                  moterol)                        Budesonide / formoterol   \n",
       "8437                  moterol)                                     Formoterol   \n",
       "8438                    t Care                          Salicylic acid / urea   \n",
       "8439                    t Care                                     Salvax Duo   \n",
       "8440  von Willebrand's Disease  Antihemophilic factor / von willebrand factor   \n",
       "8441  von Willebrand's Disease                                   Desmopressin   \n",
       "8442  von Willebrand's Disease                                       Humate-P   \n",
       "8443  von Willebrand's Disease                                        Stimate   \n",
       "8444               zen Shoulde                                          Aleve   \n",
       "8445               zen Shoulde                                     Diclofenac   \n",
       "8446               zen Shoulde                                      Ibuprofen   \n",
       "8447               zen Shoulde                                        Indocin   \n",
       "8448               zen Shoulde                                   Indomethacin   \n",
       "8449               zen Shoulde                                     Nabumetone   \n",
       "8450               zen Shoulde                                       Naproxen   \n",
       "8451               zen Shoulde                                        Relafen   \n",
       "8452               zen Shoulde                                       Voltaren   \n",
       "\n",
       "      deep_pred  \n",
       "2      0.680030  \n",
       "3      0.696801  \n",
       "4      0.591997  \n",
       "5      0.782813  \n",
       "6      0.632386  \n",
       "7      0.689662  \n",
       "8      0.858978  \n",
       "9      0.647585  \n",
       "10     0.690662  \n",
       "11     0.676246  \n",
       "12     0.698472  \n",
       "13     0.847451  \n",
       "14     0.778761  \n",
       "15     0.685895  \n",
       "16     0.760878  \n",
       "17     0.671682  \n",
       "18     0.610368  \n",
       "19     0.679836  \n",
       "20     0.954976  \n",
       "21     0.677145  \n",
       "22     0.667869  \n",
       "23     0.668093  \n",
       "24     0.676246  \n",
       "25     0.643690  \n",
       "26     0.679767  \n",
       "27     0.677456  \n",
       "28     0.654131  \n",
       "29     0.728735  \n",
       "30     0.345885  \n",
       "31     0.724747  \n",
       "...         ...  \n",
       "8423   0.676246  \n",
       "8424   0.987149  \n",
       "8425   0.676246  \n",
       "8426   0.676246  \n",
       "8427   0.676246  \n",
       "8428   0.676246  \n",
       "8429   0.676246  \n",
       "8430   0.821017  \n",
       "8431   0.884161  \n",
       "8432   0.676246  \n",
       "8433   0.624716  \n",
       "8434   0.718193  \n",
       "8435   0.676246  \n",
       "8436   0.650881  \n",
       "8437   0.667360  \n",
       "8438   0.676246  \n",
       "8439   0.676246  \n",
       "8440   0.676246  \n",
       "8441   0.568809  \n",
       "8442   0.676246  \n",
       "8443   0.568809  \n",
       "8444   0.676246  \n",
       "8445   0.676246  \n",
       "8446   0.676246  \n",
       "8447   0.676246  \n",
       "8448   0.676246  \n",
       "8449   0.613035  \n",
       "8450   0.704412  \n",
       "8451   0.830437  \n",
       "8452   0.676246  \n",
       "\n",
       "[8451 rows x 3 columns]"
      ]
     },
     "execution_count": 10,
     "metadata": {},
     "output_type": "execute_result"
    }
   ],
   "source": [
    "df"
   ]
  },
  {
   "cell_type": "code",
   "execution_count": 11,
   "metadata": {},
   "outputs": [],
   "source": [
    "df_all = df.groupby(['condition','drugName']).agg({'deep_pred' : ['mean']})"
   ]
  },
  {
   "cell_type": "code",
   "execution_count": 12,
   "metadata": {
    "scrolled": true
   },
   "outputs": [],
   "source": [
    "df = df.reset_index(drop=True)"
   ]
  },
  {
   "cell_type": "code",
   "execution_count": 13,
   "metadata": {},
   "outputs": [
    {
     "data": {
      "text/html": [
       "<div>\n",
       "<style scoped>\n",
       "    .dataframe tbody tr th:only-of-type {\n",
       "        vertical-align: middle;\n",
       "    }\n",
       "\n",
       "    .dataframe tbody tr th {\n",
       "        vertical-align: top;\n",
       "    }\n",
       "\n",
       "    .dataframe thead th {\n",
       "        text-align: right;\n",
       "    }\n",
       "</style>\n",
       "<table border=\"1\" class=\"dataframe\">\n",
       "  <thead>\n",
       "    <tr style=\"text-align: right;\">\n",
       "      <th></th>\n",
       "      <th>condition</th>\n",
       "      <th>drugName</th>\n",
       "      <th>deep_pred</th>\n",
       "    </tr>\n",
       "  </thead>\n",
       "  <tbody>\n",
       "    <tr>\n",
       "      <th>0</th>\n",
       "      <td>ADHD</td>\n",
       "      <td>Adderall</td>\n",
       "      <td>0.680030</td>\n",
       "    </tr>\n",
       "    <tr>\n",
       "      <th>1</th>\n",
       "      <td>ADHD</td>\n",
       "      <td>Adderall XR</td>\n",
       "      <td>0.696801</td>\n",
       "    </tr>\n",
       "    <tr>\n",
       "      <th>2</th>\n",
       "      <td>ADHD</td>\n",
       "      <td>Adzenys XR-ODT</td>\n",
       "      <td>0.591997</td>\n",
       "    </tr>\n",
       "    <tr>\n",
       "      <th>3</th>\n",
       "      <td>ADHD</td>\n",
       "      <td>Amantadine</td>\n",
       "      <td>0.782813</td>\n",
       "    </tr>\n",
       "    <tr>\n",
       "      <th>4</th>\n",
       "      <td>ADHD</td>\n",
       "      <td>Amphetamine</td>\n",
       "      <td>0.632386</td>\n",
       "    </tr>\n",
       "  </tbody>\n",
       "</table>\n",
       "</div>"
      ],
      "text/plain": [
       "  condition        drugName  deep_pred\n",
       "0      ADHD        Adderall   0.680030\n",
       "1      ADHD     Adderall XR   0.696801\n",
       "2      ADHD  Adzenys XR-ODT   0.591997\n",
       "3      ADHD      Amantadine   0.782813\n",
       "4      ADHD     Amphetamine   0.632386"
      ]
     },
     "execution_count": 13,
     "metadata": {},
     "output_type": "execute_result"
    }
   ],
   "source": [
    "df.head()"
   ]
  },
  {
   "cell_type": "code",
   "execution_count": 14,
   "metadata": {},
   "outputs": [],
   "source": [
    "df.to_csv('recommendation_engine.csv')"
   ]
  },
  {
   "cell_type": "code",
   "execution_count": 15,
   "metadata": {},
   "outputs": [],
   "source": [
    "user_input = pd.DataFrame(df.iloc[10])"
   ]
  },
  {
   "cell_type": "code",
   "execution_count": 16,
   "metadata": {},
   "outputs": [],
   "source": [
    "user_input = user_input.T.reset_index(drop=True)"
   ]
  },
  {
   "cell_type": "code",
   "execution_count": 17,
   "metadata": {},
   "outputs": [
    {
     "data": {
      "text/html": [
       "<div>\n",
       "<style scoped>\n",
       "    .dataframe tbody tr th:only-of-type {\n",
       "        vertical-align: middle;\n",
       "    }\n",
       "\n",
       "    .dataframe tbody tr th {\n",
       "        vertical-align: top;\n",
       "    }\n",
       "\n",
       "    .dataframe thead th {\n",
       "        text-align: right;\n",
       "    }\n",
       "</style>\n",
       "<table border=\"1\" class=\"dataframe\">\n",
       "  <thead>\n",
       "    <tr style=\"text-align: right;\">\n",
       "      <th></th>\n",
       "      <th>condition</th>\n",
       "      <th>drugName</th>\n",
       "      <th>deep_pred</th>\n",
       "    </tr>\n",
       "  </thead>\n",
       "  <tbody>\n",
       "    <tr>\n",
       "      <th>0</th>\n",
       "      <td>ADHD</td>\n",
       "      <td>Bupropion</td>\n",
       "      <td>0.698472</td>\n",
       "    </tr>\n",
       "  </tbody>\n",
       "</table>\n",
       "</div>"
      ],
      "text/plain": [
       "  condition   drugName deep_pred\n",
       "0      ADHD  Bupropion  0.698472"
      ]
     },
     "execution_count": 17,
     "metadata": {},
     "output_type": "execute_result"
    }
   ],
   "source": [
    "user_input"
   ]
  },
  {
   "cell_type": "code",
   "execution_count": 22,
   "metadata": {},
   "outputs": [],
   "source": [
    "recommended_drugs = []"
   ]
  },
  {
   "cell_type": "code",
   "execution_count": 19,
   "metadata": {},
   "outputs": [],
   "source": [
    "temp = [1,2]"
   ]
  },
  {
   "cell_type": "code",
   "execution_count": 23,
   "metadata": {},
   "outputs": [],
   "source": [
    "for i in range(len(df)):\n",
    "    if df['condition'][i] == user_input['condition'][0] and df['deep_pred'][i] >= user_input['deep_pred'][0] :\n",
    "        temp = [df[\"drugName\"][i],df['deep_pred'][i]]\n",
    "        recommended_drugs.append(temp)"
   ]
  },
  {
   "cell_type": "code",
   "execution_count": 24,
   "metadata": {
    "scrolled": true
   },
   "outputs": [
    {
     "data": {
      "text/plain": [
       "[['Amantadine', 0.78281283],\n",
       " ['Aptensio XR', 0.8589785],\n",
       " ['Bupropion', 0.69847214],\n",
       " ['Catapres', 0.84745115],\n",
       " ['Clonidine', 0.7787613],\n",
       " ['Cylert', 0.76087755],\n",
       " ['Desvenlafaxine', 0.954976],\n",
       " ['Guanfacine', 0.7287347],\n",
       " ['Intuniv', 0.724747],\n",
       " ['Kapvay', 0.76216817],\n",
       " ['Metadate CD', 0.7483774],\n",
       " ['Mydayis', 0.7434753],\n",
       " ['Pemoline', 0.76087755],\n",
       " ['Pristiq', 0.95084476],\n",
       " ['Ritalin LA', 0.7227036]]"
      ]
     },
     "execution_count": 24,
     "metadata": {},
     "output_type": "execute_result"
    }
   ],
   "source": [
    "recommended_drugs"
   ]
  },
  {
   "cell_type": "markdown",
   "metadata": {},
   "source": [
    "## 5. Limitations"
   ]
  },
  {
   "cell_type": "markdown",
   "metadata": {},
   "source": [
    "In conclusion, these are the limitations we had during the project.\n",
    "\n",
    "1. Sentiment analysis using sentiment word dictionary has low reliability when the number of positive and negative words is small. For example, if there are 0 positive words and 1 negative word, it is classified as negative. Therefore, if the number of sentiment words is 5 or less, we could exclude the observations.\n",
    "2. To ensure the reliability of the predicted values, we normalized usefulCount and multiplied it to the predicted values. However, usefulCount may tend to be higher for older reviews as the number of cumulated site visitors increases. Therefore, we should have also considered time when normalizing usefulCount.\n",
    "\n",
    "\n"
   ]
  },
  {
   "cell_type": "markdown",
   "metadata": {},
   "source": [
    "## END"
   ]
  }
 ],
 "metadata": {
  "kernelspec": {
   "display_name": "conda_tensorflow_p36",
   "language": "python",
   "name": "conda_tensorflow_p36"
  },
  "language_info": {
   "codemirror_mode": {
    "name": "ipython",
    "version": 3
   },
   "file_extension": ".py",
   "mimetype": "text/x-python",
   "name": "python",
   "nbconvert_exporter": "python",
   "pygments_lexer": "ipython3",
   "version": "3.6.5"
  }
 },
 "nbformat": 4,
 "nbformat_minor": 1
}
