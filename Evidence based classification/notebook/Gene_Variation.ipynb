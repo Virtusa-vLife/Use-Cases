{
 "cells": [
  {
   "cell_type": "markdown",
   "metadata": {},
   "source": [
    "# vLife Virtusa"
   ]
  },
  {
   "cell_type": "markdown",
   "metadata": {},
   "source": [
    "## Evidence based classification of  Genetic Variations \n",
    "### Usecase Description\n",
    "<p> When a patient seems to have cancer,  a tumor sample is taken from the patient and it goes through genetic sequencing of DNA. Once sequenced, a tumor can have thousands of genetic mutations. A ‘mutation’ is small change in gene which causes cancer. Now with the help of the gene and its variation, we classify which class(total we have 9 classes) it belongs to. Only some classes belong to cancer. </p>\n",
    "\n",
    "### Data Source\n",
    "Data for this usecase can be found [here](https://www.kaggle.com/c/msk-redefining-cancer-treatment/data).\n",
    "\n",
    "### Dataset Description\n",
    "> File descriptions\n",
    " - **training_variants** - a comma separated file containing the description of the genetic mutations used for training. Fields are ID (the id of the row used to link the mutation to the clinical evidence), Gene (the gene where this genetic mutation is located), Variation (the aminoacid change for this mutations), Class (1-9 the class this genetic mutation has been classified on)**\n",
    " - **training_text** - a double pipe (||) delimited file that contains the clinical evidence (text) used to classify genetic mutations. Fields are ID (the id of the row used to link the clinical evidence to the genetic mutation), Text (the clinical evidence used to classify the genetic mutation)\n",
    "  - **test_variants** - a comma separated file containing the description of the genetic mutations used for training. Fields are ID (the id of the row used to link the mutation to the clinical evidence), Gene (the gene where this genetic mutation is located), Variation (the aminoacid change for this mutations)\n",
    " - **test_text** - a double pipe (||) delimited file that contains the clinical evidence (text) used to classify genetic mutations. Fields are ID (the id of the row used to link the clinical evidence to the genetic mutation), Text (the clinical evidence used to classify the genetic mutation)"
   ]
  },
  {
   "cell_type": "markdown",
   "metadata": {},
   "source": [
    "### Necessary Imports"
   ]
  },
  {
   "cell_type": "code",
   "execution_count": 1,
   "metadata": {
    "scrolled": true
   },
   "outputs": [
    {
     "name": "stdout",
     "output_type": "stream",
     "text": [
      "[nltk_data] Downloading package stopwords to\n",
      "[nltk_data]     /home/ec2-user/nltk_data...\n",
      "[nltk_data]   Package stopwords is already up-to-date!\n"
     ]
    },
    {
     "name": "stderr",
     "output_type": "stream",
     "text": [
      "/home/ec2-user/anaconda3/envs/python3/lib/python3.6/site-packages/sklearn/utils/deprecation.py:144: FutureWarning: The sklearn.metrics.classification module is  deprecated in version 0.22 and will be removed in version 0.24. The corresponding classes / functions should instead be imported from sklearn.metrics. Anything that cannot be imported from sklearn.metrics is now part of the private API.\n",
      "  warnings.warn(message, FutureWarning)\n"
     ]
    }
   ],
   "source": [
    "import pandas as pd\n",
    "import matplotlib.pyplot as plt\n",
    "import re\n",
    "import time\n",
    "import warnings\n",
    "import numpy as np\n",
    "\n",
    "import nltk\n",
    "nltk.download('stopwords')\n",
    "\n",
    "import math\n",
    "from nltk.corpus import stopwords\n",
    "from sklearn.decomposition import TruncatedSVD\n",
    "from sklearn.preprocessing import normalize\n",
    "from sklearn.feature_extraction.text import CountVectorizer\n",
    "from sklearn.manifold import TSNE\n",
    "import seaborn as sns\n",
    "\n",
    "from sklearn.neighbors import KNeighborsClassifier\n",
    "from sklearn.metrics import confusion_matrix, classification_report\n",
    "from sklearn.metrics.classification import accuracy_score, log_loss\n",
    "from sklearn.feature_extraction.text import TfidfVectorizer\n",
    "from sklearn.linear_model import SGDClassifier\n",
    "\n",
    "from collections import Counter\n",
    "from scipy.sparse import hstack\n",
    "\n",
    "from sklearn.multiclass import OneVsRestClassifier\n",
    "from sklearn.svm import SVC\n",
    "from sklearn.model_selection import StratifiedKFold \n",
    "from collections import Counter, defaultdict\n",
    "from sklearn.calibration import CalibratedClassifierCV\n",
    "from sklearn.naive_bayes import MultinomialNB\n",
    "from sklearn.naive_bayes import GaussianNB\n",
    "\n",
    "from sklearn.model_selection import train_test_split\n",
    "from sklearn.model_selection import GridSearchCV\n",
    "from sklearn.metrics import roc_auc_score\n",
    "from sklearn.metrics import normalized_mutual_info_score\n",
    "\n",
    "from sklearn.linear_model import LogisticRegression\n",
    "from sklearn.metrics import f1_score\n",
    "from sklearn.ensemble import RandomForestClassifier\n",
    "warnings.filterwarnings(\"ignore\")\n",
    "from sklearn import model_selection\n",
    "from sklearn.linear_model import LogisticRegression"
   ]
  },
  {
   "cell_type": "code",
   "execution_count": 2,
   "metadata": {},
   "outputs": [
    {
     "name": "stdout",
     "output_type": "stream",
     "text": [
      "Number of data points :  3321\n",
      "Number of features :  4\n",
      "Features :  ['ID' 'Gene' 'Variation' 'Class']\n"
     ]
    },
    {
     "data": {
      "text/html": [
       "<div>\n",
       "<style scoped>\n",
       "    .dataframe tbody tr th:only-of-type {\n",
       "        vertical-align: middle;\n",
       "    }\n",
       "\n",
       "    .dataframe tbody tr th {\n",
       "        vertical-align: top;\n",
       "    }\n",
       "\n",
       "    .dataframe thead th {\n",
       "        text-align: right;\n",
       "    }\n",
       "</style>\n",
       "<table border=\"1\" class=\"dataframe\">\n",
       "  <thead>\n",
       "    <tr style=\"text-align: right;\">\n",
       "      <th></th>\n",
       "      <th>ID</th>\n",
       "      <th>Gene</th>\n",
       "      <th>Variation</th>\n",
       "      <th>Class</th>\n",
       "    </tr>\n",
       "  </thead>\n",
       "  <tbody>\n",
       "    <tr>\n",
       "      <th>0</th>\n",
       "      <td>0</td>\n",
       "      <td>FAM58A</td>\n",
       "      <td>Truncating Mutations</td>\n",
       "      <td>1</td>\n",
       "    </tr>\n",
       "    <tr>\n",
       "      <th>1</th>\n",
       "      <td>1</td>\n",
       "      <td>CBL</td>\n",
       "      <td>W802*</td>\n",
       "      <td>2</td>\n",
       "    </tr>\n",
       "    <tr>\n",
       "      <th>2</th>\n",
       "      <td>2</td>\n",
       "      <td>CBL</td>\n",
       "      <td>Q249E</td>\n",
       "      <td>2</td>\n",
       "    </tr>\n",
       "    <tr>\n",
       "      <th>3</th>\n",
       "      <td>3</td>\n",
       "      <td>CBL</td>\n",
       "      <td>N454D</td>\n",
       "      <td>3</td>\n",
       "    </tr>\n",
       "    <tr>\n",
       "      <th>4</th>\n",
       "      <td>4</td>\n",
       "      <td>CBL</td>\n",
       "      <td>L399V</td>\n",
       "      <td>4</td>\n",
       "    </tr>\n",
       "    <tr>\n",
       "      <th>5</th>\n",
       "      <td>5</td>\n",
       "      <td>CBL</td>\n",
       "      <td>V391I</td>\n",
       "      <td>4</td>\n",
       "    </tr>\n",
       "    <tr>\n",
       "      <th>6</th>\n",
       "      <td>6</td>\n",
       "      <td>CBL</td>\n",
       "      <td>V430M</td>\n",
       "      <td>5</td>\n",
       "    </tr>\n",
       "    <tr>\n",
       "      <th>7</th>\n",
       "      <td>7</td>\n",
       "      <td>CBL</td>\n",
       "      <td>Deletion</td>\n",
       "      <td>1</td>\n",
       "    </tr>\n",
       "    <tr>\n",
       "      <th>8</th>\n",
       "      <td>8</td>\n",
       "      <td>CBL</td>\n",
       "      <td>Y371H</td>\n",
       "      <td>4</td>\n",
       "    </tr>\n",
       "    <tr>\n",
       "      <th>9</th>\n",
       "      <td>9</td>\n",
       "      <td>CBL</td>\n",
       "      <td>C384R</td>\n",
       "      <td>4</td>\n",
       "    </tr>\n",
       "  </tbody>\n",
       "</table>\n",
       "</div>"
      ],
      "text/plain": [
       "   ID    Gene             Variation  Class\n",
       "0   0  FAM58A  Truncating Mutations      1\n",
       "1   1     CBL                 W802*      2\n",
       "2   2     CBL                 Q249E      2\n",
       "3   3     CBL                 N454D      3\n",
       "4   4     CBL                 L399V      4\n",
       "5   5     CBL                 V391I      4\n",
       "6   6     CBL                 V430M      5\n",
       "7   7     CBL              Deletion      1\n",
       "8   8     CBL                 Y371H      4\n",
       "9   9     CBL                 C384R      4"
      ]
     },
     "execution_count": 2,
     "metadata": {},
     "output_type": "execute_result"
    }
   ],
   "source": [
    "data = pd.read_csv('./data/training_variants')\n",
    "print('Number of data points : ', data.shape[0])\n",
    "print('Number of features : ', data.shape[1])\n",
    "print('Features : ', data.columns.values)\n",
    "data.head(10)"
   ]
  },
  {
   "cell_type": "code",
   "execution_count": 3,
   "metadata": {},
   "outputs": [
    {
     "data": {
      "text/plain": [
       "264"
      ]
     },
     "execution_count": 3,
     "metadata": {},
     "output_type": "execute_result"
    }
   ],
   "source": [
    "data['Gene'].nunique()"
   ]
  },
  {
   "cell_type": "code",
   "execution_count": 4,
   "metadata": {},
   "outputs": [
    {
     "name": "stdout",
     "output_type": "stream",
     "text": [
      "Number of data points :  3321\n",
      "Number of features :  2\n",
      "Features :  ['ID' 'TEXT']\n"
     ]
    },
    {
     "data": {
      "text/html": [
       "<div>\n",
       "<style scoped>\n",
       "    .dataframe tbody tr th:only-of-type {\n",
       "        vertical-align: middle;\n",
       "    }\n",
       "\n",
       "    .dataframe tbody tr th {\n",
       "        vertical-align: top;\n",
       "    }\n",
       "\n",
       "    .dataframe thead th {\n",
       "        text-align: right;\n",
       "    }\n",
       "</style>\n",
       "<table border=\"1\" class=\"dataframe\">\n",
       "  <thead>\n",
       "    <tr style=\"text-align: right;\">\n",
       "      <th></th>\n",
       "      <th>ID</th>\n",
       "      <th>TEXT</th>\n",
       "    </tr>\n",
       "  </thead>\n",
       "  <tbody>\n",
       "    <tr>\n",
       "      <th>0</th>\n",
       "      <td>0</td>\n",
       "      <td>Cyclin-dependent kinases (CDKs) regulate a var...</td>\n",
       "    </tr>\n",
       "    <tr>\n",
       "      <th>1</th>\n",
       "      <td>1</td>\n",
       "      <td>Abstract Background  Non-small cell lung canc...</td>\n",
       "    </tr>\n",
       "    <tr>\n",
       "      <th>2</th>\n",
       "      <td>2</td>\n",
       "      <td>Abstract Background  Non-small cell lung canc...</td>\n",
       "    </tr>\n",
       "    <tr>\n",
       "      <th>3</th>\n",
       "      <td>3</td>\n",
       "      <td>Recent evidence has demonstrated that acquired...</td>\n",
       "    </tr>\n",
       "    <tr>\n",
       "      <th>4</th>\n",
       "      <td>4</td>\n",
       "      <td>Oncogenic mutations in the monomeric Casitas B...</td>\n",
       "    </tr>\n",
       "    <tr>\n",
       "      <th>5</th>\n",
       "      <td>5</td>\n",
       "      <td>Oncogenic mutations in the monomeric Casitas B...</td>\n",
       "    </tr>\n",
       "    <tr>\n",
       "      <th>6</th>\n",
       "      <td>6</td>\n",
       "      <td>Oncogenic mutations in the monomeric Casitas B...</td>\n",
       "    </tr>\n",
       "    <tr>\n",
       "      <th>7</th>\n",
       "      <td>7</td>\n",
       "      <td>CBL is a negative regulator of activated recep...</td>\n",
       "    </tr>\n",
       "    <tr>\n",
       "      <th>8</th>\n",
       "      <td>8</td>\n",
       "      <td>Abstract Juvenile myelomonocytic leukemia (JM...</td>\n",
       "    </tr>\n",
       "    <tr>\n",
       "      <th>9</th>\n",
       "      <td>9</td>\n",
       "      <td>Abstract Juvenile myelomonocytic leukemia (JM...</td>\n",
       "    </tr>\n",
       "  </tbody>\n",
       "</table>\n",
       "</div>"
      ],
      "text/plain": [
       "   ID                                               TEXT\n",
       "0   0  Cyclin-dependent kinases (CDKs) regulate a var...\n",
       "1   1   Abstract Background  Non-small cell lung canc...\n",
       "2   2   Abstract Background  Non-small cell lung canc...\n",
       "3   3  Recent evidence has demonstrated that acquired...\n",
       "4   4  Oncogenic mutations in the monomeric Casitas B...\n",
       "5   5  Oncogenic mutations in the monomeric Casitas B...\n",
       "6   6  Oncogenic mutations in the monomeric Casitas B...\n",
       "7   7  CBL is a negative regulator of activated recep...\n",
       "8   8   Abstract Juvenile myelomonocytic leukemia (JM...\n",
       "9   9   Abstract Juvenile myelomonocytic leukemia (JM..."
      ]
     },
     "execution_count": 4,
     "metadata": {},
     "output_type": "execute_result"
    }
   ],
   "source": [
    "data_text=pd.read_csv(\"./data/training_text\",sep=\"\\|\\|\",engine=\"python\",names=[\"ID\",\"TEXT\"],skiprows=1)\n",
    "print('Number of data points : ', data_text.shape[0])\n",
    "print('Number of features : ', data_text.shape[1])\n",
    "print('Features : ', data_text.columns.values)\n",
    "data_text.head(10)"
   ]
  },
  {
   "cell_type": "markdown",
   "metadata": {},
   "source": [
    "### 1.Exploratory Data Analysis\n",
    "#### Data Preprocessing & Clean"
   ]
  },
  {
   "cell_type": "code",
   "execution_count": 5,
   "metadata": {},
   "outputs": [
    {
     "name": "stdout",
     "output_type": "stream",
     "text": [
      "[nltk_data] Downloading package stopwords to\n",
      "[nltk_data]     /home/ec2-user/nltk_data...\n",
      "[nltk_data]   Package stopwords is already up-to-date!\n"
     ]
    }
   ],
   "source": [
    "nltk.download('stopwords')\n",
    "stop_words = set(stopwords.words('english'))\n",
    "\n",
    "\n",
    "def nlp_preprocessing(total_text, index, column):\n",
    "    if type(total_text) is not int:\n",
    "        string = \"\"\n",
    "        # replace every special char with space\n",
    "        total_text = re.sub('[^a-zA-Z0-9\\n]', ' ', total_text)\n",
    "        # replace multiple spaces with single space\n",
    "        total_text = re.sub('\\s+',' ', total_text)\n",
    "        # converting all the chars into lower-case.\n",
    "        total_text = total_text.lower()\n",
    "        \n",
    "        for word in total_text.split():\n",
    "        # if the word is a not a stop word then retain that word from the data\n",
    "            if not word in stop_words:\n",
    "                string += word + \" \"\n",
    "        \n",
    "        data_text[column][index] = string"
   ]
  },
  {
   "cell_type": "code",
   "execution_count": 6,
   "metadata": {},
   "outputs": [
    {
     "name": "stdout",
     "output_type": "stream",
     "text": [
      "there is no text description for id: 1109\n",
      "there is no text description for id: 1277\n",
      "there is no text description for id: 1407\n",
      "there is no text description for id: 1639\n",
      "there is no text description for id: 2755\n",
      "Time took for preprocessing the text : 0:02:43.165075 seconds\n"
     ]
    }
   ],
   "source": [
    "import datetime\n",
    "start=datetime.datetime.now()\n",
    "for index, row in data_text.iterrows():\n",
    "    if type(row['TEXT']) is str:\n",
    "        nlp_preprocessing(row['TEXT'], index, 'TEXT')\n",
    "    else:\n",
    "        print(\"there is no text description for id:\",index)\n",
    "print('Time took for preprocessing the text :',datetime.datetime.now() - start, \"seconds\")"
   ]
  },
  {
   "cell_type": "code",
   "execution_count": 7,
   "metadata": {},
   "outputs": [
    {
     "data": {
      "text/html": [
       "<div>\n",
       "<style scoped>\n",
       "    .dataframe tbody tr th:only-of-type {\n",
       "        vertical-align: middle;\n",
       "    }\n",
       "\n",
       "    .dataframe tbody tr th {\n",
       "        vertical-align: top;\n",
       "    }\n",
       "\n",
       "    .dataframe thead th {\n",
       "        text-align: right;\n",
       "    }\n",
       "</style>\n",
       "<table border=\"1\" class=\"dataframe\">\n",
       "  <thead>\n",
       "    <tr style=\"text-align: right;\">\n",
       "      <th></th>\n",
       "      <th>ID</th>\n",
       "      <th>Gene</th>\n",
       "      <th>Variation</th>\n",
       "      <th>Class</th>\n",
       "      <th>TEXT</th>\n",
       "    </tr>\n",
       "  </thead>\n",
       "  <tbody>\n",
       "    <tr>\n",
       "      <th>0</th>\n",
       "      <td>0</td>\n",
       "      <td>FAM58A</td>\n",
       "      <td>Truncating Mutations</td>\n",
       "      <td>1</td>\n",
       "      <td>cyclin dependent kinases cdks regulate variety...</td>\n",
       "    </tr>\n",
       "    <tr>\n",
       "      <th>1</th>\n",
       "      <td>1</td>\n",
       "      <td>CBL</td>\n",
       "      <td>W802*</td>\n",
       "      <td>2</td>\n",
       "      <td>abstract background non small cell lung cancer...</td>\n",
       "    </tr>\n",
       "    <tr>\n",
       "      <th>2</th>\n",
       "      <td>2</td>\n",
       "      <td>CBL</td>\n",
       "      <td>Q249E</td>\n",
       "      <td>2</td>\n",
       "      <td>abstract background non small cell lung cancer...</td>\n",
       "    </tr>\n",
       "    <tr>\n",
       "      <th>3</th>\n",
       "      <td>3</td>\n",
       "      <td>CBL</td>\n",
       "      <td>N454D</td>\n",
       "      <td>3</td>\n",
       "      <td>recent evidence demonstrated acquired uniparen...</td>\n",
       "    </tr>\n",
       "    <tr>\n",
       "      <th>4</th>\n",
       "      <td>4</td>\n",
       "      <td>CBL</td>\n",
       "      <td>L399V</td>\n",
       "      <td>4</td>\n",
       "      <td>oncogenic mutations monomeric casitas b lineag...</td>\n",
       "    </tr>\n",
       "  </tbody>\n",
       "</table>\n",
       "</div>"
      ],
      "text/plain": [
       "   ID    Gene             Variation  Class  \\\n",
       "0   0  FAM58A  Truncating Mutations      1   \n",
       "1   1     CBL                 W802*      2   \n",
       "2   2     CBL                 Q249E      2   \n",
       "3   3     CBL                 N454D      3   \n",
       "4   4     CBL                 L399V      4   \n",
       "\n",
       "                                                TEXT  \n",
       "0  cyclin dependent kinases cdks regulate variety...  \n",
       "1  abstract background non small cell lung cancer...  \n",
       "2  abstract background non small cell lung cancer...  \n",
       "3  recent evidence demonstrated acquired uniparen...  \n",
       "4  oncogenic mutations monomeric casitas b lineag...  "
      ]
     },
     "execution_count": 7,
     "metadata": {},
     "output_type": "execute_result"
    }
   ],
   "source": [
    "result = pd.merge(data, data_text,on='ID', how='left')\n",
    "result.head()"
   ]
  },
  {
   "cell_type": "code",
   "execution_count": 8,
   "metadata": {},
   "outputs": [
    {
     "data": {
      "text/html": [
       "<div>\n",
       "<style scoped>\n",
       "    .dataframe tbody tr th:only-of-type {\n",
       "        vertical-align: middle;\n",
       "    }\n",
       "\n",
       "    .dataframe tbody tr th {\n",
       "        vertical-align: top;\n",
       "    }\n",
       "\n",
       "    .dataframe thead th {\n",
       "        text-align: right;\n",
       "    }\n",
       "</style>\n",
       "<table border=\"1\" class=\"dataframe\">\n",
       "  <thead>\n",
       "    <tr style=\"text-align: right;\">\n",
       "      <th></th>\n",
       "      <th>ID</th>\n",
       "      <th>Gene</th>\n",
       "      <th>Variation</th>\n",
       "      <th>Class</th>\n",
       "      <th>TEXT</th>\n",
       "    </tr>\n",
       "  </thead>\n",
       "  <tbody>\n",
       "    <tr>\n",
       "      <th>1109</th>\n",
       "      <td>1109</td>\n",
       "      <td>FANCA</td>\n",
       "      <td>S1088F</td>\n",
       "      <td>1</td>\n",
       "      <td>NaN</td>\n",
       "    </tr>\n",
       "    <tr>\n",
       "      <th>1277</th>\n",
       "      <td>1277</td>\n",
       "      <td>ARID5B</td>\n",
       "      <td>Truncating Mutations</td>\n",
       "      <td>1</td>\n",
       "      <td>NaN</td>\n",
       "    </tr>\n",
       "    <tr>\n",
       "      <th>1407</th>\n",
       "      <td>1407</td>\n",
       "      <td>FGFR3</td>\n",
       "      <td>K508M</td>\n",
       "      <td>6</td>\n",
       "      <td>NaN</td>\n",
       "    </tr>\n",
       "    <tr>\n",
       "      <th>1639</th>\n",
       "      <td>1639</td>\n",
       "      <td>FLT1</td>\n",
       "      <td>Amplification</td>\n",
       "      <td>6</td>\n",
       "      <td>NaN</td>\n",
       "    </tr>\n",
       "    <tr>\n",
       "      <th>2755</th>\n",
       "      <td>2755</td>\n",
       "      <td>BRAF</td>\n",
       "      <td>G596C</td>\n",
       "      <td>7</td>\n",
       "      <td>NaN</td>\n",
       "    </tr>\n",
       "  </tbody>\n",
       "</table>\n",
       "</div>"
      ],
      "text/plain": [
       "        ID    Gene             Variation  Class TEXT\n",
       "1109  1109   FANCA                S1088F      1  NaN\n",
       "1277  1277  ARID5B  Truncating Mutations      1  NaN\n",
       "1407  1407   FGFR3                 K508M      6  NaN\n",
       "1639  1639    FLT1         Amplification      6  NaN\n",
       "2755  2755    BRAF                 G596C      7  NaN"
      ]
     },
     "execution_count": 8,
     "metadata": {},
     "output_type": "execute_result"
    }
   ],
   "source": [
    "result[result.isnull().any(axis=1)]"
   ]
  },
  {
   "cell_type": "code",
   "execution_count": 9,
   "metadata": {},
   "outputs": [],
   "source": [
    "result.loc[result['TEXT'].isnull(),'TEXT'] = result['Gene'] +' '+result['Variation']"
   ]
  },
  {
   "cell_type": "code",
   "execution_count": 10,
   "metadata": {},
   "outputs": [
    {
     "data": {
      "text/plain": [
       "ID                   1109\n",
       "Gene                FANCA\n",
       "Variation          S1088F\n",
       "Class                   1\n",
       "TEXT         FANCA S1088F\n",
       "Name: 1109, dtype: object"
      ]
     },
     "execution_count": 10,
     "metadata": {},
     "output_type": "execute_result"
    }
   ],
   "source": [
    "result.iloc[1109]"
   ]
  },
  {
   "cell_type": "code",
   "execution_count": 11,
   "metadata": {},
   "outputs": [],
   "source": [
    "result=pd.read_csv('final_data.csv')"
   ]
  },
  {
   "cell_type": "code",
   "execution_count": 12,
   "metadata": {},
   "outputs": [],
   "source": [
    "result['combine']=result['Gene']+' '+result['Variation']+' '+result['TEXT']"
   ]
  },
  {
   "cell_type": "code",
   "execution_count": 20,
   "metadata": {},
   "outputs": [
    {
     "data": {
      "text/plain": [
       "'PTPRT'"
      ]
     },
     "execution_count": 20,
     "metadata": {},
     "output_type": "execute_result"
    }
   ],
   "source": [
    "result['Gene'][46]"
   ]
  },
  {
   "cell_type": "code",
   "execution_count": 21,
   "metadata": {},
   "outputs": [
    {
     "data": {
      "text/plain": [
       "'T844M'"
      ]
     },
     "execution_count": 21,
     "metadata": {},
     "output_type": "execute_result"
    }
   ],
   "source": [
    "result['Variation'][46]"
   ]
  },
  {
   "cell_type": "code",
   "execution_count": 22,
   "metadata": {
    "scrolled": true
   },
   "outputs": [
    {
     "data": {
      "text/plain": [
       "'introduction preceding hematologic disorders documented one quarter adults acute myeloid leukemia aml 1 however unknown proportion amls apparently arise de novo may developed undiscovered abnormal hematopoiesis mutations cbl encoding e3 ubiquitin ligase found 10 20 chronic myelomonocytic leukemia cmml juvenile myelomonocytic leukemia jmml patients 2 7 germline cbl mutations cause cbl syndrome recapitulates features ras mapk pathway disorders predisposes jmml 8 10 aml cbl mutations rare associated inv 16 11 14 describe development aml adult cbl syndrome jmml typical loss wild type wt cbl bone marrow methods written informed consent patient included present study obtained sample storage analyses sampling approved local ethics committee study conducted accordance declaration helsinki karyotype mutations npm1 flt3 tyrosine kinase domain internal tandem duplication cebpa cbl cbfb myh11 expression relative abl1 assessed described elsewhere 15 18 cbl mutated wt allelic ratios determined using pyromark q96md qiagen chromosomal copy numbers using cytoscanhd arrays affymetrix data deposited http www ebi ac uk arrayexpress e mexp 3997 whole exome sequencing performed reported19 variants validated sanger sequencing methods detailed supplemental data available blood web site results discussion characteristics aml 40 year old man diagnosed aml june 2011 preexisting conditions hereditary spherocytosis diagnosed 1996 coagulopathy low fvii x xii xiii atrial fibrillation hypocholesterolemia splenomegaly considered consequence spherocytosis aml diagnosis white blood cell count 19 390 l approximately 30 blasts 30 dysplastic monocytes supplemental figure 1 marrow contained 50 cd117 blasts 30 cd14 monocytes karyotype 46 xy add 4 q 31 inv 16 p13q22 21 46 xy inv 16 p13q22 1 cbfb myh11 type detected ratio 46 23 blood npm1 cebpa flt3 mutations absent patient received 3 7 induction followed dasatinib clinicaltrials gov nct00850382 six weeks start therapy complete remission cr documented patient received 4 consolidation courses high dose cytarabine last follow september 2013 continuous cr cbfb myh11 detectable identification germline cbl mutation treatment courses patient monocyte counts rose extraordinarily high levels although monocytes within normal limits treatment blood counts dating back 1996 supplemental table 1 observation prompted question whether patient underlying monocytic disorder monocytosis hallmark jmml cmml examined mutation status cbl exons 8 9 blood collected aml diagnosis indeed found p d390v mutation located frequently mutated ring finger domain assessing germline origin mutation also identified buccal mucosa hair follicles concluded patient previously undiagnosed cbl syndrome preexisting coagulopathy atrial fibrillation part phenotype supplemental table 2 8 10 cbl mutations detected blood parents indicating de novo occurrence patient germline patient siblings zygosity cbl mutation copy number neutral loss heterozygosity loh cbl containing chromosomal band 11q23 3 common children cbl syndrome jmml 8 10 11q loh also detectable marrow mononuclear cells patient aml moreover 11q loh persisted b lymphocytes granulocytes monocytes collected later cr table 1 supplemental figure 2 reminiscent situation children cbl syndrome jmml whose myeloproliferation spontaneously improves 8 notably aml patient exhibited additional gain 11q material indicating loh existed aml skin lymphocytes 11q retained heterozygosity view inlineview popup table 1 chromosome 11q aberrations assessed single nucleotide polymorphism array cbl d390v allele burden determined sequencing different cell populations complement loh findings determined allelic burden cbl mutation pyrosequencing table 1 agreement loh data mutation heterozygous skin lymphocytes homozygous aml cells granulocytes monocytes b lymphocytes collected cr remained homozygous last follow underlining stability genetically aberrant hematopoiesis notably loh pyrosequencing data suggested presence small fraction lymphocytes also harboring 11q loh table 1 supplemental figure 2 identification cooperating mutations whole exome sequencing similar patient children cbl syndrome transient jmml feature normal blood counts persistent homozygous cbl mutation hematopoiesis 8 little known mechanisms could responsible normal hematopoiesis despite oncogenic features characteristic jmml wondered whether associated acquisition mutations overcome myeloproliferative impact homozygous cbl mutation therefore subjected granulocytes cr skin whole exome sequencing identified additional mutations also performed whole exome sequencing aml cells identify mutations acquired aml development addition inv 16 11q gain detected somatic mutations 12 genes table 2 three cand1 nid2 ptprt previously found mutated aml 20 22 however gene established role leukemogenesis eg cooperating partner mutant cbl cbfb myh11 view inlineview popup table 2 gene mutations aml acquired addition germline cbl mutation chromosomal aberrations biological impact cbl mutation jmml features formation colonies low concentrations granulocyte macrophage colony stimulating factor gm csf 23 observed spontaneous growth hypersensitivity gm csf mononuclear cells collected patient cr data shown underlines lacking subtle impact homozygous cbl mutation hematopoiesis moreover granulocytes showed normal production reactive oxygen species interleukin 8 stimuli adhesion migration chemotaxis normal data shown summary diagnosed cbl syndrome adult observed children cbl syndrome developing jmml 8 10 lost cbl wt allele bone marrow whether leads overt jmml certain circumstances well understood 24 loh persisted various hematopoietic cell lineages patient likely conferred clonal advantage one point thus patient may indeed gone jmml related hematologic disorder infancy spontaneously resolved however medical information support assumption unavailable following hypothesis normal blood counts patient could associated acquisition mutations counterbalancing mutant cbl performed whole exome sequencing identified acquired mutations background cbl mutation patient developed aml acquisition inv 16 gain 11q material least 12 gene mutations aml eradicated chemotherapy leaving hematopoiesis homozygous cbl mutation although cbl syndrome known predispose jmml first description different myeloid neoplasia occurring adult age cannot determined whether aml mere coincidence caused predisposition conferred cbl mutation however latter supported specific gain cbl encoding 11q material occurrence inv 16 associates cbl mutations 11 14 substantiated future studies association cbl syndrome aml considered clinical practice cbl would join genes eg runx1 cebpa germline mutations linked predisposition aml 25 overall case highlights possibility genetically aberrant hematopoiesis despite normal blood counts provides insight myeloid neoplasias cbl syndrome potential health problems associated cbl syndrome germline analyses may generally warranted younger adults cbl mutated neoplasias '"
      ]
     },
     "execution_count": 22,
     "metadata": {},
     "output_type": "execute_result"
    }
   ],
   "source": [
    "result['TEXT'][46]"
   ]
  },
  {
   "cell_type": "code",
   "execution_count": 16,
   "metadata": {},
   "outputs": [],
   "source": [
    "result1=result[['combine','Class']]"
   ]
  },
  {
   "cell_type": "code",
   "execution_count": 19,
   "metadata": {
    "scrolled": true
   },
   "outputs": [
    {
     "data": {
      "text/plain": [
       "'PTPRT T844M introduction preceding hematologic disorders documented one quarter adults acute myeloid leukemia aml 1 however unknown proportion amls apparently arise de novo may developed undiscovered abnormal hematopoiesis mutations cbl encoding e3 ubiquitin ligase found 10 20 chronic myelomonocytic leukemia cmml juvenile myelomonocytic leukemia jmml patients 2 7 germline cbl mutations cause cbl syndrome recapitulates features ras mapk pathway disorders predisposes jmml 8 10 aml cbl mutations rare associated inv 16 11 14 describe development aml adult cbl syndrome jmml typical loss wild type wt cbl bone marrow methods written informed consent patient included present study obtained sample storage analyses sampling approved local ethics committee study conducted accordance declaration helsinki karyotype mutations npm1 flt3 tyrosine kinase domain internal tandem duplication cebpa cbl cbfb myh11 expression relative abl1 assessed described elsewhere 15 18 cbl mutated wt allelic ratios determined using pyromark q96md qiagen chromosomal copy numbers using cytoscanhd arrays affymetrix data deposited http www ebi ac uk arrayexpress e mexp 3997 whole exome sequencing performed reported19 variants validated sanger sequencing methods detailed supplemental data available blood web site results discussion characteristics aml 40 year old man diagnosed aml june 2011 preexisting conditions hereditary spherocytosis diagnosed 1996 coagulopathy low fvii x xii xiii atrial fibrillation hypocholesterolemia splenomegaly considered consequence spherocytosis aml diagnosis white blood cell count 19 390 l approximately 30 blasts 30 dysplastic monocytes supplemental figure 1 marrow contained 50 cd117 blasts 30 cd14 monocytes karyotype 46 xy add 4 q 31 inv 16 p13q22 21 46 xy inv 16 p13q22 1 cbfb myh11 type detected ratio 46 23 blood npm1 cebpa flt3 mutations absent patient received 3 7 induction followed dasatinib clinicaltrials gov nct00850382 six weeks start therapy complete remission cr documented patient received 4 consolidation courses high dose cytarabine last follow september 2013 continuous cr cbfb myh11 detectable identification germline cbl mutation treatment courses patient monocyte counts rose extraordinarily high levels although monocytes within normal limits treatment blood counts dating back 1996 supplemental table 1 observation prompted question whether patient underlying monocytic disorder monocytosis hallmark jmml cmml examined mutation status cbl exons 8 9 blood collected aml diagnosis indeed found p d390v mutation located frequently mutated ring finger domain assessing germline origin mutation also identified buccal mucosa hair follicles concluded patient previously undiagnosed cbl syndrome preexisting coagulopathy atrial fibrillation part phenotype supplemental table 2 8 10 cbl mutations detected blood parents indicating de novo occurrence patient germline patient siblings zygosity cbl mutation copy number neutral loss heterozygosity loh cbl containing chromosomal band 11q23 3 common children cbl syndrome jmml 8 10 11q loh also detectable marrow mononuclear cells patient aml moreover 11q loh persisted b lymphocytes granulocytes monocytes collected later cr table 1 supplemental figure 2 reminiscent situation children cbl syndrome jmml whose myeloproliferation spontaneously improves 8 notably aml patient exhibited additional gain 11q material indicating loh existed aml skin lymphocytes 11q retained heterozygosity view inlineview popup table 1 chromosome 11q aberrations assessed single nucleotide polymorphism array cbl d390v allele burden determined sequencing different cell populations complement loh findings determined allelic burden cbl mutation pyrosequencing table 1 agreement loh data mutation heterozygous skin lymphocytes homozygous aml cells granulocytes monocytes b lymphocytes collected cr remained homozygous last follow underlining stability genetically aberrant hematopoiesis notably loh pyrosequencing data suggested presence small fraction lymphocytes also harboring 11q loh table 1 supplemental figure 2 identification cooperating mutations whole exome sequencing similar patient children cbl syndrome transient jmml feature normal blood counts persistent homozygous cbl mutation hematopoiesis 8 little known mechanisms could responsible normal hematopoiesis despite oncogenic features characteristic jmml wondered whether associated acquisition mutations overcome myeloproliferative impact homozygous cbl mutation therefore subjected granulocytes cr skin whole exome sequencing identified additional mutations also performed whole exome sequencing aml cells identify mutations acquired aml development addition inv 16 11q gain detected somatic mutations 12 genes table 2 three cand1 nid2 ptprt previously found mutated aml 20 22 however gene established role leukemogenesis eg cooperating partner mutant cbl cbfb myh11 view inlineview popup table 2 gene mutations aml acquired addition germline cbl mutation chromosomal aberrations biological impact cbl mutation jmml features formation colonies low concentrations granulocyte macrophage colony stimulating factor gm csf 23 observed spontaneous growth hypersensitivity gm csf mononuclear cells collected patient cr data shown underlines lacking subtle impact homozygous cbl mutation hematopoiesis moreover granulocytes showed normal production reactive oxygen species interleukin 8 stimuli adhesion migration chemotaxis normal data shown summary diagnosed cbl syndrome adult observed children cbl syndrome developing jmml 8 10 lost cbl wt allele bone marrow whether leads overt jmml certain circumstances well understood 24 loh persisted various hematopoietic cell lineages patient likely conferred clonal advantage one point thus patient may indeed gone jmml related hematologic disorder infancy spontaneously resolved however medical information support assumption unavailable following hypothesis normal blood counts patient could associated acquisition mutations counterbalancing mutant cbl performed whole exome sequencing identified acquired mutations background cbl mutation patient developed aml acquisition inv 16 gain 11q material least 12 gene mutations aml eradicated chemotherapy leaving hematopoiesis homozygous cbl mutation although cbl syndrome known predispose jmml first description different myeloid neoplasia occurring adult age cannot determined whether aml mere coincidence caused predisposition conferred cbl mutation however latter supported specific gain cbl encoding 11q material occurrence inv 16 associates cbl mutations 11 14 substantiated future studies association cbl syndrome aml considered clinical practice cbl would join genes eg runx1 cebpa germline mutations linked predisposition aml 25 overall case highlights possibility genetically aberrant hematopoiesis despite normal blood counts provides insight myeloid neoplasias cbl syndrome potential health problems associated cbl syndrome germline analyses may generally warranted younger adults cbl mutated neoplasias '"
      ]
     },
     "execution_count": 19,
     "metadata": {},
     "output_type": "execute_result"
    }
   ],
   "source": [
    "result1['combine'][46]"
   ]
  },
  {
   "cell_type": "code",
   "execution_count": 14,
   "metadata": {},
   "outputs": [],
   "source": [
    "result1.to_csv('train.csv',index=False)"
   ]
  },
  {
   "cell_type": "markdown",
   "metadata": {},
   "source": [
    "## 2. Predictive Models\n",
    "\n",
    "#### Vectorization and Build Base line Model"
   ]
  },
  {
   "cell_type": "code",
   "execution_count": 15,
   "metadata": {},
   "outputs": [],
   "source": [
    "from sklearn.feature_extraction.text import TfidfVectorizer\n",
    "tfidf_vectorizer = TfidfVectorizer(max_df=0.8,max_features=35000)"
   ]
  },
  {
   "cell_type": "code",
   "execution_count": 16,
   "metadata": {},
   "outputs": [],
   "source": [
    "from sklearn.model_selection import train_test_split\n",
    "xtrain, xval, ytrain, yval = train_test_split(result['combine'], result['Class'], test_size=0.2, random_state=9)"
   ]
  },
  {
   "cell_type": "code",
   "execution_count": 17,
   "metadata": {},
   "outputs": [
    {
     "data": {
      "text/plain": [
       "0       FAM58A Truncating Mutations cyclin dependent k...\n",
       "1       CBL W802* abstract background non small cell l...\n",
       "2       CBL Q249E abstract background non small cell l...\n",
       "3       CBL N454D recent evidence demonstrated acquire...\n",
       "4       CBL L399V oncogenic mutations monomeric casita...\n",
       "5       CBL V391I oncogenic mutations monomeric casita...\n",
       "6       CBL V430M oncogenic mutations monomeric casita...\n",
       "7       CBL Deletion cbl negative regulator activated ...\n",
       "8       CBL Y371H abstract juvenile myelomonocytic leu...\n",
       "9       CBL C384R abstract juvenile myelomonocytic leu...\n",
       "10      CBL P395A oncogenic mutations monomeric casita...\n",
       "11      CBL K382E noonan syndrome autosomal dominant c...\n",
       "12      CBL R420Q noonan syndrome autosomal dominant c...\n",
       "13      CBL C381A noonan syndrome autosomal dominant c...\n",
       "14      CBL P428L oncogenic mutations monomeric casita...\n",
       "15      CBL D390Y noonan syndrome autosomal dominant c...\n",
       "16      CBL Truncating Mutations determine residual cy...\n",
       "17      CBL Q367P acquired uniparental disomy aupd com...\n",
       "18      CBL M374V oncogenic mutations monomeric casita...\n",
       "19      CBL Y371S acquired uniparental disomy aupd com...\n",
       "20      CBL H94Y abstract background non small cell lu...\n",
       "21      CBL C396R oncogenic mutations monomeric casita...\n",
       "22      CBL G375P oncogenic mutations monomeric casita...\n",
       "23      CBL S376F recent evidence demonstrated acquire...\n",
       "24      CBL P417A recent evidence demonstrated acquire...\n",
       "25      CBL H398Y recent evidence demonstrated acquire...\n",
       "26      SHOC2 S2G abstract n myristoylation common for...\n",
       "27      TERT Y846C heterozygous mutations telomerase c...\n",
       "28      TERT C228T sequencing studies identified many ...\n",
       "29      TERT H412Y heterozygous mutations telomerase c...\n",
       "                              ...                        \n",
       "3291    RET C620R We investigatedthe transformingactiv...\n",
       "3292    RET C634Y We investigatedthe transformingactiv...\n",
       "3293    RET V804G RET is a transmembrane tyrosine kina...\n",
       "3294    RET R886W Introduction  Inherited germ line ac...\n",
       "3295    RET F893L Many missense mutations in the RET p...\n",
       "3296    RET Y791F The RET proto-oncogene encodes a rec...\n",
       "3297    RUNX1 R177* THE AML1 GENE IS KNOWN as the most...\n",
       "3298    RUNX1 Y113* Introduction  Myelodysplastic synd...\n",
       "3299    RUNX1 R139G The BCR-ABL fusion protein generat...\n",
       "3300    RUNX1 K83N The most frequent mutations associa...\n",
       "3301    RUNX1 R177Q The most frequent mutations associ...\n",
       "3302    RUNX1 R166Q Familial platelet disorder with pr...\n",
       "3303    RUNX1 P173S Introduction  Myelodysplastic synd...\n",
       "3304    RUNX1 R201Q Familial platelet disorder with pr...\n",
       "3305    RUNX1 S70fsX93 Introduction  Myelodysplastic s...\n",
       "3306    RUNX1 W279* Here we report two new RUNX1 mutat...\n",
       "3307    RUNX1 Truncating Mutations The RUNX genes have...\n",
       "3308    RUNX1 R174*  Familial platelet disorder with p...\n",
       "3309    RUNX1 D171G The BCR-ABL fusion protein generat...\n",
       "3310    RUNX1 Amplification RUNX proteins belong to a ...\n",
       "3311    RUNX1 RUNX1-EVI1 Fusion The AML1/EVI-1 chimeri...\n",
       "3312    RUNX1 TEL-RUNX1 Fusion Balanced chromosomal tr...\n",
       "3313    RUNX1 H78Q The BCR-ABL fusion protein generate...\n",
       "3314    RUNX1 G42R Introduction  Myelodysplastic syndr...\n",
       "3315    RUNX1 RUNX1-RUNX1T1 Fusion The RUNX gene famil...\n",
       "3316    RUNX1 D171N Introduction  Myelodysplastic synd...\n",
       "3317    RUNX1 A122* Introduction  Myelodysplastic synd...\n",
       "3318    RUNX1 Fusions The Runt-related transcription f...\n",
       "3319    RUNX1 R80C The RUNX1/AML1 gene is the most fre...\n",
       "3320    RUNX1 K83E The most frequent mutations associa...\n",
       "Name: combine, Length: 3321, dtype: object"
      ]
     },
     "execution_count": 17,
     "metadata": {},
     "output_type": "execute_result"
    }
   ],
   "source": [
    "result['combine']"
   ]
  },
  {
   "cell_type": "code",
   "execution_count": 19,
   "metadata": {},
   "outputs": [],
   "source": [
    "xtrain_tfidf = tfidf_vectorizer.fit_transform(xtrain)\n",
    "xval_tfidf = tfidf_vectorizer.transform(xval)\n",
    "#xval_tfidf"
   ]
  },
  {
   "cell_type": "code",
   "execution_count": 20,
   "metadata": {},
   "outputs": [
    {
     "data": {
      "text/plain": [
       "(2656, 35000)"
      ]
     },
     "execution_count": 20,
     "metadata": {},
     "output_type": "execute_result"
    }
   ],
   "source": [
    "xtrain_tfidf.shape"
   ]
  },
  {
   "cell_type": "code",
   "execution_count": 21,
   "metadata": {},
   "outputs": [],
   "source": [
    "lr = OneVsRestClassifier(RandomForestClassifier())"
   ]
  },
  {
   "cell_type": "code",
   "execution_count": 36,
   "metadata": {},
   "outputs": [
    {
     "data": {
      "text/plain": [
       "OneVsRestClassifier(estimator=RandomForestClassifier(bootstrap=True, class_weight=None, criterion='gini',\n",
       "            max_depth=None, max_features='auto', max_leaf_nodes=None,\n",
       "            min_impurity_decrease=0.0, min_impurity_split=None,\n",
       "            min_samples_leaf=1, min_samples_split=2,\n",
       "            min_weight_fraction_leaf=0.0, n_estimators='warn', n_jobs=None,\n",
       "            oob_score=False, random_state=None, verbose=0,\n",
       "            warm_start=False),\n",
       "          n_jobs=None)"
      ]
     },
     "execution_count": 36,
     "metadata": {},
     "output_type": "execute_result"
    }
   ],
   "source": [
    "lr.fit(xtrain_tfidf, ytrain)"
   ]
  },
  {
   "cell_type": "code",
   "execution_count": 85,
   "metadata": {},
   "outputs": [],
   "source": [
    "import pickle\n",
    "pickle.dump(lr,open('lr_model.pkl','wb'))"
   ]
  },
  {
   "cell_type": "code",
   "execution_count": 42,
   "metadata": {},
   "outputs": [
    {
     "data": {
      "text/plain": [
       "0.45263157894736844"
      ]
     },
     "execution_count": 42,
     "metadata": {},
     "output_type": "execute_result"
    }
   ],
   "source": [
    "y_pred = lr.predict(xval_tfidf)\n",
    "accuracy_score(yval,y_pred)"
   ]
  },
  {
   "cell_type": "code",
   "execution_count": 43,
   "metadata": {},
   "outputs": [
    {
     "data": {
      "text/plain": [
       "0.45263157894736844"
      ]
     },
     "execution_count": 43,
     "metadata": {},
     "output_type": "execute_result"
    }
   ],
   "source": [
    "y_pred = lr.predict(xval_tfidf)\n",
    "accuracy_score(yval,y_pred)"
   ]
  },
  {
   "cell_type": "code",
   "execution_count": 44,
   "metadata": {},
   "outputs": [],
   "source": [
    "from sklearn import preprocessing\n",
    "lb = preprocessing.LabelBinarizer()\n",
    "Y=lb.fit_transform(result['Class'])\n",
    "#Y=label_binarize(result['Class'],classes=[1,2,3,4,5,6,7,8,9])"
   ]
  },
  {
   "cell_type": "code",
   "execution_count": 45,
   "metadata": {},
   "outputs": [],
   "source": [
    "from sklearn.feature_extraction.text import TfidfVectorizer\n",
    "tfidf_vectorizer = TfidfVectorizer(max_df=0.8,max_features=45000)"
   ]
  },
  {
   "cell_type": "code",
   "execution_count": 46,
   "metadata": {},
   "outputs": [],
   "source": [
    "from sklearn.model_selection import train_test_split\n",
    "xtrain, xval, ytrain, yval = train_test_split(result['combine'], Y, test_size=0.2, random_state=9)"
   ]
  },
  {
   "cell_type": "code",
   "execution_count": 47,
   "metadata": {},
   "outputs": [
    {
     "data": {
      "text/plain": [
       "(2656, 45000)"
      ]
     },
     "execution_count": 47,
     "metadata": {},
     "output_type": "execute_result"
    }
   ],
   "source": [
    "xtrain_tfidf = tfidf_vectorizer.fit_transform(xtrain)\n",
    "xval_tfidf = tfidf_vectorizer.transform(xval)\n",
    "#xval_tfidf\n",
    "xtrain_tfidf.shape"
   ]
  },
  {
   "cell_type": "code",
   "execution_count": 48,
   "metadata": {},
   "outputs": [],
   "source": [
    "from sklearn.linear_model import LogisticRegression\n",
    "from sklearn.metrics import f1_score\n",
    "lr=OneVsRestClassifier(LogisticRegression())\n",
    "rf = OneVsRestClassifier(RandomForestClassifier())\n",
    "svm = OneVsRestClassifier(SVC())\n",
    "gnb = OneVsRestClassifier(GaussianNB())\n",
    "knn = OneVsRestClassifier(KNeighborsClassifier())"
   ]
  },
  {
   "cell_type": "markdown",
   "metadata": {},
   "source": [
    "## 3. Model Selection\n",
    "#### Logistic Regression"
   ]
  },
  {
   "cell_type": "code",
   "execution_count": 49,
   "metadata": {},
   "outputs": [
    {
     "data": {
      "text/plain": [
       "OneVsRestClassifier(estimator=LogisticRegression(C=1.0, class_weight=None, dual=False, fit_intercept=True,\n",
       "          intercept_scaling=1, max_iter=100, multi_class='warn',\n",
       "          n_jobs=None, penalty='l2', random_state=None, solver='warn',\n",
       "          tol=0.0001, verbose=0, warm_start=False),\n",
       "          n_jobs=None)"
      ]
     },
     "execution_count": 49,
     "metadata": {},
     "output_type": "execute_result"
    }
   ],
   "source": [
    "lr.fit(xtrain_tfidf, ytrain)"
   ]
  },
  {
   "cell_type": "code",
   "execution_count": 77,
   "metadata": {},
   "outputs": [
    {
     "data": {
      "text/plain": [
       "(2656, 45000)"
      ]
     },
     "execution_count": 77,
     "metadata": {},
     "output_type": "execute_result"
    }
   ],
   "source": [
    "xtrain_tfidf.shape"
   ]
  },
  {
   "cell_type": "code",
   "execution_count": 76,
   "metadata": {},
   "outputs": [],
   "source": [
    "import pickle\n",
    "pickle.dump(lr,open('lr_model.pkl','wb'))"
   ]
  },
  {
   "cell_type": "code",
   "execution_count": 71,
   "metadata": {},
   "outputs": [],
   "source": [
    "y_pred1 = lr.predict_proba(xval_tfidf)\n",
    "# accuracy_score(yval,y_pred)"
   ]
  },
  {
   "cell_type": "code",
   "execution_count": 72,
   "metadata": {},
   "outputs": [
    {
     "data": {
      "text/plain": [
       "array([[0.24336125, 0.1191084 , 0.01992638, ..., 0.19862603, 0.00833847,\n",
       "        0.0128977 ],\n",
       "       [0.04793002, 0.52705931, 0.01711432, ..., 0.37260431, 0.00294991,\n",
       "        0.00318196],\n",
       "       [0.10265924, 0.14497408, 0.02034161, ..., 0.39488395, 0.00381541,\n",
       "        0.00453775],\n",
       "       ...,\n",
       "       [0.07217979, 0.11719254, 0.01475613, ..., 0.25640356, 0.0069207 ,\n",
       "        0.00875415],\n",
       "       [0.30577528, 0.05775468, 0.02272429, ..., 0.12016891, 0.00283228,\n",
       "        0.00302405],\n",
       "       [0.53457967, 0.01005746, 0.03477403, ..., 0.00730125, 0.00668241,\n",
       "        0.00901641]])"
      ]
     },
     "execution_count": 72,
     "metadata": {},
     "output_type": "execute_result"
    }
   ],
   "source": [
    "y_pred1"
   ]
  },
  {
   "cell_type": "code",
   "execution_count": 73,
   "metadata": {},
   "outputs": [
    {
     "data": {
      "text/plain": [
       "1"
      ]
     },
     "execution_count": 73,
     "metadata": {},
     "output_type": "execute_result"
    }
   ],
   "source": [
    "lb.inverse_transform(np.stack([y_pred1[0]]))[0]"
   ]
  },
  {
   "cell_type": "code",
   "execution_count": 74,
   "metadata": {},
   "outputs": [
    {
     "data": {
      "text/plain": [
       "0.8759005438723265"
      ]
     },
     "execution_count": 74,
     "metadata": {},
     "output_type": "execute_result"
    }
   ],
   "source": [
    "roc_auc_score(yval, y_pred1)"
   ]
  },
  {
   "cell_type": "code",
   "execution_count": 75,
   "metadata": {},
   "outputs": [
    {
     "data": {
      "text/plain": [
       "0.5939849624060151"
      ]
     },
     "execution_count": 75,
     "metadata": {},
     "output_type": "execute_result"
    }
   ],
   "source": [
    "accuracy_score(lb.inverse_transform(yval),lb.inverse_transform(y_pred1))"
   ]
  },
  {
   "cell_type": "markdown",
   "metadata": {},
   "source": [
    "#### Random Forest"
   ]
  },
  {
   "cell_type": "code",
   "execution_count": 57,
   "metadata": {},
   "outputs": [
    {
     "data": {
      "text/plain": [
       "OneVsRestClassifier(estimator=RandomForestClassifier(bootstrap=True, class_weight=None, criterion='gini',\n",
       "            max_depth=None, max_features='auto', max_leaf_nodes=None,\n",
       "            min_impurity_decrease=0.0, min_impurity_split=None,\n",
       "            min_samples_leaf=1, min_samples_split=2,\n",
       "            min_weight_fraction_leaf=0.0, n_estimators='warn', n_jobs=None,\n",
       "            oob_score=False, random_state=None, verbose=0,\n",
       "            warm_start=False),\n",
       "          n_jobs=None)"
      ]
     },
     "execution_count": 57,
     "metadata": {},
     "output_type": "execute_result"
    }
   ],
   "source": [
    "rf.fit(xtrain_tfidf, ytrain)"
   ]
  },
  {
   "cell_type": "code",
   "execution_count": 58,
   "metadata": {},
   "outputs": [],
   "source": [
    "y_pred2 = rf.predict_proba(xval_tfidf)"
   ]
  },
  {
   "cell_type": "code",
   "execution_count": 59,
   "metadata": {},
   "outputs": [
    {
     "data": {
      "text/plain": [
       "0.8330407488316522"
      ]
     },
     "execution_count": 59,
     "metadata": {},
     "output_type": "execute_result"
    }
   ],
   "source": [
    "roc_auc_score(yval, y_pred2)"
   ]
  },
  {
   "cell_type": "code",
   "execution_count": 60,
   "metadata": {},
   "outputs": [
    {
     "data": {
      "text/plain": [
       "0.6225563909774436"
      ]
     },
     "execution_count": 60,
     "metadata": {},
     "output_type": "execute_result"
    }
   ],
   "source": [
    "accuracy_score(lb.inverse_transform(yval),lb.inverse_transform(y_pred2))"
   ]
  },
  {
   "cell_type": "markdown",
   "metadata": {},
   "source": [
    "#### SVM"
   ]
  },
  {
   "cell_type": "code",
   "execution_count": 550,
   "metadata": {},
   "outputs": [
    {
     "data": {
      "text/plain": [
       "OneVsRestClassifier(estimator=SVC(C=1.0, cache_size=200, class_weight=None, coef0=0.0,\n",
       "  decision_function_shape='ovr', degree=3, gamma='auto', kernel='rbf',\n",
       "  max_iter=-1, probability=False, random_state=None, shrinking=True,\n",
       "  tol=0.001, verbose=False),\n",
       "          n_jobs=1)"
      ]
     },
     "execution_count": 550,
     "metadata": {},
     "output_type": "execute_result"
    }
   ],
   "source": [
    "svm.fit(xtrain_tfidf, ytrain)"
   ]
  },
  {
   "cell_type": "code",
   "execution_count": null,
   "metadata": {},
   "outputs": [],
   "source": [
    "y_pred3 = svm.predict_proba(xval_tfidf.toarray())"
   ]
  },
  {
   "cell_type": "code",
   "execution_count": null,
   "metadata": {},
   "outputs": [],
   "source": [
    "roc_auc_score(yval, y_pred3)"
   ]
  },
  {
   "cell_type": "code",
   "execution_count": null,
   "metadata": {},
   "outputs": [],
   "source": [
    "accuracy_score(lb.inverse_transform(yval),lb.inverse_transform(y_pred3))"
   ]
  },
  {
   "cell_type": "markdown",
   "metadata": {},
   "source": [
    "#### Gaussian"
   ]
  },
  {
   "cell_type": "code",
   "execution_count": 51,
   "metadata": {},
   "outputs": [
    {
     "data": {
      "text/plain": [
       "OneVsRestClassifier(estimator=GaussianNB(priors=None, var_smoothing=1e-09),\n",
       "          n_jobs=None)"
      ]
     },
     "execution_count": 51,
     "metadata": {},
     "output_type": "execute_result"
    }
   ],
   "source": [
    "gnb.fit(xtrain_tfidf.toarray(), ytrain)"
   ]
  },
  {
   "cell_type": "code",
   "execution_count": 52,
   "metadata": {},
   "outputs": [],
   "source": [
    "y_pred4 = gnb.predict_proba(xval_tfidf.toarray())"
   ]
  },
  {
   "cell_type": "code",
   "execution_count": 53,
   "metadata": {},
   "outputs": [
    {
     "data": {
      "text/plain": [
       "0.774337391597264"
      ]
     },
     "execution_count": 53,
     "metadata": {},
     "output_type": "execute_result"
    }
   ],
   "source": [
    "roc_auc_score(yval, y_pred4)"
   ]
  },
  {
   "cell_type": "code",
   "execution_count": 54,
   "metadata": {},
   "outputs": [
    {
     "data": {
      "text/plain": [
       "0.49022556390977445"
      ]
     },
     "execution_count": 54,
     "metadata": {},
     "output_type": "execute_result"
    }
   ],
   "source": [
    "accuracy_score(lb.inverse_transform(yval),lb.inverse_transform(y_pred4))"
   ]
  },
  {
   "cell_type": "markdown",
   "metadata": {},
   "source": [
    "#### K Nearest Neighbor"
   ]
  },
  {
   "cell_type": "code",
   "execution_count": 55,
   "metadata": {},
   "outputs": [
    {
     "data": {
      "text/plain": [
       "OneVsRestClassifier(estimator=KNeighborsClassifier(algorithm='auto', leaf_size=30, metric='minkowski',\n",
       "           metric_params=None, n_jobs=None, n_neighbors=5, p=2,\n",
       "           weights='uniform'),\n",
       "          n_jobs=None)"
      ]
     },
     "execution_count": 55,
     "metadata": {},
     "output_type": "execute_result"
    }
   ],
   "source": [
    "knn.fit(xtrain_tfidf, ytrain)"
   ]
  },
  {
   "cell_type": "code",
   "execution_count": 56,
   "metadata": {},
   "outputs": [],
   "source": [
    "y_pred5 = knn.predict_proba(xval_tfidf)"
   ]
  },
  {
   "cell_type": "code",
   "execution_count": 57,
   "metadata": {},
   "outputs": [
    {
     "data": {
      "text/plain": [
       "0.8276394520246101"
      ]
     },
     "execution_count": 57,
     "metadata": {},
     "output_type": "execute_result"
    }
   ],
   "source": [
    "roc_auc_score(yval, y_pred5)"
   ]
  },
  {
   "cell_type": "code",
   "execution_count": 58,
   "metadata": {},
   "outputs": [
    {
     "data": {
      "text/plain": [
       "0.6120300751879699"
      ]
     },
     "execution_count": 58,
     "metadata": {},
     "output_type": "execute_result"
    }
   ],
   "source": [
    "accuracy_score(lb.inverse_transform(yval),lb.inverse_transform(y_pred5))"
   ]
  },
  {
   "cell_type": "markdown",
   "metadata": {},
   "source": [
    "## 3. Generating Predictions for Baseline Models\n",
    "#### For Logistic Regression"
   ]
  },
  {
   "cell_type": "code",
   "execution_count": 64,
   "metadata": {},
   "outputs": [
    {
     "name": "stdout",
     "output_type": "stream",
     "text": [
      "[4 7 5 1 7 1 4 7 6 7 7 2 4 2 1 4 4 2 1 7 7 4 5 7 1 2 2 6 7 7 4 7 6 4 4 4 7\n",
      " 6 1 1 5 6 4 4 4 6 7 2 4 4 2 7 5 9 4 8 7 4 1 1 4 7 1 7 7 2 7 7 6 1 4 8 4 7\n",
      " 7 1 7 7 6 5 5 6 7 7 1 3 7 4 7 2 4 7 7 7 6 1 6 4 4 4 4 2 1 7 1 4 6 1 4 6 7\n",
      " 4 1 4 5 4 7 6 2 2 7 1 6 1 1 2 4 7 7 2 6 8 4 1 2 7 1 2 7 2 1 1 4 4 7 7 1 7\n",
      " 7 1 4 4 6 7 5 1 5 4 4 2 1 4 6 7 7 1 1 6 7 4 7 6 5 2 6 5 6 7 5 6 5 4 6 5 5\n",
      " 7 5 4 7 6 4 1 2 7 7 4 2 7 4 6 4 1 2 4 7 7 6 7 1 6 7 7 1 7 1 4 7 1 4 4 5 2\n",
      " 1 4 7 7 1 1 1 1 2 1 2 1 2 2 4 2 4 7 1 1 5 2 7 7 4 1 6 6 4 4 6 7 4 3 5 1 2\n",
      " 5 4 5 7 2 4 5 2 1 7 1 2 7 4 6 7 3 1 1 9 2 4 1 7 4 4 1 4 7 7 6 7 4 4 4 6 6\n",
      " 7 4 7 7 6 9 7 6 4 1 1 7 7 4 4 2 1 2 7 7 5 6 4 7 6 4 2 6 4 7 7 7 2 2 2 1 4\n",
      " 7 1 7 1 6 7 7 6 1 7 5 7 1 2 8 7 7 4 2 7 1 6 6 7 1 3 2 2 4 1 1 7 1 2 1 5 7\n",
      " 1 1 7 7 7 1 6 2 2 9 1 7 7 4 1 1 7 7 7 2 3 1 1 7 1 9 6 1 7 2 7 7 2 1 6 7 1\n",
      " 7 4 7 7 2 3 2 1 1 7 4 7 1 7 5 1 2 5 4 2 7 3 2 2 7 4 9 7 2 1 4 5 4 6 1 5 5\n",
      " 4 6 4 7 6 4 6 5 4 5 4 7 7 4 1 2 2 2 4 3 7 2 6 7 1 3 4 5 1 2 7 4 2 6 2 7 7\n",
      " 4 2 1 7 3 7 7 7 7 4 3 7 2 7 5 6 5 7 7 4 7 5 2 4 7 7 7 2 7 1 7 2 7 2 2 7 4\n",
      " 5 6 7 2 4 7 4 7 2 4 4 1 1 4 4 7 1 4 4 7 2 4 4 2 7 1 7 6 6 4 4 5 6 6 5 2 8\n",
      " 5 1 2 2 7 2 2 5 7 1 5 4 8 2 5 4 5 4 1 2 1 6 3 7 4 5 7 5 4 7 4 7 4 2 4 4 4\n",
      " 5 7 4 7 6 4 7 7 2 7 5 5 2 1 7 2 2 4 2 1 7 7 7 7 2 2 9 4 1 4 1 1 1 4 4 9 7\n",
      " 7 7 7 5 7 7 4 1 4 6 5 4 9 7 4 7 1 2 2 7 9 1 7 4 1 4 5 5 7 3 1 7 2 4 1 1] \n",
      "\n",
      " [1 2 1 1 7 1 1 7 6 1 1 7 1 1 1 4 4 1 1 2 1 1 1 7 1 1 1 1 1 7 4 1 6 1 1 1 7\n",
      " 7 1 1 1 6 1 4 1 6 1 1 1 4 7 7 7 1 4 1 1 1 1 1 4 7 1 1 1 1 7 7 1 1 1 1 1 1\n",
      " 1 1 1 7 6 1 1 1 1 1 1 1 7 4 7 1 4 7 1 1 6 1 1 4 1 4 1 7 1 7 1 4 7 1 4 7 7\n",
      " 4 1 1 1 1 1 1 7 1 1 1 1 1 1 1 1 1 7 7 6 1 4 1 1 1 1 1 1 1 1 1 1 4 1 7 1 1\n",
      " 7 1 1 1 1 1 1 1 1 4 1 2 7 1 1 1 7 1 1 1 7 4 1 1 4 1 6 7 1 1 1 1 1 4 7 1 4\n",
      " 1 1 4 1 6 4 1 1 7 7 1 2 1 1 6 1 1 7 1 7 1 6 7 1 6 7 7 4 7 1 1 1 1 4 1 6 1\n",
      " 1 4 7 1 1 1 1 1 1 1 7 1 1 1 7 1 1 7 1 1 1 7 1 1 1 1 6 1 1 4 6 7 1 1 7 1 1\n",
      " 1 4 1 7 1 1 7 1 1 7 1 7 7 1 1 7 7 1 1 1 1 4 1 1 4 4 1 4 7 1 1 7 1 4 4 1 1\n",
      " 1 1 7 7 6 1 7 1 1 1 1 1 7 4 1 7 1 2 7 7 7 1 1 7 6 4 1 1 1 7 7 7 1 1 2 4 4\n",
      " 1 1 7 1 1 1 1 1 1 7 1 1 4 1 1 7 1 1 1 7 1 6 6 7 1 4 1 2 1 4 4 7 1 7 1 1 1\n",
      " 1 1 7 7 1 1 1 1 1 1 1 7 7 4 4 1 7 1 1 1 1 1 1 1 1 1 6 4 1 7 1 7 1 1 6 1 1\n",
      " 7 4 7 1 7 1 1 1 1 1 4 1 4 7 1 1 1 1 7 1 1 1 1 1 1 1 1 1 2 1 4 1 1 1 1 1 4\n",
      " 4 1 1 1 6 1 1 1 4 1 4 7 7 1 1 1 1 1 4 1 1 1 1 1 1 1 1 1 1 2 1 1 2 1 7 7 7\n",
      " 1 7 1 7 4 1 1 7 7 1 7 1 7 7 1 1 1 1 7 1 1 1 7 4 7 1 7 7 7 1 1 7 7 7 1 7 6\n",
      " 1 6 1 1 1 1 1 7 1 1 4 1 1 1 4 1 1 1 4 7 1 4 1 1 1 1 1 1 1 1 1 1 6 6 1 7 1\n",
      " 1 1 2 1 7 1 7 1 1 1 1 1 1 1 1 1 1 1 1 1 1 6 1 1 1 7 7 1 4 1 1 1 1 7 4 4 4\n",
      " 1 7 4 7 7 4 1 1 1 7 7 1 1 1 1 1 7 1 1 1 7 1 1 1 1 1 1 4 1 1 1 1 1 4 1 1 7\n",
      " 1 7 1 1 1 1 4 1 1 1 1 4 1 7 4 1 1 7 1 7 9 4 7 4 1 1 1 1 1 1 1 7 1 4 1 1]\n"
     ]
    }
   ],
   "source": [
    "print(lb.inverse_transform(yval),'\\n\\n',lb.inverse_transform(y_pred1))"
   ]
  },
  {
   "cell_type": "code",
   "execution_count": 65,
   "metadata": {},
   "outputs": [],
   "source": [
    "xvalindex=xval.index"
   ]
  },
  {
   "cell_type": "code",
   "execution_count": 67,
   "metadata": {},
   "outputs": [],
   "source": [
    "\n",
    "# import the pyplot library\n",
    "\n",
    "import matplotlib.pyplot as plotter"
   ]
  },
  {
   "cell_type": "code",
   "execution_count": 88,
   "metadata": {},
   "outputs": [
    {
     "data": {
      "text/plain": [
       "24.336125084394407"
      ]
     },
     "execution_count": 88,
     "metadata": {},
     "output_type": "execute_result"
    }
   ],
   "source": [
    "list(y_pred1[0]*100)[0]"
   ]
  },
  {
   "cell_type": "code",
   "execution_count": 81,
   "metadata": {
    "scrolled": true
   },
   "outputs": [
    {
     "name": "stdout",
     "output_type": "stream",
     "text": [
      "Probability that the Gene  MEN1  with variation  Deletion  belongs to class  1  is \n",
      "Predicted: 24.336125084394407 \n",
      "\n",
      "Probability that the Gene  MEN1  with variation  Deletion  belongs to class  2  is \n",
      "Predicted: 11.910840244824456 \n",
      "\n",
      "Probability that the Gene  MEN1  with variation  Deletion  belongs to class  3  is \n",
      "Predicted: 1.9926378374009328 \n",
      "\n",
      "Probability that the Gene  MEN1  with variation  Deletion  belongs to class  4  is \n",
      "Predicted: 22.255537564564875 \n",
      "\n",
      "Probability that the Gene  MEN1  with variation  Deletion  belongs to class  5  is \n",
      "Predicted: 3.0596524163204526 \n",
      "\n",
      "Probability that the Gene  MEN1  with variation  Deletion  belongs to class  6  is \n",
      "Predicted: 4.470724318237454 \n",
      "\n",
      "Probability that the Gene  MEN1  with variation  Deletion  belongs to class  7  is \n",
      "Predicted: 19.862602640841867 \n",
      "\n",
      "Probability that the Gene  MEN1  with variation  Deletion  belongs to class  9  is \n",
      "Predicted: 1.289769827967997 \n",
      "\n"
     ]
    },
    {
     "data": {
      "image/png": "[encoded data removed]",
      "text/plain": [
       "<Figure size 432x288 with 1 Axes>"
      ]
     },
     "metadata": {},
     "output_type": "display_data"
    },
    {
     "name": "stdout",
     "output_type": "stream",
     "text": [
      "Predicted: Class 1\n",
      "Actual: Class 4\n",
      "\n",
      "\n",
      "\n",
      "Probability that the Gene  KIT  with variation  V555_V559del  belongs to class  1  is \n",
      "Predicted: 4.793001970492381 \n",
      "\n",
      "Probability that the Gene  KIT  with variation  V555_V559del  belongs to class  2  is \n",
      "Predicted: 52.705930726505834 \n",
      "\n",
      "Probability that the Gene  KIT  with variation  V555_V559del  belongs to class  3  is \n",
      "Predicted: 1.7114322502537038 \n",
      "\n",
      "Probability that the Gene  KIT  with variation  V555_V559del  belongs to class  4  is \n",
      "Predicted: 3.1379205790301032 \n",
      "\n",
      "Probability that the Gene  KIT  with variation  V555_V559del  belongs to class  5  is \n",
      "Predicted: 5.096337007226045 \n",
      "\n",
      "Probability that the Gene  KIT  with variation  V555_V559del  belongs to class  6  is \n",
      "Predicted: 6.63133677865705 \n",
      "\n",
      "Probability that the Gene  KIT  with variation  V555_V559del  belongs to class  7  is \n",
      "Predicted: 37.26043068675776 \n",
      "\n"
     ]
    },
    {
     "data": {
      "image/png": "[encoded data removed]",
      "text/plain": [
       "<Figure size 432x288 with 1 Axes>"
      ]
     },
     "metadata": {},
     "output_type": "display_data"
    },
    {
     "name": "stdout",
     "output_type": "stream",
     "text": [
      "Predicted: Class 2\n",
      "Actual: Class 7\n",
      "\n",
      "\n",
      "\n",
      "Probability that the Gene  RET  with variation  D631A  belongs to class  1  is \n",
      "Predicted: 10.265923603217871 \n",
      "\n",
      "Probability that the Gene  RET  with variation  D631A  belongs to class  2  is \n",
      "Predicted: 14.497407599802983 \n",
      "\n",
      "Probability that the Gene  RET  with variation  D631A  belongs to class  3  is \n",
      "Predicted: 2.0341613950061355 \n",
      "\n",
      "Probability that the Gene  RET  with variation  D631A  belongs to class  4  is \n",
      "Predicted: 13.954013987673797 \n",
      "\n",
      "Probability that the Gene  RET  with variation  D631A  belongs to class  5  is \n",
      "Predicted: 12.33102980581048 \n",
      "\n",
      "Probability that the Gene  RET  with variation  D631A  belongs to class  6  is \n",
      "Predicted: 5.036203900116588 \n",
      "\n",
      "Probability that the Gene  RET  with variation  D631A  belongs to class  7  is \n",
      "Predicted: 39.48839549277111 \n",
      "\n"
     ]
    },
    {
     "data": {
      "image/png": "[encoded data removed]",
      "text/plain": [
       "<Figure size 432x288 with 1 Axes>"
      ]
     },
     "metadata": {},
     "output_type": "display_data"
    },
    {
     "name": "stdout",
     "output_type": "stream",
     "text": [
      "Predicted: Class 7\n",
      "Actual: Class 5\n",
      "\n",
      "\n",
      "\n",
      "Probability that the Gene  NF2  with variation  L64P  belongs to class  1  is \n",
      "Predicted: 22.58722625364395 \n",
      "\n",
      "Probability that the Gene  NF2  with variation  L64P  belongs to class  2  is \n",
      "Predicted: 10.430504837034473 \n",
      "\n",
      "Probability that the Gene  NF2  with variation  L64P  belongs to class  3  is \n",
      "Predicted: 1.8207069192550833 \n",
      "\n",
      "Probability that the Gene  NF2  with variation  L64P  belongs to class  4  is \n",
      "Predicted: 10.155905861167696 \n",
      "\n",
      "Probability that the Gene  NF2  with variation  L64P  belongs to class  5  is \n",
      "Predicted: 10.195175072095182 \n",
      "\n",
      "Probability that the Gene  NF2  with variation  L64P  belongs to class  6  is \n",
      "Predicted: 10.85294497225205 \n",
      "\n",
      "Probability that the Gene  NF2  with variation  L64P  belongs to class  7  is \n",
      "Predicted: 21.17506637657796 \n",
      "\n"
     ]
    },
    {
     "data": {
      "image/png": "[encoded data removed]",
      "text/plain": [
       "<Figure size 432x288 with 1 Axes>"
      ]
     },
     "metadata": {},
     "output_type": "display_data"
    },
    {
     "name": "stdout",
     "output_type": "stream",
     "text": [
      "Predicted: Class 1\n",
      "Actual: Class 1\n",
      "\n",
      "\n",
      "\n",
      "Probability that the Gene  MET  with variation  Overexpression  belongs to class  1  is \n",
      "Predicted: 8.827568803531062 \n",
      "\n",
      "Probability that the Gene  MET  with variation  Overexpression  belongs to class  2  is \n",
      "Predicted: 16.648579509120506 \n",
      "\n",
      "Probability that the Gene  MET  with variation  Overexpression  belongs to class  3  is \n",
      "Predicted: 1.6364853738311431 \n",
      "\n",
      "Probability that the Gene  MET  with variation  Overexpression  belongs to class  4  is \n",
      "Predicted: 9.975362771124113 \n",
      "\n",
      "Probability that the Gene  MET  with variation  Overexpression  belongs to class  5  is \n",
      "Predicted: 1.658441673669863 \n",
      "\n",
      "Probability that the Gene  MET  with variation  Overexpression  belongs to class  6  is \n",
      "Predicted: 4.266237751565845 \n",
      "\n",
      "Probability that the Gene  MET  with variation  Overexpression  belongs to class  7  is \n",
      "Predicted: 59.72172522049271 \n",
      "\n",
      "Probability that the Gene  MET  with variation  Overexpression  belongs to class  9  is \n",
      "Predicted: 1.129349541686471 \n",
      "\n"
     ]
    },
    {
     "data": {
      "image/png": "[encoded data removed]",
      "text/plain": [
       "<Figure size 432x288 with 1 Axes>"
      ]
     },
     "metadata": {},
     "output_type": "display_data"
    },
    {
     "name": "stdout",
     "output_type": "stream",
     "text": [
      "Predicted: Class 7\n",
      "Actual: Class 7\n",
      "\n",
      "\n",
      "\n",
      "Probability that the Gene  TP53  with variation  S241F  belongs to class  1  is \n",
      "Predicted: 47.378871949691664 \n",
      "\n",
      "Probability that the Gene  TP53  with variation  S241F  belongs to class  2  is \n",
      "Predicted: 3.9700420621159154 \n",
      "\n",
      "Probability that the Gene  TP53  with variation  S241F  belongs to class  3  is \n",
      "Predicted: 1.474405163190311 \n",
      "\n",
      "Probability that the Gene  TP53  with variation  S241F  belongs to class  4  is \n",
      "Predicted: 44.45553420466085 \n",
      "\n",
      "Probability that the Gene  TP53  with variation  S241F  belongs to class  5  is \n",
      "Predicted: 1.6977293499425463 \n",
      "\n",
      "Probability that the Gene  TP53  with variation  S241F  belongs to class  6  is \n",
      "Predicted: 3.711291709069147 \n",
      "\n",
      "Probability that the Gene  TP53  with variation  S241F  belongs to class  7  is \n",
      "Predicted: 3.6511630651119695 \n",
      "\n",
      "Probability that the Gene  TP53  with variation  S241F  belongs to class  9  is \n",
      "Predicted: 1.2581684360690513 \n",
      "\n"
     ]
    },
    {
     "data": {
      "image/png": "[encoded data removed]",
      "text/plain": [
       "<Figure size 432x288 with 1 Axes>"
      ]
     },
     "metadata": {},
     "output_type": "display_data"
    },
    {
     "name": "stdout",
     "output_type": "stream",
     "text": [
      "Predicted: Class 1\n",
      "Actual: Class 1\n",
      "\n",
      "\n",
      "\n",
      "Probability that the Gene  TGFBR2  with variation  D404G  belongs to class  1  is \n",
      "Predicted: 20.663815113388846 \n",
      "\n",
      "Probability that the Gene  TGFBR2  with variation  D404G  belongs to class  2  is \n",
      "Predicted: 9.922356656561586 \n",
      "\n",
      "Probability that the Gene  TGFBR2  with variation  D404G  belongs to class  3  is \n",
      "Predicted: 2.2461598982470847 \n",
      "\n",
      "Probability that the Gene  TGFBR2  with variation  D404G  belongs to class  4  is \n",
      "Predicted: 29.72587311564439 \n",
      "\n",
      "Probability that the Gene  TGFBR2  with variation  D404G  belongs to class  5  is \n",
      "Predicted: 3.639159347155411 \n",
      "\n",
      "Probability that the Gene  TGFBR2  with variation  D404G  belongs to class  6  is \n",
      "Predicted: 4.341690020714067 \n",
      "\n",
      "Probability that the Gene  TGFBR2  with variation  D404G  belongs to class  7  is \n",
      "Predicted: 17.492640897692134 \n",
      "\n",
      "Probability that the Gene  TGFBR2  with variation  D404G  belongs to class  9  is \n",
      "Predicted: 1.3217070706975225 \n",
      "\n"
     ]
    },
    {
     "data": {
      "image/png": "[encoded data removed]",
      "text/plain": [
       "<Figure size 432x288 with 1 Axes>"
      ]
     },
     "metadata": {},
     "output_type": "display_data"
    },
    {
     "name": "stdout",
     "output_type": "stream",
     "text": [
      "Predicted: Class 4\n",
      "Actual: Class 4\n",
      "\n",
      "\n",
      "\n",
      "Probability that the Gene  EGFR  with variation  EGFRvIII  belongs to class  1  is \n",
      "Predicted: 5.9067490137767535 \n",
      "\n",
      "Probability that the Gene  EGFR  with variation  EGFRvIII  belongs to class  2  is \n",
      "Predicted: 10.577594663351608 \n",
      "\n",
      "Probability that the Gene  EGFR  with variation  EGFRvIII  belongs to class  3  is \n",
      "Predicted: 1.643027800139192 \n",
      "\n",
      "Probability that the Gene  EGFR  with variation  EGFRvIII  belongs to class  4  is \n",
      "Predicted: 9.99126181974269 \n",
      "\n",
      "Probability that the Gene  EGFR  with variation  EGFRvIII  belongs to class  5  is \n",
      "Predicted: 2.691636578235679 \n",
      "\n",
      "Probability that the Gene  EGFR  with variation  EGFRvIII  belongs to class  6  is \n",
      "Predicted: 2.849765656146081 \n",
      "\n",
      "Probability that the Gene  EGFR  with variation  EGFRvIII  belongs to class  7  is \n",
      "Predicted: 62.42735260337335 \n",
      "\n"
     ]
    },
    {
     "data": {
      "image/png": "[encoded data removed]",
      "text/plain": [
       "<Figure size 432x288 with 1 Axes>"
      ]
     },
     "metadata": {},
     "output_type": "display_data"
    },
    {
     "name": "stdout",
     "output_type": "stream",
     "text": [
      "Predicted: Class 7\n",
      "Actual: Class 7\n",
      "\n",
      "\n",
      "\n",
      "Probability that the Gene  BRCA2  with variation  L929S  belongs to class  1  is \n",
      "Predicted: 9.04143233137556 \n",
      "\n",
      "Probability that the Gene  BRCA2  with variation  L929S  belongs to class  2  is \n",
      "Predicted: 5.647245110663612 \n",
      "\n",
      "Probability that the Gene  BRCA2  with variation  L929S  belongs to class  3  is \n",
      "Predicted: 1.8642533077860786 \n",
      "\n",
      "Probability that the Gene  BRCA2  with variation  L929S  belongs to class  4  is \n",
      "Predicted: 5.149158001720256 \n",
      "\n",
      "Probability that the Gene  BRCA2  with variation  L929S  belongs to class  5  is \n",
      "Predicted: 17.568414210542937 \n",
      "\n",
      "Probability that the Gene  BRCA2  with variation  L929S  belongs to class  6  is \n",
      "Predicted: 55.958118914459966 \n",
      "\n",
      "Probability that the Gene  BRCA2  with variation  L929S  belongs to class  7  is \n",
      "Predicted: 7.185410406971937 \n",
      "\n"
     ]
    },
    {
     "data": {
      "image/png": "[encoded data removed]",
      "text/plain": [
       "<Figure size 432x288 with 1 Axes>"
      ]
     },
     "metadata": {},
     "output_type": "display_data"
    },
    {
     "name": "stdout",
     "output_type": "stream",
     "text": [
      "Predicted: Class 6\n",
      "Actual: Class 6\n",
      "\n",
      "\n",
      "\n",
      "Probability that the Gene  ERG  with variation  FUS-ERG Fusion  belongs to class  1  is \n",
      "Predicted: 18.83563239525014 \n",
      "\n",
      "Probability that the Gene  ERG  with variation  FUS-ERG Fusion  belongs to class  2  is \n",
      "Predicted: 16.383326896444224 \n",
      "\n",
      "Probability that the Gene  ERG  with variation  FUS-ERG Fusion  belongs to class  3  is \n",
      "Predicted: 1.9210324522627307 \n",
      "\n",
      "Probability that the Gene  ERG  with variation  FUS-ERG Fusion  belongs to class  4  is \n",
      "Predicted: 11.994988017500418 \n",
      "\n",
      "Probability that the Gene  ERG  with variation  FUS-ERG Fusion  belongs to class  5  is \n",
      "Predicted: 2.891202840630883 \n",
      "\n",
      "Probability that the Gene  ERG  with variation  FUS-ERG Fusion  belongs to class  6  is \n",
      "Predicted: 3.1946989612621386 \n",
      "\n",
      "Probability that the Gene  ERG  with variation  FUS-ERG Fusion  belongs to class  7  is \n",
      "Predicted: 41.12985068752783 \n",
      "\n",
      "Probability that the Gene  ERG  with variation  FUS-ERG Fusion  belongs to class  9  is \n",
      "Predicted: 1.540444636249234 \n",
      "\n"
     ]
    },
    {
     "data": {
      "image/png": "[encoded data removed]",
      "text/plain": [
       "<Figure size 432x288 with 1 Axes>"
      ]
     },
     "metadata": {},
     "output_type": "display_data"
    },
    {
     "name": "stdout",
     "output_type": "stream",
     "text": [
      "Predicted: Class 7\n",
      "Actual: Class 7\n",
      "\n",
      "\n",
      "\n",
      "Probability that the Gene  CDK4  with variation  R24C  belongs to class  1  is \n",
      "Predicted: 17.363767738266542 \n",
      "\n",
      "Probability that the Gene  CDK4  with variation  R24C  belongs to class  2  is \n",
      "Predicted: 9.504522879323055 \n",
      "\n",
      "Probability that the Gene  CDK4  with variation  R24C  belongs to class  3  is \n",
      "Predicted: 1.7616807687535887 \n",
      "\n",
      "Probability that the Gene  CDK4  with variation  R24C  belongs to class  4  is \n",
      "Predicted: 30.48897950419116 \n",
      "\n",
      "Probability that the Gene  CDK4  with variation  R24C  belongs to class  5  is \n",
      "Predicted: 3.0010844888771127 \n",
      "\n",
      "Probability that the Gene  CDK4  with variation  R24C  belongs to class  6  is \n",
      "Predicted: 4.173808488336148 \n",
      "\n",
      "Probability that the Gene  CDK4  with variation  R24C  belongs to class  7  is \n",
      "Predicted: 23.184269967164674 \n",
      "\n",
      "Probability that the Gene  CDK4  with variation  R24C  belongs to class  9  is \n",
      "Predicted: 1.2298375116609739 \n",
      "\n"
     ]
    },
    {
     "data": {
      "image/png": "[encoded data removed]",
      "text/plain": [
       "<Figure size 432x288 with 1 Axes>"
      ]
     },
     "metadata": {},
     "output_type": "display_data"
    },
    {
     "name": "stdout",
     "output_type": "stream",
     "text": [
      "Predicted: Class 4\n",
      "Actual: Class 7\n",
      "\n",
      "\n",
      "\n",
      "Probability that the Gene  EGFR  with variation  N826Y  belongs to class  1  is \n",
      "Predicted: 1.7123624393942334 \n",
      "\n",
      "Probability that the Gene  EGFR  with variation  N826Y  belongs to class  2  is \n",
      "Predicted: 31.202434724818673 \n",
      "\n",
      "Probability that the Gene  EGFR  with variation  N826Y  belongs to class  3  is \n",
      "Predicted: 1.049963942829678 \n",
      "\n",
      "Probability that the Gene  EGFR  with variation  N826Y  belongs to class  4  is \n",
      "Predicted: 3.7909780802479274 \n",
      "\n",
      "Probability that the Gene  EGFR  with variation  N826Y  belongs to class  5  is \n",
      "Predicted: 2.165753078147905 \n",
      "\n",
      "Probability that the Gene  EGFR  with variation  N826Y  belongs to class  6  is \n",
      "Predicted: 2.01638194396063 \n",
      "\n",
      "Probability that the Gene  EGFR  with variation  N826Y  belongs to class  7  is \n",
      "Predicted: 66.6476231504227 \n",
      "\n"
     ]
    },
    {
     "data": {
      "image/png": "[encoded data removed]",
      "text/plain": [
       "<Figure size 432x288 with 1 Axes>"
      ]
     },
     "metadata": {},
     "output_type": "display_data"
    },
    {
     "name": "stdout",
     "output_type": "stream",
     "text": [
      "Predicted: Class 7\n",
      "Actual: Class 2\n",
      "\n",
      "\n",
      "\n",
      "Probability that the Gene  TP53  with variation  H193N  belongs to class  1  is \n",
      "Predicted: 48.93133090470219 \n",
      "\n",
      "Probability that the Gene  TP53  with variation  H193N  belongs to class  2  is \n",
      "Predicted: 3.6002900886426077 \n",
      "\n",
      "Probability that the Gene  TP53  with variation  H193N  belongs to class  3  is \n",
      "Predicted: 1.279008477026846 \n",
      "\n",
      "Probability that the Gene  TP53  with variation  H193N  belongs to class  4  is \n",
      "Predicted: 25.66918884348682 \n",
      "\n",
      "Probability that the Gene  TP53  with variation  H193N  belongs to class  5  is \n",
      "Predicted: 4.364677398695013 \n",
      "\n",
      "Probability that the Gene  TP53  with variation  H193N  belongs to class  6  is \n",
      "Predicted: 5.635051566050244 \n",
      "\n",
      "Probability that the Gene  TP53  with variation  H193N  belongs to class  7  is \n",
      "Predicted: 4.624900150016493 \n",
      "\n",
      "Probability that the Gene  TP53  with variation  H193N  belongs to class  9  is \n",
      "Predicted: 1.0725213759879126 \n",
      "\n"
     ]
    },
    {
     "data": {
      "image/png": "[encoded data removed]",
      "text/plain": [
       "<Figure size 432x288 with 1 Axes>"
      ]
     },
     "metadata": {},
     "output_type": "display_data"
    },
    {
     "name": "stdout",
     "output_type": "stream",
     "text": [
      "Predicted: Class 1\n",
      "Actual: Class 4\n",
      "\n",
      "\n",
      "\n",
      "Probability that the Gene  HRAS  with variation  T58I  belongs to class  1  is \n",
      "Predicted: 16.43112114977191 \n",
      "\n",
      "Probability that the Gene  HRAS  with variation  T58I  belongs to class  2  is \n",
      "Predicted: 18.63707957432271 \n",
      "\n",
      "Probability that the Gene  HRAS  with variation  T58I  belongs to class  3  is \n",
      "Predicted: 2.0788544953255896 \n",
      "\n",
      "Probability that the Gene  HRAS  with variation  T58I  belongs to class  4  is \n",
      "Predicted: 19.963895496529787 \n",
      "\n",
      "Probability that the Gene  HRAS  with variation  T58I  belongs to class  5  is \n",
      "Predicted: 3.567404382326128 \n",
      "\n",
      "Probability that the Gene  HRAS  with variation  T58I  belongs to class  6  is \n",
      "Predicted: 4.56172451636858 \n",
      "\n",
      "Probability that the Gene  HRAS  with variation  T58I  belongs to class  7  is \n",
      "Predicted: 20.729235713555966 \n",
      "\n",
      "Probability that the Gene  HRAS  with variation  T58I  belongs to class  9  is \n",
      "Predicted: 1.2665729047660395 \n",
      "\n"
     ]
    },
    {
     "data": {
      "image/png": "[encoded data removed]",
      "text/plain": [
       "<Figure size 432x288 with 1 Axes>"
      ]
     },
     "metadata": {},
     "output_type": "display_data"
    },
    {
     "name": "stdout",
     "output_type": "stream",
     "text": [
      "Predicted: Class 7\n",
      "Actual: Class 2\n",
      "\n",
      "\n",
      "\n",
      "Probability that the Gene  ERCC2  with variation  D513Y  belongs to class  1  is \n",
      "Predicted: 76.42792445417868 \n",
      "\n",
      "Probability that the Gene  ERCC2  with variation  D513Y  belongs to class  2  is \n",
      "Predicted: 3.7254763920982037 \n",
      "\n",
      "Probability that the Gene  ERCC2  with variation  D513Y  belongs to class  3  is \n",
      "Predicted: 1.965223981594286 \n",
      "\n",
      "Probability that the Gene  ERCC2  with variation  D513Y  belongs to class  4  is \n",
      "Predicted: 9.377866041459926 \n",
      "\n",
      "Probability that the Gene  ERCC2  with variation  D513Y  belongs to class  5  is \n",
      "Predicted: 6.6768112267551905 \n",
      "\n",
      "Probability that the Gene  ERCC2  with variation  D513Y  belongs to class  6  is \n",
      "Predicted: 4.305450597871417 \n",
      "\n",
      "Probability that the Gene  ERCC2  with variation  D513Y  belongs to class  7  is \n",
      "Predicted: 4.378562888252649 \n",
      "\n",
      "Probability that the Gene  ERCC2  with variation  D513Y  belongs to class  9  is \n",
      "Predicted: 1.0408444416926348 \n",
      "\n"
     ]
    },
    {
     "data": {
      "image/png": "[encoded data removed]",
      "text/plain": [
       "<Figure size 432x288 with 1 Axes>"
      ]
     },
     "metadata": {},
     "output_type": "display_data"
    },
    {
     "name": "stdout",
     "output_type": "stream",
     "text": [
      "Predicted: Class 1\n",
      "Actual: Class 1\n",
      "\n",
      "\n",
      "\n",
      "Probability that the Gene  PTEN  with variation  G165R  belongs to class  1  is \n",
      "Predicted: 3.974539831722204 \n",
      "\n",
      "Probability that the Gene  PTEN  with variation  G165R  belongs to class  2  is \n",
      "Predicted: 2.581541484563629 \n",
      "\n",
      "Probability that the Gene  PTEN  with variation  G165R  belongs to class  3  is \n",
      "Predicted: 1.7763105944689865 \n",
      "\n",
      "Probability that the Gene  PTEN  with variation  G165R  belongs to class  4  is \n",
      "Predicted: 91.32445526837155 \n",
      "\n",
      "Probability that the Gene  PTEN  with variation  G165R  belongs to class  5  is \n",
      "Predicted: 1.911229173010638 \n",
      "\n",
      "Probability that the Gene  PTEN  with variation  G165R  belongs to class  6  is \n",
      "Predicted: 2.018480765856701 \n",
      "\n",
      "Probability that the Gene  PTEN  with variation  G165R  belongs to class  7  is \n",
      "Predicted: 4.079034953386495 \n",
      "\n"
     ]
    },
    {
     "data": {
      "image/png": "[encoded data removed]",
      "text/plain": [
       "<Figure size 432x288 with 1 Axes>"
      ]
     },
     "metadata": {},
     "output_type": "display_data"
    },
    {
     "name": "stdout",
     "output_type": "stream",
     "text": [
      "Predicted: Class 4\n",
      "Actual: Class 4\n",
      "\n",
      "\n",
      "\n",
      "Probability that the Gene  PTEN  with variation  M35R  belongs to class  1  is \n",
      "Predicted: 3.6441128088732766 \n",
      "\n",
      "Probability that the Gene  PTEN  with variation  M35R  belongs to class  2  is \n",
      "Predicted: 2.1225714383652226 \n",
      "\n",
      "Probability that the Gene  PTEN  with variation  M35R  belongs to class  3  is \n",
      "Predicted: 3.6669106328061383 \n",
      "\n",
      "Probability that the Gene  PTEN  with variation  M35R  belongs to class  4  is \n",
      "Predicted: 88.71099818601601 \n",
      "\n",
      "Probability that the Gene  PTEN  with variation  M35R  belongs to class  5  is \n",
      "Predicted: 1.8105221822367419 \n",
      "\n",
      "Probability that the Gene  PTEN  with variation  M35R  belongs to class  6  is \n",
      "Predicted: 1.7037940867968429 \n",
      "\n",
      "Probability that the Gene  PTEN  with variation  M35R  belongs to class  7  is \n",
      "Predicted: 3.4194960897102984 \n",
      "\n"
     ]
    },
    {
     "data": {
      "image/png": "[encoded data removed]",
      "text/plain": [
       "<Figure size 432x288 with 1 Axes>"
      ]
     },
     "metadata": {},
     "output_type": "display_data"
    },
    {
     "name": "stdout",
     "output_type": "stream",
     "text": [
      "Predicted: Class 4\n",
      "Actual: Class 4\n",
      "\n",
      "\n",
      "\n",
      "Probability that the Gene  EGFR  with variation  G863S  belongs to class  1  is \n",
      "Predicted: 6.774928402934679 \n",
      "\n",
      "Probability that the Gene  EGFR  with variation  G863S  belongs to class  2  is \n",
      "Predicted: 44.79097225086582 \n",
      "\n",
      "Probability that the Gene  EGFR  with variation  G863S  belongs to class  3  is \n",
      "Predicted: 1.8547855937235087 \n",
      "\n",
      "Probability that the Gene  EGFR  with variation  G863S  belongs to class  4  is \n",
      "Predicted: 6.111450060622647 \n",
      "\n",
      "Probability that the Gene  EGFR  with variation  G863S  belongs to class  5  is \n",
      "Predicted: 1.9477475151977883 \n",
      "\n",
      "Probability that the Gene  EGFR  with variation  G863S  belongs to class  6  is \n",
      "Predicted: 2.1047288864622105 \n",
      "\n",
      "Probability that the Gene  EGFR  with variation  G863S  belongs to class  7  is \n",
      "Predicted: 24.820275995521587 \n",
      "\n"
     ]
    },
    {
     "data": {
      "image/png": "[encoded data removed]",
      "text/plain": [
       "<Figure size 432x288 with 1 Axes>"
      ]
     },
     "metadata": {},
     "output_type": "display_data"
    },
    {
     "name": "stdout",
     "output_type": "stream",
     "text": [
      "Predicted: Class 2\n",
      "Actual: Class 2\n",
      "\n",
      "\n",
      "\n",
      "Probability that the Gene  BRCA2  with variation  R2842C  belongs to class  1  is \n",
      "Predicted: 21.59274917183537 \n",
      "\n",
      "Probability that the Gene  BRCA2  with variation  R2842C  belongs to class  2  is \n",
      "Predicted: 6.106895491292644 \n",
      "\n",
      "Probability that the Gene  BRCA2  with variation  R2842C  belongs to class  3  is \n",
      "Predicted: 3.2823731038669637 \n",
      "\n",
      "Probability that the Gene  BRCA2  with variation  R2842C  belongs to class  4  is \n",
      "Predicted: 11.308802295379659 \n",
      "\n",
      "Probability that the Gene  BRCA2  with variation  R2842C  belongs to class  5  is \n",
      "Predicted: 24.92608536523372 \n",
      "\n",
      "Probability that the Gene  BRCA2  with variation  R2842C  belongs to class  6  is \n",
      "Predicted: 14.692642083099141 \n",
      "\n",
      "Probability that the Gene  BRCA2  with variation  R2842C  belongs to class  7  is \n",
      "Predicted: 10.362670518240918 \n",
      "\n"
     ]
    },
    {
     "data": {
      "image/png": "[encoded data removed]",
      "text/plain": [
       "<Figure size 432x288 with 1 Axes>"
      ]
     },
     "metadata": {},
     "output_type": "display_data"
    },
    {
     "name": "stdout",
     "output_type": "stream",
     "text": [
      "Predicted: Class 5\n",
      "Actual: Class 1\n",
      "\n",
      "\n",
      "\n",
      "Probability that the Gene  ROS1  with variation  ROS1-CD74 Fusion  belongs to class  1  is \n",
      "Predicted: 2.3017124120893446 \n",
      "\n",
      "Probability that the Gene  ROS1  with variation  ROS1-CD74 Fusion  belongs to class  2  is \n",
      "Predicted: 54.42607069719798 \n",
      "\n",
      "Probability that the Gene  ROS1  with variation  ROS1-CD74 Fusion  belongs to class  3  is \n",
      "Predicted: 2.0614219872307284 \n",
      "\n",
      "Probability that the Gene  ROS1  with variation  ROS1-CD74 Fusion  belongs to class  4  is \n",
      "Predicted: 2.4934801595309755 \n",
      "\n",
      "Probability that the Gene  ROS1  with variation  ROS1-CD74 Fusion  belongs to class  5  is \n",
      "Predicted: 2.2695938930585293 \n",
      "\n",
      "Probability that the Gene  ROS1  with variation  ROS1-CD74 Fusion  belongs to class  6  is \n",
      "Predicted: 2.5347004106451014 \n",
      "\n",
      "Probability that the Gene  ROS1  with variation  ROS1-CD74 Fusion  belongs to class  7  is \n",
      "Predicted: 59.50380154894943 \n",
      "\n"
     ]
    },
    {
     "data": {
      "image/png": "[encoded data removed]",
      "text/plain": [
       "<Figure size 432x288 with 1 Axes>"
      ]
     },
     "metadata": {},
     "output_type": "display_data"
    },
    {
     "name": "stdout",
     "output_type": "stream",
     "text": [
      "Predicted: Class 7\n",
      "Actual: Class 7\n",
      "\n",
      "\n",
      "\n",
      "Probability that the Gene  AKT2  with variation  D32H  belongs to class  1  is \n",
      "Predicted: 7.755390659203265 \n",
      "\n",
      "Probability that the Gene  AKT2  with variation  D32H  belongs to class  2  is \n",
      "Predicted: 13.377511600120787 \n",
      "\n",
      "Probability that the Gene  AKT2  with variation  D32H  belongs to class  3  is \n",
      "Predicted: 4.079912859649775 \n",
      "\n",
      "Probability that the Gene  AKT2  with variation  D32H  belongs to class  4  is \n",
      "Predicted: 11.548687561124241 \n",
      "\n",
      "Probability that the Gene  AKT2  with variation  D32H  belongs to class  5  is \n",
      "Predicted: 3.8614953290780956 \n",
      "\n",
      "Probability that the Gene  AKT2  with variation  D32H  belongs to class  6  is \n",
      "Predicted: 2.763370923389952 \n",
      "\n",
      "Probability that the Gene  AKT2  with variation  D32H  belongs to class  7  is \n",
      "Predicted: 32.19755408891472 \n",
      "\n",
      "Probability that the Gene  AKT2  with variation  D32H  belongs to class  8  is \n",
      "Predicted: 1.102635517524781 \n",
      "\n",
      "Probability that the Gene  AKT2  with variation  D32H  belongs to class  9  is \n",
      "Predicted: 1.7332814038067565 \n",
      "\n"
     ]
    },
    {
     "data": {
      "image/png": "[encoded data removed]",
      "text/plain": [
       "<Figure size 432x288 with 1 Axes>"
      ]
     },
     "metadata": {},
     "output_type": "display_data"
    },
    {
     "name": "stdout",
     "output_type": "stream",
     "text": [
      "Predicted: Class 7\n",
      "Actual: Class 7\n",
      "\n",
      "\n",
      "\n",
      "Probability that the Gene  CDH1  with variation  D254N  belongs to class  1  is \n",
      "Predicted: 41.382317382581626 \n",
      "\n",
      "Probability that the Gene  CDH1  with variation  D254N  belongs to class  2  is \n",
      "Predicted: 5.039248913194484 \n",
      "\n",
      "Probability that the Gene  CDH1  with variation  D254N  belongs to class  3  is \n",
      "Predicted: 2.969779810630913 \n",
      "\n",
      "Probability that the Gene  CDH1  with variation  D254N  belongs to class  4  is \n",
      "Predicted: 26.98860795461875 \n",
      "\n",
      "Probability that the Gene  CDH1  with variation  D254N  belongs to class  5  is \n",
      "Predicted: 4.796212311018105 \n",
      "\n",
      "Probability that the Gene  CDH1  with variation  D254N  belongs to class  6  is \n",
      "Predicted: 4.406971785892677 \n",
      "\n",
      "Probability that the Gene  CDH1  with variation  D254N  belongs to class  7  is \n",
      "Predicted: 6.236262783119127 \n",
      "\n",
      "Probability that the Gene  CDH1  with variation  D254N  belongs to class  9  is \n",
      "Predicted: 1.199950575602145 \n",
      "\n"
     ]
    },
    {
     "data": {
      "image/png": "[encoded data removed]",
      "text/plain": [
       "<Figure size 432x288 with 1 Axes>"
      ]
     },
     "metadata": {},
     "output_type": "display_data"
    },
    {
     "name": "stdout",
     "output_type": "stream",
     "text": [
      "Predicted: Class 1\n",
      "Actual: Class 4\n",
      "\n",
      "\n",
      "\n",
      "Probability that the Gene  BRCA1  with variation  P1771L  belongs to class  1  is \n",
      "Predicted: 25.345532613115118 \n",
      "\n",
      "Probability that the Gene  BRCA1  with variation  P1771L  belongs to class  2  is \n",
      "Predicted: 5.487530102612568 \n",
      "\n",
      "Probability that the Gene  BRCA1  with variation  P1771L  belongs to class  3  is \n",
      "Predicted: 2.3395098422556413 \n",
      "\n",
      "Probability that the Gene  BRCA1  with variation  P1771L  belongs to class  4  is \n",
      "Predicted: 11.824379262227792 \n",
      "\n",
      "Probability that the Gene  BRCA1  with variation  P1771L  belongs to class  5  is \n",
      "Predicted: 25.800931579979892 \n",
      "\n",
      "Probability that the Gene  BRCA1  with variation  P1771L  belongs to class  6  is \n",
      "Predicted: 13.240896080968117 \n",
      "\n",
      "Probability that the Gene  BRCA1  with variation  P1771L  belongs to class  7  is \n",
      "Predicted: 10.783764567286134 \n",
      "\n"
     ]
    },
    {
     "data": {
      "image/png": "[encoded data removed]",
      "text/plain": [
       "<Figure size 432x288 with 1 Axes>"
      ]
     },
     "metadata": {},
     "output_type": "display_data"
    },
    {
     "name": "stdout",
     "output_type": "stream",
     "text": [
      "Predicted: Class 5\n",
      "Actual: Class 5\n",
      "\n",
      "\n",
      "\n",
      "Probability that the Gene  AKT1  with variation  L78T  belongs to class  1  is \n",
      "Predicted: 4.390750271547124 \n",
      "\n",
      "Probability that the Gene  AKT1  with variation  L78T  belongs to class  2  is \n",
      "Predicted: 3.7964918971539467 \n",
      "\n",
      "Probability that the Gene  AKT1  with variation  L78T  belongs to class  3  is \n",
      "Predicted: 8.749539666534158 \n",
      "\n",
      "Probability that the Gene  AKT1  with variation  L78T  belongs to class  4  is \n",
      "Predicted: 5.31043547873357 \n",
      "\n",
      "Probability that the Gene  AKT1  with variation  L78T  belongs to class  5  is \n",
      "Predicted: 6.315698842644865 \n",
      "\n",
      "Probability that the Gene  AKT1  with variation  L78T  belongs to class  6  is \n",
      "Predicted: 2.6973805484128306 \n",
      "\n",
      "Probability that the Gene  AKT1  with variation  L78T  belongs to class  7  is \n",
      "Predicted: 67.44838382993643 \n",
      "\n",
      "Probability that the Gene  AKT1  with variation  L78T  belongs to class  8  is \n",
      "Predicted: 1.0479407987829392 \n",
      "\n",
      "Probability that the Gene  AKT1  with variation  L78T  belongs to class  9  is \n",
      "Predicted: 1.6168402890030076 \n",
      "\n"
     ]
    },
    {
     "data": {
      "image/png": "[encoded data removed]",
      "text/plain": [
       "<Figure size 432x288 with 1 Axes>"
      ]
     },
     "metadata": {},
     "output_type": "display_data"
    },
    {
     "name": "stdout",
     "output_type": "stream",
     "text": [
      "Predicted: Class 7\n",
      "Actual: Class 7\n",
      "\n",
      "\n",
      "\n",
      "Probability that the Gene  CTLA4  with variation  T17A  belongs to class  1  is \n",
      "Predicted: 24.517210333448503 \n",
      "\n",
      "Probability that the Gene  CTLA4  with variation  T17A  belongs to class  2  is \n",
      "Predicted: 12.618433828938427 \n",
      "\n",
      "Probability that the Gene  CTLA4  with variation  T17A  belongs to class  3  is \n",
      "Predicted: 2.502709479937178 \n",
      "\n",
      "Probability that the Gene  CTLA4  with variation  T17A  belongs to class  4  is \n",
      "Predicted: 16.250160629591754 \n",
      "\n",
      "Probability that the Gene  CTLA4  with variation  T17A  belongs to class  5  is \n",
      "Predicted: 3.204862145126191 \n",
      "\n",
      "Probability that the Gene  CTLA4  with variation  T17A  belongs to class  6  is \n",
      "Predicted: 4.543018847638086 \n",
      "\n",
      "Probability that the Gene  CTLA4  with variation  T17A  belongs to class  7  is \n",
      "Predicted: 16.01981338998326 \n",
      "\n",
      "Probability that the Gene  CTLA4  with variation  T17A  belongs to class  9  is \n",
      "Predicted: 1.2753257932880815 \n",
      "\n"
     ]
    },
    {
     "data": {
      "image/png": "[encoded data removed]",
      "text/plain": [
       "<Figure size 432x288 with 1 Axes>"
      ]
     },
     "metadata": {},
     "output_type": "display_data"
    },
    {
     "name": "stdout",
     "output_type": "stream",
     "text": [
      "Predicted: Class 1\n",
      "Actual: Class 1\n",
      "\n",
      "\n",
      "\n",
      "Probability that the Gene  KIT  with variation  Y570H  belongs to class  1  is \n",
      "Predicted: 6.1315860196157965 \n",
      "\n",
      "Probability that the Gene  KIT  with variation  Y570H  belongs to class  2  is \n",
      "Predicted: 44.914545967119665 \n",
      "\n",
      "Probability that the Gene  KIT  with variation  Y570H  belongs to class  3  is \n",
      "Predicted: 1.5399524529510473 \n",
      "\n",
      "Probability that the Gene  KIT  with variation  Y570H  belongs to class  4  is \n",
      "Predicted: 3.576960118279344 \n",
      "\n",
      "Probability that the Gene  KIT  with variation  Y570H  belongs to class  5  is \n",
      "Predicted: 5.159598421422844 \n",
      "\n",
      "Probability that the Gene  KIT  with variation  Y570H  belongs to class  6  is \n",
      "Predicted: 10.578100553340272 \n",
      "\n",
      "Probability that the Gene  KIT  with variation  Y570H  belongs to class  7  is \n",
      "Predicted: 33.38166377242202 \n",
      "\n"
     ]
    },
    {
     "data": {
      "image/png": "[encoded data removed]",
      "text/plain": [
       "<Figure size 432x288 with 1 Axes>"
      ]
     },
     "metadata": {},
     "output_type": "display_data"
    },
    {
     "name": "stdout",
     "output_type": "stream",
     "text": [
      "Predicted: Class 2\n",
      "Actual: Class 2\n",
      "\n",
      "\n",
      "\n",
      "Probability that the Gene  EGFR  with variation  S645C  belongs to class  1  is \n",
      "Predicted: 4.995383433350493 \n",
      "\n",
      "Probability that the Gene  EGFR  with variation  S645C  belongs to class  2  is \n",
      "Predicted: 11.119302950933932 \n",
      "\n",
      "Probability that the Gene  EGFR  with variation  S645C  belongs to class  3  is \n",
      "Predicted: 1.8937745483445205 \n",
      "\n",
      "Probability that the Gene  EGFR  with variation  S645C  belongs to class  4  is \n",
      "Predicted: 14.524154930902148 \n",
      "\n",
      "Probability that the Gene  EGFR  with variation  S645C  belongs to class  5  is \n",
      "Predicted: 4.268908916037518 \n",
      "\n",
      "Probability that the Gene  EGFR  with variation  S645C  belongs to class  6  is \n",
      "Predicted: 2.574273459530309 \n",
      "\n",
      "Probability that the Gene  EGFR  with variation  S645C  belongs to class  7  is \n",
      "Predicted: 34.93613614083848 \n",
      "\n"
     ]
    },
    {
     "data": {
      "image/png": "[encoded data removed]",
      "text/plain": [
       "<Figure size 432x288 with 1 Axes>"
      ]
     },
     "metadata": {},
     "output_type": "display_data"
    },
    {
     "name": "stdout",
     "output_type": "stream",
     "text": [
      "Predicted: Class 7\n",
      "Actual: Class 2\n",
      "\n",
      "\n",
      "\n",
      "Probability that the Gene  ERBB2  with variation  S1002R  belongs to class  1  is \n",
      "Predicted: 2.731338831848209 \n",
      "\n",
      "Probability that the Gene  ERBB2  with variation  S1002R  belongs to class  2  is \n",
      "Predicted: 23.828097320147123 \n",
      "\n",
      "Probability that the Gene  ERBB2  with variation  S1002R  belongs to class  3  is \n",
      "Predicted: 1.434072372790281 \n",
      "\n",
      "Probability that the Gene  ERBB2  with variation  S1002R  belongs to class  4  is \n",
      "Predicted: 4.7026284139882994 \n",
      "\n",
      "Probability that the Gene  ERBB2  with variation  S1002R  belongs to class  5  is \n",
      "Predicted: 4.230163395146934 \n",
      "\n",
      "Probability that the Gene  ERBB2  with variation  S1002R  belongs to class  6  is \n",
      "Predicted: 43.349923066858324 \n",
      "\n",
      "Probability that the Gene  ERBB2  with variation  S1002R  belongs to class  7  is \n",
      "Predicted: 20.270546312417164 \n",
      "\n",
      "Probability that the Gene  ERBB2  with variation  S1002R  belongs to class  8  is \n",
      "Predicted: 1.1082678181374415 \n",
      "\n"
     ]
    },
    {
     "data": {
      "image/png": "[encoded data removed]",
      "text/plain": [
       "<Figure size 432x288 with 1 Axes>"
      ]
     },
     "metadata": {},
     "output_type": "display_data"
    },
    {
     "name": "stdout",
     "output_type": "stream",
     "text": [
      "Predicted: Class 6\n",
      "Actual: Class 6\n",
      "\n",
      "\n",
      "\n",
      "Probability that the Gene  EGFR  with variation  D587H  belongs to class  1  is \n",
      "Predicted: 10.548295385240143 \n",
      "\n",
      "Probability that the Gene  EGFR  with variation  D587H  belongs to class  2  is \n",
      "Predicted: 19.75003396431438 \n",
      "\n",
      "Probability that the Gene  EGFR  with variation  D587H  belongs to class  3  is \n",
      "Predicted: 1.753068479641686 \n",
      "\n",
      "Probability that the Gene  EGFR  with variation  D587H  belongs to class  4  is \n",
      "Predicted: 5.591872150473564 \n",
      "\n",
      "Probability that the Gene  EGFR  with variation  D587H  belongs to class  5  is \n",
      "Predicted: 3.948246249241362 \n",
      "\n",
      "Probability that the Gene  EGFR  with variation  D587H  belongs to class  6  is \n",
      "Predicted: 3.8801437776864613 \n",
      "\n",
      "Probability that the Gene  EGFR  with variation  D587H  belongs to class  7  is \n",
      "Predicted: 34.251018455901836 \n",
      "\n"
     ]
    },
    {
     "data": {
      "image/png": "[encoded data removed]",
      "text/plain": [
       "<Figure size 432x288 with 1 Axes>"
      ]
     },
     "metadata": {},
     "output_type": "display_data"
    },
    {
     "name": "stdout",
     "output_type": "stream",
     "text": [
      "Predicted: Class 7\n",
      "Actual: Class 7\n",
      "\n",
      "\n",
      "\n",
      "Probability that the Gene  EGFR  with variation  Exon 19 deletion  belongs to class  1  is \n",
      "Predicted: 2.136221562784428 \n",
      "\n",
      "Probability that the Gene  EGFR  with variation  Exon 19 deletion  belongs to class  2  is \n",
      "Predicted: 38.33165177224446 \n",
      "\n",
      "Probability that the Gene  EGFR  with variation  Exon 19 deletion  belongs to class  4  is \n",
      "Predicted: 2.245571358636661 \n",
      "\n",
      "Probability that the Gene  EGFR  with variation  Exon 19 deletion  belongs to class  5  is \n",
      "Predicted: 1.8382455013892123 \n",
      "\n",
      "Probability that the Gene  EGFR  with variation  Exon 19 deletion  belongs to class  6  is \n",
      "Predicted: 1.8782282211868502 \n",
      "\n",
      "Probability that the Gene  EGFR  with variation  Exon 19 deletion  belongs to class  7  is \n",
      "Predicted: 68.49953967656127 \n",
      "\n"
     ]
    },
    {
     "data": {
      "image/png": "[encoded data removed]",
      "text/plain": [
       "<Figure size 432x288 with 1 Axes>"
      ]
     },
     "metadata": {},
     "output_type": "display_data"
    },
    {
     "name": "stdout",
     "output_type": "stream",
     "text": [
      "Predicted: Class 7\n",
      "Actual: Class 7\n",
      "\n",
      "\n",
      "\n",
      "Probability that the Gene  PTEN  with variation  V343L  belongs to class  1  is \n",
      "Predicted: 3.6438783245637554 \n",
      "\n",
      "Probability that the Gene  PTEN  with variation  V343L  belongs to class  2  is \n",
      "Predicted: 2.122437165489485 \n",
      "\n",
      "Probability that the Gene  PTEN  with variation  V343L  belongs to class  3  is \n",
      "Predicted: 3.6668334733113492 \n",
      "\n",
      "Probability that the Gene  PTEN  with variation  V343L  belongs to class  4  is \n",
      "Predicted: 88.71236825521837 \n",
      "\n",
      "Probability that the Gene  PTEN  with variation  V343L  belongs to class  5  is \n",
      "Predicted: 1.81041433452378 \n",
      "\n",
      "Probability that the Gene  PTEN  with variation  V343L  belongs to class  6  is \n",
      "Predicted: 1.703739002570955 \n",
      "\n",
      "Probability that the Gene  PTEN  with variation  V343L  belongs to class  7  is \n",
      "Predicted: 3.41937510177643 \n",
      "\n"
     ]
    },
    {
     "data": {
      "image/png": "[encoded data removed]",
      "text/plain": [
       "<Figure size 432x288 with 1 Axes>"
      ]
     },
     "metadata": {},
     "output_type": "display_data"
    },
    {
     "name": "stdout",
     "output_type": "stream",
     "text": [
      "Predicted: Class 4\n",
      "Actual: Class 4\n",
      "\n",
      "\n",
      "\n"
     ]
    }
   ],
   "source": [
    "j=0\n",
    "\n",
    "for i in xvalindex:\n",
    "    pie = []\n",
    "    pie_labels = []\n",
    "    for k in range(1,10):\n",
    "        if list(map(int,y_pred1[j]*100))[k-1]!=0:\n",
    "            print(\"Probability that the Gene \",result['Gene'].loc[i],\" with variation \",result['Variation'].loc[i],\" belongs to class \",k,\" is \\nPredicted:\",list(y_pred1[j]*100)[k-1],\"\\n\")\n",
    "            pie.append((y_pred1[j]*100)[k-1])\n",
    "            pie_labels.append('Class ' + str(k))\n",
    "    #pie_2 = [ '%.2f' % elem for elem in pie ]\n",
    "    figureObject, axesObject = plotter.subplots()\n",
    "    axesObject.pie(pie,labels=pie_labels,autopct='%1.2f',startangle=90)\n",
    "    axesObject.axis('equal')\n",
    "    plotter.show()\n",
    "    print(\"Predicted: Class\",lb.inverse_transform(np.array([y_pred1[j]]))[0])\n",
    "    print(\"Actual: Class\",lb.inverse_transform(np.array([yval[j]]))[0])\n",
    "    print(\"\\n\\n\")\n",
    "\n",
    "    j+=1\n",
    "    \n",
    "    if j==31:\n",
    "        break"
   ]
  },
  {
   "cell_type": "markdown",
   "metadata": {},
   "source": [
    "#### For Random Forest"
   ]
  },
  {
   "cell_type": "code",
   "execution_count": 69,
   "metadata": {},
   "outputs": [
    {
     "name": "stdout",
     "output_type": "stream",
     "text": [
      "[4 7 5 1 7 1 4 7 6 7 7 2 4 2 1 4 4 2 1 7 7 4 5 7 1 2 2 6 7 7 4 7 6 4 4 4 7\n",
      " 6 1 1 5 6 4 4 4 6 7 2 4 4 2 7 5 9 4 8 7 4 1 1 4 7 1 7 7 2 7 7 6 1 4 8 4 7\n",
      " 7 1 7 7 6 5 5 6 7 7 1 3 7 4 7 2 4 7 7 7 6 1 6 4 4 4 4 2 1 7 1 4 6 1 4 6 7\n",
      " 4 1 4 5 4 7 6 2 2 7 1 6 1 1 2 4 7 7 2 6 8 4 1 2 7 1 2 7 2 1 1 4 4 7 7 1 7\n",
      " 7 1 4 4 6 7 5 1 5 4 4 2 1 4 6 7 7 1 1 6 7 4 7 6 5 2 6 5 6 7 5 6 5 4 6 5 5\n",
      " 7 5 4 7 6 4 1 2 7 7 4 2 7 4 6 4 1 2 4 7 7 6 7 1 6 7 7 1 7 1 4 7 1 4 4 5 2\n",
      " 1 4 7 7 1 1 1 1 2 1 2 1 2 2 4 2 4 7 1 1 5 2 7 7 4 1 6 6 4 4 6 7 4 3 5 1 2\n",
      " 5 4 5 7 2 4 5 2 1 7 1 2 7 4 6 7 3 1 1 9 2 4 1 7 4 4 1 4 7 7 6 7 4 4 4 6 6\n",
      " 7 4 7 7 6 9 7 6 4 1 1 7 7 4 4 2 1 2 7 7 5 6 4 7 6 4 2 6 4 7 7 7 2 2 2 1 4\n",
      " 7 1 7 1 6 7 7 6 1 7 5 7 1 2 8 7 7 4 2 7 1 6 6 7 1 3 2 2 4 1 1 7 1 2 1 5 7\n",
      " 1 1 7 7 7 1 6 2 2 9 1 7 7 4 1 1 7 7 7 2 3 1 1 7 1 9 6 1 7 2 7 7 2 1 6 7 1\n",
      " 7 4 7 7 2 3 2 1 1 7 4 7 1 7 5 1 2 5 4 2 7 3 2 2 7 4 9 7 2 1 4 5 4 6 1 5 5\n",
      " 4 6 4 7 6 4 6 5 4 5 4 7 7 4 1 2 2 2 4 3 7 2 6 7 1 3 4 5 1 2 7 4 2 6 2 7 7\n",
      " 4 2 1 7 3 7 7 7 7 4 3 7 2 7 5 6 5 7 7 4 7 5 2 4 7 7 7 2 7 1 7 2 7 2 2 7 4\n",
      " 5 6 7 2 4 7 4 7 2 4 4 1 1 4 4 7 1 4 4 7 2 4 4 2 7 1 7 6 6 4 4 5 6 6 5 2 8\n",
      " 5 1 2 2 7 2 2 5 7 1 5 4 8 2 5 4 5 4 1 2 1 6 3 7 4 5 7 5 4 7 4 7 4 2 4 4 4\n",
      " 5 7 4 7 6 4 7 7 2 7 5 5 2 1 7 2 2 4 2 1 7 7 7 7 2 2 9 4 1 4 1 1 1 4 4 9 7\n",
      " 7 7 7 5 7 7 4 1 4 6 5 4 9 7 4 7 1 2 2 7 9 1 7 4 1 4 5 5 7 3 1 7 2 4 1 1] \n",
      "\n",
      " [4 2 5 1 7 4 1 7 6 7 1 7 1 2 1 4 4 2 1 7 7 1 1 7 7 2 7 6 2 7 4 4 6 7 4 4 7\n",
      " 7 1 7 5 6 4 4 3 6 7 1 4 4 7 7 5 4 4 4 7 4 1 1 4 2 7 1 7 2 7 2 6 5 1 1 1 7\n",
      " 7 5 7 7 6 4 5 7 7 7 1 1 7 4 7 2 4 7 7 7 6 1 2 4 4 4 4 7 4 2 1 4 7 4 4 6 7\n",
      " 4 4 4 1 1 1 1 7 2 7 1 7 1 1 7 1 7 2 2 6 7 4 4 2 7 1 2 2 2 5 1 1 4 1 7 1 4\n",
      " 7 6 4 4 4 2 5 5 1 4 4 2 5 4 1 7 7 5 4 6 7 4 7 6 5 2 6 7 6 2 5 6 1 4 7 6 4\n",
      " 7 5 4 7 6 4 2 7 7 7 4 2 9 1 6 5 5 7 1 7 2 6 7 2 6 4 7 1 7 1 7 7 1 4 4 5 7\n",
      " 1 4 7 2 1 5 1 2 7 5 7 1 2 2 7 2 4 7 1 1 6 7 1 7 4 1 6 1 1 4 6 7 1 3 7 1 7\n",
      " 5 4 5 7 1 3 7 7 1 7 1 2 7 1 6 4 7 6 1 1 7 4 6 7 4 4 4 4 7 7 6 7 1 4 4 6 1\n",
      " 7 1 7 7 6 9 7 1 4 4 1 4 7 4 4 7 1 2 7 7 7 1 1 7 6 4 7 6 1 7 7 7 2 2 2 4 4\n",
      " 7 1 7 6 7 7 7 5 1 2 5 2 4 2 1 7 1 3 7 7 1 6 6 7 1 4 2 2 7 7 1 7 1 7 1 5 7\n",
      " 1 1 7 7 7 3 5 7 7 9 1 7 7 4 1 1 7 7 7 2 3 1 7 2 1 2 6 4 2 7 4 7 2 5 6 7 1\n",
      " 7 4 5 7 1 3 2 1 5 7 4 4 4 4 5 1 2 5 7 4 4 3 7 2 7 4 4 2 2 1 4 1 7 1 1 5 4\n",
      " 4 7 4 7 6 1 1 5 4 5 4 7 7 1 1 2 1 7 4 4 6 2 6 1 1 1 4 1 1 7 7 7 2 6 7 7 7\n",
      " 2 2 5 7 4 7 4 7 2 2 3 7 7 2 1 2 6 7 7 4 7 5 7 4 7 2 3 2 7 1 7 7 7 7 2 7 6\n",
      " 5 6 7 2 7 7 3 9 1 4 4 1 1 4 4 4 5 4 4 2 2 2 4 7 1 7 2 6 6 3 4 4 6 6 4 7 8\n",
      " 5 1 2 2 2 2 2 7 2 1 2 4 9 7 5 1 5 7 1 2 1 6 7 7 1 7 7 4 4 1 4 7 4 7 4 4 4\n",
      " 5 7 4 7 7 1 4 5 2 7 7 1 2 2 2 4 7 4 4 1 7 1 7 5 2 2 9 4 1 4 5 5 1 4 5 4 7\n",
      " 7 7 7 1 7 7 4 1 1 4 5 4 9 7 4 7 3 7 2 7 9 4 7 4 1 4 5 5 7 5 4 7 2 4 1 1]\n"
     ]
    }
   ],
   "source": [
    "print(lb.inverse_transform(yval),'\\n\\n',lb.inverse_transform(y_pred2))"
   ]
  },
  {
   "cell_type": "code",
   "execution_count": 70,
   "metadata": {},
   "outputs": [
    {
     "name": "stdout",
     "output_type": "stream",
     "text": [
      "Probability that the Gene  MEN1  with variation  Deletion  belongs to class  1  is \n",
      "Predicted: 30.0 \n",
      "\n",
      "Probability that the Gene  MEN1  with variation  Deletion  belongs to class  2  is \n",
      "Predicted: 10.0 \n",
      "\n",
      "Probability that the Gene  MEN1  with variation  Deletion  belongs to class  4  is \n",
      "Predicted: 40.0 \n",
      "\n",
      "Probability that the Gene  MEN1  with variation  Deletion  belongs to class  7  is \n",
      "Predicted: 30.0 \n",
      "\n",
      "Predicted: Class 4\n",
      "Actual: Class 4\n",
      "\n",
      "\n",
      "\n",
      "Probability that the Gene  KIT  with variation  V555_V559del  belongs to class  1  is \n",
      "Predicted: 10.0 \n",
      "\n",
      "Probability that the Gene  KIT  with variation  V555_V559del  belongs to class  2  is \n",
      "Predicted: 90.0 \n",
      "\n",
      "Probability that the Gene  KIT  with variation  V555_V559del  belongs to class  7  is \n",
      "Predicted: 20.0 \n",
      "\n",
      "Predicted: Class 2\n",
      "Actual: Class 7\n",
      "\n",
      "\n",
      "\n",
      "Probability that the Gene  RET  with variation  D631A  belongs to class  2  is \n",
      "Predicted: 10.0 \n",
      "\n",
      "Probability that the Gene  RET  with variation  D631A  belongs to class  5  is \n",
      "Predicted: 70.0 \n",
      "\n",
      "Probability that the Gene  RET  with variation  D631A  belongs to class  7  is \n",
      "Predicted: 10.0 \n",
      "\n",
      "Predicted: Class 5\n",
      "Actual: Class 5\n",
      "\n",
      "\n",
      "\n",
      "Probability that the Gene  NF2  with variation  L64P  belongs to class  1  is \n",
      "Predicted: 50.0 \n",
      "\n",
      "Probability that the Gene  NF2  with variation  L64P  belongs to class  7  is \n",
      "Predicted: 20.0 \n",
      "\n",
      "Predicted: Class 1\n",
      "Actual: Class 1\n",
      "\n",
      "\n",
      "\n",
      "Probability that the Gene  MET  with variation  Overexpression  belongs to class  1  is \n",
      "Predicted: 20.0 \n",
      "\n",
      "Probability that the Gene  MET  with variation  Overexpression  belongs to class  2  is \n",
      "Predicted: 30.0 \n",
      "\n",
      "Probability that the Gene  MET  with variation  Overexpression  belongs to class  3  is \n",
      "Predicted: 10.0 \n",
      "\n",
      "Probability that the Gene  MET  with variation  Overexpression  belongs to class  4  is \n",
      "Predicted: 40.0 \n",
      "\n",
      "Probability that the Gene  MET  with variation  Overexpression  belongs to class  5  is \n",
      "Predicted: 30.0 \n",
      "\n",
      "Probability that the Gene  MET  with variation  Overexpression  belongs to class  6  is \n",
      "Predicted: 10.0 \n",
      "\n",
      "Probability that the Gene  MET  with variation  Overexpression  belongs to class  7  is \n",
      "Predicted: 50.0 \n",
      "\n",
      "Predicted: Class 7\n",
      "Actual: Class 7\n",
      "\n",
      "\n",
      "\n",
      "Probability that the Gene  TP53  with variation  S241F  belongs to class  1  is \n",
      "Predicted: 6.666666666666667 \n",
      "\n",
      "Probability that the Gene  TP53  with variation  S241F  belongs to class  3  is \n",
      "Predicted: 10.0 \n",
      "\n",
      "Probability that the Gene  TP53  with variation  S241F  belongs to class  4  is \n",
      "Predicted: 30.0 \n",
      "\n",
      "Probability that the Gene  TP53  with variation  S241F  belongs to class  6  is \n",
      "Predicted: 20.0 \n",
      "\n",
      "Probability that the Gene  TP53  with variation  S241F  belongs to class  7  is \n",
      "Predicted: 20.0 \n",
      "\n",
      "Predicted: Class 4\n",
      "Actual: Class 1\n",
      "\n",
      "\n",
      "\n",
      "Probability that the Gene  TGFBR2  with variation  D404G  belongs to class  1  is \n",
      "Predicted: 20.0 \n",
      "\n",
      "Probability that the Gene  TGFBR2  with variation  D404G  belongs to class  4  is \n",
      "Predicted: 10.0 \n",
      "\n",
      "Probability that the Gene  TGFBR2  with variation  D404G  belongs to class  5  is \n",
      "Predicted: 10.0 \n",
      "\n",
      "Probability that the Gene  TGFBR2  with variation  D404G  belongs to class  7  is \n",
      "Predicted: 20.0 \n",
      "\n",
      "Predicted: Class 1\n",
      "Actual: Class 4\n",
      "\n",
      "\n",
      "\n",
      "Probability that the Gene  EGFR  with variation  EGFRvIII  belongs to class  2  is \n",
      "Predicted: 30.0 \n",
      "\n",
      "Probability that the Gene  EGFR  with variation  EGFRvIII  belongs to class  4  is \n",
      "Predicted: 10.0 \n",
      "\n",
      "Probability that the Gene  EGFR  with variation  EGFRvIII  belongs to class  7  is \n",
      "Predicted: 70.0 \n",
      "\n",
      "Predicted: Class 7\n",
      "Actual: Class 7\n",
      "\n",
      "\n",
      "\n",
      "Probability that the Gene  BRCA2  with variation  L929S  belongs to class  6  is \n",
      "Predicted: 100.0 \n",
      "\n",
      "Predicted: Class 6\n",
      "Actual: Class 6\n",
      "\n",
      "\n",
      "\n",
      "Probability that the Gene  ERG  with variation  FUS-ERG Fusion  belongs to class  1  is \n",
      "Predicted: 3.3333333333333335 \n",
      "\n",
      "Probability that the Gene  ERG  with variation  FUS-ERG Fusion  belongs to class  3  is \n",
      "Predicted: 10.0 \n",
      "\n",
      "Probability that the Gene  ERG  with variation  FUS-ERG Fusion  belongs to class  4  is \n",
      "Predicted: 10.0 \n",
      "\n",
      "Probability that the Gene  ERG  with variation  FUS-ERG Fusion  belongs to class  5  is \n",
      "Predicted: 10.0 \n",
      "\n",
      "Probability that the Gene  ERG  with variation  FUS-ERG Fusion  belongs to class  7  is \n",
      "Predicted: 40.0 \n",
      "\n",
      "Predicted: Class 7\n",
      "Actual: Class 7\n",
      "\n",
      "\n",
      "\n",
      "Probability that the Gene  CDK4  with variation  R24C  belongs to class  1  is \n",
      "Predicted: 30.0 \n",
      "\n",
      "Probability that the Gene  CDK4  with variation  R24C  belongs to class  4  is \n",
      "Predicted: 10.0 \n",
      "\n",
      "Probability that the Gene  CDK4  with variation  R24C  belongs to class  5  is \n",
      "Predicted: 10.0 \n",
      "\n",
      "Probability that the Gene  CDK4  with variation  R24C  belongs to class  7  is \n",
      "Predicted: 10.0 \n",
      "\n",
      "Predicted: Class 1\n",
      "Actual: Class 7\n",
      "\n",
      "\n",
      "\n",
      "Probability that the Gene  EGFR  with variation  N826Y  belongs to class  2  is \n",
      "Predicted: 30.0 \n",
      "\n",
      "Probability that the Gene  EGFR  with variation  N826Y  belongs to class  7  is \n",
      "Predicted: 50.0 \n",
      "\n",
      "Predicted: Class 7\n",
      "Actual: Class 2\n",
      "\n",
      "\n",
      "\n",
      "Probability that the Gene  TP53  with variation  H193N  belongs to class  1  is \n",
      "Predicted: 70.0 \n",
      "\n",
      "Probability that the Gene  TP53  with variation  H193N  belongs to class  5  is \n",
      "Predicted: 30.0 \n",
      "\n",
      "Probability that the Gene  TP53  with variation  H193N  belongs to class  6  is \n",
      "Predicted: 10.0 \n",
      "\n",
      "Predicted: Class 1\n",
      "Actual: Class 4\n",
      "\n",
      "\n",
      "\n",
      "Probability that the Gene  HRAS  with variation  T58I  belongs to class  1  is \n",
      "Predicted: 20.0 \n",
      "\n",
      "Probability that the Gene  HRAS  with variation  T58I  belongs to class  2  is \n",
      "Predicted: 30.0 \n",
      "\n",
      "Probability that the Gene  HRAS  with variation  T58I  belongs to class  4  is \n",
      "Predicted: 20.0 \n",
      "\n",
      "Probability that the Gene  HRAS  with variation  T58I  belongs to class  6  is \n",
      "Predicted: 20.0 \n",
      "\n",
      "Probability that the Gene  HRAS  with variation  T58I  belongs to class  7  is \n",
      "Predicted: 10.0 \n",
      "\n",
      "Predicted: Class 2\n",
      "Actual: Class 2\n",
      "\n",
      "\n",
      "\n",
      "Probability that the Gene  ERCC2  with variation  D513Y  belongs to class  1  is \n",
      "Predicted: 93.30555555555556 \n",
      "\n",
      "Probability that the Gene  ERCC2  with variation  D513Y  belongs to class  5  is \n",
      "Predicted: 7.636363636363637 \n",
      "\n",
      "Predicted: Class 1\n",
      "Actual: Class 1\n",
      "\n",
      "\n",
      "\n",
      "Probability that the Gene  PTEN  with variation  G165R  belongs to class  4  is \n",
      "Predicted: 100.0 \n",
      "\n",
      "Predicted: Class 4\n",
      "Actual: Class 4\n",
      "\n",
      "\n",
      "\n",
      "Probability that the Gene  PTEN  with variation  M35R  belongs to class  4  is \n",
      "Predicted: 100.0 \n",
      "\n",
      "Predicted: Class 4\n",
      "Actual: Class 4\n",
      "\n",
      "\n",
      "\n",
      "Probability that the Gene  EGFR  with variation  G863S  belongs to class  1  is \n",
      "Predicted: 20.0 \n",
      "\n",
      "Probability that the Gene  EGFR  with variation  G863S  belongs to class  2  is \n",
      "Predicted: 70.0 \n",
      "\n",
      "Probability that the Gene  EGFR  with variation  G863S  belongs to class  6  is \n",
      "Predicted: 10.0 \n",
      "\n",
      "Probability that the Gene  EGFR  with variation  G863S  belongs to class  7  is \n",
      "Predicted: 10.0 \n",
      "\n",
      "Predicted: Class 2\n",
      "Actual: Class 2\n",
      "\n",
      "\n",
      "\n",
      "Probability that the Gene  BRCA2  with variation  R2842C  belongs to class  1  is \n",
      "Predicted: 40.0 \n",
      "\n",
      "Predicted: Class 1\n",
      "Actual: Class 1\n",
      "\n",
      "\n",
      "\n",
      "Probability that the Gene  ROS1  with variation  ROS1-CD74 Fusion  belongs to class  2  is \n",
      "Predicted: 10.0 \n",
      "\n",
      "Probability that the Gene  ROS1  with variation  ROS1-CD74 Fusion  belongs to class  7  is \n",
      "Predicted: 100.0 \n",
      "\n",
      "Predicted: Class 7\n",
      "Actual: Class 7\n",
      "\n",
      "\n",
      "\n",
      "Probability that the Gene  AKT2  with variation  D32H  belongs to class  2  is \n",
      "Predicted: 10.0 \n",
      "\n",
      "Probability that the Gene  AKT2  with variation  D32H  belongs to class  4  is \n",
      "Predicted: 10.0 \n",
      "\n",
      "Probability that the Gene  AKT2  with variation  D32H  belongs to class  6  is \n",
      "Predicted: 10.0 \n",
      "\n",
      "Probability that the Gene  AKT2  with variation  D32H  belongs to class  7  is \n",
      "Predicted: 90.0 \n",
      "\n",
      "Predicted: Class 7\n",
      "Actual: Class 7\n",
      "\n",
      "\n",
      "\n",
      "Probability that the Gene  CDH1  with variation  D254N  belongs to class  1  is \n",
      "Predicted: 20.0 \n",
      "\n",
      "Probability that the Gene  CDH1  with variation  D254N  belongs to class  4  is \n",
      "Predicted: 20.0 \n",
      "\n",
      "Probability that the Gene  CDH1  with variation  D254N  belongs to class  6  is \n",
      "Predicted: 20.0 \n",
      "\n",
      "Probability that the Gene  CDH1  with variation  D254N  belongs to class  7  is \n",
      "Predicted: 20.0 \n",
      "\n",
      "Predicted: Class 1\n",
      "Actual: Class 4\n",
      "\n",
      "\n",
      "\n",
      "Probability that the Gene  BRCA1  with variation  P1771L  belongs to class  1  is \n",
      "Predicted: 65.38461538461539 \n",
      "\n",
      "Probability that the Gene  BRCA1  with variation  P1771L  belongs to class  5  is \n",
      "Predicted: 20.0 \n",
      "\n",
      "Predicted: Class 1\n",
      "Actual: Class 5\n",
      "\n",
      "\n",
      "\n",
      "Probability that the Gene  AKT1  with variation  L78T  belongs to class  3  is \n",
      "Predicted: 60.0 \n",
      "\n",
      "Probability that the Gene  AKT1  with variation  L78T  belongs to class  7  is \n",
      "Predicted: 70.0 \n",
      "\n",
      "Predicted: Class 7\n",
      "Actual: Class 7\n",
      "\n",
      "\n",
      "\n",
      "Probability that the Gene  CTLA4  with variation  T17A  belongs to class  1  is \n",
      "Predicted: 40.0 \n",
      "\n",
      "Probability that the Gene  CTLA4  with variation  T17A  belongs to class  2  is \n",
      "Predicted: 10.0 \n",
      "\n",
      "Probability that the Gene  CTLA4  with variation  T17A  belongs to class  4  is \n",
      "Predicted: 30.0 \n",
      "\n",
      "Probability that the Gene  CTLA4  with variation  T17A  belongs to class  5  is \n",
      "Predicted: 30.0 \n",
      "\n",
      "Probability that the Gene  CTLA4  with variation  T17A  belongs to class  6  is \n",
      "Predicted: 20.0 \n",
      "\n",
      "Probability that the Gene  CTLA4  with variation  T17A  belongs to class  7  is \n",
      "Predicted: 50.0 \n",
      "\n",
      "Probability that the Gene  CTLA4  with variation  T17A  belongs to class  9  is \n",
      "Predicted: 10.0 \n",
      "\n",
      "Predicted: Class 7\n",
      "Actual: Class 1\n",
      "\n",
      "\n",
      "\n",
      "Probability that the Gene  KIT  with variation  Y570H  belongs to class  2  is \n",
      "Predicted: 90.0 \n",
      "\n",
      "Probability that the Gene  KIT  with variation  Y570H  belongs to class  6  is \n",
      "Predicted: 10.0 \n",
      "\n",
      "Predicted: Class 2\n",
      "Actual: Class 2\n",
      "\n",
      "\n",
      "\n",
      "Probability that the Gene  EGFR  with variation  S645C  belongs to class  1  is \n",
      "Predicted: 30.0 \n",
      "\n",
      "Probability that the Gene  EGFR  with variation  S645C  belongs to class  2  is \n",
      "Predicted: 30.0 \n",
      "\n",
      "Probability that the Gene  EGFR  with variation  S645C  belongs to class  5  is \n",
      "Predicted: 30.0 \n",
      "\n",
      "Probability that the Gene  EGFR  with variation  S645C  belongs to class  7  is \n",
      "Predicted: 40.0 \n",
      "\n",
      "Probability that the Gene  EGFR  with variation  S645C  belongs to class  9  is \n",
      "Predicted: 10.0 \n",
      "\n",
      "Predicted: Class 7\n",
      "Actual: Class 2\n",
      "\n",
      "\n",
      "\n",
      "Probability that the Gene  ERBB2  with variation  S1002R  belongs to class  6  is \n",
      "Predicted: 100.0 \n",
      "\n",
      "Predicted: Class 6\n",
      "Actual: Class 6\n",
      "\n",
      "\n",
      "\n",
      "Probability that the Gene  EGFR  with variation  D587H  belongs to class  1  is \n",
      "Predicted: 40.0 \n",
      "\n",
      "Probability that the Gene  EGFR  with variation  D587H  belongs to class  2  is \n",
      "Predicted: 60.0 \n",
      "\n",
      "Probability that the Gene  EGFR  with variation  D587H  belongs to class  3  is \n",
      "Predicted: 10.0 \n",
      "\n",
      "Probability that the Gene  EGFR  with variation  D587H  belongs to class  4  is \n",
      "Predicted: 10.0 \n",
      "\n",
      "Probability that the Gene  EGFR  with variation  D587H  belongs to class  5  is \n",
      "Predicted: 10.0 \n",
      "\n",
      "Probability that the Gene  EGFR  with variation  D587H  belongs to class  6  is \n",
      "Predicted: 10.0 \n",
      "\n",
      "Probability that the Gene  EGFR  with variation  D587H  belongs to class  7  is \n",
      "Predicted: 30.0 \n",
      "\n",
      "Predicted: Class 2\n",
      "Actual: Class 7\n",
      "\n",
      "\n",
      "\n",
      "Probability that the Gene  EGFR  with variation  Exon 19 deletion  belongs to class  4  is \n",
      "Predicted: 10.0 \n",
      "\n",
      "Probability that the Gene  EGFR  with variation  Exon 19 deletion  belongs to class  7  is \n",
      "Predicted: 100.0 \n",
      "\n",
      "Predicted: Class 7\n",
      "Actual: Class 7\n",
      "\n",
      "\n",
      "\n",
      "Probability that the Gene  PTEN  with variation  V343L  belongs to class  4  is \n",
      "Predicted: 100.0 \n",
      "\n",
      "Predicted: Class 4\n",
      "Actual: Class 4\n",
      "\n",
      "\n",
      "\n"
     ]
    }
   ],
   "source": [
    "j=0\n",
    "for i in xvalindex:\n",
    "    for k in range(1,10):\n",
    "        if list(map(int,y_pred2[j]*100))[k-1]!=0:\n",
    "            print(\"Probability that the Gene \",result['Gene'].loc[i],\" with variation \",result['Variation'].loc[i],\" belongs to class \",k,\" is \\nPredicted:\",list(y_pred2[j]*100)[k-1],\"\\n\")\n",
    "    print(\"Predicted: Class\",lb.inverse_transform(np.array([y_pred2[j]]))[0])\n",
    "    print(\"Actual: Class\",lb.inverse_transform(np.array([yval[j]]))[0])\n",
    "    print(\"\\n\\n\")\n",
    "    j+=1\n",
    "    if j==31:\n",
    "        break"
   ]
  },
  {
   "cell_type": "code",
   "execution_count": 574,
   "metadata": {},
   "outputs": [],
   "source": [
    "y_score = lr.predict_proba(xval_tfidf)"
   ]
  },
  {
   "cell_type": "code",
   "execution_count": 575,
   "metadata": {},
   "outputs": [
    {
     "name": "stdout",
     "output_type": "stream",
     "text": [
      "Average precision score, micro-averaged over all classes: 0.64\n"
     ]
    }
   ],
   "source": [
    "from sklearn.metrics import precision_recall_curve\n",
    "from sklearn.metrics import average_precision_score\n",
    "\n",
    "# For each class\n",
    "precision = dict()\n",
    "recall = dict()\n",
    "average_precision = dict()\n",
    "for i in range(9):\n",
    "    precision[i], recall[i], _ = precision_recall_curve(yval[:, i],\n",
    "                                                        y_score[:, i])\n",
    "    average_precision[i] = average_precision_score(yval[:, i], y_score[:, i])\n",
    "\n",
    "# A \"micro-average\": quantifying score on all classes jointly\n",
    "precision[\"micro\"], recall[\"micro\"], _ = precision_recall_curve(yval.ravel(),\n",
    "    y_score.ravel())\n",
    "average_precision[\"micro\"] = average_precision_score(yval, y_score,\n",
    "                                                     average=\"micro\")\n",
    "print('Average precision score, micro-averaged over all classes: {0:0.2f}'\n",
    "      .format(average_precision[\"micro\"]))"
   ]
  },
  {
   "cell_type": "markdown",
   "metadata": {},
   "source": [
    "## 4. Alternative Approach\n",
    "### Using Cross Validation Split"
   ]
  },
  {
   "cell_type": "code",
   "execution_count": 49,
   "metadata": {},
   "outputs": [],
   "source": [
    "y_true=result['Class'].values"
   ]
  },
  {
   "cell_type": "code",
   "execution_count": 53,
   "metadata": {},
   "outputs": [],
   "source": [
    "result.Gene=result.Gene.str.replace('\\s+','_')"
   ]
  },
  {
   "cell_type": "code",
   "execution_count": 54,
   "metadata": {},
   "outputs": [],
   "source": [
    "result.Variation=result.Variation.str.replace('\\s+','_')"
   ]
  },
  {
   "cell_type": "code",
   "execution_count": 55,
   "metadata": {},
   "outputs": [],
   "source": [
    "X_train,test_df,y_train,y_test=train_test_split(result,y_true,stratify=y_true,test_size=0.2)"
   ]
  },
  {
   "cell_type": "code",
   "execution_count": 56,
   "metadata": {},
   "outputs": [],
   "source": [
    "train_df,cv_df,y_train,y_cv=train_test_split(X_train,y_train,stratify=y_train,test_size=0.2)"
   ]
  },
  {
   "cell_type": "code",
   "execution_count": 57,
   "metadata": {},
   "outputs": [
    {
     "name": "stdout",
     "output_type": "stream",
     "text": [
      "Number of data points in train data: 2124\n",
      "Number of data points in test data: 665\n",
      "Number of data points in cross validation data: 532\n"
     ]
    }
   ],
   "source": [
    "print('Number of data points in train data:', train_df.shape[0])\n",
    "print('Number of data points in test data:', test_df.shape[0])\n",
    "print('Number of data points in cross validation data:', cv_df.shape[0])"
   ]
  },
  {
   "cell_type": "code",
   "execution_count": 67,
   "metadata": {},
   "outputs": [],
   "source": [
    "train_class_distribution = train_df['Class'].value_counts()\n",
    "test_class_distribution = test_df['Class'].value_counts()\n",
    "cv_class_distribution = cv_df['Class'].value_counts()"
   ]
  },
  {
   "cell_type": "code",
   "execution_count": 68,
   "metadata": {},
   "outputs": [
    {
     "data": {
      "image/png": "[encoded data removed]",
      "text/plain": [
       "<Figure size 432x288 with 1 Axes>"
      ]
     },
     "metadata": {},
     "output_type": "display_data"
    }
   ],
   "source": [
    "my_colors = 'rgbkymc'\n",
    "train_class_distribution.plot(kind='bar')\n",
    "plt.xlabel('Class')\n",
    "plt.ylabel('Data points per Class')\n",
    "plt.title('Distribution of yi in train data')\n",
    "plt.grid()\n",
    "plt.show()"
   ]
  },
  {
   "cell_type": "code",
   "execution_count": 74,
   "metadata": {},
   "outputs": [],
   "source": [
    "alpha=1\n",
    "train_gene_feature_responseCoding=np.array(get_gv_feature(alpha, \"Gene\", train_df))\n",
    "test_gene_feature_responseCoding = np.array(get_gv_feature(alpha, \"Gene\", test_df))\n",
    "cv_gene_feature_responseCoding = np.array(get_gv_feature(alpha, \"Gene\", cv_df))"
   ]
  },
  {
   "cell_type": "code",
   "execution_count": 78,
   "metadata": {},
   "outputs": [
    {
     "data": {
      "text/plain": [
       "array([[0.10185185, 0.12037037, 0.09259259, ..., 0.19444444, 0.10185185,\n",
       "        0.09259259],\n",
       "       [0.12631579, 0.10526316, 0.10526316, ..., 0.10526316, 0.10526316,\n",
       "        0.10526316],\n",
       "       [0.08148148, 0.15555556, 0.07407407, ..., 0.21481481, 0.07407407,\n",
       "        0.07407407],\n",
       "       ...,\n",
       "       [0.10982659, 0.05780347, 0.05780347, ..., 0.05780347, 0.05780347,\n",
       "        0.05780347],\n",
       "       [0.16239316, 0.08547009, 0.08547009, ..., 0.08547009, 0.08547009,\n",
       "        0.08547009],\n",
       "       [0.09243697, 0.10084034, 0.10084034, ..., 0.28571429, 0.08403361,\n",
       "        0.08403361]])"
      ]
     },
     "execution_count": 78,
     "metadata": {},
     "output_type": "execute_result"
    }
   ],
   "source": [
    "cv_gene_feature_responseCoding"
   ]
  },
  {
   "cell_type": "code",
   "execution_count": 77,
   "metadata": {},
   "outputs": [],
   "source": [
    "gene_vectorizer = CountVectorizer()\n",
    "train_gene_feature_onehotCoding = gene_vectorizer.fit_transform(train_df['Gene'])\n",
    "test_gene_feature_onehotCoding = gene_vectorizer.transform(test_df['Gene'])\n",
    "cv_gene_feature_onehotCoding = gene_vectorizer.transform(cv_df['Gene'])"
   ]
  },
  {
   "cell_type": "code",
   "execution_count": 86,
   "metadata": {},
   "outputs": [],
   "source": [
    "variation_vectorizer = CountVectorizer()\n",
    "train_variation_feature_onehotCoding = variation_vectorizer.fit_transform(train_df['Variation'])\n",
    "test_variation_feature_onehotCoding = variation_vectorizer.transform(test_df['Variation'])\n",
    "cv_variation_feature_onehotCoding = variation_vectorizer.transform(cv_df['Variation'])"
   ]
  },
  {
   "cell_type": "code",
   "execution_count": 123,
   "metadata": {},
   "outputs": [
    {
     "name": "stdout",
     "output_type": "stream",
     "text": [
      "total unique words in train data : 12202457\n"
     ]
    }
   ],
   "source": [
    "text_vectorizer=CountVectorizer(ngram_range=(1,4))\n",
    "train_text_feature_onehotCoding=text_vectorizer.fit_transform(train_df['TEXT'])\n",
    "\n",
    "\n",
    "train_text_features=text_vectorizer.get_feature_names()\n",
    "train_text_fea_counts=train_text_feature_onehotCoding.sum(axis=0).A1\n",
    "text_fea_dict=dict(zip(list(train_text_features),train_text_fea_counts))\n",
    "\n",
    "print(\"total unique words in train data :\",len(train_text_features))"
   ]
  },
  {
   "cell_type": "code",
   "execution_count": 154,
   "metadata": {},
   "outputs": [],
   "source": [
    "train_text_feature_onehotCoding=normalize(train_text_feature_onehotCoding,axis=0)\n",
    "test_text_feature_onehotCoding=text_vectorizer.transform(test_df['TEXT'])\n",
    "test_text_feature_onehotCoding=normalize(test_text_feature_onehotCoding,axis=0)\n",
    "cv_text_feature_onehotCoding=text_vectorizer.transform(cv_df['TEXT'])\n",
    "cv_text_feature_onehotCoding=normalize(cv_text_feature_onehotCoding,axis=0)"
   ]
  },
  {
   "cell_type": "markdown",
   "metadata": {},
   "source": [
    "### Data Preprocessing\n",
    "#### Feature Stacking"
   ]
  },
  {
   "cell_type": "code",
   "execution_count": 155,
   "metadata": {},
   "outputs": [],
   "source": [
    "train_gene_var_onehotCoding=hstack((train_gene_feature_onehotCoding,train_variation_feature_onehotCoding))\n",
    "test_gene_var_onehotCoding=hstack((test_gene_feature_onehotCoding,test_variation_feature_onehotCoding))\n",
    "cv_gene_var_onehotCoding=hstack((cv_gene_feature_onehotCoding,cv_variation_feature_onehotCoding))"
   ]
  },
  {
   "cell_type": "code",
   "execution_count": 172,
   "metadata": {},
   "outputs": [],
   "source": [
    "train_x_onehotCoding=hstack((train_gene_var_onehotCoding,train_text_feature_onehotCoding)).tocsr()\n",
    "train_y=np.array(list(train_df['Class']))\n",
    "test_x_onehotCoding=hstack((test_gene_var_onehotCoding,test_text_feature_onehotCoding)).tocsr()\n",
    "test_y=np.array(list(test_df['Class']))\n",
    "cv_x_onehotCoding=hstack((cv_gene_var_onehotCoding,cv_text_feature_onehotCoding)).tocsr()\n",
    "cv_y=np.array(list(cv_df['Class']))"
   ]
  },
  {
   "cell_type": "code",
   "execution_count": 173,
   "metadata": {},
   "outputs": [
    {
     "name": "stdout",
     "output_type": "stream",
     "text": [
      "one hot encoding features\n",
      "data points * number of features in train data= (2124, 12204655)\n",
      "data points * number of features in train data= (665, 12204655)\n",
      "data points * number of features in train data= (532, 12204655)\n"
     ]
    }
   ],
   "source": [
    "print(\"one hot encoding features\")\n",
    "print(\"data points * number of features in train data=\",train_x_onehotCoding.shape)\n",
    "print(\"data points * number of features in train data=\",test_x_onehotCoding.shape)\n",
    "print(\"data points * number of features in train data=\",cv_x_onehotCoding.shape)"
   ]
  },
  {
   "cell_type": "code",
   "execution_count": 175,
   "metadata": {},
   "outputs": [],
   "source": [
    "alpha=[10 ** x for x in range(-6,3)]"
   ]
  },
  {
   "cell_type": "code",
   "execution_count": 176,
   "metadata": {},
   "outputs": [
    {
     "data": {
      "text/plain": [
       "[1e-06, 1e-05, 0.0001, 0.001, 0.01, 0.1, 1, 10, 100]"
      ]
     },
     "execution_count": 176,
     "metadata": {},
     "output_type": "execute_result"
    }
   ],
   "source": [
    "alpha"
   ]
  },
  {
   "cell_type": "code",
   "execution_count": 227,
   "metadata": {},
   "outputs": [
    {
     "name": "stdout",
     "output_type": "stream",
     "text": [
      "for alpha= 1e-06\n",
      "Log Loss : 1.830499756776428\n",
      "for alpha= 1e-05\n",
      "Log Loss : 1.5829089499782698\n",
      "for alpha= 0.0001\n",
      "Log Loss : 1.5760445203292552\n",
      "for alpha= 0.001\n",
      "Log Loss : 1.4773223740525845\n",
      "for alpha= 0.01\n",
      "Log Loss : 1.2469418081804653\n",
      "for alpha= 0.1\n",
      "Log Loss : 1.2524112049911158\n",
      "for alpha= 1\n",
      "Log Loss : 1.2602707710185743\n",
      "for alpha= 10\n",
      "Log Loss : 1.2875905390994613\n",
      "for alpha= 100\n",
      "Log Loss : 1.2997817008556847\n",
      "For values of best alpha =  0.01 The train log loss is: 0.7025794079584211\n",
      "For values of best alpha =  0.01 The cross validation log loss is: 1.254732738620841\n",
      "For values of best alpha =  0.01 The test log loss is: 1.2006418370038936\n"
     ]
    }
   ],
   "source": [
    "cv_log_error_array=[]\n",
    "for i in alpha:\n",
    "    print(\"for alpha=\",i)\n",
    "    clf=SGDClassifier(alpha=i,penalty='l2',loss='log',random_state=42)\n",
    "    clf.fit(train_x_onehotCoding,train_y)\n",
    "    clf.predict(cv_x_onehotCoding)\n",
    "    sig_clf=CalibratedClassifierCV(clf,method=\"sigmoid\")\n",
    "    sig_clf.fit(train_x_onehotCoding,train_y)\n",
    "    sig_clf_probs = sig_clf.predict_proba(cv_x_onehotCoding)\n",
    "    cv_log_error_array.append(log_loss(cv_y, sig_clf_probs, labels=clf.classes_, eps=1e-15))\n",
    "    print(\"Log Loss :\",log_loss(cv_y, sig_clf_probs))\n",
    "\n",
    "best_alpha=np.argmin(cv_log_error_array)\n",
    "clf = SGDClassifier(class_weight='balanced', alpha=alpha[best_alpha], penalty='l2', loss='log', random_state=42)\n",
    "clf.fit(train_x_onehotCoding, train_y)\n",
    "sig_clf = CalibratedClassifierCV(clf, method=\"sigmoid\")\n",
    "sig_clf.fit(train_x_onehotCoding, train_y)\n",
    "\n",
    "predict_y = sig_clf.predict_proba(train_x_onehotCoding)\n",
    "print('For values of best alpha = ', alpha[best_alpha], \"The train log loss is:\",log_loss(y_train, predict_y, labels=clf.classes_, eps=1e-15))\n",
    "predict_y = sig_clf.predict_proba(cv_x_onehotCoding)\n",
    "print('For values of best alpha = ', alpha[best_alpha], \"The cross validation log loss is:\",log_loss(y_cv, predict_y, labels=clf.classes_, eps=1e-15))\n",
    "predict_y = sig_clf.predict_proba(test_x_onehotCoding)\n",
    "print('For values of best alpha = ', alpha[best_alpha], \"The test log loss is:\",log_loss(y_test, predict_y, labels=clf.classes_, eps=1e-15))"
   ]
  },
  {
   "cell_type": "code",
   "execution_count": 235,
   "metadata": {},
   "outputs": [],
   "source": [
    "clf = SGDClassifier(class_weight='balanced', alpha=alpha[best_alpha], penalty='l2', loss='log', random_state=42)"
   ]
  },
  {
   "cell_type": "code",
   "execution_count": null,
   "metadata": {},
   "outputs": [],
   "source": [
    "clf.fit(train_x_onehotCoding, train_y)\n",
    "sig_clf = CalibratedClassifierCV(clf, method=\"sigmoid\")\n",
    "sig_clf.fit(train_x_onehotCoding, train_y)\n",
    "pred_y = sig_clf.predict(cv_x_onehotCoding)"
   ]
  },
  {
   "cell_type": "code",
   "execution_count": 239,
   "metadata": {},
   "outputs": [
    {
     "data": {
      "text/plain": [
       "0.5657894736842105"
      ]
     },
     "execution_count": 239,
     "metadata": {},
     "output_type": "execute_result"
    }
   ],
   "source": [
    "accuracy_score(pred_y,cv_y)"
   ]
  },
  {
   "cell_type": "code",
   "execution_count": 207,
   "metadata": {},
   "outputs": [
    {
     "data": {
      "text/plain": [
       "RandomForestClassifier(bootstrap=True, class_weight=None, criterion='gini',\n",
       "                       max_depth=None, max_features='auto', max_leaf_nodes=None,\n",
       "                       min_impurity_decrease=0.0, min_impurity_split=None,\n",
       "                       min_samples_leaf=1, min_samples_split=2,\n",
       "                       min_weight_fraction_leaf=0.0, n_estimators=10,\n",
       "                       n_jobs=None, oob_score=False, random_state=None,\n",
       "                       verbose=0, warm_start=False)"
      ]
     },
     "execution_count": 207,
     "metadata": {},
     "output_type": "execute_result"
    }
   ],
   "source": [
    "clf2=RandomForestClassifier()\n",
    "clf2.fit(train_x_onehotCoding,train_y)"
   ]
  },
  {
   "cell_type": "code",
   "execution_count": 117,
   "metadata": {},
   "outputs": [],
   "source": [
    "results=[0.8759005438723265,0.8330183131163407,0.774337391597264,0.8276394520246101]\n",
    "names=[\"Logistic Regression\",\"Random Forest\",\"Gaussian NB\",\"KNN\"]"
   ]
  },
  {
   "cell_type": "markdown",
   "metadata": {},
   "source": [
    "## 5. Final Model Metrics"
   ]
  },
  {
   "cell_type": "code",
   "execution_count": 119,
   "metadata": {
    "scrolled": false
   },
   "outputs": [
    {
     "data": {
      "text/html": [
       "<div>\n",
       "<style scoped>\n",
       "    .dataframe tbody tr th:only-of-type {\n",
       "        vertical-align: middle;\n",
       "    }\n",
       "\n",
       "    .dataframe tbody tr th {\n",
       "        vertical-align: top;\n",
       "    }\n",
       "\n",
       "    .dataframe thead th {\n",
       "        text-align: right;\n",
       "    }\n",
       "</style>\n",
       "<table border=\"1\" class=\"dataframe\">\n",
       "  <thead>\n",
       "    <tr style=\"text-align: right;\">\n",
       "      <th></th>\n",
       "      <th>Model Name</th>\n",
       "      <th>AUC-ROC</th>\n",
       "    </tr>\n",
       "  </thead>\n",
       "  <tbody>\n",
       "    <tr>\n",
       "      <th>0</th>\n",
       "      <td>Logistic Regression</td>\n",
       "      <td>0.875901</td>\n",
       "    </tr>\n",
       "    <tr>\n",
       "      <th>1</th>\n",
       "      <td>Random Forest</td>\n",
       "      <td>0.833018</td>\n",
       "    </tr>\n",
       "    <tr>\n",
       "      <th>2</th>\n",
       "      <td>Gaussian NB</td>\n",
       "      <td>0.774337</td>\n",
       "    </tr>\n",
       "    <tr>\n",
       "      <th>3</th>\n",
       "      <td>KNN</td>\n",
       "      <td>0.827639</td>\n",
       "    </tr>\n",
       "  </tbody>\n",
       "</table>\n",
       "</div>"
      ],
      "text/plain": [
       "            Model Name   AUC-ROC\n",
       "0  Logistic Regression  0.875901\n",
       "1        Random Forest  0.833018\n",
       "2          Gaussian NB  0.774337\n",
       "3                  KNN  0.827639"
      ]
     },
     "execution_count": 119,
     "metadata": {},
     "output_type": "execute_result"
    }
   ],
   "source": [
    "data = {'Model Name': names,'AUC-ROC': results, }\n",
    "dataset=pd.DataFrame(data)\n",
    "dataset"
   ]
  },
  {
   "cell_type": "markdown",
   "metadata": {},
   "source": [
    "## END"
   ]
  }
 ],
 "metadata": {
  "kernelspec": {
   "display_name": "conda_python3",
   "language": "python",
   "name": "conda_python3"
  },
  "language_info": {
   "codemirror_mode": {
    "name": "ipython",
    "version": 3
   },
   "file_extension": ".py",
   "mimetype": "text/x-python",
   "name": "python",
   "nbconvert_exporter": "python",
   "pygments_lexer": "ipython3",
   "version": "3.6.10"
  }
 },
 "nbformat": 4,
 "nbformat_minor": 2
}
