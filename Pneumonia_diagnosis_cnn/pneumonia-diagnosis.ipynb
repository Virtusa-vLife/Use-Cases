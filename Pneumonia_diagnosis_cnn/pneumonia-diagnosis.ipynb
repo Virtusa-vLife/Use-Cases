{
 "cells": [
  {
   "cell_type": "markdown",
   "metadata": {},
   "source": [
    "# vLife Virtusa\n",
    "## Pneumonia Diagnosis Using CNN\n",
    "### Usecase Description\n",
    "Pneumonia diagnosis on pediatric chest X-ray images provided by the patient using CNN. The model will predict whether the patient has pnemonia or not.Automate pneumonia diagnosis on pediatric chest X-ray images provided by the Guangzhou Women and Children’s Medical Center, Guangzhou (China). The images display both healthy and unhealthy lungs.\n",
    "![](https://i.imgur.com/jZqpV51.png)\n",
    "Although pneumonia can be either bacterial or viral, our goal is not to distinguish between the two types of pneumonia. We solely aim at _diagnosing_ pneumonia.\n",
    "\n",
    "\n",
    "### Dataset Source\n",
    "Data for this usecase can be found [here](https://www.kaggle.com/paultimothymooney/chest-xray-pneumonia).\n",
    "\n",
    "### Dataset Description\n",
    "_The dataset is organized into 3 folders (train, test, val) and contains subfolders for each image category (Pneumonia/Normal). There are 5,863 X-Ray images (JPEG) and 2 categories (Pneumonia/Normal)._\n",
    "\n",
    "_Chest X-ray images (anterior-posterior) were selected from retrospective cohorts of pediatric patients of one to five years old from Guangzhou Women and Children’s Medical Center, Guangzhou. All chest X-ray imaging was performed as part of patients’ routine clinical care._\n",
    "\n",
    "_For the analysis of chest x-ray images, all chest radiographs were initially screened for quality control by removing all low quality or unreadable scans. The diagnoses for the images were then graded by two expert physicians before being cleared for training the AI system. In order to account for any grading errors, the evaluation set was also checked by a third expert_."
   ]
  },
  {
   "cell_type": "markdown",
   "metadata": {},
   "source": [
    "### Helper Functions to Explore Data"
   ]
  },
  {
   "cell_type": "markdown",
   "metadata": {},
   "source": [
    "_Let us take a first look at our dataset_"
   ]
  },
  {
   "cell_type": "code",
   "execution_count": 8,
   "metadata": {
    "_cell_guid": "b1076dfc-b9ad-4769-8c92-a6c4dae69d19",
    "_uuid": "8f2839f25d086af736a60e9eeb907d3b93b6e0e5"
   },
   "outputs": [],
   "source": [
    "# Load train & test data\n",
    "from __future__ import division\n",
    "\n",
    "import numpy as np\n",
    "import pandas as pd\n",
    "import os\n",
    "import cv2\n",
    "import matplotlib.pyplot as plt\n",
    "\n",
    "def get_img_paths(set_folder):\n",
    "    '''\n",
    "    Lists all paths in a given folder\n",
    "    '''\n",
    "    img_paths = []\n",
    "    for sub_folder in ['NORMAL', 'PNEUMONIA']:\n",
    "        directory = set_folder + '/' + sub_folder\n",
    "        img_paths += [directory + '/' + f for f in os.listdir(directory) if f[0] != '.']\n",
    "    return img_paths\n",
    "\n",
    "def img_path_to_np_array(path, size):\n",
    "    '''\n",
    "    Loads image located at path into a numpy array of shape (size, size)\n",
    "    '''\n",
    "    img = cv2.imread(path)   # reads an image in the BGR format\n",
    "    img = cv2.cvtColor(img, cv2.COLOR_BGR2GRAY)   # COLOR_BGR2RGB for color\n",
    "    img = cv2.resize(img, dsize=(size, size), interpolation=cv2.INTER_CUBIC)\n",
    "    return img\n",
    "\n",
    "def get_label(image_path):\n",
    "    '''\n",
    "    Assigns a label to an image\n",
    "    0 stands for healthy patient\n",
    "    1 stands for pneumonia\n",
    "    '''\n",
    "    return 1*('virus' in image_path or 'bacteria' in image_path)\n",
    "\n",
    "def load_data(set_folder, size):\n",
    "    '''\n",
    "    Loads both NORMAL & PNEUMONIA images into two numpy arrays\n",
    "    '''\n",
    "    img_paths = get_img_paths(set_folder)\n",
    "    Y = np.array([get_label(img_path) for img_path in img_paths])\n",
    "    X = np.array([img_path_to_np_array(img_path, size) for img_path in img_paths])\n",
    "    X = np.reshape(X, (-1, size, size, 1))\n",
    "    X = X.astype('float32')\n",
    "    X = X/255\n",
    "    return X, Y\n",
    "\n",
    "size = 100 # we resize the original images into arrays of shape (size, size)\n",
    "chest_xray_folder = \"data/chest_xray/\"\n",
    "train_X, train_Y = load_data(chest_xray_folder + \"/train\", size)\n",
    "test_X, test_Y = load_data(chest_xray_folder + \"/test\", size)\n",
    "valid_X, valid_Y = load_data(chest_xray_folder + \"/val\", size)"
   ]
  },
  {
   "cell_type": "code",
   "execution_count": 9,
   "metadata": {},
   "outputs": [
    {
     "data": {
      "text/plain": [
       "array([[[[0.21176471],\n",
       "         [0.27450982],\n",
       "         [0.29411766],\n",
       "         ...,\n",
       "         [0.        ],\n",
       "         [0.        ],\n",
       "         [0.        ]],\n",
       "\n",
       "        [[0.20392157],\n",
       "         [0.24313726],\n",
       "         [0.3019608 ],\n",
       "         ...,\n",
       "         [0.        ],\n",
       "         [0.        ],\n",
       "         [0.        ]],\n",
       "\n",
       "        [[0.22352941],\n",
       "         [0.25882354],\n",
       "         [0.28627452],\n",
       "         ...,\n",
       "         [0.        ],\n",
       "         [0.        ],\n",
       "         [0.        ]],\n",
       "\n",
       "        ...,\n",
       "\n",
       "        [[0.        ],\n",
       "         [0.        ],\n",
       "         [0.06666667],\n",
       "         ...,\n",
       "         [0.        ],\n",
       "         [0.        ],\n",
       "         [0.        ]],\n",
       "\n",
       "        [[0.        ],\n",
       "         [0.        ],\n",
       "         [0.05882353],\n",
       "         ...,\n",
       "         [0.        ],\n",
       "         [0.        ],\n",
       "         [0.        ]],\n",
       "\n",
       "        [[0.        ],\n",
       "         [0.        ],\n",
       "         [0.04705882],\n",
       "         ...,\n",
       "         [0.        ],\n",
       "         [0.        ],\n",
       "         [0.        ]]],\n",
       "\n",
       "\n",
       "       [[[0.09803922],\n",
       "         [0.13333334],\n",
       "         [0.18431373],\n",
       "         ...,\n",
       "         [0.5568628 ],\n",
       "         [0.41568628],\n",
       "         [0.5254902 ]],\n",
       "\n",
       "        [[0.0627451 ],\n",
       "         [0.14901961],\n",
       "         [0.17254902],\n",
       "         ...,\n",
       "         [0.42352942],\n",
       "         [0.23137255],\n",
       "         [0.49411765]],\n",
       "\n",
       "        [[0.05098039],\n",
       "         [0.15686275],\n",
       "         [0.17254902],\n",
       "         ...,\n",
       "         [0.18431373],\n",
       "         [0.2509804 ],\n",
       "         [0.50980395]],\n",
       "\n",
       "        ...,\n",
       "\n",
       "        [[0.        ],\n",
       "         [0.        ],\n",
       "         [0.        ],\n",
       "         ...,\n",
       "         [0.14901961],\n",
       "         [0.03921569],\n",
       "         [0.        ]],\n",
       "\n",
       "        [[0.        ],\n",
       "         [0.        ],\n",
       "         [0.        ],\n",
       "         ...,\n",
       "         [0.15294118],\n",
       "         [0.03137255],\n",
       "         [0.        ]],\n",
       "\n",
       "        [[0.        ],\n",
       "         [0.        ],\n",
       "         [0.        ],\n",
       "         ...,\n",
       "         [0.14117648],\n",
       "         [0.05490196],\n",
       "         [0.        ]]],\n",
       "\n",
       "\n",
       "       [[[0.07058824],\n",
       "         [0.14117648],\n",
       "         [0.2       ],\n",
       "         ...,\n",
       "         [0.3019608 ],\n",
       "         [0.23137255],\n",
       "         [0.20784314]],\n",
       "\n",
       "        [[0.05882353],\n",
       "         [0.11372549],\n",
       "         [0.18431373],\n",
       "         ...,\n",
       "         [0.21960784],\n",
       "         [0.22745098],\n",
       "         [0.21176471]],\n",
       "\n",
       "        [[0.04705882],\n",
       "         [0.11372549],\n",
       "         [0.16470589],\n",
       "         ...,\n",
       "         [0.22745098],\n",
       "         [0.24313726],\n",
       "         [0.19607843]],\n",
       "\n",
       "        ...,\n",
       "\n",
       "        [[0.        ],\n",
       "         [0.        ],\n",
       "         [0.        ],\n",
       "         ...,\n",
       "         [0.08235294],\n",
       "         [0.01568628],\n",
       "         [0.        ]],\n",
       "\n",
       "        [[0.        ],\n",
       "         [0.        ],\n",
       "         [0.        ],\n",
       "         ...,\n",
       "         [0.09411765],\n",
       "         [0.        ],\n",
       "         [0.        ]],\n",
       "\n",
       "        [[0.        ],\n",
       "         [0.        ],\n",
       "         [0.        ],\n",
       "         ...,\n",
       "         [0.09019608],\n",
       "         [0.        ],\n",
       "         [0.        ]]],\n",
       "\n",
       "\n",
       "       ...,\n",
       "\n",
       "\n",
       "       [[[0.05882353],\n",
       "         [0.07450981],\n",
       "         [0.08627451],\n",
       "         ...,\n",
       "         [0.0627451 ],\n",
       "         [0.0627451 ],\n",
       "         [0.05098039]],\n",
       "\n",
       "        [[0.0627451 ],\n",
       "         [0.07058824],\n",
       "         [0.07843138],\n",
       "         ...,\n",
       "         [0.07843138],\n",
       "         [0.06666667],\n",
       "         [0.05490196]],\n",
       "\n",
       "        [[0.06666667],\n",
       "         [0.06666667],\n",
       "         [0.08627451],\n",
       "         ...,\n",
       "         [0.09019608],\n",
       "         [0.07058824],\n",
       "         [0.07058824]],\n",
       "\n",
       "        ...,\n",
       "\n",
       "        [[0.03137255],\n",
       "         [0.02745098],\n",
       "         [0.02352941],\n",
       "         ...,\n",
       "         [0.04705882],\n",
       "         [0.03529412],\n",
       "         [0.03137255]],\n",
       "\n",
       "        [[0.06666667],\n",
       "         [0.01960784],\n",
       "         [0.03921569],\n",
       "         ...,\n",
       "         [0.04705882],\n",
       "         [0.03529412],\n",
       "         [0.0627451 ]],\n",
       "\n",
       "        [[0.04313726],\n",
       "         [0.02745098],\n",
       "         [0.03529412],\n",
       "         ...,\n",
       "         [0.03529412],\n",
       "         [0.04705882],\n",
       "         [0.03921569]]],\n",
       "\n",
       "\n",
       "       [[[0.02352941],\n",
       "         [0.09019608],\n",
       "         [0.16470589],\n",
       "         ...,\n",
       "         [0.        ],\n",
       "         [0.29803923],\n",
       "         [1.        ]],\n",
       "\n",
       "        [[0.01568628],\n",
       "         [0.09411765],\n",
       "         [0.1764706 ],\n",
       "         ...,\n",
       "         [0.01568628],\n",
       "         [0.00784314],\n",
       "         [0.10588235]],\n",
       "\n",
       "        [[0.00392157],\n",
       "         [0.10196079],\n",
       "         [0.16862746],\n",
       "         ...,\n",
       "         [0.00392157],\n",
       "         [0.05490196],\n",
       "         [0.00784314]],\n",
       "\n",
       "        ...,\n",
       "\n",
       "        [[0.02745098],\n",
       "         [0.02352941],\n",
       "         [0.01960784],\n",
       "         ...,\n",
       "         [0.00784314],\n",
       "         [0.01176471],\n",
       "         [0.01176471]],\n",
       "\n",
       "        [[0.00784314],\n",
       "         [0.00784314],\n",
       "         [0.00784314],\n",
       "         ...,\n",
       "         [0.00784314],\n",
       "         [0.00784314],\n",
       "         [0.01176471]],\n",
       "\n",
       "        [[0.41960785],\n",
       "         [0.5058824 ],\n",
       "         [0.04705882],\n",
       "         ...,\n",
       "         [0.00784314],\n",
       "         [0.00784314],\n",
       "         [0.01176471]]],\n",
       "\n",
       "\n",
       "       [[[0.3019608 ],\n",
       "         [0.2901961 ],\n",
       "         [0.28235295],\n",
       "         ...,\n",
       "         [0.43529412],\n",
       "         [0.44313726],\n",
       "         [0.40784314]],\n",
       "\n",
       "        [[0.28627452],\n",
       "         [0.2784314 ],\n",
       "         [0.28235295],\n",
       "         ...,\n",
       "         [0.45882353],\n",
       "         [0.4862745 ],\n",
       "         [0.47058824]],\n",
       "\n",
       "        [[0.2784314 ],\n",
       "         [0.27058825],\n",
       "         [0.2901961 ],\n",
       "         ...,\n",
       "         [0.5019608 ],\n",
       "         [0.5058824 ],\n",
       "         [0.52156866]],\n",
       "\n",
       "        ...,\n",
       "\n",
       "        [[0.3019608 ],\n",
       "         [0.33333334],\n",
       "         [0.4117647 ],\n",
       "         ...,\n",
       "         [0.48235294],\n",
       "         [0.34117648],\n",
       "         [0.30588236]],\n",
       "\n",
       "        [[0.30980393],\n",
       "         [0.34117648],\n",
       "         [0.41960785],\n",
       "         ...,\n",
       "         [0.47058824],\n",
       "         [0.34509805],\n",
       "         [0.3019608 ]],\n",
       "\n",
       "        [[0.31764707],\n",
       "         [0.34901962],\n",
       "         [0.41960785],\n",
       "         ...,\n",
       "         [0.40784314],\n",
       "         [0.3529412 ],\n",
       "         [0.3019608 ]]]], dtype=float32)"
      ]
     },
     "execution_count": 9,
     "metadata": {},
     "output_type": "execute_result"
    }
   ],
   "source": [
    "train_X"
   ]
  },
  {
   "cell_type": "markdown",
   "metadata": {},
   "source": [
    "### Exploratory Data Analysis"
   ]
  },
  {
   "cell_type": "markdown",
   "metadata": {},
   "source": [
    "> **The dataset comprises a train set, a test set and a validation set. As given, the train set and the test set contain 5,216 and 624 images respectively. However, with 16 images only, the validation set is very small**"
   ]
  },
  {
   "cell_type": "code",
   "execution_count": 10,
   "metadata": {
    "_cell_guid": "79c7e3d0-c299-4dcb-8224-4455121ee9b0",
    "_uuid": "d629ff2d2480ee46fbb7e2d37f6b5fab8052498a"
   },
   "outputs": [
    {
     "data": {
      "image/png": "[encoded data removed]",
      "text/plain": [
       "<Figure size 432x288 with 1 Axes>"
      ]
     },
     "metadata": {},
     "output_type": "display_data"
    },
    {
     "name": "stdout",
     "output_type": "stream",
     "text": [
      "Size of the training set: 5216\n",
      "Size of the test set: 624\n",
      "Size of the validation set: 16\n"
     ]
    }
   ],
   "source": [
    "# Plot training, validation and test set summary\n",
    "def plot_train_validation_test_summary(train_Y, valid_Y, test_Y):\n",
    "    '''\n",
    "    Plots training, validation and test set sizes\n",
    "    '''\n",
    "    bars = ('Training', 'Validation', 'Test')\n",
    "    count = [train_Y.size, valid_Y.size, test_Y.size]\n",
    "    pos = np.arange(len(bars))\n",
    "    plt.bar(pos, count)\n",
    "    plt.xticks(pos, bars)\n",
    "    plt.title('Training, validation and test set sizes')\n",
    "    plt.show()\n",
    "    print(\"Size of the training set: \" + str(train_Y.size))\n",
    "    print(\"Size of the test set: \" + str(test_Y.size))\n",
    "    print(\"Size of the validation set: \" + str(valid_Y.size))\n",
    "    \n",
    "plot_train_validation_test_summary(train_Y, valid_Y, test_Y)"
   ]
  },
  {
   "cell_type": "markdown",
   "metadata": {},
   "source": [
    "> **Therefore we decided not to use the given validation set for validation but, rather, to plug it back into our training set. We then built our own validation set by randomly sampling half of the examples from the test set, yielding a validation set and a new test set. This ensures that the validation set comes from the same distribution as the test set, which is crucial in any machine learning endeavor.**"
   ]
  },
  {
   "cell_type": "code",
   "execution_count": 11,
   "metadata": {},
   "outputs": [
    {
     "data": {
      "image/png": "[encoded data removed]",
      "text/plain": [
       "<Figure size 432x288 with 1 Axes>"
      ]
     },
     "metadata": {},
     "output_type": "display_data"
    },
    {
     "name": "stdout",
     "output_type": "stream",
     "text": [
      "Size of the training set: 5232\n",
      "Size of the test set: 312\n",
      "Size of the validation set: 312\n"
     ]
    }
   ],
   "source": [
    "# add validation set back into training set and create new validation set from test set\n",
    "def shuffle_randomly(X, Y):\n",
    "    '''\n",
    "    Shuffles X and Y TOGETHER\n",
    "    '''\n",
    "    randomize = np.arange(Y.size)\n",
    "    np.random.shuffle(randomize)\n",
    "    X, Y = X[randomize, :, :, :], Y[randomize]\n",
    "    return X, Y\n",
    "\n",
    "def concatenate_and_shuffle_randomly(X_a, Y_a, X_b, Y_b):\n",
    "    '''\n",
    "    Concatenates two datasets (X_a, Y_a) and (X_b, Y_b) into one new dataset (X, Y)\n",
    "    '''\n",
    "    X = np.concatenate((X_a, X_b), axis=0)\n",
    "    Y = np.concatenate((Y_a, Y_b), axis=0)\n",
    "    # shuffle X and Y TOGETHER\n",
    "    X, Y = shuffle_randomly(X, Y)\n",
    "    return X, Y\n",
    "\n",
    "train_X, train_Y = concatenate_and_shuffle_randomly(train_X, train_Y, valid_X, valid_Y)\n",
    "\n",
    "from sklearn.model_selection import train_test_split\n",
    "valid_X, test_X, valid_Y, test_Y = train_test_split(test_X, test_Y, test_size=0.5, random_state=13)\n",
    "\n",
    "plot_train_validation_test_summary(train_Y, valid_Y, test_Y)"
   ]
  },
  {
   "cell_type": "markdown",
   "metadata": {},
   "source": [
    ">**Though still quite small, our validation set size is now acceptable.\n",
    "One other important aspect to look at is the class balancing in the training set:**"
   ]
  },
  {
   "cell_type": "code",
   "execution_count": 12,
   "metadata": {},
   "outputs": [
    {
     "name": "stdout",
     "output_type": "stream",
     "text": [
      "Number of negative examples:1349\n",
      "Number of positive examples:3883\n"
     ]
    },
    {
     "data": {
      "image/png": "[encoded data removed]",
      "text/plain": [
       "<Figure size 432x288 with 1 Axes>"
      ]
     },
     "metadata": {},
     "output_type": "display_data"
    }
   ],
   "source": [
    "# Plot training data summary\n",
    "def plot_data_summary(Y):\n",
    "    '''\n",
    "    Plots data label summary\n",
    "    '''\n",
    "    bars = ('Healthy lungs', 'Pneumonia')\n",
    "    count = [np.sum(Y == 0), np.sum(Y == 1)]\n",
    "    pos = np.arange(len(bars))\n",
    "    plt.bar(pos, count)\n",
    "    plt.xticks(pos, bars)\n",
    "    plt.title('Training set label distribution')\n",
    "    print(\"Number of negative examples:\" + str(np.sum(Y == 0)))\n",
    "    print(\"Number of positive examples:\" + str(np.sum(Y == 1)))\n",
    "\n",
    "plot_data_summary(train_Y)"
   ]
  },
  {
   "cell_type": "markdown",
   "metadata": {},
   "source": [
    "### Predictive Deep Learning Model"
   ]
  },
  {
   "cell_type": "markdown",
   "metadata": {},
   "source": [
    "The training set appears **very imbalanced, with 1,349 negative cases VS 3,883 positive cases**. Our goal in the next section will be to rebalance and \"augment\" the training set.\n",
    "Training set augmentation consists of generating training examples ourselves, i.e. generating fake X-rays, by applying some transformations to the X-rays we already have:\n",
    "* tiny rotations: if an image is a chest X-ray then a slightly rotated version of this image is also a chest X-ray\n",
    "* tiny vertical & horizontal shifts: if an image is a chest X-ray then the same image shifted a little bit up, down, left or right is also a chest X-ray\n",
    "* horizontal shifts: if an image is a chest X-ray then the same image flipped horizontally is also a chest X-ray (this is assuming that the human body is symmetrical, which it is not really but it turns out it does not matter in the case of pneumonia diagnosis)\n",
    "* zooms: if an image is a chest X-ray then a slight zoom into this image is also a chest X-ray\n",
    "* Gaussian blur: if an image is a chest X-ray then the same image slightly blurred is also a chest X-ray\n",
    "\n",
    "To generate these new transformed images, we use the `ImageDataGenerator` function from the `keras.preprocessing.image` library for data augmentation."
   ]
  },
  {
   "cell_type": "code",
   "execution_count": 13,
   "metadata": {
    "scrolled": true
   },
   "outputs": [
    {
     "name": "stdout",
     "output_type": "stream",
     "text": [
      "Number of negative examples:50000\n",
      "Number of positive examples:50000\n"
     ]
    },
    {
     "data": {
      "image/png": "[encoded data removed]",
      "text/plain": [
       "<Figure size 432x288 with 1 Axes>"
      ]
     },
     "metadata": {},
     "output_type": "display_data"
    }
   ],
   "source": [
    "# Augment training data and ensure it is correctly balanced\n",
    "from keras.preprocessing.image import ImageDataGenerator\n",
    "\n",
    "def augment_data_helper(X, Y, cardinal, rotation_range, shift, horizontal_flip, zoom_range, blur_range):\n",
    "    '''\n",
    "    Augments data contained in X, Y by applying rotations, horizontal & vertical shifts, horizontal flips and zoom\n",
    "    '''\n",
    "    \n",
    "    def blur(img):\n",
    "        size = img.shape[0]\n",
    "        blur_size = int(np.random.randint(4) * blur_range * size/3)\n",
    "        if blur_size == 0:\n",
    "            return img\n",
    "        img = cv2.resize(img, dsize=(size, size), interpolation=cv2.INTER_CUBIC)\n",
    "        img = cv2.blur(img,(blur_size, blur_size))\n",
    "        img = np.reshape(img, (size, size, 1))\n",
    "        return img\n",
    "    \n",
    "    # define an image data generator using keras ImageDataGenerator\n",
    "    datagen = ImageDataGenerator(preprocessing_function= blur,\n",
    "                                 rotation_range=rotation_range,\n",
    "                                 width_shift_range=shift, height_shift_range=shift,\n",
    "                                 horizontal_flip=horizontal_flip,\n",
    "                                 zoom_range=zoom_range)\n",
    "    # fit parameters from data\n",
    "    datagen.fit(X)\n",
    "    # configure batch size and retrieve one batch of images\n",
    "    first_batch = True\n",
    "    for X_batch, Y_batch in datagen.flow(X, Y, batch_size=Y.size):\n",
    "        if first_batch:\n",
    "            X_augmented = X_batch\n",
    "            Y_augmented = Y_batch\n",
    "            first_batch = False\n",
    "        else:\n",
    "            X_augmented = np.concatenate((X_augmented, X_batch), axis=0)\n",
    "            Y_augmented = np.concatenate((Y_augmented, Y_batch), axis=0)\n",
    "        if Y_augmented.size >= cardinal:\n",
    "            break\n",
    "    X_augmented = X_augmented[:cardinal, :, :, :]\n",
    "    Y_augmented = Y_augmented[:cardinal]\n",
    "    return X_augmented, Y_augmented\n",
    "\n",
    "def augment_data(X, Y, cardinal, rotation_range, shift, horizontal_flip, zoom_range, blur_range):\n",
    "    '''\n",
    "    Augments data contained in X, Y by applying rotations, horizontal & vertical shifts, and horizontal flips\n",
    "    Ensures the final output contains as many negative examples as positive examples\n",
    "    '''\n",
    "    # separate positive from negative training examples\n",
    "    X_0, Y_0 = X[Y == 0], Y[Y == 0]\n",
    "    X_1, Y_1 = X[Y == 1], Y[Y == 1]\n",
    "    \n",
    "    # augment negative and positive training examples separately\n",
    "    # we want our augmented dataset to be of size cardinal\n",
    "    # so we create one positive augmented subset of size cardinal/2 and one negative augmented subset of size cardinal/2\n",
    "    subset_cardinal = int(cardinal/2)\n",
    "    X_augmented_0, Y_augmented_0 = augment_data_helper(X_0, Y_0, subset_cardinal, rotation_range, shift, horizontal_flip, zoom_range, blur_range)\n",
    "    X_augmented_1, Y_augmented_1 = augment_data_helper(X_1, Y_1, subset_cardinal, rotation_range, shift, horizontal_flip, zoom_range, blur_range)\n",
    "    \n",
    "    X_augmented, Y_augmented = concatenate_and_shuffle_randomly(X_augmented_0, Y_augmented_0, X_augmented_1, Y_augmented_1)\n",
    "    \n",
    "    return X_augmented, Y_augmented\n",
    "\n",
    "train_X, train_Y = augment_data(train_X, train_Y, cardinal=100000, rotation_range=10, shift=0.1, horizontal_flip=True, zoom_range=0.2, blur_range=0.15)\n",
    "plot_data_summary(train_Y)"
   ]
  },
  {
   "cell_type": "markdown",
   "metadata": {},
   "source": [
    "> _At this time our training, test and validation sets are properly defined. Moreover, our training set is perfectly balanced with 50,000 negative and 50,000 positive examples, which add up to a total of 100,000 training examples. Let us generate some visualizations to illustrate the above mentioned data augmentation. One can see how our new training images are slightly tilted and not perfectly centered_"
   ]
  },
  {
   "cell_type": "code",
   "execution_count": 14,
   "metadata": {},
   "outputs": [
    {
     "data": {
      "image/png": "[encoded data removed]",
      "text/plain": [
       "<Figure size 432x288 with 9 Axes>"
      ]
     },
     "metadata": {},
     "output_type": "display_data"
    }
   ],
   "source": [
    "# Plot some training set examples to illustrate data augmentation (rotations, shifts, horizontal flips)\n",
    "def plot_some_examples(X, Y, pred=None):\n",
    "    '''\n",
    "    Plots 9 randomly selected examples\n",
    "    '''\n",
    "    randomize = np.arange(Y.size)\n",
    "    np.random.shuffle(randomize)\n",
    "    for i in range(9):\n",
    "        plt.subplot(330 + 1 + i)\n",
    "        plt.imshow(X[randomize[i]].reshape(X.shape[1], X.shape[2]), cmap=plt.get_cmap('gray'))\n",
    "        plt.xticks([]), plt.yticks([])\n",
    "        plt.title('Pneumonia' if Y[randomize[i]] else 'Healthy lungs')\n",
    "        if pred is not None:\n",
    "            plt.xlabel('Actual: ' + str(Y[randomize[i]]))\n",
    "            plt.title('Prediction: ' + str(pred[randomize[i]]))\n",
    "    plt.subplots_adjust(hspace = 1), plt.show()\n",
    "    \n",
    "plot_some_examples(train_X, train_Y)"
   ]
  },
  {
   "cell_type": "markdown",
   "metadata": {},
   "source": [
    "> _Let us also balance out our validation set, so as to make validation accuracy more meaningful:_"
   ]
  },
  {
   "cell_type": "code",
   "execution_count": 15,
   "metadata": {},
   "outputs": [],
   "source": [
    "def balance_data(X, Y):\n",
    "    '''\n",
    "    Balances out labels from set by removing some of the dominant label examples\n",
    "    '''\n",
    "    X, Y = shuffle_randomly(X, Y)\n",
    "    # separate positive from negative examples\n",
    "    X_0, Y_0 = X[Y == 0], Y[Y == 0]\n",
    "    X_1, Y_1 = X[Y == 1], Y[Y == 1]\n",
    "    min_size = min(Y_0.size, Y_1.size)\n",
    "    # subset positive and negative examples so that we end up with the same amount of each\n",
    "    X_0, Y_0 = X_0[:min_size, :, :, :], Y_0[:min_size]\n",
    "    X_1, Y_1 = X_1[:min_size, :, :, :], Y_1[:min_size]\n",
    "    # concatenate and shuffle randomly\n",
    "    X, Y = concatenate_and_shuffle_randomly(X_0, Y_0, X_1, Y_1)\n",
    "    return X, Y\n",
    "\n",
    "valid_X, valid_Y = balance_data(valid_X, valid_Y)"
   ]
  },
  {
   "cell_type": "markdown",
   "metadata": {},
   "source": [
    "### Define Model Architecture"
   ]
  },
  {
   "cell_type": "markdown",
   "metadata": {},
   "source": [
    "The next step is to define our machine learning model. Unsurprisingly, we will use a Convolutional Neural Network (CNN). In fact: in the past few years, CNNs have proven extremely effective at computer vision tasks, including (but not limited to) object recognition and object detection.\n",
    "\n",
    "Using `keras.models` and `keras.layers` we will sequentially define our neural network structure:\n",
    "* 3 convolutional layers\n",
    "* 2 fully connected layers\n",
    "\n",
    "In each convolutional layer we use a leaky ReLU activation, perform max pooling and apply dropout for regularization. While we use a leaky ReLU activation (along with dropout) in the first of the two fully connected layers, we use a sigmoid function in the last layer. Our final goal of binary classification motivates this choice."
   ]
  },
  {
   "cell_type": "code",
   "execution_count": 16,
   "metadata": {},
   "outputs": [
    {
     "name": "stdout",
     "output_type": "stream",
     "text": [
      "WARNING:tensorflow:From /home/ec2-user/anaconda3/envs/tensorflow_p36/lib/python3.6/site-packages/keras/backend/tensorflow_backend.py:74: The name tf.get_default_graph is deprecated. Please use tf.compat.v1.get_default_graph instead.\n",
      "\n",
      "WARNING:tensorflow:From /home/ec2-user/anaconda3/envs/tensorflow_p36/lib/python3.6/site-packages/keras/backend/tensorflow_backend.py:517: The name tf.placeholder is deprecated. Please use tf.compat.v1.placeholder instead.\n",
      "\n",
      "WARNING:tensorflow:From /home/ec2-user/anaconda3/envs/tensorflow_p36/lib/python3.6/site-packages/keras/backend/tensorflow_backend.py:4138: The name tf.random_uniform is deprecated. Please use tf.random.uniform instead.\n",
      "\n",
      "WARNING:tensorflow:From /home/ec2-user/anaconda3/envs/tensorflow_p36/lib/python3.6/site-packages/keras/backend/tensorflow_backend.py:3976: The name tf.nn.max_pool is deprecated. Please use tf.nn.max_pool2d instead.\n",
      "\n",
      "WARNING:tensorflow:From /home/ec2-user/anaconda3/envs/tensorflow_p36/lib/python3.6/site-packages/keras/backend/tensorflow_backend.py:133: The name tf.placeholder_with_default is deprecated. Please use tf.compat.v1.placeholder_with_default instead.\n",
      "\n",
      "WARNING:tensorflow:From /home/ec2-user/anaconda3/envs/tensorflow_p36/lib/python3.6/site-packages/keras/backend/tensorflow_backend.py:3445: calling dropout (from tensorflow.python.ops.nn_ops) with keep_prob is deprecated and will be removed in a future version.\n",
      "Instructions for updating:\n",
      "Please use `rate` instead of `keep_prob`. Rate should be set to `rate = 1 - keep_prob`.\n",
      "WARNING:tensorflow:From /home/ec2-user/anaconda3/envs/tensorflow_p36/lib/python3.6/site-packages/keras/optimizers.py:790: The name tf.train.Optimizer is deprecated. Please use tf.compat.v1.train.Optimizer instead.\n",
      "\n",
      "WARNING:tensorflow:From /home/ec2-user/anaconda3/envs/tensorflow_p36/lib/python3.6/site-packages/keras/backend/tensorflow_backend.py:3376: The name tf.log is deprecated. Please use tf.math.log instead.\n",
      "\n",
      "WARNING:tensorflow:From /home/ec2-user/anaconda3/envs/tensorflow_p36/lib/python3.6/site-packages/tensorflow_core/python/ops/nn_impl.py:183: where (from tensorflow.python.ops.array_ops) is deprecated and will be removed in a future version.\n",
      "Instructions for updating:\n",
      "Use tf.where in 2.0, which has the same broadcast rule as np.where\n"
     ]
    }
   ],
   "source": [
    "# Convolutional Neural Network\n",
    "import keras\n",
    "from keras.models import Sequential, Input, Model, load_model\n",
    "from keras.layers import Dense, Dropout, Flatten, Conv2D, MaxPooling2D\n",
    "from keras.layers.advanced_activations import LeakyReLU\n",
    "\n",
    "# Initialize CNN\n",
    "nn_model = Sequential()\n",
    "# Convolution layer 1\n",
    "nn_model.add(Conv2D(16, kernel_size=(3, 3), activation='linear', input_shape=(size, size, 1), padding='same'))\n",
    "nn_model.add((LeakyReLU(alpha=0.1)))\n",
    "nn_model.add(MaxPooling2D(pool_size=(2, 2), padding='same'))\n",
    "nn_model.add(Dropout(0.4))\n",
    "# Convolution layer 2\n",
    "nn_model.add(Conv2D(32, kernel_size=(3, 3), activation='linear', padding='same'))\n",
    "nn_model.add((LeakyReLU(alpha=0.1)))\n",
    "nn_model.add(MaxPooling2D(pool_size=(2, 2), padding='same'))\n",
    "nn_model.add(Dropout(0.4))\n",
    "# Convolution layer 3\n",
    "nn_model.add(Conv2D(64, kernel_size=(3, 3), activation='linear', padding='same'))\n",
    "nn_model.add((LeakyReLU(alpha=0.1)))\n",
    "nn_model.add(MaxPooling2D(pool_size=(2, 2), padding='same'))\n",
    "nn_model.add(Dropout(0.4))\n",
    "# Flat part\n",
    "nn_model.add(Flatten())\n",
    "nn_model.add(Dense(64, activation='linear'))\n",
    "nn_model.add(LeakyReLU(alpha=0.1))\n",
    "nn_model.add(Dropout(0.4))\n",
    "nn_model.add(Dense(1, activation='sigmoid'))\n",
    "\n",
    "# Compile CNN\n",
    "nn_model.compile(loss=keras.losses.binary_crossentropy, optimizer=keras.optimizers.Adam(), metrics=['accuracy'])"
   ]
  },
  {
   "cell_type": "markdown",
   "metadata": {},
   "source": [
    "### Model Training"
   ]
  },
  {
   "cell_type": "markdown",
   "metadata": {},
   "source": [
    "> _We can now train our convolutional neural network. We choose to train 3 epochs with a batch size of 64.\n",
    "Not too large a batch size allows our network to make progress right away rather than having to wait for an entire pass over the training set. Conversely, not too small a batch size allows us to take advantage of parallelization_"
   ]
  },
  {
   "cell_type": "code",
   "execution_count": 17,
   "metadata": {},
   "outputs": [
    {
     "name": "stdout",
     "output_type": "stream",
     "text": [
      "Train on 100000 samples, validate on 244 samples\n",
      "Epoch 1/15\n",
      "100000/100000 [==============================] - 75s 753us/step - loss: 0.1588 - acc: 0.9381 - val_loss: 0.7958 - val_acc: 0.8074\n",
      "Epoch 2/15\n",
      "100000/100000 [==============================] - 75s 751us/step - loss: 0.1592 - acc: 0.9402 - val_loss: 0.6766 - val_acc: 0.8320\n",
      "Epoch 3/15\n",
      "100000/100000 [==============================] - 75s 752us/step - loss: 0.1565 - acc: 0.9397 - val_loss: 0.8101 - val_acc: 0.8115\n",
      "Epoch 4/15\n",
      "100000/100000 [==============================] - 75s 753us/step - loss: 0.1549 - acc: 0.9403 - val_loss: 1.0365 - val_acc: 0.8033\n",
      "Epoch 5/15\n",
      "100000/100000 [==============================] - 75s 751us/step - loss: 0.1549 - acc: 0.9403 - val_loss: 1.0105 - val_acc: 0.8074\n",
      "Epoch 6/15\n",
      "100000/100000 [==============================] - 75s 755us/step - loss: 0.1517 - acc: 0.9424 - val_loss: 0.6290 - val_acc: 0.8320\n",
      "Epoch 7/15\n",
      "100000/100000 [==============================] - 81s 806us/step - loss: 0.1523 - acc: 0.9423 - val_loss: 1.0192 - val_acc: 0.8033\n",
      "Epoch 8/15\n",
      "100000/100000 [==============================] - 75s 753us/step - loss: 0.1511 - acc: 0.9418 - val_loss: 1.2786 - val_acc: 0.7131\n",
      "Epoch 9/15\n",
      "100000/100000 [==============================] - 75s 751us/step - loss: 0.1490 - acc: 0.9430 - val_loss: 0.9263 - val_acc: 0.8156\n",
      "Epoch 10/15\n",
      "100000/100000 [==============================] - 75s 751us/step - loss: 0.1481 - acc: 0.9428 - val_loss: 0.9232 - val_acc: 0.7910\n",
      "Epoch 11/15\n",
      "100000/100000 [==============================] - 75s 753us/step - loss: 0.1482 - acc: 0.9432 - val_loss: 0.8284 - val_acc: 0.8074\n",
      "Epoch 12/15\n",
      "100000/100000 [==============================] - 75s 751us/step - loss: 0.1470 - acc: 0.9441 - val_loss: 0.7999 - val_acc: 0.8074\n",
      "Epoch 13/15\n",
      "100000/100000 [==============================] - 75s 754us/step - loss: 0.1479 - acc: 0.9433 - val_loss: 1.0882 - val_acc: 0.7664\n",
      "Epoch 14/15\n",
      "100000/100000 [==============================] - 75s 751us/step - loss: 0.1451 - acc: 0.9448 - val_loss: 0.6132 - val_acc: 0.8361\n",
      "Epoch 15/15\n",
      "100000/100000 [==============================] - 75s 753us/step - loss: 0.1461 - acc: 0.9439 - val_loss: 0.8780 - val_acc: 0.8156\n"
     ]
    }
   ],
   "source": [
    "# Train CNN\n",
    "nn_train = nn_model.fit(train_X, train_Y, batch_size=20, epochs=15, verbose=1, validation_data=(valid_X, valid_Y)) "
   ]
  },
  {
   "cell_type": "code",
   "execution_count": 18,
   "metadata": {},
   "outputs": [],
   "source": [
    "nn_model.save('Pneumonia_final_model.h5')"
   ]
  },
  {
   "cell_type": "markdown",
   "metadata": {},
   "source": [
    "### Model Evaluation"
   ]
  },
  {
   "cell_type": "markdown",
   "metadata": {},
   "source": [
    "> _Now that the model is trained it is time to see how good it does on the test set:_"
   ]
  },
  {
   "cell_type": "code",
   "execution_count": 19,
   "metadata": {},
   "outputs": [
    {
     "data": {
      "image/png": "[encoded data removed]",
      "text/plain": [
       "<Figure size 432x288 with 1 Axes>"
      ]
     },
     "metadata": {},
     "output_type": "display_data"
    },
    {
     "data": {
      "image/png": "[encoded data removed]",
      "text/plain": [
       "<Figure size 432x288 with 9 Axes>"
      ]
     },
     "metadata": {},
     "output_type": "display_data"
    },
    {
     "name": "stdout",
     "output_type": "stream",
     "text": [
      "              precision    recall  f1-score   support\n",
      "\n",
      "           0       0.97      0.54      0.70       112\n",
      "           1       0.80      0.99      0.88       200\n",
      "\n",
      "    accuracy                           0.83       312\n",
      "   macro avg       0.88      0.77      0.79       312\n",
      "weighted avg       0.86      0.83      0.82       312\n",
      "\n"
     ]
    },
    {
     "data": {
      "image/png": "[encoded data removed]",
      "text/plain": [
       "<Figure size 432x288 with 2 Axes>"
      ]
     },
     "metadata": {},
     "output_type": "display_data"
    }
   ],
   "source": [
    "# Plot learning curves and compute accuracy on the test set\n",
    "def plot_learning_curves(nn_train, test_X, test_Y):\n",
    "    accuracy = nn_train.history['acc']\n",
    "    val_accuracy = nn_train.history['val_acc']\n",
    "    test_accuracy = nn_model.evaluate(test_X, test_Y, verbose=0)[1]\n",
    "    epochs = range(len(accuracy))\n",
    "\n",
    "    plt.plot(epochs, accuracy, color='blue', label='Training accuracy')\n",
    "    plt.plot(epochs, val_accuracy, color='red', label='Validation accuracy')\n",
    "    plt.title('Learning curves - Test set accuracy = ' + str(round(test_accuracy, 3)))\n",
    "    plt.xlabel('Epoch number')\n",
    "    plt.ylabel('Accuracy')\n",
    "    plt.legend()\n",
    "    plt.show()\n",
    "\n",
    "plot_learning_curves(nn_train, test_X, test_Y)\n",
    "\n",
    "# Plot some test set examples\n",
    "test_X_for_plot, test_Y_for_plot = balance_data(test_X, test_Y)\n",
    "test_predictions_for_plot = nn_model.predict_classes(test_X_for_plot)\n",
    "plot_some_examples(test_X_for_plot, test_Y_for_plot, test_predictions_for_plot)\n",
    "\n",
    "from sklearn.metrics import classification_report, confusion_matrix\n",
    "import seaborn as sns\n",
    "\n",
    "# Confusion matrix\n",
    "test_predictions = nn_model.predict_classes(test_X)\n",
    "report = classification_report(test_Y, test_predictions)\n",
    "confusion = confusion_matrix(test_Y, test_predictions)\n",
    "\n",
    "# Plot confusion matrix\n",
    "def plot_confusion_matrix(confusion):\n",
    "    '''\n",
    "    Plot confusion matrix\n",
    "    '''\n",
    "    ax= plt.subplot()\n",
    "    sns.heatmap(confusion, annot=True, ax=ax, fmt='g'); #annot=True to annotate cells\n",
    "    ax.set_xlabel('Prediction');ax.set_ylabel('Reality'); \n",
    "    ax.set_title('Confusion matrix'); \n",
    "    ax.xaxis.set_ticklabels(['Normal lungs', 'Pneumonia']); ax.yaxis.set_ticklabels(['Normal lungs', 'Pneumonia'])\n",
    "    \n",
    "plot_confusion_matrix(confusion)\n",
    "print(report)"
   ]
  },
  {
   "cell_type": "markdown",
   "metadata": {},
   "source": [
    "### Conclusion"
   ]
  },
  {
   "cell_type": "markdown",
   "metadata": {},
   "source": [
    "> **We achieve a ~90% accuracy on the test set, a ~95% recall and a ~85% precision. This is a quite good accuracy considering that the neural network training lasted ~20 minutes and that the network was trained from scratch, i.e. no transfer learning.**"
   ]
  },
  {
   "cell_type": "markdown",
   "metadata": {},
   "source": [
    "## END"
   ]
  }
 ],
 "metadata": {
  "kernelspec": {
   "display_name": "conda_tensorflow_p36",
   "language": "python",
   "name": "conda_tensorflow_p36"
  },
  "language_info": {
   "codemirror_mode": {
    "name": "ipython",
    "version": 3
   },
   "file_extension": ".py",
   "mimetype": "text/x-python",
   "name": "python",
   "nbconvert_exporter": "python",
   "pygments_lexer": "ipython3",
   "version": "3.6.5"
  }
 },
 "nbformat": 4,
 "nbformat_minor": 1
}
