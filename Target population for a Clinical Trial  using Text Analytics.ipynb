{
 "cells": [
  {
   "cell_type": "code",
   "execution_count": 87,
   "metadata": {
    "collapsed": true
   },
   "outputs": [],
   "source": [
    "import requests\n",
    "import pandas as pd\n",
    "import json\n",
    "import random   \n",
    "import numpy as np\n",
    "import matplotlib.pyplot as plt\n",
    "import seaborn as sns\n",
    "import nltk\n",
    "import re, math\n",
    "from nltk.stem import WordNetLemmatizer\n",
    "from collections import Counter\n",
    "from nltk.tag import pos_tag\n",
    "from nltk.corpus import stopwords\n",
    "from pandas.io.json import json_normalize\n",
    "from nltk.stem.snowball import SnowballStemmer"
   ]
  },
  {
   "cell_type": "code",
   "execution_count": 340,
   "metadata": {},
   "outputs": [],
   "source": [
    "url1 = \"http://ec2-54-88-151-77.compute-1.amazonaws.com:3003/v1/brief-summaries?limit=100&offset=0\"\n",
    "conn1 = requests.get(url1).json()\n",
    "file1 = conn1['briefSummaries']\n",
    "summary =  pd.DataFrame.from_dict(file1, orient='columns')"
   ]
  },
  {
   "cell_type": "code",
   "execution_count": 353,
   "metadata": {
    "collapsed": true
   },
   "outputs": [],
   "source": [
    "url1 = \"http://ec2-54-88-151-77.compute-1.amazonaws.com:3001/v1/diagnoses?limit=20000&offset=0\"\n",
    "conn1 = requests.get(url1).json()\n",
    "file1 = conn1['diagnoses']\n",
    "subjects =  pd.DataFrame.from_dict(file1, orient='columns')"
   ]
  },
  {
   "cell_type": "code",
   "execution_count": 339,
   "metadata": {
    "collapsed": true
   },
   "outputs": [],
   "source": [
    "url1 = \"http://ec2-54-88-151-77.compute-1.amazonaws.com:3001/v1/d-icd-diagnoses?limit=10000&offset=0\"\n",
    "conn1 = requests.get(url1).json()\n",
    "file1 = conn1['dIcdDiagnoses']\n",
    "icd =  pd.DataFrame.from_dict(file1, orient='columns')"
   ]
  },
  {
   "cell_type": "code",
   "execution_count": 341,
   "metadata": {
    "collapsed": true
   },
   "outputs": [],
   "source": [
    "icd = icd.dropna()\n",
    "summary = summary.dropna()"
   ]
  },
  {
   "cell_type": "code",
   "execution_count": 342,
   "metadata": {},
   "outputs": [],
   "source": [
    "#Defining objects\n",
    "stop = stopwords.words('english')\n",
    "lemmatizer = WordNetLemmatizer()"
   ]
  },
  {
   "cell_type": "code",
   "execution_count": 343,
   "metadata": {},
   "outputs": [],
   "source": [
    "#cosine functionality\n",
    "WORD = re.compile(r'\\w+')\n",
    "\n",
    "def get_cosine(vec1, vec2):\n",
    "     intersection = set(vec1.keys()) & set(vec2.keys())\n",
    "     numerator = sum([vec1[x] * vec2[x] for x in intersection])\n",
    "\n",
    "     sum1 = sum([vec1[x]**2 for x in vec1.keys()])\n",
    "     sum2 = sum([vec2[x]**2 for x in vec2.keys()])\n",
    "     denominator = math.sqrt(sum1) * math.sqrt(sum2)\n",
    "\n",
    "     if not denominator:\n",
    "        return 0.0\n",
    "     else:\n",
    "        return float(numerator) / denominator\n",
    "\n",
    "def text_to_vector(text):\n",
    "     words = WORD.findall(text)\n",
    "     return Counter(words)"
   ]
  },
  {
   "cell_type": "code",
   "execution_count": 344,
   "metadata": {},
   "outputs": [],
   "source": [
    "def transform(text):\n",
    "    r_unwanted = re.compile(\"[\\n\\t\\r]\")\n",
    "    rx = re.compile(r'\\ban\\b|\\bAn\\b|\\bA\\b|\\bthe\\b|\\bThe\\b|\\band\\b|\\ba\\b')\n",
    "    rxP = re.compile(r'\\bpatient\\b')\n",
    "\n",
    "    text = text.split()\n",
    "    for word in text:\n",
    "        if word in stop:\n",
    "            text.remove(word)\n",
    "    \n",
    "    text_lem = []\n",
    "        \n",
    "    for word in text:\n",
    "        temp = lemmatizer.lemmatize(word)\n",
    "        text_lem.append(temp)\n",
    "    \n",
    "    text_new = ' '.join(text_lem)\n",
    "    \n",
    "    text_new = r_unwanted.sub(\"\",text_new) # remove \\n\n",
    "    text_new = re.sub(r'[^\\w\\s]',' ',text_new) #remove punctuation\n",
    "    text_new = rx.sub('',text_new) # remove articles\n",
    "    text_new = rxP.sub('',text_new) #remove patient\n",
    "    \n",
    "    vec = text_to_vector(text_new.lower())\n",
    "    #return text_new    \n",
    "    return vec    "
   ]
  },
  {
   "cell_type": "code",
   "execution_count": 326,
   "metadata": {},
   "outputs": [],
   "source": [
    "#summary = summary.drop(['vec'],axis =1)\n",
    "#icd = icd.drop(['vector','cosine_9'],axis =1)"
   ]
  },
  {
   "cell_type": "code",
   "execution_count": 345,
   "metadata": {},
   "outputs": [],
   "source": [
    "summary['vec'] = summary.apply(lambda x: transform(x['description']), axis=1)\n",
    "icd['vector'] = icd.apply(lambda x: transform(x['long_title']), axis=1)"
   ]
  },
  {
   "cell_type": "markdown",
   "metadata": {},
   "source": [
    "### Study selected for match"
   ]
  },
  {
   "cell_type": "code",
   "execution_count": 349,
   "metadata": {},
   "outputs": [
    {
     "data": {
      "text/plain": [
       "\"\\n      Efficacy Study of Gene Therapy for The Treatment of Acute Leber's Hereditary Optic Neuropathy\\n      (LHON) onset within three months\\n    \""
      ]
     },
     "execution_count": 349,
     "metadata": {},
     "output_type": "execute_result"
    }
   ],
   "source": [
    "summary.description.loc[5]"
   ]
  },
  {
   "cell_type": "code",
   "execution_count": 350,
   "metadata": {},
   "outputs": [],
   "source": [
    "#Picking index-9 from summary as a prototype\n",
    "icd['cosine_5'] = icd.apply(lambda x: get_cosine(x['vector'],summary.vec.loc[5]), axis=1)\n"
   ]
  },
  {
   "cell_type": "code",
   "execution_count": 366,
   "metadata": {},
   "outputs": [
    {
     "data": {
      "text/html": [
       "<div>\n",
       "<style>\n",
       "    .dataframe thead tr:only-child th {\n",
       "        text-align: right;\n",
       "    }\n",
       "\n",
       "    .dataframe thead th {\n",
       "        text-align: left;\n",
       "    }\n",
       "\n",
       "    .dataframe tbody tr th {\n",
       "        vertical-align: top;\n",
       "    }\n",
       "</style>\n",
       "<table border=\"1\" class=\"dataframe\">\n",
       "  <thead>\n",
       "    <tr style=\"text-align: right;\">\n",
       "      <th></th>\n",
       "      <th>icd9_code</th>\n",
       "      <th>long_title</th>\n",
       "      <th>row_id</th>\n",
       "      <th>short_title</th>\n",
       "      <th>vector</th>\n",
       "      <th>cosine_9</th>\n",
       "      <th>cosine_5</th>\n",
       "    </tr>\n",
       "  </thead>\n",
       "  <tbody>\n",
       "    <tr>\n",
       "      <th>4125</th>\n",
       "      <td>3560</td>\n",
       "      <td>Hereditary peripheral neuropathy</td>\n",
       "      <td>3820</td>\n",
       "      <td>Hered periph neuropathy</td>\n",
       "      <td>{'hereditary': 1, 'peripheral': 1, 'neuropathy...</td>\n",
       "      <td>0.0</td>\n",
       "      <td>0.288675</td>\n",
       "    </tr>\n",
       "    <tr>\n",
       "      <th>4127</th>\n",
       "      <td>3562</td>\n",
       "      <td>Hereditary sensory neuropathy</td>\n",
       "      <td>3822</td>\n",
       "      <td>Hered sensory neuropathy</td>\n",
       "      <td>{'hereditary': 1, 'sensory': 1, 'neuropathy': 1}</td>\n",
       "      <td>0.0</td>\n",
       "      <td>0.288675</td>\n",
       "    </tr>\n",
       "    <tr>\n",
       "      <th>4814</th>\n",
       "      <td>37716</td>\n",
       "      <td>Hereditary optic atrophy</td>\n",
       "      <td>4811</td>\n",
       "      <td>Hereditary optic atrophy</td>\n",
       "      <td>{'hereditary': 1, 'optic': 1, 'atrophy': 1}</td>\n",
       "      <td>0.0</td>\n",
       "      <td>0.288675</td>\n",
       "    </tr>\n",
       "    <tr>\n",
       "      <th>4822</th>\n",
       "      <td>37733</td>\n",
       "      <td>Nutritional optic neuropathy</td>\n",
       "      <td>4819</td>\n",
       "      <td>Nutrition optc neuropthy</td>\n",
       "      <td>{'nutritional': 1, 'optic': 1, 'neuropathy': 1}</td>\n",
       "      <td>0.0</td>\n",
       "      <td>0.288675</td>\n",
       "    </tr>\n",
       "    <tr>\n",
       "      <th>4823</th>\n",
       "      <td>37734</td>\n",
       "      <td>Toxic optic neuropathy</td>\n",
       "      <td>4820</td>\n",
       "      <td>Toxic optic neuropathy</td>\n",
       "      <td>{'toxic': 1, 'optic': 1, 'neuropathy': 1}</td>\n",
       "      <td>0.0</td>\n",
       "      <td>0.288675</td>\n",
       "    </tr>\n",
       "    <tr>\n",
       "      <th>4825</th>\n",
       "      <td>37741</td>\n",
       "      <td>Ischemic optic neuropathy</td>\n",
       "      <td>4822</td>\n",
       "      <td>Ischemic optic neuropthy</td>\n",
       "      <td>{'ischemic': 1, 'optic': 1, 'neuropathy': 1}</td>\n",
       "      <td>0.0</td>\n",
       "      <td>0.288675</td>\n",
       "    </tr>\n",
       "  </tbody>\n",
       "</table>\n",
       "</div>"
      ],
      "text/plain": [
       "     icd9_code                        long_title  row_id  \\\n",
       "4125      3560  Hereditary peripheral neuropathy    3820   \n",
       "4127      3562     Hereditary sensory neuropathy    3822   \n",
       "4814     37716          Hereditary optic atrophy    4811   \n",
       "4822     37733      Nutritional optic neuropathy    4819   \n",
       "4823     37734            Toxic optic neuropathy    4820   \n",
       "4825     37741         Ischemic optic neuropathy    4822   \n",
       "\n",
       "                   short_title  \\\n",
       "4125   Hered periph neuropathy   \n",
       "4127  Hered sensory neuropathy   \n",
       "4814  Hereditary optic atrophy   \n",
       "4822  Nutrition optc neuropthy   \n",
       "4823    Toxic optic neuropathy   \n",
       "4825  Ischemic optic neuropthy   \n",
       "\n",
       "                                                 vector  cosine_9  cosine_5  \n",
       "4125  {'hereditary': 1, 'peripheral': 1, 'neuropathy...       0.0  0.288675  \n",
       "4127   {'hereditary': 1, 'sensory': 1, 'neuropathy': 1}       0.0  0.288675  \n",
       "4814        {'hereditary': 1, 'optic': 1, 'atrophy': 1}       0.0  0.288675  \n",
       "4822    {'nutritional': 1, 'optic': 1, 'neuropathy': 1}       0.0  0.288675  \n",
       "4823          {'toxic': 1, 'optic': 1, 'neuropathy': 1}       0.0  0.288675  \n",
       "4825       {'ischemic': 1, 'optic': 1, 'neuropathy': 1}       0.0  0.288675  "
      ]
     },
     "execution_count": 366,
     "metadata": {},
     "output_type": "execute_result"
    }
   ],
   "source": [
    "selected = icd[icd.cosine_5 == icd.cosine_5.max()]\n",
    "selected"
   ]
  },
  {
   "cell_type": "code",
   "execution_count": 365,
   "metadata": {
    "collapsed": true
   },
   "outputs": [],
   "source": [
    "#extracting common matches\n",
    "df = pd.merge(selected,subjects, on=['icd9_code'], how = 'inner')"
   ]
  },
  {
   "cell_type": "markdown",
   "metadata": {},
   "source": [
    "## Subjects Suitable for the selected Study"
   ]
  },
  {
   "cell_type": "code",
   "execution_count": 361,
   "metadata": {},
   "outputs": [
    {
     "data": {
      "text/plain": [
       "0    690\n",
       "Name: subject_id, dtype: int64"
      ]
     },
     "execution_count": 361,
     "metadata": {},
     "output_type": "execute_result"
    }
   ],
   "source": [
    "df.subject_id"
   ]
  }
 ],
 "metadata": {
  "kernelspec": {
   "display_name": "Python 3",
   "language": "python",
   "name": "python3"
  },
  "language_info": {
   "codemirror_mode": {
    "name": "ipython",
    "version": 3
   },
   "file_extension": ".py",
   "mimetype": "text/x-python",
   "name": "python",
   "nbconvert_exporter": "python",
   "pygments_lexer": "ipython3",
   "version": "3.6.1"
  }
 },
 "nbformat": 4,
 "nbformat_minor": 2
}
