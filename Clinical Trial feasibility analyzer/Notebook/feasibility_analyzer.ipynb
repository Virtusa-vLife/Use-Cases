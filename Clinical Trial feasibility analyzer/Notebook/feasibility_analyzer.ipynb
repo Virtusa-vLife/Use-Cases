{
 "cells": [
  {
   "cell_type": "markdown",
   "metadata": {},
   "source": [
    "# vLife Virtusa"
   ]
  },
  {
   "cell_type": "markdown",
   "metadata": {},
   "source": [
    "## Clinical Trial Feasibility Analyzer Usecase\n",
    "### Usecase Description\n",
    "<b> Clinical trial is the foundation pillar of the  drug discovery process. Roughly 1 in 10 of drugs tested in human subjects receive FDA approval. Given the title and summary of the clinical trial, this tool will predict if the clinical trial will be approved or not. This tool can be used in the nascent stage of the clinical trial process which can help the researchers take a better decision. This tool is trained on around 1200 approved/rejected clinical trials. Model used : Deep Neural Network </b>"
   ]
  },
  {
   "cell_type": "markdown",
   "metadata": {},
   "source": [
    "### Data Source\n",
    "Data for this usecase can be found [here](https://www.kaggle.com/c/clinical-trials/data)\n",
    "### Dataset Description\n",
    "<b> File description\n",
    " - train-clinical_trial.csv - the training set\n",
    " - test-clinical_trial.csv - the test set\n",
    " - sample_submission-clinical_trial.csv - a sample submission file in the correct format </b> \n"
   ]
  },
  {
   "cell_type": "markdown",
   "metadata": {},
   "source": [
    "### Package Import"
   ]
  },
  {
   "cell_type": "code",
   "execution_count": 1,
   "metadata": {},
   "outputs": [],
   "source": [
    "import csv\n",
    "import pickle\n",
    "import pandas as pd\n",
    "import numpy as np\n",
    "import string\n",
    "import re\n",
    "\n",
    "from sklearn.feature_extraction.text import TfidfVectorizer\n",
    "from sklearn.model_selection import train_test_split\n",
    "from sklearn.linear_model import LogisticRegression\n",
    "from sklearn.metrics import f1_score\n",
    "from sklearn.externals import joblib\n",
    "from sklearn.metrics import confusion_matrix \n",
    "from sklearn.metrics import accuracy_score \n",
    "from sklearn.metrics import classification_report\n",
    "from sklearn.preprocessing import LabelEncoder\n",
    "\n",
    "from DShap import DShap\n",
    "from shap_utils import *\n",
    "from Shapley import *\n",
    "%matplotlib inline\n",
    "MEM_DIR = './'\n",
    "\n",
    "\n",
    "import nltk\n",
    "nltk.download('stopwords')\n",
    "nltk.download('punkt')\n",
    "from nltk.corpus import stopwords\n",
    "from nltk.tokenize import word_tokenize"
   ]
  },
  {
   "cell_type": "code",
   "execution_count": null,
   "metadata": {},
   "outputs": [],
   "source": [
    "df = pd.read_csv('train_clinical_perfect.csv')"
   ]
  },
  {
   "cell_type": "code",
   "execution_count": 2,
   "metadata": {},
   "outputs": [],
   "source": [
    "df['summary']=df['title']+df['abstract']"
   ]
  },
  {
   "cell_type": "code",
   "execution_count": 4,
   "metadata": {},
   "outputs": [
    {
     "data": {
      "text/html": [
       "<div>\n",
       "<style scoped>\n",
       "    .dataframe tbody tr th:only-of-type {\n",
       "        vertical-align: middle;\n",
       "    }\n",
       "\n",
       "    .dataframe tbody tr th {\n",
       "        vertical-align: top;\n",
       "    }\n",
       "\n",
       "    .dataframe thead th {\n",
       "        text-align: right;\n",
       "    }\n",
       "</style>\n",
       "<table border=\"1\" class=\"dataframe\">\n",
       "  <thead>\n",
       "    <tr style=\"text-align: right;\">\n",
       "      <th></th>\n",
       "      <th>title</th>\n",
       "      <th>abstract</th>\n",
       "      <th>trial</th>\n",
       "      <th>summary</th>\n",
       "    </tr>\n",
       "  </thead>\n",
       "  <tbody>\n",
       "    <tr>\n",
       "      <th>0</th>\n",
       "      <td>\"Adjuvant chemotherapy followed by goserelin c...</td>\n",
       "      <td>\"PURPOSE: The purpose of this article is to co...</td>\n",
       "      <td>0</td>\n",
       "      <td>\"Adjuvant chemotherapy followed by goserelin c...</td>\n",
       "    </tr>\n",
       "    <tr>\n",
       "      <th>1</th>\n",
       "      <td>\"Relaxation and guided imagery program in pati...</td>\n",
       "      <td>\"OBJECTIVE: Treatment of breast cancer is usua...</td>\n",
       "      <td>0</td>\n",
       "      <td>\"Relaxation and guided imagery program in pati...</td>\n",
       "    </tr>\n",
       "    <tr>\n",
       "      <th>2</th>\n",
       "      <td>\"Effect of age and radiation dose on local con...</td>\n",
       "      <td>\"PURPOSE: To determine whether the effect of a...</td>\n",
       "      <td>0</td>\n",
       "      <td>\"Effect of age and radiation dose on local con...</td>\n",
       "    </tr>\n",
       "    <tr>\n",
       "      <th>3</th>\n",
       "      <td>\"The effect of systemic adjuvant chemotherapy ...</td>\n",
       "      <td>\"A randomised trial has previously been repeat...</td>\n",
       "      <td>0</td>\n",
       "      <td>\"The effect of systemic adjuvant chemotherapy ...</td>\n",
       "    </tr>\n",
       "    <tr>\n",
       "      <th>4</th>\n",
       "      <td>\"Analysis of time to response to chemotherapy ...</td>\n",
       "      <td>\"Chemotherapy is a major tool for metastatic b...</td>\n",
       "      <td>0</td>\n",
       "      <td>\"Analysis of time to response to chemotherapy ...</td>\n",
       "    </tr>\n",
       "  </tbody>\n",
       "</table>\n",
       "</div>"
      ],
      "text/plain": [
       "                                               title  \\\n",
       "0  \"Adjuvant chemotherapy followed by goserelin c...   \n",
       "1  \"Relaxation and guided imagery program in pati...   \n",
       "2  \"Effect of age and radiation dose on local con...   \n",
       "3  \"The effect of systemic adjuvant chemotherapy ...   \n",
       "4  \"Analysis of time to response to chemotherapy ...   \n",
       "\n",
       "                                            abstract  trial  \\\n",
       "0  \"PURPOSE: The purpose of this article is to co...      0   \n",
       "1  \"OBJECTIVE: Treatment of breast cancer is usua...      0   \n",
       "2  \"PURPOSE: To determine whether the effect of a...      0   \n",
       "3  \"A randomised trial has previously been repeat...      0   \n",
       "4  \"Chemotherapy is a major tool for metastatic b...      0   \n",
       "\n",
       "                                             summary  \n",
       "0  \"Adjuvant chemotherapy followed by goserelin c...  \n",
       "1  \"Relaxation and guided imagery program in pati...  \n",
       "2  \"Effect of age and radiation dose on local con...  \n",
       "3  \"The effect of systemic adjuvant chemotherapy ...  \n",
       "4  \"Analysis of time to response to chemotherapy ...  "
      ]
     },
     "execution_count": 4,
     "metadata": {},
     "output_type": "execute_result"
    }
   ],
   "source": [
    "df.head()"
   ]
  },
  {
   "cell_type": "markdown",
   "metadata": {},
   "source": [
    "## Exploratory Data Analysis\n",
    "### Data Preprocessing\n",
    "> Cleaning Text data for feeding into Machine learning Model"
   ]
  },
  {
   "cell_type": "code",
   "execution_count": 5,
   "metadata": {},
   "outputs": [],
   "source": [
    "def clean_text(text):\n",
    "    df1=text.lower()\n",
    "    import re\n",
    "    result1=re.sub(r'\\d+','',df1)\n",
    "    import string\n",
    "    result2=result1.translate(str.maketrans('', '', string.punctuation))\n",
    "    result3=result2.strip()\n",
    "    import nltk\n",
    "    from nltk.corpus import stopwords\n",
    "    stop_words=set(stopwords.words('english'))\n",
    "    from nltk.tokenize import word_tokenize\n",
    "    tokens=word_tokenize(result3)\n",
    "    result4=[i for i in tokens if not i in stop_words]\n",
    "    result5=' '.join(result4)\n",
    "    import re\n",
    "    result6=re.sub(r'\\b\\w{1,3}\\b','',result5)\n",
    "    return result6"
   ]
  },
  {
   "cell_type": "code",
   "execution_count": 8,
   "metadata": {},
   "outputs": [],
   "source": [
    "df['clean_note'] = df['summary'].apply(lambda x: clean_text(x))"
   ]
  },
  {
   "cell_type": "code",
   "execution_count": 9,
   "metadata": {},
   "outputs": [],
   "source": [
    "tfidf_vectorizer = TfidfVectorizer(max_df=0.8, max_features=10000)"
   ]
  },
  {
   "cell_type": "code",
   "execution_count": 10,
   "metadata": {},
   "outputs": [],
   "source": [
    "xtrain, xval, ytrain, yval = train_test_split(df['clean_note'].head(10000), df['trial'], test_size=0.2, random_state=9)"
   ]
  },
  {
   "cell_type": "code",
   "execution_count": 11,
   "metadata": {},
   "outputs": [],
   "source": [
    "trainindex=xtrain.index"
   ]
  },
  {
   "cell_type": "code",
   "execution_count": 12,
   "metadata": {},
   "outputs": [
    {
     "name": "stderr",
     "output_type": "stream",
     "text": [
      "/home/ec2-user/anaconda3/envs/python3/lib/python3.6/site-packages/ipykernel/__main__.py:1: FutureWarning: The signature of `Series.to_csv` was aligned to that of `DataFrame.to_csv`, and argument 'header' will change its default value from False to True: please pass an explicit value to suppress this warning.\n",
      "  if __name__ == '__main__':\n"
     ]
    }
   ],
   "source": [
    "xtrain.to_csv('xtrain.csv')"
   ]
  },
  {
   "cell_type": "code",
   "execution_count": 13,
   "metadata": {},
   "outputs": [
    {
     "data": {
      "text/plain": [
       "pandas.core.series.Series"
      ]
     },
     "execution_count": 13,
     "metadata": {},
     "output_type": "execute_result"
    }
   ],
   "source": [
    "xtrain1=pd.read_csv('xtrain.csv')\n",
    "xtrain1=pd.Series(xtrain1.iloc[:,1])\n",
    "type(xtrain1)"
   ]
  },
  {
   "cell_type": "code",
   "execution_count": 14,
   "metadata": {},
   "outputs": [
    {
     "name": "stderr",
     "output_type": "stream",
     "text": [
      "/home/ec2-user/anaconda3/envs/python3/lib/python3.6/site-packages/sklearn/feature_extraction/text.py:1089: FutureWarning: Conversion of the second argument of issubdtype from `float` to `np.floating` is deprecated. In future, it will be treated as `np.float64 == np.dtype(float).type`.\n",
      "  if hasattr(X, 'dtype') and np.issubdtype(X.dtype, np.float):\n"
     ]
    }
   ],
   "source": [
    "xtrain_tfidf = tfidf_vectorizer.fit_transform(xtrain)\n",
    "xval_tfidf = tfidf_vectorizer.transform(xval)\n",
    "#xval_tfidf"
   ]
  },
  {
   "cell_type": "markdown",
   "metadata": {},
   "source": [
    "## Predictive Models\n",
    "> <b> Logistic Regression </b>"
   ]
  },
  {
   "cell_type": "code",
   "execution_count": 15,
   "metadata": {},
   "outputs": [],
   "source": [
    "lr = LogisticRegression()"
   ]
  },
  {
   "cell_type": "code",
   "execution_count": 16,
   "metadata": {},
   "outputs": [
    {
     "data": {
      "text/plain": [
       "LogisticRegression(C=1.0, class_weight=None, dual=False, fit_intercept=True,\n",
       "          intercept_scaling=1, max_iter=100, multi_class='ovr', n_jobs=1,\n",
       "          penalty='l2', random_state=None, solver='liblinear', tol=0.0001,\n",
       "          verbose=0, warm_start=False)"
      ]
     },
     "execution_count": 16,
     "metadata": {},
     "output_type": "execute_result"
    }
   ],
   "source": [
    "lr.fit(xtrain_tfidf, ytrain)"
   ]
  },
  {
   "cell_type": "code",
   "execution_count": 17,
   "metadata": {},
   "outputs": [
    {
     "name": "stderr",
     "output_type": "stream",
     "text": [
      "/home/ec2-user/anaconda3/envs/tensorflow_p36/lib/python3.6/site-packages/sklearn/externals/joblib/__init__.py:15: DeprecationWarning: sklearn.externals.joblib is deprecated in 0.21 and will be removed in 0.23. Please import this functionality directly from joblib, which can be installed with: pip install joblib. If this warning is raised when loading pickled models, you may need to re-serialize those models with scikit-learn 0.21+.\n",
      "  warnings.warn(msg, category=DeprecationWarning)\n"
     ]
    },
    {
     "data": {
      "text/plain": [
       "['lrmodel.pkl']"
      ]
     },
     "execution_count": 17,
     "metadata": {},
     "output_type": "execute_result"
    }
   ],
   "source": [
    "joblib.dump(lr, 'lrmodel.pkl')"
   ]
  },
  {
   "cell_type": "markdown",
   "metadata": {},
   "source": [
    "> <b> Saving Pickled Model </b>"
   ]
  },
  {
   "cell_type": "code",
   "execution_count": 21,
   "metadata": {},
   "outputs": [],
   "source": [
    "pickle.dump(lr,open('lr_model.pkl','wb'))"
   ]
  },
  {
   "cell_type": "code",
   "execution_count": 19,
   "metadata": {},
   "outputs": [],
   "source": [
    "lr_model=pickle.load(open('lr_model.sav','rb'))"
   ]
  },
  {
   "cell_type": "code",
   "execution_count": 20,
   "metadata": {},
   "outputs": [
    {
     "data": {
      "text/plain": [
       "array([[0.53004681, 0.46995319],\n",
       "       [0.81172901, 0.18827099],\n",
       "       [0.87909135, 0.12090865],\n",
       "       [0.77186929, 0.22813071],\n",
       "       [0.59924578, 0.40075422],\n",
       "       [0.43555987, 0.56444013],\n",
       "       [0.13521447, 0.86478553],\n",
       "       [0.21759483, 0.78240517],\n",
       "       [0.65431187, 0.34568813],\n",
       "       [0.14339209, 0.85660791],\n",
       "       [0.93284162, 0.06715838],\n",
       "       [0.80255654, 0.19744346],\n",
       "       [0.79799753, 0.20200247],\n",
       "       [0.23043444, 0.76956556],\n",
       "       [0.70524282, 0.29475718],\n",
       "       [0.33242916, 0.66757084],\n",
       "       [0.63331282, 0.36668718],\n",
       "       [0.3894813 , 0.6105187 ],\n",
       "       [0.11807317, 0.88192683],\n",
       "       [0.86156291, 0.13843709],\n",
       "       [0.72628616, 0.27371384],\n",
       "       [0.60049392, 0.39950608],\n",
       "       [0.72197224, 0.27802776],\n",
       "       [0.29063322, 0.70936678],\n",
       "       [0.09334571, 0.90665429],\n",
       "       [0.11397251, 0.88602749],\n",
       "       [0.65152674, 0.34847326],\n",
       "       [0.71399354, 0.28600646],\n",
       "       [0.6765982 , 0.3234018 ],\n",
       "       [0.14867257, 0.85132743],\n",
       "       [0.87620563, 0.12379437],\n",
       "       [0.15321012, 0.84678988],\n",
       "       [0.90131516, 0.09868484],\n",
       "       [0.8014275 , 0.1985725 ],\n",
       "       [0.2102844 , 0.7897156 ],\n",
       "       [0.69746046, 0.30253954],\n",
       "       [0.26069165, 0.73930835],\n",
       "       [0.7851026 , 0.2148974 ],\n",
       "       [0.27191107, 0.72808893],\n",
       "       [0.78106955, 0.21893045],\n",
       "       [0.83690936, 0.16309064],\n",
       "       [0.112834  , 0.887166  ],\n",
       "       [0.63927642, 0.36072358],\n",
       "       [0.78679017, 0.21320983],\n",
       "       [0.11139123, 0.88860877],\n",
       "       [0.81789783, 0.18210217],\n",
       "       [0.56012924, 0.43987076],\n",
       "       [0.11945715, 0.88054285],\n",
       "       [0.75664553, 0.24335447],\n",
       "       [0.91623645, 0.08376355],\n",
       "       [0.29267106, 0.70732894],\n",
       "       [0.83223507, 0.16776493],\n",
       "       [0.18264417, 0.81735583],\n",
       "       [0.89592385, 0.10407615],\n",
       "       [0.69486487, 0.30513513],\n",
       "       [0.38226293, 0.61773707],\n",
       "       [0.68594939, 0.31405061],\n",
       "       [0.32327672, 0.67672328],\n",
       "       [0.14952366, 0.85047634],\n",
       "       [0.54676253, 0.45323747],\n",
       "       [0.60833053, 0.39166947],\n",
       "       [0.75274914, 0.24725086],\n",
       "       [0.52246004, 0.47753996],\n",
       "       [0.61433064, 0.38566936],\n",
       "       [0.76235917, 0.23764083],\n",
       "       [0.44037462, 0.55962538],\n",
       "       [0.91978   , 0.08022   ],\n",
       "       [0.79095839, 0.20904161],\n",
       "       [0.78435289, 0.21564711],\n",
       "       [0.26722202, 0.73277798],\n",
       "       [0.72028024, 0.27971976],\n",
       "       [0.59179198, 0.40820802],\n",
       "       [0.83069531, 0.16930469],\n",
       "       [0.51098973, 0.48901027],\n",
       "       [0.06934038, 0.93065962],\n",
       "       [0.81051855, 0.18948145],\n",
       "       [0.84801014, 0.15198986],\n",
       "       [0.75898886, 0.24101114],\n",
       "       [0.76651355, 0.23348645],\n",
       "       [0.35262504, 0.64737496],\n",
       "       [0.8539428 , 0.1460572 ],\n",
       "       [0.79305481, 0.20694519],\n",
       "       [0.41466483, 0.58533517],\n",
       "       [0.79031961, 0.20968039],\n",
       "       [0.26569988, 0.73430012],\n",
       "       [0.3816335 , 0.6183665 ],\n",
       "       [0.54666317, 0.45333683],\n",
       "       [0.87154025, 0.12845975],\n",
       "       [0.51322093, 0.48677907],\n",
       "       [0.15592071, 0.84407929],\n",
       "       [0.46326887, 0.53673113],\n",
       "       [0.5083067 , 0.4916933 ],\n",
       "       [0.48806248, 0.51193752],\n",
       "       [0.84112515, 0.15887485],\n",
       "       [0.89702355, 0.10297645],\n",
       "       [0.79350997, 0.20649003],\n",
       "       [0.58125443, 0.41874557],\n",
       "       [0.36349597, 0.63650403],\n",
       "       [0.41048233, 0.58951767],\n",
       "       [0.18029679, 0.81970321],\n",
       "       [0.26999892, 0.73000108],\n",
       "       [0.49100143, 0.50899857],\n",
       "       [0.25900101, 0.74099899],\n",
       "       [0.17700986, 0.82299014],\n",
       "       [0.40037693, 0.59962307],\n",
       "       [0.24465685, 0.75534315],\n",
       "       [0.52891477, 0.47108523],\n",
       "       [0.82112536, 0.17887464],\n",
       "       [0.19522957, 0.80477043],\n",
       "       [0.25594611, 0.74405389],\n",
       "       [0.11914579, 0.88085421],\n",
       "       [0.54684473, 0.45315527],\n",
       "       [0.69497703, 0.30502297],\n",
       "       [0.11968633, 0.88031367],\n",
       "       [0.71058989, 0.28941011],\n",
       "       [0.10046955, 0.89953045],\n",
       "       [0.79415235, 0.20584765],\n",
       "       [0.76003142, 0.23996858],\n",
       "       [0.21791145, 0.78208855],\n",
       "       [0.75406061, 0.24593939],\n",
       "       [0.54323457, 0.45676543],\n",
       "       [0.8144841 , 0.1855159 ],\n",
       "       [0.8002316 , 0.1997684 ],\n",
       "       [0.43987986, 0.56012014],\n",
       "       [0.80383681, 0.19616319],\n",
       "       [0.25829891, 0.74170109],\n",
       "       [0.54019325, 0.45980675],\n",
       "       [0.70766859, 0.29233141],\n",
       "       [0.17923031, 0.82076969],\n",
       "       [0.22080629, 0.77919371],\n",
       "       [0.80049006, 0.19950994],\n",
       "       [0.49643663, 0.50356337],\n",
       "       [0.45056172, 0.54943828],\n",
       "       [0.88069017, 0.11930983],\n",
       "       [0.08217588, 0.91782412],\n",
       "       [0.78972034, 0.21027966],\n",
       "       [0.88758054, 0.11241946],\n",
       "       [0.50674574, 0.49325426],\n",
       "       [0.79872783, 0.20127217],\n",
       "       [0.5902121 , 0.4097879 ],\n",
       "       [0.84766773, 0.15233227],\n",
       "       [0.57082844, 0.42917156],\n",
       "       [0.51219797, 0.48780203],\n",
       "       [0.17122184, 0.82877816],\n",
       "       [0.57427217, 0.42572783],\n",
       "       [0.11149566, 0.88850434],\n",
       "       [0.79945056, 0.20054944],\n",
       "       [0.42466706, 0.57533294],\n",
       "       [0.69040896, 0.30959104],\n",
       "       [0.09418228, 0.90581772],\n",
       "       [0.80750472, 0.19249528],\n",
       "       [0.62857651, 0.37142349],\n",
       "       [0.08656708, 0.91343292],\n",
       "       [0.14766934, 0.85233066],\n",
       "       [0.49046351, 0.50953649],\n",
       "       [0.4343971 , 0.5656029 ],\n",
       "       [0.66644467, 0.33355533],\n",
       "       [0.85202815, 0.14797185],\n",
       "       [0.51214477, 0.48785523],\n",
       "       [0.77880685, 0.22119315],\n",
       "       [0.90933482, 0.09066518],\n",
       "       [0.34510592, 0.65489408],\n",
       "       [0.65833659, 0.34166341],\n",
       "       [0.59174059, 0.40825941],\n",
       "       [0.71312426, 0.28687574],\n",
       "       [0.65625072, 0.34374928],\n",
       "       [0.57407421, 0.42592579],\n",
       "       [0.81037366, 0.18962634],\n",
       "       [0.87746534, 0.12253466],\n",
       "       [0.59892476, 0.40107524],\n",
       "       [0.74046134, 0.25953866],\n",
       "       [0.75470645, 0.24529355],\n",
       "       [0.7841089 , 0.2158911 ],\n",
       "       [0.81266825, 0.18733175],\n",
       "       [0.49287103, 0.50712897],\n",
       "       [0.8531081 , 0.1468919 ],\n",
       "       [0.89472835, 0.10527165],\n",
       "       [0.20523166, 0.79476834],\n",
       "       [0.60313368, 0.39686632],\n",
       "       [0.74897549, 0.25102451],\n",
       "       [0.74956728, 0.25043272],\n",
       "       [0.68486461, 0.31513539],\n",
       "       [0.87818656, 0.12181344],\n",
       "       [0.83756168, 0.16243832],\n",
       "       [0.43732181, 0.56267819],\n",
       "       [0.70385713, 0.29614287],\n",
       "       [0.77348783, 0.22651217],\n",
       "       [0.39759113, 0.60240887],\n",
       "       [0.79553451, 0.20446549],\n",
       "       [0.46545633, 0.53454367],\n",
       "       [0.6323388 , 0.3676612 ],\n",
       "       [0.34356869, 0.65643131],\n",
       "       [0.69905072, 0.30094928],\n",
       "       [0.88880595, 0.11119405],\n",
       "       [0.46582573, 0.53417427],\n",
       "       [0.35757503, 0.64242497],\n",
       "       [0.75898644, 0.24101356],\n",
       "       [0.473045  , 0.526955  ],\n",
       "       [0.39305548, 0.60694452],\n",
       "       [0.32311305, 0.67688695],\n",
       "       [0.36470813, 0.63529187],\n",
       "       [0.18401839, 0.81598161],\n",
       "       [0.78442873, 0.21557127],\n",
       "       [0.27027438, 0.72972562],\n",
       "       [0.32129943, 0.67870057],\n",
       "       [0.67507921, 0.32492079],\n",
       "       [0.33533773, 0.66466227],\n",
       "       [0.76713668, 0.23286332],\n",
       "       [0.49397984, 0.50602016],\n",
       "       [0.82999188, 0.17000812],\n",
       "       [0.3528983 , 0.6471017 ],\n",
       "       [0.78095589, 0.21904411],\n",
       "       [0.22026608, 0.77973392],\n",
       "       [0.33629107, 0.66370893],\n",
       "       [0.74810641, 0.25189359],\n",
       "       [0.12588956, 0.87411044],\n",
       "       [0.20767201, 0.79232799],\n",
       "       [0.35285525, 0.64714475],\n",
       "       [0.68472145, 0.31527855],\n",
       "       [0.76298325, 0.23701675],\n",
       "       [0.16581359, 0.83418641],\n",
       "       [0.86242553, 0.13757447],\n",
       "       [0.70680556, 0.29319444],\n",
       "       [0.74670061, 0.25329939],\n",
       "       [0.90427705, 0.09572295],\n",
       "       [0.17059442, 0.82940558],\n",
       "       [0.14454126, 0.85545874],\n",
       "       [0.80535772, 0.19464228],\n",
       "       [0.36490733, 0.63509267],\n",
       "       [0.86658622, 0.13341378],\n",
       "       [0.74321074, 0.25678926],\n",
       "       [0.21071116, 0.78928884],\n",
       "       [0.87356544, 0.12643456],\n",
       "       [0.58559208, 0.41440792],\n",
       "       [0.70053884, 0.29946116],\n",
       "       [0.84089157, 0.15910843],\n",
       "       [0.85226332, 0.14773668],\n",
       "       [0.86278554, 0.13721446],\n",
       "       [0.60150894, 0.39849106],\n",
       "       [0.52878018, 0.47121982],\n",
       "       [0.28041327, 0.71958673],\n",
       "       [0.28357909, 0.71642091],\n",
       "       [0.88216536, 0.11783464],\n",
       "       [0.73182107, 0.26817893],\n",
       "       [0.74610736, 0.25389264],\n",
       "       [0.64877282, 0.35122718],\n",
       "       [0.51799034, 0.48200966],\n",
       "       [0.15323903, 0.84676097],\n",
       "       [0.73389899, 0.26610101],\n",
       "       [0.37400567, 0.62599433],\n",
       "       [0.53221799, 0.46778201],\n",
       "       [0.78808691, 0.21191309],\n",
       "       [0.83155237, 0.16844763],\n",
       "       [0.88939689, 0.11060311],\n",
       "       [0.44362948, 0.55637052],\n",
       "       [0.72842348, 0.27157652],\n",
       "       [0.08316521, 0.91683479],\n",
       "       [0.64244078, 0.35755922],\n",
       "       [0.5737864 , 0.4262136 ],\n",
       "       [0.81642739, 0.18357261],\n",
       "       [0.4892611 , 0.5107389 ],\n",
       "       [0.84434308, 0.15565692],\n",
       "       [0.24379638, 0.75620362],\n",
       "       [0.74855928, 0.25144072],\n",
       "       [0.58601204, 0.41398796],\n",
       "       [0.16743109, 0.83256891],\n",
       "       [0.48385324, 0.51614676],\n",
       "       [0.21840513, 0.78159487],\n",
       "       [0.11903154, 0.88096846],\n",
       "       [0.32319156, 0.67680844],\n",
       "       [0.34169713, 0.65830287],\n",
       "       [0.58469599, 0.41530401],\n",
       "       [0.24784925, 0.75215075],\n",
       "       [0.3004114 , 0.6995886 ],\n",
       "       [0.86139916, 0.13860084],\n",
       "       [0.84515406, 0.15484594],\n",
       "       [0.73878072, 0.26121928],\n",
       "       [0.56403411, 0.43596589],\n",
       "       [0.31530565, 0.68469435],\n",
       "       [0.58766607, 0.41233393],\n",
       "       [0.12202133, 0.87797867],\n",
       "       [0.20937372, 0.79062628],\n",
       "       [0.74726681, 0.25273319],\n",
       "       [0.67988261, 0.32011739],\n",
       "       [0.30030724, 0.69969276],\n",
       "       [0.37359866, 0.62640134],\n",
       "       [0.84770462, 0.15229538],\n",
       "       [0.38155268, 0.61844732],\n",
       "       [0.49317393, 0.50682607],\n",
       "       [0.78279046, 0.21720954],\n",
       "       [0.79567112, 0.20432888],\n",
       "       [0.81957934, 0.18042066],\n",
       "       [0.16752126, 0.83247874],\n",
       "       [0.40755892, 0.59244108],\n",
       "       [0.50849702, 0.49150298],\n",
       "       [0.27509812, 0.72490188],\n",
       "       [0.36798012, 0.63201988],\n",
       "       [0.79671624, 0.20328376],\n",
       "       [0.65133443, 0.34866557],\n",
       "       [0.18280216, 0.81719784]])"
      ]
     },
     "execution_count": 20,
     "metadata": {},
     "output_type": "execute_result"
    }
   ],
   "source": [
    "y_pred = lr_model.predict_proba(xval_tfidf)\n",
    "y_pred"
   ]
  },
  {
   "cell_type": "code",
   "execution_count": 27,
   "metadata": {},
   "outputs": [
    {
     "data": {
      "text/plain": [
       "0.8566666666666667"
      ]
     },
     "execution_count": 27,
     "metadata": {},
     "output_type": "execute_result"
    }
   ],
   "source": [
    "f1_score(yval, y_pred, average=\"micro\")"
   ]
  },
  {
   "cell_type": "code",
   "execution_count": 29,
   "metadata": {},
   "outputs": [
    {
     "name": "stdout",
     "output_type": "stream",
     "text": [
      "Confusion Matrix :\n",
      "[[148  12]\n",
      " [ 31 109]]\n",
      "Accuracy Score : 0.8566666666666667\n",
      "Report : \n",
      "              precision    recall  f1-score   support\n",
      "\n",
      "           0       0.83      0.93      0.87       160\n",
      "           1       0.90      0.78      0.84       140\n",
      "\n",
      "    accuracy                           0.86       300\n",
      "   macro avg       0.86      0.85      0.85       300\n",
      "weighted avg       0.86      0.86      0.86       300\n",
      "\n"
     ]
    }
   ],
   "source": [
    "results = confusion_matrix(yval, y_pred) \n",
    "print ('Confusion Matrix :')\n",
    "print(results) \n",
    "print ('Accuracy Score :',accuracy_score(yval, y_pred)) \n",
    "print ('Report : ')\n",
    "print (classification_report(yval, y_pred) )"
   ]
  },
  {
   "cell_type": "code",
   "execution_count": 77,
   "metadata": {},
   "outputs": [
    {
     "data": {
      "text/plain": [
       "title         \"Dexrazoxane cardioprotection in advanced brea...\n",
       "abstract      \"PURPOSE: We performed a randomized trial to e...\n",
       "trial                                                         0\n",
       "summary       \"Dexrazoxane cardioprotection in advanced brea...\n",
       "clean_note    dexrazoxane cardioprotection advanced breast c...\n",
       "Name: 1065, dtype: object"
      ]
     },
     "execution_count": 77,
     "metadata": {},
     "output_type": "execute_result"
    }
   ],
   "source": [
    "df.loc[trainindex[3]]"
   ]
  },
  {
   "cell_type": "code",
   "execution_count": 56,
   "metadata": {},
   "outputs": [],
   "source": [
    "lr_model=joblib.load('lrmodel.pkl')"
   ]
  },
  {
   "cell_type": "markdown",
   "metadata": {},
   "source": [
    "> <b> Performing TF/IDF Vectorizer </b> "
   ]
  },
  {
   "cell_type": "code",
   "execution_count": 83,
   "metadata": {},
   "outputs": [
    {
     "data": {
      "text/plain": [
       "pandas.core.series.Series"
      ]
     },
     "execution_count": 83,
     "metadata": {},
     "output_type": "execute_result"
    }
   ],
   "source": [
    "l=[]\n",
    "s=\"adjuvant chemotherapy followed goserelin compared either modality alone impact amenorrhea  flashes quality life premenopausal patientsthe international breast cancer study group trial viiipurpose purpose article compare quality life  menopausal symptoms among premenopausal patients lymph nodenegative breast cancer receiving chemotherapy goserelin sequential combination investigate differential effects  patients methods evaluated  data  perimenopausal women lymph nodenegative breast cancer randomly assigned receive  courses classical cyclophosphamide methotrexate fluorouracil  chemotherapy ovarian suppression goserelin months  courses classical  followed months goserelin report  data collected years random assignment patients without disease recurrence results overall patients receiving goserelin alone showed marked improvement less deterioration  measures first months patients treated  differences years random assignment according treatment except  flashes reflected  flashes scores patients three treatment groups experienced induced amenorrhea onset ovarian function suppression slightly delayed patients receiving chemotherapy younger patients years received goserelin alone returned premenopausal status months cessation therapy received  showed marginal changes baseline  flashes scores conclusion ageadjusted risk profiles consider patientreported outcomes enable patients adapt disease treatment considering tradeoffs delayed endocrine symptoms higher risk permanent menopause chemotherapy immediate reversible endocrine symptoms goserelin younger premenopausal patients\"\n",
    "l.append(s)\n",
    "l=pd.Series(l)\n",
    "type(l)"
   ]
  },
  {
   "cell_type": "code",
   "execution_count": 75,
   "metadata": {},
   "outputs": [],
   "source": [
    "tfidf_vectorizer = TfidfVectorizer(max_df=0.8, max_features=10000)"
   ]
  },
  {
   "cell_type": "code",
   "execution_count": 80,
   "metadata": {},
   "outputs": [],
   "source": [
    "traintfidf1 = tfidf_vectorizer.fit_transform(xtrain)"
   ]
  },
  {
   "cell_type": "code",
   "execution_count": 100,
   "metadata": {},
   "outputs": [
    {
     "data": {
      "text/plain": [
       "<1x9469 sparse matrix of type '<class 'numpy.float64'>'\n",
       "\twith 108 stored elements in Compressed Sparse Row format>"
      ]
     },
     "execution_count": 100,
     "metadata": {},
     "output_type": "execute_result"
    }
   ],
   "source": [
    "traintfidf=tfidf_vectorizer.transform(l)\n",
    "traintfidf"
   ]
  },
  {
   "cell_type": "code",
   "execution_count": 101,
   "metadata": {},
   "outputs": [
    {
     "data": {
      "text/plain": [
       "array([[0.72859767, 0.27140233]])"
      ]
     },
     "execution_count": 101,
     "metadata": {},
     "output_type": "execute_result"
    }
   ],
   "source": [
    "lr_model.predict_proba(traintfidf)"
   ]
  },
  {
   "cell_type": "markdown",
   "metadata": {},
   "source": [
    "### Display Predicted Results"
   ]
  },
  {
   "cell_type": "code",
   "execution_count": 103,
   "metadata": {},
   "outputs": [
    {
     "name": "stdout",
     "output_type": "stream",
     "text": [
      "The probability of clinical trial \"PXR, CAR and HNF4alpha genotypes and their association with pharmacokinetics and pharmacodynamics of docetaxel and doxorubicin in Asian patients.\" getting approved is [[0.72859767 0.27140233]] %\n",
      "\n"
     ]
    }
   ],
   "source": [
    "print(\"The probability of clinical trial \"+ df.loc[trainindex[5]][0] + \" getting approved is \"+str(lr_model.predict_proba(traintfidf))+\" %\\n\")"
   ]
  },
  {
   "cell_type": "code",
   "execution_count": 81,
   "metadata": {},
   "outputs": [
    {
     "name": "stdout",
     "output_type": "stream",
     "text": [
      "The probability of clinical trial \"PXR, CAR and HNF4alpha genotypes and their association with pharmacokinetics and pharmacodynamics of docetaxel and doxorubicin in Asian patients.\" getting approved is 0.5644401273631034 %\n",
      "\n"
     ]
    }
   ],
   "source": [
    "print(\"The probability of clinical trial \"+ df.loc[trainindex[5]][0] + \" getting approved is \"+str(lr.predict_proba(xval_tfidf[5])[0][1])+\" %\\n\")"
   ]
  },
  {
   "cell_type": "code",
   "execution_count": 82,
   "metadata": {},
   "outputs": [
    {
     "name": "stdout",
     "output_type": "stream",
     "text": [
      "The probability of clinical trial \"A comparative study of exemestane versus anastrozole in patients with postmenopausal breast cancer with visceral metastases.\" getting approved is 0.34568812907446583 %\n",
      "\n"
     ]
    }
   ],
   "source": [
    "print(\"The probability of clinical trial \"+ df.loc[trainindex[8]][0] + \" getting approved is \"+str(lr.predict_proba(xval_tfidf[8])[0][1])+\" %\\n\")"
   ]
  },
  {
   "cell_type": "code",
   "execution_count": 18,
   "metadata": {},
   "outputs": [],
   "source": [
    "array_train=xtrain_tfidf.toarray()"
   ]
  },
  {
   "cell_type": "code",
   "execution_count": 19,
   "metadata": {},
   "outputs": [],
   "source": [
    "array_test=xval_tfidf.toarray()"
   ]
  },
  {
   "cell_type": "code",
   "execution_count": 20,
   "metadata": {},
   "outputs": [],
   "source": [
    "Encoder = LabelEncoder()\n",
    "Train_Y = Encoder.fit_transform(ytrain)\n",
    "Test_Y = Encoder.fit_transform(yval)"
   ]
  },
  {
   "cell_type": "code",
   "execution_count": 21,
   "metadata": {},
   "outputs": [
    {
     "name": "stdout",
     "output_type": "stream",
     "text": [
      "<class 'numpy.ndarray'>\n",
      "<class 'numpy.ndarray'>\n",
      "<class 'numpy.ndarray'>\n",
      "<class 'numpy.ndarray'>\n"
     ]
    }
   ],
   "source": [
    "print(type(array_train))\n",
    "print(type(Train_Y))\n",
    "print(type(array_test))\n",
    "print(type(Test_Y))"
   ]
  },
  {
   "cell_type": "markdown",
   "metadata": {},
   "source": [
    "### Application of  Data Shapley \n",
    "><b>  Using Logistic Regression </b>"
   ]
  },
  {
   "cell_type": "code",
   "execution_count": 24,
   "metadata": {},
   "outputs": [
    {
     "name": "stdout",
     "output_type": "stream",
     "text": [
      "Starting LOO score calculations!\n",
      "LOO values calculated!\n",
      "10 out of 100 G-Shapley iterations\n",
      "20 out of 100 G-Shapley iterations\n",
      "30 out of 100 G-Shapley iterations\n",
      "40 out of 100 G-Shapley iterations\n",
      "50 out of 100 G-Shapley iterations\n",
      "60 out of 100 G-Shapley iterations\n",
      "70 out of 100 G-Shapley iterations\n",
      "80 out of 100 G-Shapley iterations\n",
      "90 out of 100 G-Shapley iterations\n",
      "100 out of 100 G-Shapley iterations\n",
      "10 out of 100 TMC_Shapley iterations.\n",
      "20 out of 100 TMC_Shapley iterations.\n",
      "30 out of 100 TMC_Shapley iterations.\n",
      "40 out of 100 TMC_Shapley iterations.\n",
      "50 out of 100 TMC_Shapley iterations.\n",
      "60 out of 100 TMC_Shapley iterations.\n",
      "70 out of 100 TMC_Shapley iterations.\n",
      "80 out of 100 TMC_Shapley iterations.\n",
      "90 out of 100 TMC_Shapley iterations.\n",
      "100 out of 100 TMC_Shapley iterations.\n",
      "10 out of 100 G-Shapley iterations\n",
      "20 out of 100 G-Shapley iterations\n",
      "30 out of 100 G-Shapley iterations\n",
      "40 out of 100 G-Shapley iterations\n",
      "50 out of 100 G-Shapley iterations\n",
      "60 out of 100 G-Shapley iterations\n",
      "70 out of 100 G-Shapley iterations\n",
      "80 out of 100 G-Shapley iterations\n",
      "90 out of 100 G-Shapley iterations\n",
      "100 out of 100 G-Shapley iterations\n",
      "10 out of 100 TMC_Shapley iterations.\n",
      "20 out of 100 TMC_Shapley iterations.\n",
      "30 out of 100 TMC_Shapley iterations.\n",
      "40 out of 100 TMC_Shapley iterations.\n",
      "50 out of 100 TMC_Shapley iterations.\n",
      "60 out of 100 TMC_Shapley iterations.\n",
      "70 out of 100 TMC_Shapley iterations.\n",
      "80 out of 100 TMC_Shapley iterations.\n",
      "90 out of 100 TMC_Shapley iterations.\n",
      "100 out of 100 TMC_Shapley iterations.\n",
      "10 out of 100 G-Shapley iterations\n",
      "20 out of 100 G-Shapley iterations\n",
      "30 out of 100 G-Shapley iterations\n",
      "40 out of 100 G-Shapley iterations\n",
      "50 out of 100 G-Shapley iterations\n",
      "60 out of 100 G-Shapley iterations\n",
      "70 out of 100 G-Shapley iterations\n",
      "80 out of 100 G-Shapley iterations\n",
      "90 out of 100 G-Shapley iterations\n",
      "100 out of 100 G-Shapley iterations\n",
      "10 out of 100 TMC_Shapley iterations.\n",
      "20 out of 100 TMC_Shapley iterations.\n",
      "30 out of 100 TMC_Shapley iterations.\n",
      "40 out of 100 TMC_Shapley iterations.\n",
      "50 out of 100 TMC_Shapley iterations.\n",
      "60 out of 100 TMC_Shapley iterations.\n",
      "70 out of 100 TMC_Shapley iterations.\n",
      "80 out of 100 TMC_Shapley iterations.\n",
      "90 out of 100 TMC_Shapley iterations.\n",
      "100 out of 100 TMC_Shapley iterations.\n",
      "10 out of 100 G-Shapley iterations\n",
      "20 out of 100 G-Shapley iterations\n",
      "30 out of 100 G-Shapley iterations\n",
      "40 out of 100 G-Shapley iterations\n",
      "50 out of 100 G-Shapley iterations\n",
      "60 out of 100 G-Shapley iterations\n",
      "70 out of 100 G-Shapley iterations\n",
      "80 out of 100 G-Shapley iterations\n",
      "90 out of 100 G-Shapley iterations\n",
      "100 out of 100 G-Shapley iterations\n",
      "10 out of 100 TMC_Shapley iterations.\n",
      "20 out of 100 TMC_Shapley iterations.\n",
      "30 out of 100 TMC_Shapley iterations.\n",
      "40 out of 100 TMC_Shapley iterations.\n",
      "50 out of 100 TMC_Shapley iterations.\n",
      "60 out of 100 TMC_Shapley iterations.\n",
      "70 out of 100 TMC_Shapley iterations.\n",
      "80 out of 100 TMC_Shapley iterations.\n",
      "90 out of 100 TMC_Shapley iterations.\n",
      "100 out of 100 TMC_Shapley iterations.\n",
      "10 out of 100 TMC_Shapley iterations.\n",
      "20 out of 100 TMC_Shapley iterations.\n",
      "30 out of 100 TMC_Shapley iterations.\n",
      "40 out of 100 TMC_Shapley iterations.\n",
      "50 out of 100 TMC_Shapley iterations.\n",
      "60 out of 100 TMC_Shapley iterations.\n",
      "70 out of 100 TMC_Shapley iterations.\n",
      "80 out of 100 TMC_Shapley iterations.\n",
      "90 out of 100 TMC_Shapley iterations.\n",
      "100 out of 100 TMC_Shapley iterations.\n",
      "10 out of 100 TMC_Shapley iterations.\n",
      "20 out of 100 TMC_Shapley iterations.\n",
      "30 out of 100 TMC_Shapley iterations.\n",
      "40 out of 100 TMC_Shapley iterations.\n",
      "50 out of 100 TMC_Shapley iterations.\n",
      "60 out of 100 TMC_Shapley iterations.\n",
      "70 out of 100 TMC_Shapley iterations.\n",
      "80 out of 100 TMC_Shapley iterations.\n",
      "90 out of 100 TMC_Shapley iterations.\n",
      "100 out of 100 TMC_Shapley iterations.\n",
      "10 out of 100 TMC_Shapley iterations.\n",
      "20 out of 100 TMC_Shapley iterations.\n",
      "30 out of 100 TMC_Shapley iterations.\n",
      "40 out of 100 TMC_Shapley iterations.\n",
      "50 out of 100 TMC_Shapley iterations.\n",
      "60 out of 100 TMC_Shapley iterations.\n",
      "70 out of 100 TMC_Shapley iterations.\n",
      "80 out of 100 TMC_Shapley iterations.\n",
      "90 out of 100 TMC_Shapley iterations.\n",
      "100 out of 100 TMC_Shapley iterations.\n",
      "10 out of 100 TMC_Shapley iterations.\n",
      "20 out of 100 TMC_Shapley iterations.\n",
      "30 out of 100 TMC_Shapley iterations.\n",
      "40 out of 100 TMC_Shapley iterations.\n",
      "50 out of 100 TMC_Shapley iterations.\n",
      "60 out of 100 TMC_Shapley iterations.\n",
      "70 out of 100 TMC_Shapley iterations.\n",
      "80 out of 100 TMC_Shapley iterations.\n",
      "90 out of 100 TMC_Shapley iterations.\n",
      "100 out of 100 TMC_Shapley iterations.\n",
      "10 out of 100 TMC_Shapley iterations.\n",
      "20 out of 100 TMC_Shapley iterations.\n",
      "30 out of 100 TMC_Shapley iterations.\n",
      "40 out of 100 TMC_Shapley iterations.\n",
      "50 out of 100 TMC_Shapley iterations.\n",
      "60 out of 100 TMC_Shapley iterations.\n",
      "70 out of 100 TMC_Shapley iterations.\n",
      "80 out of 100 TMC_Shapley iterations.\n",
      "90 out of 100 TMC_Shapley iterations.\n",
      "100 out of 100 TMC_Shapley iterations.\n",
      "10 out of 100 TMC_Shapley iterations.\n",
      "20 out of 100 TMC_Shapley iterations.\n",
      "30 out of 100 TMC_Shapley iterations.\n",
      "40 out of 100 TMC_Shapley iterations.\n",
      "50 out of 100 TMC_Shapley iterations.\n",
      "60 out of 100 TMC_Shapley iterations.\n",
      "70 out of 100 TMC_Shapley iterations.\n",
      "80 out of 100 TMC_Shapley iterations.\n",
      "90 out of 100 TMC_Shapley iterations.\n",
      "100 out of 100 TMC_Shapley iterations.\n",
      "10 out of 100 TMC_Shapley iterations.\n",
      "20 out of 100 TMC_Shapley iterations.\n",
      "30 out of 100 TMC_Shapley iterations.\n",
      "40 out of 100 TMC_Shapley iterations.\n",
      "50 out of 100 TMC_Shapley iterations.\n",
      "60 out of 100 TMC_Shapley iterations.\n",
      "70 out of 100 TMC_Shapley iterations.\n",
      "80 out of 100 TMC_Shapley iterations.\n",
      "90 out of 100 TMC_Shapley iterations.\n",
      "100 out of 100 TMC_Shapley iterations.\n",
      "10 out of 100 TMC_Shapley iterations.\n",
      "20 out of 100 TMC_Shapley iterations.\n",
      "30 out of 100 TMC_Shapley iterations.\n",
      "40 out of 100 TMC_Shapley iterations.\n",
      "50 out of 100 TMC_Shapley iterations.\n",
      "60 out of 100 TMC_Shapley iterations.\n",
      "70 out of 100 TMC_Shapley iterations.\n",
      "80 out of 100 TMC_Shapley iterations.\n",
      "90 out of 100 TMC_Shapley iterations.\n",
      "100 out of 100 TMC_Shapley iterations.\n",
      "10 out of 100 TMC_Shapley iterations.\n",
      "20 out of 100 TMC_Shapley iterations.\n",
      "30 out of 100 TMC_Shapley iterations.\n",
      "40 out of 100 TMC_Shapley iterations.\n",
      "50 out of 100 TMC_Shapley iterations.\n",
      "60 out of 100 TMC_Shapley iterations.\n",
      "70 out of 100 TMC_Shapley iterations.\n",
      "80 out of 100 TMC_Shapley iterations.\n",
      "90 out of 100 TMC_Shapley iterations.\n",
      "100 out of 100 TMC_Shapley iterations.\n",
      "10 out of 100 TMC_Shapley iterations.\n",
      "20 out of 100 TMC_Shapley iterations.\n",
      "30 out of 100 TMC_Shapley iterations.\n",
      "40 out of 100 TMC_Shapley iterations.\n",
      "50 out of 100 TMC_Shapley iterations.\n",
      "60 out of 100 TMC_Shapley iterations.\n",
      "70 out of 100 TMC_Shapley iterations.\n",
      "80 out of 100 TMC_Shapley iterations.\n",
      "90 out of 100 TMC_Shapley iterations.\n",
      "100 out of 100 TMC_Shapley iterations.\n",
      "10 out of 100 TMC_Shapley iterations.\n",
      "20 out of 100 TMC_Shapley iterations.\n",
      "30 out of 100 TMC_Shapley iterations.\n",
      "40 out of 100 TMC_Shapley iterations.\n",
      "50 out of 100 TMC_Shapley iterations.\n",
      "60 out of 100 TMC_Shapley iterations.\n",
      "70 out of 100 TMC_Shapley iterations.\n",
      "80 out of 100 TMC_Shapley iterations.\n",
      "90 out of 100 TMC_Shapley iterations.\n",
      "100 out of 100 TMC_Shapley iterations.\n",
      "10 out of 100 TMC_Shapley iterations.\n",
      "20 out of 100 TMC_Shapley iterations.\n",
      "30 out of 100 TMC_Shapley iterations.\n",
      "40 out of 100 TMC_Shapley iterations.\n",
      "50 out of 100 TMC_Shapley iterations.\n",
      "60 out of 100 TMC_Shapley iterations.\n",
      "70 out of 100 TMC_Shapley iterations.\n",
      "80 out of 100 TMC_Shapley iterations.\n",
      "90 out of 100 TMC_Shapley iterations.\n",
      "100 out of 100 TMC_Shapley iterations.\n",
      "10 out of 100 TMC_Shapley iterations.\n",
      "20 out of 100 TMC_Shapley iterations.\n",
      "30 out of 100 TMC_Shapley iterations.\n",
      "40 out of 100 TMC_Shapley iterations.\n",
      "50 out of 100 TMC_Shapley iterations.\n",
      "60 out of 100 TMC_Shapley iterations.\n",
      "70 out of 100 TMC_Shapley iterations.\n",
      "80 out of 100 TMC_Shapley iterations.\n",
      "90 out of 100 TMC_Shapley iterations.\n",
      "100 out of 100 TMC_Shapley iterations.\n",
      "10 out of 100 TMC_Shapley iterations.\n",
      "20 out of 100 TMC_Shapley iterations.\n",
      "30 out of 100 TMC_Shapley iterations.\n",
      "40 out of 100 TMC_Shapley iterations.\n",
      "50 out of 100 TMC_Shapley iterations.\n",
      "60 out of 100 TMC_Shapley iterations.\n",
      "70 out of 100 TMC_Shapley iterations.\n"
     ]
    },
    {
     "name": "stdout",
     "output_type": "stream",
     "text": [
      "80 out of 100 TMC_Shapley iterations.\n",
      "90 out of 100 TMC_Shapley iterations.\n",
      "100 out of 100 TMC_Shapley iterations.\n",
      "10 out of 100 TMC_Shapley iterations.\n",
      "20 out of 100 TMC_Shapley iterations.\n",
      "30 out of 100 TMC_Shapley iterations.\n",
      "40 out of 100 TMC_Shapley iterations.\n",
      "50 out of 100 TMC_Shapley iterations.\n",
      "60 out of 100 TMC_Shapley iterations.\n",
      "70 out of 100 TMC_Shapley iterations.\n",
      "80 out of 100 TMC_Shapley iterations.\n",
      "90 out of 100 TMC_Shapley iterations.\n",
      "100 out of 100 TMC_Shapley iterations.\n",
      "10 out of 100 TMC_Shapley iterations.\n",
      "20 out of 100 TMC_Shapley iterations.\n",
      "30 out of 100 TMC_Shapley iterations.\n",
      "40 out of 100 TMC_Shapley iterations.\n",
      "50 out of 100 TMC_Shapley iterations.\n",
      "60 out of 100 TMC_Shapley iterations.\n",
      "70 out of 100 TMC_Shapley iterations.\n",
      "80 out of 100 TMC_Shapley iterations.\n",
      "90 out of 100 TMC_Shapley iterations.\n",
      "100 out of 100 TMC_Shapley iterations.\n",
      "10 out of 100 TMC_Shapley iterations.\n",
      "20 out of 100 TMC_Shapley iterations.\n",
      "30 out of 100 TMC_Shapley iterations.\n",
      "40 out of 100 TMC_Shapley iterations.\n",
      "50 out of 100 TMC_Shapley iterations.\n",
      "60 out of 100 TMC_Shapley iterations.\n",
      "70 out of 100 TMC_Shapley iterations.\n",
      "80 out of 100 TMC_Shapley iterations.\n",
      "90 out of 100 TMC_Shapley iterations.\n",
      "100 out of 100 TMC_Shapley iterations.\n"
     ]
    }
   ],
   "source": [
    "model = 'logistic'\n",
    "problem = 'classification'\n",
    "num_test = 1000\n",
    "directory = './temp_NLP2'\n",
    "dshap = DShap(array_train, Train_Y,array_test, Test_Y, num_test, sources=None, model_family=model, metric='accuracy',\n",
    "              directory=directory, seed=0)\n",
    "\n",
    "dshap.run(100, 0.1)"
   ]
  },
  {
   "cell_type": "code",
   "execution_count": 25,
   "metadata": {},
   "outputs": [
    {
     "name": "stdout",
     "output_type": "stream",
     "text": [
      "LOO values calculated!\n",
      "10 out of 100 G-Shapley iterations\n",
      "20 out of 100 G-Shapley iterations\n",
      "30 out of 100 G-Shapley iterations\n",
      "40 out of 100 G-Shapley iterations\n",
      "50 out of 100 G-Shapley iterations\n",
      "60 out of 100 G-Shapley iterations\n",
      "70 out of 100 G-Shapley iterations\n",
      "80 out of 100 G-Shapley iterations\n",
      "90 out of 100 G-Shapley iterations\n",
      "100 out of 100 G-Shapley iterations\n",
      "10 out of 100 TMC_Shapley iterations.\n",
      "20 out of 100 TMC_Shapley iterations.\n",
      "30 out of 100 TMC_Shapley iterations.\n",
      "40 out of 100 TMC_Shapley iterations.\n",
      "50 out of 100 TMC_Shapley iterations.\n",
      "60 out of 100 TMC_Shapley iterations.\n",
      "70 out of 100 TMC_Shapley iterations.\n",
      "80 out of 100 TMC_Shapley iterations.\n",
      "90 out of 100 TMC_Shapley iterations.\n",
      "100 out of 100 TMC_Shapley iterations.\n",
      "10 out of 100 G-Shapley iterations\n",
      "20 out of 100 G-Shapley iterations\n",
      "30 out of 100 G-Shapley iterations\n",
      "40 out of 100 G-Shapley iterations\n",
      "50 out of 100 G-Shapley iterations\n",
      "60 out of 100 G-Shapley iterations\n",
      "70 out of 100 G-Shapley iterations\n",
      "80 out of 100 G-Shapley iterations\n",
      "90 out of 100 G-Shapley iterations\n",
      "100 out of 100 G-Shapley iterations\n",
      "10 out of 100 TMC_Shapley iterations.\n",
      "20 out of 100 TMC_Shapley iterations.\n",
      "30 out of 100 TMC_Shapley iterations.\n",
      "40 out of 100 TMC_Shapley iterations.\n",
      "50 out of 100 TMC_Shapley iterations.\n",
      "60 out of 100 TMC_Shapley iterations.\n",
      "70 out of 100 TMC_Shapley iterations.\n",
      "80 out of 100 TMC_Shapley iterations.\n",
      "90 out of 100 TMC_Shapley iterations.\n",
      "100 out of 100 TMC_Shapley iterations.\n",
      "10 out of 100 G-Shapley iterations\n",
      "20 out of 100 G-Shapley iterations\n",
      "30 out of 100 G-Shapley iterations\n",
      "40 out of 100 G-Shapley iterations\n",
      "50 out of 100 G-Shapley iterations\n",
      "60 out of 100 G-Shapley iterations\n",
      "70 out of 100 G-Shapley iterations\n",
      "80 out of 100 G-Shapley iterations\n",
      "90 out of 100 G-Shapley iterations\n",
      "100 out of 100 G-Shapley iterations\n",
      "10 out of 100 TMC_Shapley iterations.\n",
      "20 out of 100 TMC_Shapley iterations.\n",
      "30 out of 100 TMC_Shapley iterations.\n",
      "40 out of 100 TMC_Shapley iterations.\n",
      "50 out of 100 TMC_Shapley iterations.\n",
      "60 out of 100 TMC_Shapley iterations.\n",
      "70 out of 100 TMC_Shapley iterations.\n",
      "80 out of 100 TMC_Shapley iterations.\n",
      "90 out of 100 TMC_Shapley iterations.\n",
      "100 out of 100 TMC_Shapley iterations.\n",
      "10 out of 100 G-Shapley iterations\n",
      "20 out of 100 G-Shapley iterations\n",
      "30 out of 100 G-Shapley iterations\n",
      "40 out of 100 G-Shapley iterations\n",
      "50 out of 100 G-Shapley iterations\n",
      "60 out of 100 G-Shapley iterations\n",
      "70 out of 100 G-Shapley iterations\n",
      "80 out of 100 G-Shapley iterations\n",
      "90 out of 100 G-Shapley iterations\n",
      "100 out of 100 G-Shapley iterations\n",
      "10 out of 100 TMC_Shapley iterations.\n",
      "20 out of 100 TMC_Shapley iterations.\n",
      "30 out of 100 TMC_Shapley iterations.\n",
      "40 out of 100 TMC_Shapley iterations.\n",
      "50 out of 100 TMC_Shapley iterations.\n",
      "60 out of 100 TMC_Shapley iterations.\n",
      "70 out of 100 TMC_Shapley iterations.\n",
      "80 out of 100 TMC_Shapley iterations.\n",
      "90 out of 100 TMC_Shapley iterations.\n",
      "100 out of 100 TMC_Shapley iterations.\n",
      "10 out of 100 TMC_Shapley iterations.\n",
      "20 out of 100 TMC_Shapley iterations.\n",
      "30 out of 100 TMC_Shapley iterations.\n",
      "40 out of 100 TMC_Shapley iterations.\n",
      "50 out of 100 TMC_Shapley iterations.\n",
      "60 out of 100 TMC_Shapley iterations.\n",
      "70 out of 100 TMC_Shapley iterations.\n",
      "80 out of 100 TMC_Shapley iterations.\n",
      "90 out of 100 TMC_Shapley iterations.\n",
      "100 out of 100 TMC_Shapley iterations.\n",
      "10 out of 100 TMC_Shapley iterations.\n",
      "20 out of 100 TMC_Shapley iterations.\n",
      "30 out of 100 TMC_Shapley iterations.\n",
      "40 out of 100 TMC_Shapley iterations.\n",
      "50 out of 100 TMC_Shapley iterations.\n",
      "60 out of 100 TMC_Shapley iterations.\n"
     ]
    },
    {
     "ename": "MemoryError",
     "evalue": "",
     "output_type": "error",
     "traceback": [
      "\u001b[0;31m---------------------------------------------------------------------------\u001b[0m",
      "\u001b[0;31mMemoryError\u001b[0m                               Traceback (most recent call last)",
      "\u001b[0;32m<ipython-input-25-80dbb96be5e1>\u001b[0m in \u001b[0;36m<module>\u001b[0;34m()\u001b[0m\n\u001b[1;32m      6\u001b[0m               directory=directory, seed=1)\n\u001b[1;32m      7\u001b[0m \u001b[0;34m\u001b[0m\u001b[0m\n\u001b[0;32m----> 8\u001b[0;31m \u001b[0mdshap\u001b[0m\u001b[0;34m.\u001b[0m\u001b[0mrun\u001b[0m\u001b[0;34m(\u001b[0m\u001b[0;36m100\u001b[0m\u001b[0;34m,\u001b[0m \u001b[0;36m0.1\u001b[0m\u001b[0;34m)\u001b[0m\u001b[0;34m\u001b[0m\u001b[0m\n\u001b[0m",
      "\u001b[0;32m~/SageMaker/vLife/Akhil/feasibility_analysis/DShap.py\u001b[0m in \u001b[0;36mrun\u001b[0;34m(self, save_every, err, tolerance, g_run, loo_run)\u001b[0m\n\u001b[1;32m    178\u001b[0m                     \u001b[0mtmc_run\u001b[0m \u001b[0;34m=\u001b[0m \u001b[0;32mFalse\u001b[0m\u001b[0;34m\u001b[0m\u001b[0m\n\u001b[1;32m    179\u001b[0m                 \u001b[0;32melse\u001b[0m\u001b[0;34m:\u001b[0m\u001b[0;34m\u001b[0m\u001b[0m\n\u001b[0;32m--> 180\u001b[0;31m                     \u001b[0mself\u001b[0m\u001b[0;34m.\u001b[0m\u001b[0m_tmc_shap\u001b[0m\u001b[0;34m(\u001b[0m\u001b[0msave_every\u001b[0m\u001b[0;34m,\u001b[0m \u001b[0mtolerance\u001b[0m\u001b[0;34m=\u001b[0m\u001b[0mtolerance\u001b[0m\u001b[0;34m,\u001b[0m \u001b[0msources\u001b[0m\u001b[0;34m=\u001b[0m\u001b[0mself\u001b[0m\u001b[0;34m.\u001b[0m\u001b[0msources\u001b[0m\u001b[0;34m)\u001b[0m\u001b[0;34m\u001b[0m\u001b[0m\n\u001b[0m\u001b[1;32m    181\u001b[0m                     \u001b[0mself\u001b[0m\u001b[0;34m.\u001b[0m\u001b[0mvals_tmc\u001b[0m \u001b[0;34m=\u001b[0m \u001b[0mnp\u001b[0m\u001b[0;34m.\u001b[0m\u001b[0mmean\u001b[0m\u001b[0;34m(\u001b[0m\u001b[0mself\u001b[0m\u001b[0;34m.\u001b[0m\u001b[0mmem_tmc\u001b[0m\u001b[0;34m,\u001b[0m \u001b[0;36m0\u001b[0m\u001b[0;34m)\u001b[0m\u001b[0;34m\u001b[0m\u001b[0m\n\u001b[1;32m    182\u001b[0m             \u001b[0;32mif\u001b[0m \u001b[0mself\u001b[0m\u001b[0;34m.\u001b[0m\u001b[0mdirectory\u001b[0m \u001b[0;32mis\u001b[0m \u001b[0;32mnot\u001b[0m \u001b[0;32mNone\u001b[0m\u001b[0;34m:\u001b[0m\u001b[0;34m\u001b[0m\u001b[0m\n",
      "\u001b[0;32m~/SageMaker/vLife/Akhil/feasibility_analysis/DShap.py\u001b[0m in \u001b[0;36m_tmc_shap\u001b[0;34m(self, iterations, tolerance, sources)\u001b[0m\n\u001b[1;32m    220\u001b[0m             \u001b[0;32mif\u001b[0m \u001b[0;36m10\u001b[0m\u001b[0;34m*\u001b[0m\u001b[0;34m(\u001b[0m\u001b[0miteration\u001b[0m\u001b[0;34m+\u001b[0m\u001b[0;36m1\u001b[0m\u001b[0;34m)\u001b[0m\u001b[0;34m/\u001b[0m\u001b[0miterations\u001b[0m \u001b[0;34m%\u001b[0m \u001b[0;36m1\u001b[0m \u001b[0;34m==\u001b[0m \u001b[0;36m0\u001b[0m\u001b[0;34m:\u001b[0m\u001b[0;34m\u001b[0m\u001b[0m\n\u001b[1;32m    221\u001b[0m                 \u001b[0mprint\u001b[0m\u001b[0;34m(\u001b[0m\u001b[0;34m'{} out of {} TMC_Shapley iterations.'\u001b[0m\u001b[0;34m.\u001b[0m\u001b[0mformat\u001b[0m\u001b[0;34m(\u001b[0m\u001b[0miteration\u001b[0m \u001b[0;34m+\u001b[0m \u001b[0;36m1\u001b[0m\u001b[0;34m,\u001b[0m \u001b[0miterations\u001b[0m\u001b[0;34m)\u001b[0m\u001b[0;34m)\u001b[0m\u001b[0;34m\u001b[0m\u001b[0m\n\u001b[0;32m--> 222\u001b[0;31m             \u001b[0mmarginals\u001b[0m\u001b[0;34m,\u001b[0m \u001b[0midxs\u001b[0m \u001b[0;34m=\u001b[0m \u001b[0mself\u001b[0m\u001b[0;34m.\u001b[0m\u001b[0mone_iteration\u001b[0m\u001b[0;34m(\u001b[0m\u001b[0mtolerance\u001b[0m\u001b[0;34m=\u001b[0m\u001b[0mtolerance\u001b[0m\u001b[0;34m,\u001b[0m \u001b[0msources\u001b[0m\u001b[0;34m=\u001b[0m\u001b[0msources\u001b[0m\u001b[0;34m)\u001b[0m\u001b[0;34m\u001b[0m\u001b[0m\n\u001b[0m\u001b[1;32m    223\u001b[0m             \u001b[0mself\u001b[0m\u001b[0;34m.\u001b[0m\u001b[0mmem_tmc\u001b[0m \u001b[0;34m=\u001b[0m \u001b[0mnp\u001b[0m\u001b[0;34m.\u001b[0m\u001b[0mconcatenate\u001b[0m\u001b[0;34m(\u001b[0m\u001b[0;34m[\u001b[0m\u001b[0mself\u001b[0m\u001b[0;34m.\u001b[0m\u001b[0mmem_tmc\u001b[0m\u001b[0;34m,\u001b[0m \u001b[0mnp\u001b[0m\u001b[0;34m.\u001b[0m\u001b[0mreshape\u001b[0m\u001b[0;34m(\u001b[0m\u001b[0mmarginals\u001b[0m\u001b[0;34m,\u001b[0m \u001b[0;34m(\u001b[0m\u001b[0;36m1\u001b[0m\u001b[0;34m,\u001b[0m\u001b[0;34m-\u001b[0m\u001b[0;36m1\u001b[0m\u001b[0;34m)\u001b[0m\u001b[0;34m)\u001b[0m\u001b[0;34m]\u001b[0m\u001b[0;34m)\u001b[0m\u001b[0;34m\u001b[0m\u001b[0m\n\u001b[1;32m    224\u001b[0m             \u001b[0mself\u001b[0m\u001b[0;34m.\u001b[0m\u001b[0midxs_tmc\u001b[0m \u001b[0;34m=\u001b[0m \u001b[0mnp\u001b[0m\u001b[0;34m.\u001b[0m\u001b[0mconcatenate\u001b[0m\u001b[0;34m(\u001b[0m\u001b[0;34m[\u001b[0m\u001b[0mself\u001b[0m\u001b[0;34m.\u001b[0m\u001b[0midxs_tmc\u001b[0m\u001b[0;34m,\u001b[0m \u001b[0mnp\u001b[0m\u001b[0;34m.\u001b[0m\u001b[0mreshape\u001b[0m\u001b[0;34m(\u001b[0m\u001b[0midxs\u001b[0m\u001b[0;34m,\u001b[0m \u001b[0;34m(\u001b[0m\u001b[0;36m1\u001b[0m\u001b[0;34m,\u001b[0m\u001b[0;34m-\u001b[0m\u001b[0;36m1\u001b[0m\u001b[0;34m)\u001b[0m\u001b[0;34m)\u001b[0m\u001b[0;34m]\u001b[0m\u001b[0;34m)\u001b[0m\u001b[0;34m\u001b[0m\u001b[0m\n",
      "\u001b[0;32m~/SageMaker/vLife/Akhil/feasibility_analysis/DShap.py\u001b[0m in \u001b[0;36mone_iteration\u001b[0;34m(self, tolerance, sources)\u001b[0m\n\u001b[1;32m    249\u001b[0m         \u001b[0;32mfor\u001b[0m \u001b[0mn\u001b[0m\u001b[0;34m,\u001b[0m \u001b[0midx\u001b[0m \u001b[0;32min\u001b[0m \u001b[0menumerate\u001b[0m\u001b[0;34m(\u001b[0m\u001b[0midxs\u001b[0m\u001b[0;34m)\u001b[0m\u001b[0;34m:\u001b[0m\u001b[0;34m\u001b[0m\u001b[0m\n\u001b[1;32m    250\u001b[0m             \u001b[0mold_score\u001b[0m \u001b[0;34m=\u001b[0m \u001b[0mnew_score\u001b[0m\u001b[0;34m\u001b[0m\u001b[0m\n\u001b[0;32m--> 251\u001b[0;31m             \u001b[0mX_batch\u001b[0m \u001b[0;34m=\u001b[0m \u001b[0mnp\u001b[0m\u001b[0;34m.\u001b[0m\u001b[0mconcatenate\u001b[0m\u001b[0;34m(\u001b[0m\u001b[0;34m[\u001b[0m\u001b[0mX_batch\u001b[0m\u001b[0;34m,\u001b[0m \u001b[0mself\u001b[0m\u001b[0;34m.\u001b[0m\u001b[0mX\u001b[0m\u001b[0;34m[\u001b[0m\u001b[0msources\u001b[0m\u001b[0;34m[\u001b[0m\u001b[0midx\u001b[0m\u001b[0;34m]\u001b[0m\u001b[0;34m]\u001b[0m\u001b[0;34m]\u001b[0m\u001b[0;34m)\u001b[0m\u001b[0;34m\u001b[0m\u001b[0m\n\u001b[0m\u001b[1;32m    252\u001b[0m             \u001b[0my_batch\u001b[0m \u001b[0;34m=\u001b[0m \u001b[0mnp\u001b[0m\u001b[0;34m.\u001b[0m\u001b[0mconcatenate\u001b[0m\u001b[0;34m(\u001b[0m\u001b[0;34m[\u001b[0m\u001b[0my_batch\u001b[0m\u001b[0;34m,\u001b[0m \u001b[0mself\u001b[0m\u001b[0;34m.\u001b[0m\u001b[0my\u001b[0m\u001b[0;34m[\u001b[0m\u001b[0msources\u001b[0m\u001b[0;34m[\u001b[0m\u001b[0midx\u001b[0m\u001b[0;34m]\u001b[0m\u001b[0;34m]\u001b[0m\u001b[0;34m]\u001b[0m\u001b[0;34m)\u001b[0m\u001b[0;34m\u001b[0m\u001b[0m\n\u001b[1;32m    253\u001b[0m             \u001b[0;32mwith\u001b[0m \u001b[0mwarnings\u001b[0m\u001b[0;34m.\u001b[0m\u001b[0mcatch_warnings\u001b[0m\u001b[0;34m(\u001b[0m\u001b[0;34m)\u001b[0m\u001b[0;34m:\u001b[0m\u001b[0;34m\u001b[0m\u001b[0m\n",
      "\u001b[0;31mMemoryError\u001b[0m: "
     ]
    }
   ],
   "source": [
    "model = 'logistic'\n",
    "problem = 'classification'\n",
    "num_test = 1000\n",
    "directory = './temp_NLP2'\n",
    "dshap = DShap(array_train, Train_Y,array_test, Test_Y, num_test, model_family=model, metric='accuracy',\n",
    "              directory=directory, seed=1)\n",
    "\n",
    "dshap.run(100, 0.1)"
   ]
  },
  {
   "cell_type": "code",
   "execution_count": null,
   "metadata": {},
   "outputs": [],
   "source": [
    "model = 'logistic'\n",
    "problem = 'classification'\n",
    "num_test = 1000\n",
    "directory = './temp_NLP2'\n",
    "dshap = DShap(array_train, Train_Y,array_test, Test_Y, num_test, model_family=model, metric='accuracy',\n",
    "              directory=directory, seed=2)\n",
    "dshap.run(100, 0.1)"
   ]
  },
  {
   "cell_type": "code",
   "execution_count": 24,
   "metadata": {},
   "outputs": [
    {
     "name": "stderr",
     "output_type": "stream",
     "text": [
      "/home/ec2-user/anaconda3/envs/tensorflow_p36/lib/python3.6/site-packages/sklearn/base.py:318: UserWarning: Trying to unpickle estimator LogisticRegression from version 0.21.2 when using version 0.22. This might lead to breaking code or invalid results. Use at your own risk.\n",
      "  UserWarning)\n"
     ]
    }
   ],
   "source": [
    "title=\"Adjuvant chemotherapy followed by goserelin compared with either modality alone: the impact on amenorrhea, hot flashes, and quality of life in premenopausal patients--the International Breast Cancer Study Group Trial VIII\"\n",
    "abstract=\"PURPOSE: The purpose of this article is to compare quality of life (QOL) and menopausal symptoms among premenopausal patients with lymph node-negative breast cancer receiving chemotherapy, goserelin, or their sequential combination, and to investigate differential effects by age. PATIENTS AND METHODS: We evaluated QOL data from 874 pre- and perimenopausal women with lymph node-negative breast cancer who were randomly assigned to receive six courses of classical cyclophosphamide, methotrexate, and fluorouracil (CMF) chemotherapy, ovarian suppression with goserelin for 24 months, or six courses of classical CMF followed by 18 months of goserelin. We report QOL data collected during 3 years after random assignment in patients without disease recurrence. RESULTS: Overall, patients receiving goserelin alone showed a marked improvement or less deterioration in QOL measures over the first 6 months than those patients treated with CMF. There were no differences at 3 years after random assignment according to treatment except for hot flashes. As reflected in the hot flashes scores, patients in all three treatment groups experienced induced amenorrhea, but the onset of ovarian function suppression was slightly delayed for patients receiving chemotherapy. Younger patients (< 40 years) who received goserelin alone returned to their premenopausal status at 6 months after the cessation of therapy, while those who received CMF showed marginal changes from their baseline hot flashes scores. CONCLUSION: Age-adjusted risk profiles that consider patient-reported outcomes enable patients to adapt to their disease and treatment, such as considering the trade-offs between delayed endocrine symptoms, but higher risk of permanent menopause with chemotherapy, and immediate but reversible endocrine symptoms with goserelin, in younger premenopausal patients.\"\n",
    "summary=title+abstract\n",
    "df1=summary.lower()\n",
    "result1=re.sub(r'\\d+','',df1)\n",
    "result2=result1.translate(str.maketrans('', '', string.punctuation))\n",
    "result3=result2.strip()\n",
    "stop_words=set(stopwords.words('english'))\n",
    "tokens=word_tokenize(result3)\n",
    "result4=[i for i in tokens if not i in stop_words]\n",
    "result5=' '.join(result4)\n",
    "result6=re.sub(r'\\b\\w{1,3}\\b','',result5)\n",
    "l=[]\n",
    "l.append(result6)\n",
    "l=pd.Series(l)\n",
    "tfidf_vectorizer = TfidfVectorizer(max_df=0.8, max_features=10000)\n",
    "xtrain=pd.read_csv('xtrain.csv',header=None)\n",
    "xtrain=pd.Series(xtrain.iloc[:,1])\n",
    "xtrain_tfidf = tfidf_vectorizer.fit_transform(xtrain)\n",
    "xval_tfidf=tfidf_vectorizer.transform(l)\n",
    "lr_model=joblib.load('lrmodel.pkl')\n",
    "res=\"The probability of clinical trial \"+ title + \" getting approved is \"+str(lr_model.predict_proba(xval_tfidf)[0][1])+\" %\""
   ]
  },
  {
   "cell_type": "code",
   "execution_count": 25,
   "metadata": {},
   "outputs": [
    {
     "data": {
      "text/plain": [
       "'The probability of clinical trial Adjuvant chemotherapy followed by goserelin compared with either modality alone: the impact on amenorrhea, hot flashes, and quality of life in premenopausal patients--the International Breast Cancer Study Group Trial VIII getting approved is 0.2714023333657697 %'"
      ]
     },
     "execution_count": 25,
     "metadata": {},
     "output_type": "execute_result"
    }
   ],
   "source": [
    "res"
   ]
  },
  {
   "cell_type": "markdown",
   "metadata": {},
   "source": [
    "## END"
   ]
  }
 ],
 "metadata": {
  "kernelspec": {
   "display_name": "conda_python3",
   "language": "python",
   "name": "conda_python3"
  },
  "language_info": {
   "codemirror_mode": {
    "name": "ipython",
    "version": 3
   },
   "file_extension": ".py",
   "mimetype": "text/x-python",
   "name": "python",
   "nbconvert_exporter": "python",
   "pygments_lexer": "ipython3",
   "version": "3.6.10"
  }
 },
 "nbformat": 4,
 "nbformat_minor": 2
}
