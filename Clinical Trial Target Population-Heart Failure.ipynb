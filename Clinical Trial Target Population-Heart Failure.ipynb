{
 "cells": [
  {
   "cell_type": "code",
   "execution_count": 3,
   "metadata": {
    "collapsed": true
   },
   "outputs": [],
   "source": [
    "import requests\n",
    "import pandas as pd"
   ]
  },
  {
   "cell_type": "code",
   "execution_count": 4,
   "metadata": {},
   "outputs": [
    {
     "data": {
      "text/html": [
       "<div>\n",
       "<style>\n",
       "    .dataframe thead tr:only-child th {\n",
       "        text-align: right;\n",
       "    }\n",
       "\n",
       "    .dataframe thead th {\n",
       "        text-align: left;\n",
       "    }\n",
       "\n",
       "    .dataframe tbody tr th {\n",
       "        vertical-align: top;\n",
       "    }\n",
       "</style>\n",
       "<table border=\"1\" class=\"dataframe\">\n",
       "  <thead>\n",
       "    <tr style=\"text-align: right;\">\n",
       "      <th></th>\n",
       "      <th>admission_location</th>\n",
       "      <th>admission_type</th>\n",
       "      <th>admittime</th>\n",
       "      <th>deathtime</th>\n",
       "      <th>diagnosis</th>\n",
       "      <th>discharge_location</th>\n",
       "      <th>dischtime</th>\n",
       "      <th>edouttime</th>\n",
       "      <th>edregtime</th>\n",
       "      <th>ethnicity</th>\n",
       "      <th>hadm_id</th>\n",
       "      <th>has_chartevents_data</th>\n",
       "      <th>hospital_expire_flag</th>\n",
       "      <th>insurance</th>\n",
       "      <th>language</th>\n",
       "      <th>marital_status</th>\n",
       "      <th>religion</th>\n",
       "      <th>row_id</th>\n",
       "      <th>subject_id</th>\n",
       "    </tr>\n",
       "  </thead>\n",
       "  <tbody>\n",
       "    <tr>\n",
       "      <th>0</th>\n",
       "      <td>EMERGENCY ROOM ADMIT</td>\n",
       "      <td>EMERGENCY</td>\n",
       "      <td>2196-04-09T12:26:00.000Z</td>\n",
       "      <td>None</td>\n",
       "      <td>BENZODIAZEPINE OVERDOSE</td>\n",
       "      <td>DISC-TRAN CANCER/CHLDRN H</td>\n",
       "      <td>2196-04-10T15:54:00.000Z</td>\n",
       "      <td>2196-04-09T13:24:00.000Z</td>\n",
       "      <td>2196-04-09T10:06:00.000Z</td>\n",
       "      <td>WHITE</td>\n",
       "      <td>165315</td>\n",
       "      <td>1</td>\n",
       "      <td>0</td>\n",
       "      <td>Private</td>\n",
       "      <td>None</td>\n",
       "      <td>MARRIED</td>\n",
       "      <td>UNOBTAINABLE</td>\n",
       "      <td>21</td>\n",
       "      <td>22</td>\n",
       "    </tr>\n",
       "  </tbody>\n",
       "</table>\n",
       "</div>"
      ],
      "text/plain": [
       "     admission_location admission_type                 admittime deathtime  \\\n",
       "0  EMERGENCY ROOM ADMIT      EMERGENCY  2196-04-09T12:26:00.000Z      None   \n",
       "\n",
       "                 diagnosis         discharge_location  \\\n",
       "0  BENZODIAZEPINE OVERDOSE  DISC-TRAN CANCER/CHLDRN H   \n",
       "\n",
       "                  dischtime                 edouttime  \\\n",
       "0  2196-04-10T15:54:00.000Z  2196-04-09T13:24:00.000Z   \n",
       "\n",
       "                  edregtime ethnicity  hadm_id  has_chartevents_data  \\\n",
       "0  2196-04-09T10:06:00.000Z     WHITE   165315                     1   \n",
       "\n",
       "   hospital_expire_flag insurance language marital_status      religion  \\\n",
       "0                     0   Private     None        MARRIED  UNOBTAINABLE   \n",
       "\n",
       "   row_id  subject_id  \n",
       "0      21          22  "
      ]
     },
     "execution_count": 4,
     "metadata": {},
     "output_type": "execute_result"
    }
   ],
   "source": [
    "url1 = \"http://ec2-54-88-151-77.compute-1.amazonaws.com:3001/v1/admissions?limit=50000&offset=0\"\n",
    "conn1 = requests.get(url1).json()\n",
    "file1 = conn1['admissions']\n",
    "admissions =  pd.DataFrame.from_dict(file1, orient='columns')\n",
    "admissions.head(1)"
   ]
  },
  {
   "cell_type": "code",
   "execution_count": 5,
   "metadata": {},
   "outputs": [
    {
     "data": {
      "text/plain": [
       "False    48184\n",
       "True      1795\n",
       "Name: diagnosis, dtype: int64"
      ]
     },
     "execution_count": 5,
     "metadata": {},
     "output_type": "execute_result"
    }
   ],
   "source": [
    "admissions['diagnosis'].str.contains('HEART').value_counts()"
   ]
  },
  {
   "cell_type": "code",
   "execution_count": 6,
   "metadata": {
    "collapsed": true
   },
   "outputs": [],
   "source": [
    "'''Dropping rows not having heart failure'''\n",
    "heartpatients = admissions[admissions['diagnosis'].str.contains('heart', case = False) & admissions['diagnosis'].notnull()]"
   ]
  },
  {
   "cell_type": "code",
   "execution_count": 7,
   "metadata": {},
   "outputs": [
    {
     "data": {
      "text/html": [
       "<div>\n",
       "<style>\n",
       "    .dataframe thead tr:only-child th {\n",
       "        text-align: right;\n",
       "    }\n",
       "\n",
       "    .dataframe thead th {\n",
       "        text-align: left;\n",
       "    }\n",
       "\n",
       "    .dataframe tbody tr th {\n",
       "        vertical-align: top;\n",
       "    }\n",
       "</style>\n",
       "<table border=\"1\" class=\"dataframe\">\n",
       "  <thead>\n",
       "    <tr style=\"text-align: right;\">\n",
       "      <th></th>\n",
       "      <th>downcase_name</th>\n",
       "      <th>id</th>\n",
       "      <th>index</th>\n",
       "      <th>name</th>\n",
       "      <th>nct_id</th>\n",
       "    </tr>\n",
       "  </thead>\n",
       "  <tbody>\n",
       "    <tr>\n",
       "      <th>0</th>\n",
       "      <td>eosinophilic esophagitis</td>\n",
       "      <td>3620676</td>\n",
       "      <td>9263</td>\n",
       "      <td>Eosinophilic Esophagitis</td>\n",
       "      <td>NCT00275561</td>\n",
       "    </tr>\n",
       "  </tbody>\n",
       "</table>\n",
       "</div>"
      ],
      "text/plain": [
       "              downcase_name       id index                      name  \\\n",
       "0  eosinophilic esophagitis  3620676  9263  Eosinophilic Esophagitis   \n",
       "\n",
       "        nct_id  \n",
       "0  NCT00275561  "
      ]
     },
     "execution_count": 7,
     "metadata": {},
     "output_type": "execute_result"
    }
   ],
   "source": [
    "url1 = \"http://ec2-54-88-151-77.compute-1.amazonaws.com:3003/v1/conditions?limit=50000&offset=0\"\n",
    "conn1 = requests.get(url1).json()\n",
    "file1 = conn1['conditions']\n",
    "conditions =  pd.DataFrame.from_dict(file1, orient='columns')\n",
    "conditions.head(1)"
   ]
  },
  {
   "cell_type": "code",
   "execution_count": 8,
   "metadata": {},
   "outputs": [
    {
     "data": {
      "text/plain": [
       "False    49325\n",
       "True       675\n",
       "Name: name, dtype: int64"
      ]
     },
     "execution_count": 8,
     "metadata": {},
     "output_type": "execute_result"
    }
   ],
   "source": [
    "conditions['name'].str.contains('HEART', case=False).value_counts()"
   ]
  },
  {
   "cell_type": "code",
   "execution_count": 9,
   "metadata": {},
   "outputs": [
    {
     "data": {
      "text/html": [
       "<div>\n",
       "<style>\n",
       "    .dataframe thead tr:only-child th {\n",
       "        text-align: right;\n",
       "    }\n",
       "\n",
       "    .dataframe thead th {\n",
       "        text-align: left;\n",
       "    }\n",
       "\n",
       "    .dataframe tbody tr th {\n",
       "        vertical-align: top;\n",
       "    }\n",
       "</style>\n",
       "<table border=\"1\" class=\"dataframe\">\n",
       "  <thead>\n",
       "    <tr style=\"text-align: right;\">\n",
       "      <th></th>\n",
       "      <th>downcase_name</th>\n",
       "      <th>id</th>\n",
       "      <th>index</th>\n",
       "      <th>name</th>\n",
       "      <th>nct_id</th>\n",
       "    </tr>\n",
       "  </thead>\n",
       "  <tbody>\n",
       "    <tr>\n",
       "      <th>49</th>\n",
       "      <td>heart diseases</td>\n",
       "      <td>3620724</td>\n",
       "      <td>9312</td>\n",
       "      <td>Heart Diseases</td>\n",
       "      <td>NCT00275145</td>\n",
       "    </tr>\n",
       "  </tbody>\n",
       "</table>\n",
       "</div>"
      ],
      "text/plain": [
       "     downcase_name       id index            name       nct_id\n",
       "49  heart diseases  3620724  9312  Heart Diseases  NCT00275145"
      ]
     },
     "execution_count": 9,
     "metadata": {},
     "output_type": "execute_result"
    }
   ],
   "source": [
    "#Dataframe with conditions of heart alone 652 rows\n",
    "heartconditions = conditions[conditions['name'].str.contains('HEART', case=False) & conditions['name'].notnull()]\n",
    "heartconditions.head(1)"
   ]
  },
  {
   "cell_type": "code",
   "execution_count": 10,
   "metadata": {},
   "outputs": [
    {
     "data": {
      "text/html": [
       "<div>\n",
       "<style>\n",
       "    .dataframe thead tr:only-child th {\n",
       "        text-align: right;\n",
       "    }\n",
       "\n",
       "    .dataframe thead th {\n",
       "        text-align: left;\n",
       "    }\n",
       "\n",
       "    .dataframe tbody tr th {\n",
       "        vertical-align: top;\n",
       "    }\n",
       "</style>\n",
       "<table border=\"1\" class=\"dataframe\">\n",
       "  <thead>\n",
       "    <tr style=\"text-align: right;\">\n",
       "      <th></th>\n",
       "      <th>criteria</th>\n",
       "      <th>gender</th>\n",
       "      <th>gender_based</th>\n",
       "      <th>gender_description</th>\n",
       "      <th>healthy_volunteers</th>\n",
       "      <th>id</th>\n",
       "      <th>index</th>\n",
       "      <th>maximum_age</th>\n",
       "      <th>minimum_age</th>\n",
       "      <th>nct_id</th>\n",
       "      <th>population</th>\n",
       "      <th>sampling_method</th>\n",
       "    </tr>\n",
       "  </thead>\n",
       "  <tbody>\n",
       "    <tr>\n",
       "      <th>0</th>\n",
       "      <td>\\n        Inclusion Criteria:\\n\\n          -  ...</td>\n",
       "      <td>All</td>\n",
       "      <td>None</td>\n",
       "      <td></td>\n",
       "      <td>Accepts Healthy Volunteers</td>\n",
       "      <td>2130393</td>\n",
       "      <td>9829</td>\n",
       "      <td>N/A</td>\n",
       "      <td>60 Years</td>\n",
       "      <td>NCT01277809</td>\n",
       "      <td></td>\n",
       "      <td></td>\n",
       "    </tr>\n",
       "  </tbody>\n",
       "</table>\n",
       "</div>"
      ],
      "text/plain": [
       "                                            criteria gender gender_based  \\\n",
       "0  \\n        Inclusion Criteria:\\n\\n          -  ...    All         None   \n",
       "\n",
       "  gender_description          healthy_volunteers       id index maximum_age  \\\n",
       "0                     Accepts Healthy Volunteers  2130393  9829         N/A   \n",
       "\n",
       "  minimum_age       nct_id population sampling_method  \n",
       "0    60 Years  NCT01277809                             "
      ]
     },
     "execution_count": 10,
     "metadata": {},
     "output_type": "execute_result"
    }
   ],
   "source": [
    "url1 = \"http://ec2-54-88-151-77.compute-1.amazonaws.com:3003/v1/eligibilities?limit=50000&offset=0\"\n",
    "conn1 = requests.get(url1).json()\n",
    "file1 = conn1['eligibility']\n",
    "eligibilities =  pd.DataFrame.from_dict(file1, orient='columns')\n",
    "eligibilities.head(1)"
   ]
  },
  {
   "cell_type": "code",
   "execution_count": 11,
   "metadata": {
    "collapsed": true
   },
   "outputs": [],
   "source": [
    "eligibilities = eligibilities.drop(['gender_based','gender_description','id','index','criteria','healthy_volunteers'],axis=1)    "
   ]
  },
  {
   "cell_type": "code",
   "execution_count": 12,
   "metadata": {},
   "outputs": [
    {
     "data": {
      "text/plain": [
       "gender             0\n",
       "maximum_age        0\n",
       "minimum_age        0\n",
       "nct_id             0\n",
       "population         0\n",
       "sampling_method    0\n",
       "dtype: int64"
      ]
     },
     "execution_count": 12,
     "metadata": {},
     "output_type": "execute_result"
    }
   ],
   "source": [
    "#missing : NONE\n",
    "eligibilities.apply(lambda x: sum(x.isnull()))"
   ]
  },
  {
   "cell_type": "code",
   "execution_count": 186,
   "metadata": {
    "collapsed": true
   },
   "outputs": [],
   "source": [
    "#eligibilities.sampling_method.unique()"
   ]
  },
  {
   "cell_type": "code",
   "execution_count": 188,
   "metadata": {
    "collapsed": true
   },
   "outputs": [],
   "source": [
    "#eligibilities.population.str.contains('').sum() # dropping this as well"
   ]
  },
  {
   "cell_type": "code",
   "execution_count": 13,
   "metadata": {
    "collapsed": true
   },
   "outputs": [],
   "source": [
    "eligibilities = eligibilities.drop(['population','sampling_method'],axis=1)"
   ]
  },
  {
   "cell_type": "code",
   "execution_count": 14,
   "metadata": {
    "collapsed": true
   },
   "outputs": [],
   "source": [
    "clinicaldf = pd.merge(eligibilities,heartconditions, on=['nct_id'], how = 'inner')"
   ]
  },
  {
   "cell_type": "code",
   "execution_count": 16,
   "metadata": {},
   "outputs": [
    {
     "data": {
      "text/html": [
       "<div>\n",
       "<style>\n",
       "    .dataframe thead tr:only-child th {\n",
       "        text-align: right;\n",
       "    }\n",
       "\n",
       "    .dataframe thead th {\n",
       "        text-align: left;\n",
       "    }\n",
       "\n",
       "    .dataframe tbody tr th {\n",
       "        vertical-align: top;\n",
       "    }\n",
       "</style>\n",
       "<table border=\"1\" class=\"dataframe\">\n",
       "  <thead>\n",
       "    <tr style=\"text-align: right;\">\n",
       "      <th></th>\n",
       "      <th>gender</th>\n",
       "      <th>maximum_age</th>\n",
       "      <th>minimum_age</th>\n",
       "      <th>nct_id</th>\n",
       "      <th>downcase_name</th>\n",
       "      <th>id</th>\n",
       "      <th>index</th>\n",
       "      <th>name</th>\n",
       "    </tr>\n",
       "  </thead>\n",
       "  <tbody>\n",
       "    <tr>\n",
       "      <th>0</th>\n",
       "      <td>All</td>\n",
       "      <td>N/A</td>\n",
       "      <td>18 Years</td>\n",
       "      <td>NCT01261065</td>\n",
       "      <td>heart failure</td>\n",
       "      <td>3502118</td>\n",
       "      <td>44839</td>\n",
       "      <td>Heart Failure</td>\n",
       "    </tr>\n",
       "  </tbody>\n",
       "</table>\n",
       "</div>"
      ],
      "text/plain": [
       "  gender maximum_age minimum_age       nct_id  downcase_name       id  index  \\\n",
       "0    All         N/A    18 Years  NCT01261065  heart failure  3502118  44839   \n",
       "\n",
       "            name  \n",
       "0  Heart Failure  "
      ]
     },
     "execution_count": 16,
     "metadata": {},
     "output_type": "execute_result"
    }
   ],
   "source": [
    "clinicaldf.head(1)"
   ]
  },
  {
   "cell_type": "code",
   "execution_count": 62,
   "metadata": {
    "collapsed": true
   },
   "outputs": [],
   "source": [
    "target = clinicaldf.drop(['downcase_name','id','index','name'],axis=1)"
   ]
  },
  {
   "cell_type": "code",
   "execution_count": 63,
   "metadata": {},
   "outputs": [
    {
     "data": {
      "text/html": [
       "<div>\n",
       "<style>\n",
       "    .dataframe thead tr:only-child th {\n",
       "        text-align: right;\n",
       "    }\n",
       "\n",
       "    .dataframe thead th {\n",
       "        text-align: left;\n",
       "    }\n",
       "\n",
       "    .dataframe tbody tr th {\n",
       "        vertical-align: top;\n",
       "    }\n",
       "</style>\n",
       "<table border=\"1\" class=\"dataframe\">\n",
       "  <thead>\n",
       "    <tr style=\"text-align: right;\">\n",
       "      <th></th>\n",
       "      <th>gender</th>\n",
       "      <th>maximum_age</th>\n",
       "      <th>minimum_age</th>\n",
       "      <th>nct_id</th>\n",
       "    </tr>\n",
       "  </thead>\n",
       "  <tbody>\n",
       "    <tr>\n",
       "      <th>0</th>\n",
       "      <td>All</td>\n",
       "      <td>N/A</td>\n",
       "      <td>18 Years</td>\n",
       "      <td>NCT01261065</td>\n",
       "    </tr>\n",
       "  </tbody>\n",
       "</table>\n",
       "</div>"
      ],
      "text/plain": [
       "  gender maximum_age minimum_age       nct_id\n",
       "0    All         N/A    18 Years  NCT01261065"
      ]
     },
     "execution_count": 63,
     "metadata": {},
     "output_type": "execute_result"
    }
   ],
   "source": [
    "\n",
    "target.head(1)"
   ]
  },
  {
   "cell_type": "code",
   "execution_count": 41,
   "metadata": {},
   "outputs": [
    {
     "data": {
      "text/plain": [
       "gender         0\n",
       "maximum_age    0\n",
       "minimum_age    0\n",
       "nct_id         0\n",
       "dtype: int64"
      ]
     },
     "execution_count": 41,
     "metadata": {},
     "output_type": "execute_result"
    }
   ],
   "source": [
    "target.apply(lambda x: sum(x.isnull()))"
   ]
  },
  {
   "cell_type": "code",
   "execution_count": 42,
   "metadata": {},
   "outputs": [
    {
     "data": {
      "text/plain": [
       "All       65\n",
       "Female     2\n",
       "Male       2\n",
       "Name: gender, dtype: int64"
      ]
     },
     "execution_count": 42,
     "metadata": {},
     "output_type": "execute_result"
    }
   ],
   "source": [
    "target.gender.value_counts()"
   ]
  },
  {
   "cell_type": "code",
   "execution_count": 43,
   "metadata": {},
   "outputs": [
    {
     "data": {
      "text/plain": [
       "18 Years    51\n",
       "N/A          5\n",
       "20 Years     3\n",
       "35 Years     2\n",
       "30 Years     2\n",
       "50 Years     1\n",
       "40 Years     1\n",
       "16 Years     1\n",
       "6 Years      1\n",
       "21 Years     1\n",
       "25 Years     1\n",
       "Name: minimum_age, dtype: int64"
      ]
     },
     "execution_count": 43,
     "metadata": {},
     "output_type": "execute_result"
    }
   ],
   "source": [
    "target.minimum_age.value_counts()"
   ]
  },
  {
   "cell_type": "code",
   "execution_count": 44,
   "metadata": {},
   "outputs": [
    {
     "data": {
      "text/plain": [
       "N/A         41\n",
       "75 Years     5\n",
       "70 Years     5\n",
       "80 Years     4\n",
       "65 Years     4\n",
       "50 Years     2\n",
       "85 Years     2\n",
       "30 Days      1\n",
       "95 Years     1\n",
       "45 Years     1\n",
       "59 Years     1\n",
       "90 Years     1\n",
       "18 Years     1\n",
       "Name: maximum_age, dtype: int64"
      ]
     },
     "execution_count": 44,
     "metadata": {},
     "output_type": "execute_result"
    }
   ],
   "source": [
    "target.maximum_age.value_counts()"
   ]
  },
  {
   "cell_type": "code",
   "execution_count": 64,
   "metadata": {},
   "outputs": [
    {
     "data": {
      "text/html": [
       "<div>\n",
       "<style>\n",
       "    .dataframe thead tr:only-child th {\n",
       "        text-align: right;\n",
       "    }\n",
       "\n",
       "    .dataframe thead th {\n",
       "        text-align: left;\n",
       "    }\n",
       "\n",
       "    .dataframe tbody tr th {\n",
       "        vertical-align: top;\n",
       "    }\n",
       "</style>\n",
       "<table border=\"1\" class=\"dataframe\">\n",
       "  <thead>\n",
       "    <tr style=\"text-align: right;\">\n",
       "      <th></th>\n",
       "      <th>gender</th>\n",
       "      <th>maximum_age</th>\n",
       "      <th>minimum_age</th>\n",
       "      <th>nct_id</th>\n",
       "    </tr>\n",
       "  </thead>\n",
       "  <tbody>\n",
       "    <tr>\n",
       "      <th>3</th>\n",
       "      <td>All</td>\n",
       "      <td>30 Days</td>\n",
       "      <td>N/A</td>\n",
       "      <td>NCT01215240</td>\n",
       "    </tr>\n",
       "  </tbody>\n",
       "</table>\n",
       "</div>"
      ],
      "text/plain": [
       "  gender maximum_age minimum_age       nct_id\n",
       "3    All     30 Days         N/A  NCT01215240"
      ]
     },
     "execution_count": 64,
     "metadata": {},
     "output_type": "execute_result"
    }
   ],
   "source": [
    "target[target.maximum_age=='30 Days']"
   ]
  },
  {
   "cell_type": "code",
   "execution_count": 65,
   "metadata": {
    "collapsed": true
   },
   "outputs": [],
   "source": [
    "#replacing 30 Days with fraction of year = .08 Years (1 month)\n",
    "target['maximum_age'] = target['maximum_age'].replace(['30 Days'], '0.08 Years')\n",
    "\n",
    "'''Replacing N/A with 0 in minimum age'''\n",
    "target['minimum_age'] = target['minimum_age'].replace(['N/A'], '0')\n",
    "\n",
    "'''Replacing N/A with 150 in maximum age'''\n",
    "target['maximum_age'] = target['maximum_age'].replace(['N/A'], '150 Years')\n",
    "\n",
    "'''Split and Convert string to Float'''\n",
    "target[\"minimum_age\"] = target[\"minimum_age\"].str.replace(\" Years\",\"\").astype(float)\n",
    "\n",
    "target[\"maximum_age\"] = target[\"maximum_age\"].str.replace(\" Years\",\"\").astype(float)"
   ]
  },
  {
   "cell_type": "code",
   "execution_count": 66,
   "metadata": {},
   "outputs": [
    {
     "data": {
      "text/plain": [
       "150.00    41\n",
       "70.00      5\n",
       "75.00      5\n",
       "65.00      4\n",
       "80.00      4\n",
       "85.00      2\n",
       "50.00      2\n",
       "95.00      1\n",
       "0.08       1\n",
       "45.00      1\n",
       "59.00      1\n",
       "18.00      1\n",
       "90.00      1\n",
       "Name: maximum_age, dtype: int64"
      ]
     },
     "execution_count": 66,
     "metadata": {},
     "output_type": "execute_result"
    }
   ],
   "source": [
    "target.maximum_age.value_counts()"
   ]
  },
  {
   "cell_type": "code",
   "execution_count": 54,
   "metadata": {},
   "outputs": [
    {
     "data": {
      "text/html": [
       "<div>\n",
       "<style>\n",
       "    .dataframe thead tr:only-child th {\n",
       "        text-align: right;\n",
       "    }\n",
       "\n",
       "    .dataframe thead th {\n",
       "        text-align: left;\n",
       "    }\n",
       "\n",
       "    .dataframe tbody tr th {\n",
       "        vertical-align: top;\n",
       "    }\n",
       "</style>\n",
       "<table border=\"1\" class=\"dataframe\">\n",
       "  <thead>\n",
       "    <tr style=\"text-align: right;\">\n",
       "      <th></th>\n",
       "      <th>admission_location</th>\n",
       "      <th>admission_type</th>\n",
       "      <th>admittime</th>\n",
       "      <th>deathtime</th>\n",
       "      <th>diagnosis</th>\n",
       "      <th>discharge_location</th>\n",
       "      <th>dischtime</th>\n",
       "      <th>edouttime</th>\n",
       "      <th>edregtime</th>\n",
       "      <th>ethnicity</th>\n",
       "      <th>hadm_id</th>\n",
       "      <th>has_chartevents_data</th>\n",
       "      <th>hospital_expire_flag</th>\n",
       "      <th>insurance</th>\n",
       "      <th>language</th>\n",
       "      <th>marital_status</th>\n",
       "      <th>religion</th>\n",
       "      <th>row_id</th>\n",
       "      <th>subject_id</th>\n",
       "    </tr>\n",
       "  </thead>\n",
       "  <tbody>\n",
       "    <tr>\n",
       "      <th>18</th>\n",
       "      <td>EMERGENCY ROOM ADMIT</td>\n",
       "      <td>EMERGENCY</td>\n",
       "      <td>2183-08-21T16:48:00.000Z</td>\n",
       "      <td>None</td>\n",
       "      <td>CONGESTIVE HEART FAILURE</td>\n",
       "      <td>HOME HEALTH CARE</td>\n",
       "      <td>2183-08-26T18:54:00.000Z</td>\n",
       "      <td>2183-08-21T17:45:00.000Z</td>\n",
       "      <td>2183-08-21T05:58:00.000Z</td>\n",
       "      <td>WHITE</td>\n",
       "      <td>188670</td>\n",
       "      <td>1</td>\n",
       "      <td>0</td>\n",
       "      <td>Medicare</td>\n",
       "      <td>None</td>\n",
       "      <td>MARRIED</td>\n",
       "      <td>JEWISH</td>\n",
       "      <td>39</td>\n",
       "      <td>37</td>\n",
       "    </tr>\n",
       "  </tbody>\n",
       "</table>\n",
       "</div>"
      ],
      "text/plain": [
       "      admission_location admission_type                 admittime deathtime  \\\n",
       "18  EMERGENCY ROOM ADMIT      EMERGENCY  2183-08-21T16:48:00.000Z      None   \n",
       "\n",
       "                   diagnosis discharge_location                 dischtime  \\\n",
       "18  CONGESTIVE HEART FAILURE   HOME HEALTH CARE  2183-08-26T18:54:00.000Z   \n",
       "\n",
       "                   edouttime                 edregtime ethnicity  hadm_id  \\\n",
       "18  2183-08-21T17:45:00.000Z  2183-08-21T05:58:00.000Z     WHITE   188670   \n",
       "\n",
       "    has_chartevents_data  hospital_expire_flag insurance language  \\\n",
       "18                     1                     0  Medicare     None   \n",
       "\n",
       "   marital_status religion  row_id  subject_id  \n",
       "18        MARRIED   JEWISH      39          37  "
      ]
     },
     "execution_count": 54,
     "metadata": {},
     "output_type": "execute_result"
    }
   ],
   "source": [
    "heartpatients.head(1)"
   ]
  },
  {
   "cell_type": "code",
   "execution_count": 56,
   "metadata": {
    "collapsed": true
   },
   "outputs": [],
   "source": [
    "#Importing patients and combining with heartpatients of admissions\n",
    "url = \"http://ec2-54-88-151-77.compute-1.amazonaws.com:3001/v1/patients?limit=50000&offset=0\"\n",
    "conn = requests.get(url).json()\n",
    "file = conn['patients']\n",
    "patients =  pd.DataFrame.from_dict(file, orient='columns')"
   ]
  },
  {
   "cell_type": "code",
   "execution_count": 57,
   "metadata": {
    "collapsed": true
   },
   "outputs": [],
   "source": [
    "patientdf = pd.merge(patients,heartpatients, on=['subject_id'], how = 'inner')\n",
    "#len(patientdf)"
   ]
  },
  {
   "cell_type": "code",
   "execution_count": 58,
   "metadata": {},
   "outputs": [
    {
     "data": {
      "text/html": [
       "<div>\n",
       "<style>\n",
       "    .dataframe thead tr:only-child th {\n",
       "        text-align: right;\n",
       "    }\n",
       "\n",
       "    .dataframe thead th {\n",
       "        text-align: left;\n",
       "    }\n",
       "\n",
       "    .dataframe tbody tr th {\n",
       "        vertical-align: top;\n",
       "    }\n",
       "</style>\n",
       "<table border=\"1\" class=\"dataframe\">\n",
       "  <thead>\n",
       "    <tr style=\"text-align: right;\">\n",
       "      <th></th>\n",
       "      <th>subject_id</th>\n",
       "      <th>gender</th>\n",
       "      <th>age</th>\n",
       "    </tr>\n",
       "  </thead>\n",
       "  <tbody>\n",
       "    <tr>\n",
       "      <th>0</th>\n",
       "      <td>253</td>\n",
       "      <td>0</td>\n",
       "      <td>78.972603</td>\n",
       "    </tr>\n",
       "  </tbody>\n",
       "</table>\n",
       "</div>"
      ],
      "text/plain": [
       "   subject_id  gender        age\n",
       "0         253       0  78.972603"
      ]
     },
     "execution_count": 58,
     "metadata": {},
     "output_type": "execute_result"
    }
   ],
   "source": [
    "#Selecting columns\n",
    "inpatient = patientdf[['subject_id','dob','dod','gender']].copy()\n",
    "inpatient['gender'] = inpatient['gender'].replace(['M'], '1')\n",
    "inpatient['gender'] = inpatient['gender'].replace(['F'], '0')\n",
    "inpatient['gender'] = inpatient.gender.astype(int)\n",
    "inpatient['dod'] = inpatient.dod.fillna('')\n",
    "inpatient['dod'] = inpatient['dod'].replace('', '2168-10-28 00:00:00')\n",
    "inpatient['dob'] = pd.to_datetime(inpatient['dob'])\n",
    "inpatient['dod'] = pd.to_datetime(inpatient['dod'])\n",
    "inpatient['age'] = inpatient['dod'] - inpatient['dob']\n",
    "inpatient['age'] = inpatient.age.dt.days\n",
    "inpatient['age'] = inpatient['age']/365\n",
    "inpatient = inpatient.drop(['dob','dod'],axis = 1)\n",
    "\n",
    "#Dropping rows whose age is neagtive and whose age is above 150\n",
    "inpatient = inpatient.drop(inpatient[inpatient.age < 0].index)\n",
    "inpatient = inpatient.drop(inpatient[inpatient.age > 130].index)\n",
    "\n",
    "inpatient.head(1)"
   ]
  },
  {
   "cell_type": "code",
   "execution_count": 59,
   "metadata": {},
   "outputs": [
    {
     "data": {
      "text/plain": [
       "<matplotlib.axes._subplots.AxesSubplot at 0x1c4d9a21198>"
      ]
     },
     "execution_count": 59,
     "metadata": {},
     "output_type": "execute_result"
    },
    {
     "data": {
      "image/png": "[encoded data removed]",
      "text/plain": [
       "<matplotlib.figure.Figure at 0x1c4c15c2160>"
      ]
     },
     "metadata": {},
     "output_type": "display_data"
    }
   ],
   "source": [
    "%matplotlib inline\n",
    "inpatient.age.hist(bins = 50)"
   ]
  },
  {
   "cell_type": "code",
   "execution_count": 60,
   "metadata": {},
   "outputs": [
    {
     "data": {
      "text/plain": [
       "<matplotlib.axes._subplots.AxesSubplot at 0x1c4d9a64a90>"
      ]
     },
     "execution_count": 60,
     "metadata": {},
     "output_type": "execute_result"
    },
    {
     "data": {
      "image/png": "[encoded data removed]",
      "text/plain": [
       "<matplotlib.figure.Figure at 0x1c4c9863e48>"
      ]
     },
     "metadata": {},
     "output_type": "display_data"
    }
   ],
   "source": [
    "inpatient.gender.hist()"
   ]
  },
  {
   "cell_type": "code",
   "execution_count": 67,
   "metadata": {
    "collapsed": true
   },
   "outputs": [],
   "source": [
    "#Replacing male with 1 in target| Replacing female with 1 in target| Replacing ALL with 2 in target\n",
    "target['gender'] = target['gender'].replace(['Male'], '1')\n",
    "target['gender'] = target['gender'].replace(['Female'], '0')\n",
    "target['gender'] = target['gender'].replace(['All'], '2')\n",
    "target.maximum_age = target.maximum_age.astype(float)\n",
    "target.minimum_age = target.minimum_age.astype(float)\n",
    "target.gender = target.gender.astype(int)"
   ]
  },
  {
   "cell_type": "code",
   "execution_count": 68,
   "metadata": {},
   "outputs": [
    {
     "data": {
      "text/plain": [
       "2    65\n",
       "1     2\n",
       "0     2\n",
       "Name: gender, dtype: int64"
      ]
     },
     "execution_count": 68,
     "metadata": {},
     "output_type": "execute_result"
    }
   ],
   "source": [
    "target.gender.value_counts()"
   ]
  },
  {
   "cell_type": "code",
   "execution_count": 72,
   "metadata": {
    "collapsed": true
   },
   "outputs": [],
   "source": [
    "#Selecting that specific study needing a female patient\n",
    "#target[target.gender == 0]"
   ]
  },
  {
   "cell_type": "code",
   "execution_count": 783,
   "metadata": {
    "collapsed": true
   },
   "outputs": [],
   "source": [
    "#adding a study NCTID to inpatient\n",
    "#inpatient['NCT00007358'] = ''"
   ]
  },
  {
   "cell_type": "code",
   "execution_count": null,
   "metadata": {
    "collapsed": true
   },
   "outputs": [],
   "source": []
  },
  {
   "cell_type": "code",
   "execution_count": 741,
   "metadata": {
    "collapsed": true
   },
   "outputs": [],
   "source": [
    "#Checking eligibility for study NCT00007358\n",
    "def eligible(gender,age):\n",
    "    if gender == 0:\n",
    "        if age >=16 and age <=50:\n",
    "            return 1\n",
    "        else:\n",
    "            return 0\n",
    "    else:\n",
    "        return 0"
   ]
  },
  {
   "cell_type": "code",
   "execution_count": 73,
   "metadata": {
    "collapsed": true
   },
   "outputs": [],
   "source": [
    "target = (target.drop_duplicates())"
   ]
  },
  {
   "cell_type": "code",
   "execution_count": 74,
   "metadata": {},
   "outputs": [
    {
     "data": {
      "text/html": [
       "<div>\n",
       "<style>\n",
       "    .dataframe thead tr:only-child th {\n",
       "        text-align: right;\n",
       "    }\n",
       "\n",
       "    .dataframe thead th {\n",
       "        text-align: left;\n",
       "    }\n",
       "\n",
       "    .dataframe tbody tr th {\n",
       "        vertical-align: top;\n",
       "    }\n",
       "</style>\n",
       "<table border=\"1\" class=\"dataframe\">\n",
       "  <thead>\n",
       "    <tr style=\"text-align: right;\">\n",
       "      <th></th>\n",
       "      <th>gender</th>\n",
       "      <th>maximum_age</th>\n",
       "      <th>minimum_age</th>\n",
       "      <th>nct_id</th>\n",
       "    </tr>\n",
       "  </thead>\n",
       "  <tbody>\n",
       "    <tr>\n",
       "      <th>58</th>\n",
       "      <td>0</td>\n",
       "      <td>45.0</td>\n",
       "      <td>25.0</td>\n",
       "      <td>NCT00760253</td>\n",
       "    </tr>\n",
       "    <tr>\n",
       "      <th>59</th>\n",
       "      <td>0</td>\n",
       "      <td>50.0</td>\n",
       "      <td>18.0</td>\n",
       "      <td>NCT00759733</td>\n",
       "    </tr>\n",
       "  </tbody>\n",
       "</table>\n",
       "</div>"
      ],
      "text/plain": [
       "    gender  maximum_age  minimum_age       nct_id\n",
       "58       0         45.0         25.0  NCT00760253\n",
       "59       0         50.0         18.0  NCT00759733"
      ]
     },
     "execution_count": 74,
     "metadata": {},
     "output_type": "execute_result"
    }
   ],
   "source": [
    "target[target['gender']==0]"
   ]
  },
  {
   "cell_type": "code",
   "execution_count": 788,
   "metadata": {
    "collapsed": true
   },
   "outputs": [],
   "source": [
    "#for index, row in inpatient.iterrows():\n",
    "#    (inpatient['NCT00007358'].iloc[index]) = eligible((inpatient['gender'].iloc[index]),(inpatient['age'].iloc[index]))\n",
    "#    print(inpatient['NCT00007358'].iloc[index])\n",
    "\n",
    "#Applying lambda to generate eligibility of a study\n",
    "inpatient['NCT00007358'] = inpatient.apply(lambda x: eligible(x['gender'], x['age']), axis=1)"
   ]
  },
  {
   "cell_type": "code",
   "execution_count": 791,
   "metadata": {
    "collapsed": true
   },
   "outputs": [],
   "source": [
    "womenheartstudy = inpatient[inpatient['NCT00007358']==1]"
   ]
  },
  {
   "cell_type": "code",
   "execution_count": 870,
   "metadata": {},
   "outputs": [
    {
     "data": {
      "text/plain": [
       "<matplotlib.axes._subplots.AxesSubplot at 0x1fb0e971c88>"
      ]
     },
     "execution_count": 870,
     "metadata": {},
     "output_type": "execute_result"
    },
    {
     "data": {
      "image/png": "[encoded data removed]",
      "text/plain": [
       "<matplotlib.figure.Figure at 0x1fb0e748978>"
      ]
     },
     "metadata": {},
     "output_type": "display_data"
    }
   ],
   "source": [
    "womenheartstudy['age'].hist(bins=40)"
   ]
  },
  {
   "cell_type": "code",
   "execution_count": 848,
   "metadata": {},
   "outputs": [
    {
     "name": "stdout",
     "output_type": "stream",
     "text": [
      "gender\n",
      "maximum_age\n",
      "minimum_age\n",
      "nct_id\n"
     ]
    }
   ],
   "source": [
    "for x in target:\n",
    "   print(x)\n",
    "#target['nct_id'][2]"
   ]
  },
  {
   "cell_type": "code",
   "execution_count": 855,
   "metadata": {
    "collapsed": true
   },
   "outputs": [],
   "source": [
    "inpatient = inpatient.drop(['NCT00382525','NCT00542854'],axis=1)"
   ]
  },
  {
   "cell_type": "code",
   "execution_count": 857,
   "metadata": {
    "collapsed": true
   },
   "outputs": [],
   "source": [
    "#Visualizations\n",
    "import seaborn as sns\n",
    "import matplotlib.pyplot as plt\n",
    "sns.set(style=\"whitegrid\")\n"
   ]
  },
  {
   "cell_type": "code",
   "execution_count": 864,
   "metadata": {},
   "outputs": [
    {
     "data": {
      "text/plain": [
       "<matplotlib.axes._subplots.AxesSubplot at 0x1fb0e2ccdd8>"
      ]
     },
     "execution_count": 864,
     "metadata": {},
     "output_type": "execute_result"
    },
    {
     "data": {
      "image/png": "[encoded data removed]",
      "text/plain": [
       "<matplotlib.figure.Figure at 0x1fb0e37a160>"
      ]
     },
     "metadata": {},
     "output_type": "display_data"
    }
   ],
   "source": [
    "sns.regplot(womenheartstudy['age'],womenheartstudy['NCT00007358'])"
   ]
  },
  {
   "cell_type": "code",
   "execution_count": 874,
   "metadata": {},
   "outputs": [
    {
     "data": {
      "text/plain": [
       "<matplotlib.axes._subplots.AxesSubplot at 0x1fb0eb04978>"
      ]
     },
     "execution_count": 874,
     "metadata": {},
     "output_type": "execute_result"
    },
    {
     "data": {
      "image/png": "[encoded data removed]",
      "text/plain": [
       "<matplotlib.figure.Figure at 0x1fb0eb5e8d0>"
      ]
     },
     "metadata": {},
     "output_type": "display_data"
    }
   ],
   "source": [
    "sns.boxplot(womenheartstudy['age'])"
   ]
  },
  {
   "cell_type": "code",
   "execution_count": 77,
   "metadata": {
    "collapsed": true
   },
   "outputs": [],
   "source": [
    "inpatient=inpatient.reset_index(drop=True)"
   ]
  },
  {
   "cell_type": "code",
   "execution_count": 80,
   "metadata": {
    "collapsed": true
   },
   "outputs": [],
   "source": [
    "for x in range(0,inpatient.shape[0]):\n",
    "    for j in range(0,target.shape[0]):\n",
    "        if (target.loc[j,'gender']==2) & (target.loc[j,'minimum_age']<=inpatient.loc[x,'age']<=target.loc[j,'maximum_age']):\n",
    "            inpatient.loc[x,target.loc[j,'nct_id']]=1\n",
    "        elif (target.loc[j,'gender']==inpatient.loc[x,'gender']) & (target.loc[j,'minimum_age']<=inpatient.loc[x,'age']<=target.loc[j,'maximum_age']):\n",
    "            inpatient.loc[x,target.loc[j,'nct_id']]=1 \n",
    " \n"
   ]
  },
  {
   "cell_type": "code",
   "execution_count": 81,
   "metadata": {},
   "outputs": [
    {
     "data": {
      "text/html": [
       "<div>\n",
       "<style>\n",
       "    .dataframe thead tr:only-child th {\n",
       "        text-align: right;\n",
       "    }\n",
       "\n",
       "    .dataframe thead th {\n",
       "        text-align: left;\n",
       "    }\n",
       "\n",
       "    .dataframe tbody tr th {\n",
       "        vertical-align: top;\n",
       "    }\n",
       "</style>\n",
       "<table border=\"1\" class=\"dataframe\">\n",
       "  <thead>\n",
       "    <tr style=\"text-align: right;\">\n",
       "      <th></th>\n",
       "      <th>subject_id</th>\n",
       "      <th>gender</th>\n",
       "      <th>age</th>\n",
       "      <th>NCT01261065</th>\n",
       "      <th>NCT01252030</th>\n",
       "      <th>NCT01242722</th>\n",
       "      <th>NCT01211886</th>\n",
       "      <th>NCT01171625</th>\n",
       "      <th>NCT01166360</th>\n",
       "      <th>NCT01130597</th>\n",
       "      <th>...</th>\n",
       "      <th>NCT00960505</th>\n",
       "      <th>NCT00858845</th>\n",
       "      <th>NCT00804882</th>\n",
       "      <th>NCT00776035</th>\n",
       "      <th>NCT00713635</th>\n",
       "      <th>NCT00973986</th>\n",
       "      <th>NCT00759733</th>\n",
       "      <th>NCT00760253</th>\n",
       "      <th>NCT00829842</th>\n",
       "      <th>NCT01215240</th>\n",
       "    </tr>\n",
       "  </thead>\n",
       "  <tbody>\n",
       "    <tr>\n",
       "      <th>0</th>\n",
       "      <td>253</td>\n",
       "      <td>0</td>\n",
       "      <td>78.972603</td>\n",
       "      <td>1.0</td>\n",
       "      <td>1.0</td>\n",
       "      <td>1.0</td>\n",
       "      <td>1.0</td>\n",
       "      <td>1.0</td>\n",
       "      <td>1.0</td>\n",
       "      <td>1.0</td>\n",
       "      <td>...</td>\n",
       "      <td>NaN</td>\n",
       "      <td>NaN</td>\n",
       "      <td>NaN</td>\n",
       "      <td>NaN</td>\n",
       "      <td>NaN</td>\n",
       "      <td>NaN</td>\n",
       "      <td>NaN</td>\n",
       "      <td>NaN</td>\n",
       "      <td>NaN</td>\n",
       "      <td>NaN</td>\n",
       "    </tr>\n",
       "    <tr>\n",
       "      <th>1</th>\n",
       "      <td>665</td>\n",
       "      <td>1</td>\n",
       "      <td>67.753425</td>\n",
       "      <td>1.0</td>\n",
       "      <td>1.0</td>\n",
       "      <td>1.0</td>\n",
       "      <td>1.0</td>\n",
       "      <td>1.0</td>\n",
       "      <td>1.0</td>\n",
       "      <td>1.0</td>\n",
       "      <td>...</td>\n",
       "      <td>NaN</td>\n",
       "      <td>NaN</td>\n",
       "      <td>NaN</td>\n",
       "      <td>NaN</td>\n",
       "      <td>NaN</td>\n",
       "      <td>NaN</td>\n",
       "      <td>NaN</td>\n",
       "      <td>NaN</td>\n",
       "      <td>NaN</td>\n",
       "      <td>NaN</td>\n",
       "    </tr>\n",
       "    <tr>\n",
       "      <th>2</th>\n",
       "      <td>702</td>\n",
       "      <td>1</td>\n",
       "      <td>26.293151</td>\n",
       "      <td>1.0</td>\n",
       "      <td>NaN</td>\n",
       "      <td>1.0</td>\n",
       "      <td>1.0</td>\n",
       "      <td>1.0</td>\n",
       "      <td>1.0</td>\n",
       "      <td>1.0</td>\n",
       "      <td>...</td>\n",
       "      <td>1.0</td>\n",
       "      <td>1.0</td>\n",
       "      <td>1.0</td>\n",
       "      <td>1.0</td>\n",
       "      <td>1.0</td>\n",
       "      <td>NaN</td>\n",
       "      <td>NaN</td>\n",
       "      <td>NaN</td>\n",
       "      <td>NaN</td>\n",
       "      <td>NaN</td>\n",
       "    </tr>\n",
       "    <tr>\n",
       "      <th>3</th>\n",
       "      <td>704</td>\n",
       "      <td>1</td>\n",
       "      <td>84.698630</td>\n",
       "      <td>1.0</td>\n",
       "      <td>NaN</td>\n",
       "      <td>1.0</td>\n",
       "      <td>1.0</td>\n",
       "      <td>1.0</td>\n",
       "      <td>1.0</td>\n",
       "      <td>1.0</td>\n",
       "      <td>...</td>\n",
       "      <td>NaN</td>\n",
       "      <td>NaN</td>\n",
       "      <td>NaN</td>\n",
       "      <td>NaN</td>\n",
       "      <td>NaN</td>\n",
       "      <td>NaN</td>\n",
       "      <td>NaN</td>\n",
       "      <td>NaN</td>\n",
       "      <td>NaN</td>\n",
       "      <td>NaN</td>\n",
       "    </tr>\n",
       "    <tr>\n",
       "      <th>4</th>\n",
       "      <td>711</td>\n",
       "      <td>1</td>\n",
       "      <td>85.279452</td>\n",
       "      <td>1.0</td>\n",
       "      <td>NaN</td>\n",
       "      <td>1.0</td>\n",
       "      <td>1.0</td>\n",
       "      <td>1.0</td>\n",
       "      <td>1.0</td>\n",
       "      <td>1.0</td>\n",
       "      <td>...</td>\n",
       "      <td>NaN</td>\n",
       "      <td>NaN</td>\n",
       "      <td>NaN</td>\n",
       "      <td>NaN</td>\n",
       "      <td>NaN</td>\n",
       "      <td>NaN</td>\n",
       "      <td>NaN</td>\n",
       "      <td>NaN</td>\n",
       "      <td>NaN</td>\n",
       "      <td>NaN</td>\n",
       "    </tr>\n",
       "  </tbody>\n",
       "</table>\n",
       "<p>5 rows × 72 columns</p>\n",
       "</div>"
      ],
      "text/plain": [
       "   subject_id  gender        age  NCT01261065  NCT01252030  NCT01242722  \\\n",
       "0         253       0  78.972603          1.0          1.0          1.0   \n",
       "1         665       1  67.753425          1.0          1.0          1.0   \n",
       "2         702       1  26.293151          1.0          NaN          1.0   \n",
       "3         704       1  84.698630          1.0          NaN          1.0   \n",
       "4         711       1  85.279452          1.0          NaN          1.0   \n",
       "\n",
       "   NCT01211886  NCT01171625  NCT01166360  NCT01130597     ...       \\\n",
       "0          1.0          1.0          1.0          1.0     ...        \n",
       "1          1.0          1.0          1.0          1.0     ...        \n",
       "2          1.0          1.0          1.0          1.0     ...        \n",
       "3          1.0          1.0          1.0          1.0     ...        \n",
       "4          1.0          1.0          1.0          1.0     ...        \n",
       "\n",
       "   NCT00960505  NCT00858845  NCT00804882  NCT00776035  NCT00713635  \\\n",
       "0          NaN          NaN          NaN          NaN          NaN   \n",
       "1          NaN          NaN          NaN          NaN          NaN   \n",
       "2          1.0          1.0          1.0          1.0          1.0   \n",
       "3          NaN          NaN          NaN          NaN          NaN   \n",
       "4          NaN          NaN          NaN          NaN          NaN   \n",
       "\n",
       "   NCT00973986  NCT00759733  NCT00760253  NCT00829842  NCT01215240  \n",
       "0          NaN          NaN          NaN          NaN          NaN  \n",
       "1          NaN          NaN          NaN          NaN          NaN  \n",
       "2          NaN          NaN          NaN          NaN          NaN  \n",
       "3          NaN          NaN          NaN          NaN          NaN  \n",
       "4          NaN          NaN          NaN          NaN          NaN  \n",
       "\n",
       "[5 rows x 72 columns]"
      ]
     },
     "execution_count": 81,
     "metadata": {},
     "output_type": "execute_result"
    }
   ],
   "source": [
    "inpatient.head(5)"
   ]
  },
  {
   "cell_type": "code",
   "execution_count": 82,
   "metadata": {},
   "outputs": [
    {
     "data": {
      "text/html": [
       "<div>\n",
       "<style>\n",
       "    .dataframe thead tr:only-child th {\n",
       "        text-align: right;\n",
       "    }\n",
       "\n",
       "    .dataframe thead th {\n",
       "        text-align: left;\n",
       "    }\n",
       "\n",
       "    .dataframe tbody tr th {\n",
       "        vertical-align: top;\n",
       "    }\n",
       "</style>\n",
       "<table border=\"1\" class=\"dataframe\">\n",
       "  <thead>\n",
       "    <tr style=\"text-align: right;\">\n",
       "      <th></th>\n",
       "      <th>gender</th>\n",
       "      <th>maximum_age</th>\n",
       "      <th>minimum_age</th>\n",
       "      <th>nct_id</th>\n",
       "    </tr>\n",
       "  </thead>\n",
       "  <tbody>\n",
       "    <tr>\n",
       "      <th>0</th>\n",
       "      <td>2</td>\n",
       "      <td>150.00</td>\n",
       "      <td>18.0</td>\n",
       "      <td>NCT01261065</td>\n",
       "    </tr>\n",
       "    <tr>\n",
       "      <th>1</th>\n",
       "      <td>2</td>\n",
       "      <td>80.00</td>\n",
       "      <td>40.0</td>\n",
       "      <td>NCT01252030</td>\n",
       "    </tr>\n",
       "    <tr>\n",
       "      <th>2</th>\n",
       "      <td>2</td>\n",
       "      <td>150.00</td>\n",
       "      <td>18.0</td>\n",
       "      <td>NCT01242722</td>\n",
       "    </tr>\n",
       "    <tr>\n",
       "      <th>3</th>\n",
       "      <td>2</td>\n",
       "      <td>0.08</td>\n",
       "      <td>0.0</td>\n",
       "      <td>NCT01215240</td>\n",
       "    </tr>\n",
       "    <tr>\n",
       "      <th>4</th>\n",
       "      <td>2</td>\n",
       "      <td>150.00</td>\n",
       "      <td>18.0</td>\n",
       "      <td>NCT01211886</td>\n",
       "    </tr>\n",
       "  </tbody>\n",
       "</table>\n",
       "</div>"
      ],
      "text/plain": [
       "   gender  maximum_age  minimum_age       nct_id\n",
       "0       2       150.00         18.0  NCT01261065\n",
       "1       2        80.00         40.0  NCT01252030\n",
       "2       2       150.00         18.0  NCT01242722\n",
       "3       2         0.08          0.0  NCT01215240\n",
       "4       2       150.00         18.0  NCT01211886"
      ]
     },
     "execution_count": 82,
     "metadata": {},
     "output_type": "execute_result"
    }
   ],
   "source": [
    "target.head()"
   ]
  },
  {
   "cell_type": "code",
   "execution_count": 84,
   "metadata": {},
   "outputs": [
    {
     "data": {
      "text/html": [
       "<div>\n",
       "<style>\n",
       "    .dataframe thead tr:only-child th {\n",
       "        text-align: right;\n",
       "    }\n",
       "\n",
       "    .dataframe thead th {\n",
       "        text-align: left;\n",
       "    }\n",
       "\n",
       "    .dataframe tbody tr th {\n",
       "        vertical-align: top;\n",
       "    }\n",
       "</style>\n",
       "<table border=\"1\" class=\"dataframe\">\n",
       "  <thead>\n",
       "    <tr style=\"text-align: right;\">\n",
       "      <th></th>\n",
       "      <th>gender</th>\n",
       "      <th>maximum_age</th>\n",
       "      <th>minimum_age</th>\n",
       "      <th>nct_id</th>\n",
       "    </tr>\n",
       "  </thead>\n",
       "  <tbody>\n",
       "    <tr>\n",
       "      <th>58</th>\n",
       "      <td>0</td>\n",
       "      <td>45.0</td>\n",
       "      <td>25.0</td>\n",
       "      <td>NCT00760253</td>\n",
       "    </tr>\n",
       "    <tr>\n",
       "      <th>59</th>\n",
       "      <td>0</td>\n",
       "      <td>50.0</td>\n",
       "      <td>18.0</td>\n",
       "      <td>NCT00759733</td>\n",
       "    </tr>\n",
       "  </tbody>\n",
       "</table>\n",
       "</div>"
      ],
      "text/plain": [
       "    gender  maximum_age  minimum_age       nct_id\n",
       "58       0         45.0         25.0  NCT00760253\n",
       "59       0         50.0         18.0  NCT00759733"
      ]
     },
     "execution_count": 84,
     "metadata": {},
     "output_type": "execute_result"
    }
   ],
   "source": [
    "target[target.gender==0]"
   ]
  },
  {
   "cell_type": "code",
   "execution_count": 95,
   "metadata": {},
   "outputs": [
    {
     "data": {
      "text/html": [
       "<div>\n",
       "<style>\n",
       "    .dataframe thead tr:only-child th {\n",
       "        text-align: right;\n",
       "    }\n",
       "\n",
       "    .dataframe thead th {\n",
       "        text-align: left;\n",
       "    }\n",
       "\n",
       "    .dataframe tbody tr th {\n",
       "        vertical-align: top;\n",
       "    }\n",
       "</style>\n",
       "<table border=\"1\" class=\"dataframe\">\n",
       "  <thead>\n",
       "    <tr style=\"text-align: right;\">\n",
       "      <th></th>\n",
       "      <th>gender</th>\n",
       "      <th>maximum_age</th>\n",
       "      <th>minimum_age</th>\n",
       "      <th>nct_id</th>\n",
       "    </tr>\n",
       "  </thead>\n",
       "  <tbody>\n",
       "    <tr>\n",
       "      <th>19</th>\n",
       "      <td>1</td>\n",
       "      <td>65.0</td>\n",
       "      <td>35.0</td>\n",
       "      <td>NCT00973986</td>\n",
       "    </tr>\n",
       "    <tr>\n",
       "      <th>51</th>\n",
       "      <td>1</td>\n",
       "      <td>70.0</td>\n",
       "      <td>18.0</td>\n",
       "      <td>NCT00795405</td>\n",
       "    </tr>\n",
       "  </tbody>\n",
       "</table>\n",
       "</div>"
      ],
      "text/plain": [
       "    gender  maximum_age  minimum_age       nct_id\n",
       "19       1         65.0         35.0  NCT00973986\n",
       "51       1         70.0         18.0  NCT00795405"
      ]
     },
     "execution_count": 95,
     "metadata": {},
     "output_type": "execute_result"
    }
   ],
   "source": [
    "target[target.gender==1]"
   ]
  },
  {
   "cell_type": "code",
   "execution_count": 99,
   "metadata": {
    "collapsed": true
   },
   "outputs": [],
   "source": [
    "#inpatient.drop_duplicates()"
   ]
  },
  {
   "cell_type": "code",
   "execution_count": 100,
   "metadata": {},
   "outputs": [
    {
     "name": "stdout",
     "output_type": "stream",
     "text": [
      "<class 'pandas.core.frame.DataFrame'>\n",
      "RangeIndex: 1585 entries, 0 to 1584\n",
      "Data columns (total 72 columns):\n",
      "subject_id     1585 non-null int64\n",
      "gender         1585 non-null int32\n",
      "age            1585 non-null float64\n",
      "NCT01261065    1577 non-null float64\n",
      "NCT01252030    778 non-null float64\n",
      "NCT01242722    1577 non-null float64\n",
      "NCT01211886    1577 non-null float64\n",
      "NCT01171625    1577 non-null float64\n",
      "NCT01166360    1577 non-null float64\n",
      "NCT01130597    1577 non-null float64\n",
      "NCT01125436    1412 non-null float64\n",
      "NCT01105923    1577 non-null float64\n",
      "NCT01091467    1577 non-null float64\n",
      "NCT01077167    1577 non-null float64\n",
      "NCT01071772    837 non-null float64\n",
      "NCT00764075    1577 non-null float64\n",
      "NCT01002456    1585 non-null float64\n",
      "NCT00983190    1577 non-null float64\n",
      "NCT00981253    1520 non-null float64\n",
      "NCT00893178    1577 non-null float64\n",
      "NCT00911703    1577 non-null float64\n",
      "NCT00907764    1577 non-null float64\n",
      "NCT00843245    1577 non-null float64\n",
      "NCT00881439    1577 non-null float64\n",
      "NCT00867984    1577 non-null float64\n",
      "NCT00863265    874 non-null float64\n",
      "NCT00853775    1582 non-null float64\n",
      "NCT00853632    1577 non-null float64\n",
      "NCT00852514    874 non-null float64\n",
      "NCT00848562    1540 non-null float64\n",
      "NCT00842023    1577 non-null float64\n",
      "NCT00840775    1577 non-null float64\n",
      "NCT00839228    1295 non-null float64\n",
      "NCT00839566    1577 non-null float64\n",
      "NCT00838253    1577 non-null float64\n",
      "NCT00837889    1577 non-null float64\n",
      "NCT00810264    1577 non-null float64\n",
      "NCT00799396    1576 non-null float64\n",
      "NCT00798174    1577 non-null float64\n",
      "NCT00777725    1577 non-null float64\n",
      "NCT00774709    1577 non-null float64\n",
      "NCT00761787    1577 non-null float64\n",
      "NCT00762333    1577 non-null float64\n",
      "NCT00762008    1577 non-null float64\n",
      "NCT00758121    1577 non-null float64\n",
      "NCT00757666    1577 non-null float64\n",
      "NCT00757055    1114 non-null float64\n",
      "NCT00701220    1114 non-null float64\n",
      "NCT00660478    1577 non-null float64\n",
      "NCT00669682    1577 non-null float64\n",
      "NCT00665301    1343 non-null float64\n",
      "NCT00617175    1577 non-null float64\n",
      "NCT01149590    667 non-null float64\n",
      "NCT01072994    667 non-null float64\n",
      "NCT00972114    498 non-null float64\n",
      "NCT00966836    499 non-null float64\n",
      "NCT00891241    499 non-null float64\n",
      "NCT00888485    675 non-null float64\n",
      "NCT00878527    667 non-null float64\n",
      "NCT00840463    499 non-null float64\n",
      "NCT00810238    667 non-null float64\n",
      "NCT00795405    302 non-null float64\n",
      "NCT00960505    373 non-null float64\n",
      "NCT00858845    372 non-null float64\n",
      "NCT00804882    268 non-null float64\n",
      "NCT00776035    372 non-null float64\n",
      "NCT00713635    173 non-null float64\n",
      "NCT00973986    183 non-null float64\n",
      "NCT00759733    58 non-null float64\n",
      "NCT00760253    39 non-null float64\n",
      "NCT00829842    8 non-null float64\n",
      "NCT01215240    2 non-null float64\n",
      "dtypes: float64(70), int32(1), int64(1)\n",
      "memory usage: 885.4 KB\n"
     ]
    }
   ],
   "source": [
    "inpatient.info()"
   ]
  },
  {
   "cell_type": "code",
   "execution_count": 102,
   "metadata": {},
   "outputs": [
    {
     "data": {
      "text/html": [
       "<div>\n",
       "<style>\n",
       "    .dataframe thead tr:only-child th {\n",
       "        text-align: right;\n",
       "    }\n",
       "\n",
       "    .dataframe thead th {\n",
       "        text-align: left;\n",
       "    }\n",
       "\n",
       "    .dataframe tbody tr th {\n",
       "        vertical-align: top;\n",
       "    }\n",
       "</style>\n",
       "<table border=\"1\" class=\"dataframe\">\n",
       "  <thead>\n",
       "    <tr style=\"text-align: right;\">\n",
       "      <th></th>\n",
       "      <th>subject_id</th>\n",
       "      <th>gender</th>\n",
       "      <th>age</th>\n",
       "      <th>NCT01261065</th>\n",
       "      <th>NCT01252030</th>\n",
       "      <th>NCT01242722</th>\n",
       "      <th>NCT01211886</th>\n",
       "      <th>NCT01171625</th>\n",
       "      <th>NCT01166360</th>\n",
       "      <th>NCT01130597</th>\n",
       "      <th>...</th>\n",
       "      <th>NCT00960505</th>\n",
       "      <th>NCT00858845</th>\n",
       "      <th>NCT00804882</th>\n",
       "      <th>NCT00776035</th>\n",
       "      <th>NCT00713635</th>\n",
       "      <th>NCT00973986</th>\n",
       "      <th>NCT00759733</th>\n",
       "      <th>NCT00760253</th>\n",
       "      <th>NCT00829842</th>\n",
       "      <th>NCT01215240</th>\n",
       "    </tr>\n",
       "  </thead>\n",
       "  <tbody>\n",
       "    <tr>\n",
       "      <th>170</th>\n",
       "      <td>5296</td>\n",
       "      <td>0</td>\n",
       "      <td>16.523288</td>\n",
       "      <td>NaN</td>\n",
       "      <td>NaN</td>\n",
       "      <td>NaN</td>\n",
       "      <td>NaN</td>\n",
       "      <td>NaN</td>\n",
       "      <td>NaN</td>\n",
       "      <td>NaN</td>\n",
       "      <td>...</td>\n",
       "      <td>NaN</td>\n",
       "      <td>NaN</td>\n",
       "      <td>NaN</td>\n",
       "      <td>NaN</td>\n",
       "      <td>1.0</td>\n",
       "      <td>NaN</td>\n",
       "      <td>NaN</td>\n",
       "      <td>NaN</td>\n",
       "      <td>1.0</td>\n",
       "      <td>NaN</td>\n",
       "    </tr>\n",
       "    <tr>\n",
       "      <th>723</th>\n",
       "      <td>15617</td>\n",
       "      <td>0</td>\n",
       "      <td>4.380822</td>\n",
       "      <td>NaN</td>\n",
       "      <td>NaN</td>\n",
       "      <td>NaN</td>\n",
       "      <td>NaN</td>\n",
       "      <td>NaN</td>\n",
       "      <td>NaN</td>\n",
       "      <td>NaN</td>\n",
       "      <td>...</td>\n",
       "      <td>NaN</td>\n",
       "      <td>NaN</td>\n",
       "      <td>NaN</td>\n",
       "      <td>NaN</td>\n",
       "      <td>1.0</td>\n",
       "      <td>NaN</td>\n",
       "      <td>NaN</td>\n",
       "      <td>NaN</td>\n",
       "      <td>1.0</td>\n",
       "      <td>NaN</td>\n",
       "    </tr>\n",
       "    <tr>\n",
       "      <th>927</th>\n",
       "      <td>26790</td>\n",
       "      <td>1</td>\n",
       "      <td>9.449315</td>\n",
       "      <td>NaN</td>\n",
       "      <td>NaN</td>\n",
       "      <td>NaN</td>\n",
       "      <td>NaN</td>\n",
       "      <td>NaN</td>\n",
       "      <td>NaN</td>\n",
       "      <td>NaN</td>\n",
       "      <td>...</td>\n",
       "      <td>NaN</td>\n",
       "      <td>NaN</td>\n",
       "      <td>NaN</td>\n",
       "      <td>NaN</td>\n",
       "      <td>1.0</td>\n",
       "      <td>NaN</td>\n",
       "      <td>NaN</td>\n",
       "      <td>NaN</td>\n",
       "      <td>1.0</td>\n",
       "      <td>NaN</td>\n",
       "    </tr>\n",
       "    <tr>\n",
       "      <th>971</th>\n",
       "      <td>26188</td>\n",
       "      <td>0</td>\n",
       "      <td>8.484932</td>\n",
       "      <td>NaN</td>\n",
       "      <td>NaN</td>\n",
       "      <td>NaN</td>\n",
       "      <td>NaN</td>\n",
       "      <td>NaN</td>\n",
       "      <td>NaN</td>\n",
       "      <td>NaN</td>\n",
       "      <td>...</td>\n",
       "      <td>NaN</td>\n",
       "      <td>NaN</td>\n",
       "      <td>NaN</td>\n",
       "      <td>NaN</td>\n",
       "      <td>1.0</td>\n",
       "      <td>NaN</td>\n",
       "      <td>NaN</td>\n",
       "      <td>NaN</td>\n",
       "      <td>1.0</td>\n",
       "      <td>NaN</td>\n",
       "    </tr>\n",
       "    <tr>\n",
       "      <th>1270</th>\n",
       "      <td>15789</td>\n",
       "      <td>1</td>\n",
       "      <td>17.739726</td>\n",
       "      <td>NaN</td>\n",
       "      <td>NaN</td>\n",
       "      <td>NaN</td>\n",
       "      <td>NaN</td>\n",
       "      <td>NaN</td>\n",
       "      <td>NaN</td>\n",
       "      <td>NaN</td>\n",
       "      <td>...</td>\n",
       "      <td>NaN</td>\n",
       "      <td>NaN</td>\n",
       "      <td>NaN</td>\n",
       "      <td>NaN</td>\n",
       "      <td>1.0</td>\n",
       "      <td>NaN</td>\n",
       "      <td>NaN</td>\n",
       "      <td>NaN</td>\n",
       "      <td>1.0</td>\n",
       "      <td>NaN</td>\n",
       "    </tr>\n",
       "    <tr>\n",
       "      <th>1522</th>\n",
       "      <td>72781</td>\n",
       "      <td>1</td>\n",
       "      <td>17.295890</td>\n",
       "      <td>NaN</td>\n",
       "      <td>NaN</td>\n",
       "      <td>NaN</td>\n",
       "      <td>NaN</td>\n",
       "      <td>NaN</td>\n",
       "      <td>NaN</td>\n",
       "      <td>NaN</td>\n",
       "      <td>...</td>\n",
       "      <td>NaN</td>\n",
       "      <td>NaN</td>\n",
       "      <td>NaN</td>\n",
       "      <td>NaN</td>\n",
       "      <td>1.0</td>\n",
       "      <td>NaN</td>\n",
       "      <td>NaN</td>\n",
       "      <td>NaN</td>\n",
       "      <td>1.0</td>\n",
       "      <td>NaN</td>\n",
       "    </tr>\n",
       "    <tr>\n",
       "      <th>1547</th>\n",
       "      <td>65449</td>\n",
       "      <td>1</td>\n",
       "      <td>0.000000</td>\n",
       "      <td>NaN</td>\n",
       "      <td>NaN</td>\n",
       "      <td>NaN</td>\n",
       "      <td>NaN</td>\n",
       "      <td>NaN</td>\n",
       "      <td>NaN</td>\n",
       "      <td>NaN</td>\n",
       "      <td>...</td>\n",
       "      <td>NaN</td>\n",
       "      <td>NaN</td>\n",
       "      <td>NaN</td>\n",
       "      <td>NaN</td>\n",
       "      <td>1.0</td>\n",
       "      <td>NaN</td>\n",
       "      <td>NaN</td>\n",
       "      <td>NaN</td>\n",
       "      <td>1.0</td>\n",
       "      <td>1.0</td>\n",
       "    </tr>\n",
       "    <tr>\n",
       "      <th>1548</th>\n",
       "      <td>65449</td>\n",
       "      <td>1</td>\n",
       "      <td>0.000000</td>\n",
       "      <td>NaN</td>\n",
       "      <td>NaN</td>\n",
       "      <td>NaN</td>\n",
       "      <td>NaN</td>\n",
       "      <td>NaN</td>\n",
       "      <td>NaN</td>\n",
       "      <td>NaN</td>\n",
       "      <td>...</td>\n",
       "      <td>NaN</td>\n",
       "      <td>NaN</td>\n",
       "      <td>NaN</td>\n",
       "      <td>NaN</td>\n",
       "      <td>1.0</td>\n",
       "      <td>NaN</td>\n",
       "      <td>NaN</td>\n",
       "      <td>NaN</td>\n",
       "      <td>1.0</td>\n",
       "      <td>1.0</td>\n",
       "    </tr>\n",
       "  </tbody>\n",
       "</table>\n",
       "<p>8 rows × 72 columns</p>\n",
       "</div>"
      ],
      "text/plain": [
       "      subject_id  gender        age  NCT01261065  NCT01252030  NCT01242722  \\\n",
       "170         5296       0  16.523288          NaN          NaN          NaN   \n",
       "723        15617       0   4.380822          NaN          NaN          NaN   \n",
       "927        26790       1   9.449315          NaN          NaN          NaN   \n",
       "971        26188       0   8.484932          NaN          NaN          NaN   \n",
       "1270       15789       1  17.739726          NaN          NaN          NaN   \n",
       "1522       72781       1  17.295890          NaN          NaN          NaN   \n",
       "1547       65449       1   0.000000          NaN          NaN          NaN   \n",
       "1548       65449       1   0.000000          NaN          NaN          NaN   \n",
       "\n",
       "      NCT01211886  NCT01171625  NCT01166360  NCT01130597     ...       \\\n",
       "170           NaN          NaN          NaN          NaN     ...        \n",
       "723           NaN          NaN          NaN          NaN     ...        \n",
       "927           NaN          NaN          NaN          NaN     ...        \n",
       "971           NaN          NaN          NaN          NaN     ...        \n",
       "1270          NaN          NaN          NaN          NaN     ...        \n",
       "1522          NaN          NaN          NaN          NaN     ...        \n",
       "1547          NaN          NaN          NaN          NaN     ...        \n",
       "1548          NaN          NaN          NaN          NaN     ...        \n",
       "\n",
       "      NCT00960505  NCT00858845  NCT00804882  NCT00776035  NCT00713635  \\\n",
       "170           NaN          NaN          NaN          NaN          1.0   \n",
       "723           NaN          NaN          NaN          NaN          1.0   \n",
       "927           NaN          NaN          NaN          NaN          1.0   \n",
       "971           NaN          NaN          NaN          NaN          1.0   \n",
       "1270          NaN          NaN          NaN          NaN          1.0   \n",
       "1522          NaN          NaN          NaN          NaN          1.0   \n",
       "1547          NaN          NaN          NaN          NaN          1.0   \n",
       "1548          NaN          NaN          NaN          NaN          1.0   \n",
       "\n",
       "      NCT00973986  NCT00759733  NCT00760253  NCT00829842  NCT01215240  \n",
       "170           NaN          NaN          NaN          1.0          NaN  \n",
       "723           NaN          NaN          NaN          1.0          NaN  \n",
       "927           NaN          NaN          NaN          1.0          NaN  \n",
       "971           NaN          NaN          NaN          1.0          NaN  \n",
       "1270          NaN          NaN          NaN          1.0          NaN  \n",
       "1522          NaN          NaN          NaN          1.0          NaN  \n",
       "1547          NaN          NaN          NaN          1.0          1.0  \n",
       "1548          NaN          NaN          NaN          1.0          1.0  \n",
       "\n",
       "[8 rows x 72 columns]"
      ]
     },
     "execution_count": 102,
     "metadata": {},
     "output_type": "execute_result"
    }
   ],
   "source": [
    "inpatient[inpatient.NCT00829842==1.0]"
   ]
  },
  {
   "cell_type": "code",
   "execution_count": 103,
   "metadata": {},
   "outputs": [
    {
     "data": {
      "text/html": [
       "<div>\n",
       "<style>\n",
       "    .dataframe thead tr:only-child th {\n",
       "        text-align: right;\n",
       "    }\n",
       "\n",
       "    .dataframe thead th {\n",
       "        text-align: left;\n",
       "    }\n",
       "\n",
       "    .dataframe tbody tr th {\n",
       "        vertical-align: top;\n",
       "    }\n",
       "</style>\n",
       "<table border=\"1\" class=\"dataframe\">\n",
       "  <thead>\n",
       "    <tr style=\"text-align: right;\">\n",
       "      <th></th>\n",
       "      <th>gender</th>\n",
       "      <th>maximum_age</th>\n",
       "      <th>minimum_age</th>\n",
       "      <th>nct_id</th>\n",
       "    </tr>\n",
       "  </thead>\n",
       "  <tbody>\n",
       "    <tr>\n",
       "      <th>45</th>\n",
       "      <td>2</td>\n",
       "      <td>18.0</td>\n",
       "      <td>0.0</td>\n",
       "      <td>NCT00829842</td>\n",
       "    </tr>\n",
       "  </tbody>\n",
       "</table>\n",
       "</div>"
      ],
      "text/plain": [
       "    gender  maximum_age  minimum_age       nct_id\n",
       "45       2         18.0          0.0  NCT00829842"
      ]
     },
     "execution_count": 103,
     "metadata": {},
     "output_type": "execute_result"
    }
   ],
   "source": [
    "target[target.nct_id == 'NCT00829842']"
   ]
  },
  {
   "cell_type": "code",
   "execution_count": 108,
   "metadata": {},
   "outputs": [
    {
     "data": {
      "text/plain": [
       "8"
      ]
     },
     "execution_count": 108,
     "metadata": {},
     "output_type": "execute_result"
    }
   ],
   "source": [
    "inpatient['NCT00829842'].count()"
   ]
  },
  {
   "cell_type": "code",
   "execution_count": null,
   "metadata": {
    "collapsed": true
   },
   "outputs": [],
   "source": []
  }
 ],
 "metadata": {
  "kernelspec": {
   "display_name": "Python 3",
   "language": "python",
   "name": "python3"
  },
  "language_info": {
   "codemirror_mode": {
    "name": "ipython",
    "version": 3
   },
   "file_extension": ".py",
   "mimetype": "text/x-python",
   "name": "python",
   "nbconvert_exporter": "python",
   "pygments_lexer": "ipython3",
   "version": "3.6.1"
  }
 },
 "nbformat": 4,
 "nbformat_minor": 2
}
