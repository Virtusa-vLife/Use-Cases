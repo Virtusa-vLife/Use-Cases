{
 "cells": [
  {
   "cell_type": "markdown",
   "metadata": {},
   "source": [
    "# vLife Virtusa\n",
    "##  Synthetic Gene Sequence Generator\n",
    "### Usecase Description\n",
    "**_Generates a random sequence of the length specified.Random sequences can be used to evaluate the significance of sequence analysis results._**."
   ]
  },
  {
   "cell_type": "code",
   "execution_count": null,
   "metadata": {},
   "outputs": [],
   "source": [
    "import random"
   ]
  },
  {
   "cell_type": "code",
   "execution_count": 52,
   "metadata": {},
   "outputs": [
    {
     "name": "stdout",
     "output_type": "stream",
     "text": [
      "Enter length of Sequence to be generated :1000\n"
     ]
    }
   ],
   "source": [
    "count = input (\"Enter length of Sequence to be generated :\")"
   ]
  },
  {
   "cell_type": "code",
   "execution_count": 54,
   "metadata": {},
   "outputs": [
    {
     "name": "stdout",
     "output_type": "stream",
     "text": [
      "1000\n"
     ]
    }
   ],
   "source": [
    "count = int(count)\n",
    "print (count)"
   ]
  },
  {
   "cell_type": "markdown",
   "metadata": {},
   "source": [
    "### Intialize Genome Sequence"
   ]
  },
  {
   "cell_type": "code",
   "execution_count": 55,
   "metadata": {},
   "outputs": [],
   "source": [
    "seq_list = ('a','t','c','g')\n",
    "seq = \"\""
   ]
  },
  {
   "cell_type": "code",
   "execution_count": 57,
   "metadata": {},
   "outputs": [
    {
     "name": "stdout",
     "output_type": "stream",
     "text": [
      "content  atgggatgaagattagacactcagggaagacctcgaagtcttgtgggcacggggcgcgcctacgatggatcgtaactcttaggggggccgacgagatgttattacggcggataacgggagtgagatcctgtggccctatttggactgcccaaggacgtgcttaattcgccaggtcgggtttctaatcgttcagactggcgtctagcgggacgatgccggtctgaaacacagcagccagatatatattgttctatttcattcgactaccagcacacagagccaagttaccttctcccctgctgtactgatccctacggatttgtttgctgtccaggcctgagtaccatcttctcgctccacctcacaacaattcttccacagttttcaagtggaccaatgatgattactgctctggtattactacatgatttgttgacaacgctggtgccctactcggtcttagtaattgatctcaagtgagacacgtcgaaaacggattctgtagaattccaaggggggtctggaagcttgccatagggcctcatagtgtcttgctaacgggactcctaaggcacgtacctccgcgtgcagtgcgacggacgtgccgtcgatagcacggccgaccgacgcgtggcagttctatccgaatgcagtatgtatacctttgatggacccacgagtatcgaccgtaagtgacggcagtcattgcggtggtccacgcgagggtctgagtgtggtgctgcgatcgcataactagcggtcctcactgtgcgctaatgcaaggtgttacttttaccatgtcctgagaatggccagaccctccgtttacggcccgctcattcatgatcgtagctaccctgggacactaaccttacctgtcaagggacgaccgggggagaattctatatcatgacgtaaaaacagcattggtgaaatattattgcagtaatatcggagctctattacacgtggtcgtgagttctaagacgaaccccctgcatccccattttccttaggaggattgttggcggaggtcttcagccgaacatccgtgatgttcagttgggacttggtttatgtttcgactgatgggtccgtgcaacacacgggtagaccaaacaaggtgcaatagcgcgcggtcgggggcatccccgaccgacttggtgctcttcgcccacgaagagccggaaggccccacgaaatggataatcaatgcccgagtctcaaaatccggctttgccatgctagtgacatgttccgtttaaagtaccttccgttgcaggtacaggacgtccccgagcctgctattctacatcttgcaaaaagattcggcaatttgactttggtaatccctgtgcctagtctcacagaagcgaaacctgcgttgttcaagacccgtcagaagaagaggagcgtcaattgaggtgtgacatattttaatagttggggcagctagcaatggagaggagcccgcaagcggatagaatttgatctagtcctaatcgagcgccccctggattctttgtttagcccagcatcgatgagtaaacacaacttagcaccctaatggtgctgggtcccacattctccttacatacgcgagcgttaacattaaacaccagtattttgaagcatatataaggtgatttcgcataagccaagcagcagatacaggagaacccgtaatgaggggcgccctcaagggcccacgcaaggactcagtccgattagcctccaaacggtgtccgattccgcagacccatacgggaagtagattctagtacgtactattcggtcgaaccttatttgggtcgagtaggtccccggttgaagtaagatgcaacagtattcgacggctgtagaaattatccgcctaaggtcgggttaaaccgattcacatcagagttaaatctctgggtagcattcaacgataatccagcaaagcgcccggacggcatcccctccccggctacatcaactggcgaggtgacagtacattc\n"
     ]
    }
   ],
   "source": [
    "for i in range(count):\n",
    "    c = random.choice(seq_list)\n",
    "    seq = seq +str(c)\n",
    "\n",
    "   \n",
    "print (\"content \" , seq)"
   ]
  },
  {
   "cell_type": "markdown",
   "metadata": {},
   "source": [
    "### Algorithm to Generate Random Genome Sequence "
   ]
  },
  {
   "cell_type": "code",
   "execution_count": 3,
   "metadata": {},
   "outputs": [
    {
     "name": "stdout",
     "output_type": "stream",
     "text": [
      "Enter length of Sequence to be generated :50\n",
      "50\n",
      "content  ccatttgccaatacccagtcgatgagtatcgagaataatcggttggtcag\n"
     ]
    },
    {
     "data": {
      "text/plain": [
       "{'seq': 'ccatttgccaatacccagtcgatgagtatcgagaataatcggttggtcag'}"
      ]
     },
     "execution_count": 3,
     "metadata": {},
     "output_type": "execute_result"
    }
   ],
   "source": [
    "def SequenceGenerator():\n",
    "    count = input (\"Enter length of Sequence to be generated :\")\n",
    "    count = int(count)\n",
    "    print (count)\n",
    "    seq_list = ('a','t','c','g')\n",
    "    seq = \"\"\n",
    "\n",
    "    for i in range(count):\n",
    "        c = random.choice(seq_list)\n",
    "        seq = seq +str(c)\n",
    "    print (\"content \" , seq)\n",
    "    return ({'seq': seq})\n",
    "    \n",
    "SequenceGenerator()"
   ]
  },
  {
   "cell_type": "markdown",
   "metadata": {},
   "source": [
    "## END"
   ]
  }
 ],
 "metadata": {
  "kernelspec": {
   "display_name": "conda_python3",
   "language": "python",
   "name": "conda_python3"
  },
  "language_info": {
   "codemirror_mode": {
    "name": "ipython",
    "version": 3
   },
   "file_extension": ".py",
   "mimetype": "text/x-python",
   "name": "python",
   "nbconvert_exporter": "python",
   "pygments_lexer": "ipython3",
   "version": "3.6.10"
  }
 },
 "nbformat": 4,
 "nbformat_minor": 2
}
